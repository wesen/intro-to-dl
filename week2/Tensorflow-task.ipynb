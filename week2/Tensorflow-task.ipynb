{
 "cells": [
  {
   "cell_type": "markdown",
   "metadata": {
    "slideshow": {
     "slide_type": "slide"
    }
   },
   "source": [
    "# Going deeper with Tensorflow\n",
    "\n",
    "In this video, we're going to study the tools you'll use to build deep learning models. Namely, [Tensorflow](https://www.tensorflow.org/).\n",
    "\n",
    "If you're running this notebook outside the course environment, you'll need to install tensorflow:\n",
    "* `pip install tensorflow` should install cpu-only TF on Linux & Mac OS\n",
    "* If you want GPU support from offset, see [TF install page](https://www.tensorflow.org/install/)"
   ]
  },
  {
   "cell_type": "code",
   "execution_count": 1,
   "metadata": {},
   "outputs": [],
   "source": [
    "import sys\n",
    "sys.path.append(\"..\")\n",
    "import grading"
   ]
  },
  {
   "cell_type": "markdown",
   "metadata": {},
   "source": [
    "# Visualization"
   ]
  },
  {
   "cell_type": "markdown",
   "metadata": {},
   "source": [
    "Plase note that if you are running on the Coursera platform, you won't be able to access the tensorboard instance due to the network setup there. If you run the notebook locally, you should be able to access TensorBoard on http://127.0.0.1:7007/"
   ]
  },
  {
   "cell_type": "code",
   "execution_count": 3,
   "metadata": {},
   "outputs": [
    {
     "name": "stdout",
     "output_type": "stream",
     "text": [
      "tensorboard: no process found\r\n"
     ]
    }
   ],
   "source": [
    "! killall tensorboard\n",
    "import os\n",
    "os.system(\"tensorboard --logdir=/tmp/tboard --port=7007 &\");"
   ]
  },
  {
   "cell_type": "code",
   "execution_count": 4,
   "metadata": {},
   "outputs": [],
   "source": [
    "import tensorflow as tf\n",
    "s = tf.InteractiveSession()"
   ]
  },
  {
   "cell_type": "markdown",
   "metadata": {},
   "source": [
    "# Warming up\n",
    "For starters, let's implement a python function that computes the sum of squares of numbers from 0 to N-1."
   ]
  },
  {
   "cell_type": "code",
   "execution_count": 5,
   "metadata": {},
   "outputs": [],
   "source": [
    "import numpy as np\n",
    "def sum_sin(N):\n",
    "    return np.sum(np.arange(N)**2)"
   ]
  },
  {
   "cell_type": "code",
   "execution_count": 6,
   "metadata": {},
   "outputs": [
    {
     "name": "stdout",
     "output_type": "stream",
     "text": [
      "CPU times: user 220 ms, sys: 196 ms, total: 416 ms\n",
      "Wall time: 407 ms\n"
     ]
    },
    {
     "data": {
      "text/plain": [
       "662921401752298880"
      ]
     },
     "execution_count": 6,
     "metadata": {},
     "output_type": "execute_result"
    }
   ],
   "source": [
    "%%time\n",
    "sum_sin(10**8)"
   ]
  },
  {
   "cell_type": "markdown",
   "metadata": {},
   "source": [
    "# Tensoflow teaser\n",
    "\n",
    "Doing the very same thing"
   ]
  },
  {
   "cell_type": "code",
   "execution_count": 7,
   "metadata": {},
   "outputs": [],
   "source": [
    "# An integer parameter\n",
    "N = tf.placeholder('int64', name=\"input_to_your_function\")\n",
    "\n",
    "# A recipe on how to produce the same result\n",
    "result = tf.reduce_sum(tf.range(N)**2)"
   ]
  },
  {
   "cell_type": "code",
   "execution_count": 8,
   "metadata": {},
   "outputs": [
    {
     "data": {
      "text/plain": [
       "<tf.Tensor 'Sum:0' shape=() dtype=int64>"
      ]
     },
     "execution_count": 8,
     "metadata": {},
     "output_type": "execute_result"
    }
   ],
   "source": [
    "result"
   ]
  },
  {
   "cell_type": "code",
   "execution_count": 9,
   "metadata": {},
   "outputs": [
    {
     "name": "stdout",
     "output_type": "stream",
     "text": [
      "CPU times: user 1.04 s, sys: 420 ms, total: 1.46 s\n",
      "Wall time: 1.54 s\n"
     ]
    },
    {
     "data": {
      "text/plain": [
       "662921401752298880"
      ]
     },
     "execution_count": 9,
     "metadata": {},
     "output_type": "execute_result"
    }
   ],
   "source": [
    "%%time\n",
    "result.eval({N: 10**8})"
   ]
  },
  {
   "cell_type": "code",
   "execution_count": 10,
   "metadata": {},
   "outputs": [],
   "source": [
    "writer = tf.summary.FileWriter(\"/tmp/tboard\", graph=s.graph)"
   ]
  },
  {
   "cell_type": "markdown",
   "metadata": {},
   "source": [
    "# How does it work?\n",
    "1. Define placeholders where you'll send inputs\n",
    "2. Make symbolic graph: a recipe for mathematical transformation of those placeholders\n",
    "3. Compute outputs of your graph with particular values for each placeholder\n",
    "  * `output.eval({placeholder:value})`\n",
    "  * `s.run(output, {placeholder:value})`\n",
    "\n",
    "So far there are two main entities: \"placeholder\" and \"transformation\"\n",
    "* Both can be numbers, vectors, matrices, tensors, etc.\n",
    "* Both can be int32/64, floats, booleans (uint8) of various size.\n",
    "\n",
    "* You can define new transformations as an arbitrary operation on placeholders and other transformations\n",
    " * `tf.reduce_sum(tf.arange(N)**2)` are 3 sequential transformations of placeholder `N`\n",
    " * There's a tensorflow symbolic version for every numpy function\n",
    "   * `a+b, a/b, a**b, ...` behave just like in numpy\n",
    "   * `np.mean` -> `tf.reduce_mean`\n",
    "   * `np.arange` -> `tf.range`\n",
    "   * `np.cumsum` -> `tf.cumsum`\n",
    "   * If if you can't find the op you need, see the [docs](https://www.tensorflow.org/api_docs/python).\n",
    "   \n",
    "`tf.contrib` has many high-level features, may be worth a look."
   ]
  },
  {
   "cell_type": "code",
   "execution_count": 11,
   "metadata": {},
   "outputs": [],
   "source": [
    "with tf.name_scope(\"Placeholders_examples\"):\n",
    "    # Default placeholder that can be arbitrary float32\n",
    "    # scalar, vertor, matrix, etc.\n",
    "    arbitrary_input = tf.placeholder('float32')\n",
    "\n",
    "    # Input vector of arbitrary length\n",
    "    input_vector = tf.placeholder('float32', shape=(None,))\n",
    "\n",
    "    # Input vector that _must_ have 10 elements and integer type\n",
    "    fixed_vector = tf.placeholder('int32', shape=(10,))\n",
    "\n",
    "    # Matrix of arbitrary n_rows and 15 columns\n",
    "    # (e.g. a minibatch your data table)\n",
    "    input_matrix = tf.placeholder('float32', shape=(None, 15))\n",
    "    \n",
    "    # You can generally use None whenever you don't need a specific shape\n",
    "    input1 = tf.placeholder('float64', shape=(None, 100, None))\n",
    "    input2 = tf.placeholder('int32', shape=(None, None, 3, 224, 224))\n",
    "\n",
    "    # elementwise multiplication\n",
    "    double_the_vector = input_vector*2\n",
    "\n",
    "    # elementwise cosine\n",
    "    elementwise_cosine = tf.cos(input_vector)\n",
    "\n",
    "    # difference between squared vector and vector itself plus one\n",
    "    vector_squares = input_vector**2 - input_vector + 1"
   ]
  },
  {
   "cell_type": "code",
   "execution_count": 12,
   "metadata": {},
   "outputs": [],
   "source": [
    "my_vector =  tf.placeholder('float32', shape=(None,), name=\"VECTOR_1\")\n",
    "my_vector2 = tf.placeholder('float32', shape=(None,))\n",
    "my_transformation = my_vector * my_vector2 / (tf.sin(my_vector) + 1)"
   ]
  },
  {
   "cell_type": "code",
   "execution_count": 13,
   "metadata": {},
   "outputs": [
    {
     "name": "stdout",
     "output_type": "stream",
     "text": [
      "Tensor(\"truediv:0\", shape=(?,), dtype=float32)\n"
     ]
    }
   ],
   "source": [
    "print(my_transformation)"
   ]
  },
  {
   "cell_type": "code",
   "execution_count": 14,
   "metadata": {},
   "outputs": [
    {
     "name": "stdout",
     "output_type": "stream",
     "text": [
      "[ 0.  1.  2.  3.  4.]\n"
     ]
    },
    {
     "data": {
      "text/plain": [
       "array([ 0.        ,  1.62913239,  2.09501147,  2.62899613,  0.        ], dtype=float32)"
      ]
     },
     "execution_count": 14,
     "metadata": {},
     "output_type": "execute_result"
    }
   ],
   "source": [
    "dummy = np.arange(5).astype('float32')\n",
    "print(dummy)\n",
    "my_transformation.eval({my_vector:dummy, my_vector2:dummy[::-1]})"
   ]
  },
  {
   "cell_type": "code",
   "execution_count": 15,
   "metadata": {},
   "outputs": [],
   "source": [
    "writer.add_graph(my_transformation.graph)\n",
    "writer.flush()"
   ]
  },
  {
   "cell_type": "markdown",
   "metadata": {},
   "source": [
    "TensorBoard allows writing scalars, images, audio, histogram. You can read more on tensorboard usage [here](https://www.tensorflow.org/get_started/graph_viz)."
   ]
  },
  {
   "cell_type": "markdown",
   "metadata": {},
   "source": [
    "# Summary\n",
    "* Tensorflow is based on computation graphs\n",
    "* The graphs consist of placehlders and transformations"
   ]
  },
  {
   "cell_type": "markdown",
   "metadata": {},
   "source": [
    "# Mean squared error\n",
    "\n",
    "Your assignment is to implement mean squared error in tensorflow."
   ]
  },
  {
   "cell_type": "code",
   "execution_count": 16,
   "metadata": {},
   "outputs": [],
   "source": [
    "with tf.name_scope(\"MSE\"):\n",
    "    y_true = tf.placeholder(\"float32\", shape=(None,), name=\"y_true\")\n",
    "    y_predicted = tf.placeholder(\"float32\", shape=(None,), name=\"y_predicted\")\n",
    "    mse = tf.reduce_mean((y_predicted - y_true) ** 2)\n",
    "    # Your code goes here\n",
    "    # You want to use tf.reduce_mean\n",
    "    # mse = tf.<...>\n",
    "def compute_mse(vector1, vector2):\n",
    "    return mse.eval({y_true: vector1, y_predicted: vector2})"
   ]
  },
  {
   "cell_type": "code",
   "execution_count": 17,
   "metadata": {},
   "outputs": [],
   "source": [
    "writer.add_graph(mse.graph)\n",
    "writer.flush()"
   ]
  },
  {
   "cell_type": "markdown",
   "metadata": {},
   "source": [
    "Tests and result submission. Please use the credentials obtained from the Coursera assignment page."
   ]
  },
  {
   "cell_type": "code",
   "execution_count": 19,
   "metadata": {},
   "outputs": [],
   "source": [
    "import submit"
   ]
  },
  {
   "cell_type": "code",
   "execution_count": 17,
   "metadata": {},
   "outputs": [
    {
     "name": "stdout",
     "output_type": "stream",
     "text": [
      "Submitted to Coursera platform. See results on assignment page!\n"
     ]
    }
   ],
   "source": [
    "submit.submit_mse(compute_mse, 'wesen@ruinwesen.com', <your token>)"
   ]
  },
  {
   "cell_type": "markdown",
   "metadata": {},
   "source": [
    "# Variables\n",
    "\n",
    "The inputs and transformations have no value outside function call. This isn't too comfortable if you want your model to have parameters (e.g. network weights) that are always present, but can change their value over time.\n",
    "\n",
    "Tensorflow solves this with `tf.Variable` objects.\n",
    "* You can assign variable a value at any time in your graph\n",
    "* Unlike placeholders, there's no need to explicitly pass values to variables when `s.run(...)`-ing\n",
    "* You can use variables the same way you use transformations \n",
    " "
   ]
  },
  {
   "cell_type": "code",
   "execution_count": 20,
   "metadata": {},
   "outputs": [],
   "source": [
    "# Creating a shared variable\n",
    "shared_vector_1 = tf.Variable(initial_value=np.ones(5),\n",
    "                              name=\"example_variable\")"
   ]
  },
  {
   "cell_type": "code",
   "execution_count": 21,
   "metadata": {},
   "outputs": [
    {
     "name": "stdout",
     "output_type": "stream",
     "text": [
      "Initial value [ 1.  1.  1.  1.  1.]\n"
     ]
    }
   ],
   "source": [
    "# Initialize variable(s) with initial values\n",
    "s.run(tf.global_variables_initializer())\n",
    "\n",
    "# Evaluating shared variable (outside symbolicd graph)\n",
    "print(\"Initial value\", s.run(shared_vector_1))\n",
    "\n",
    "# Within symbolic graph you use them just\n",
    "# as any other inout or transformation, not \"get value\" needed"
   ]
  },
  {
   "cell_type": "code",
   "execution_count": 22,
   "metadata": {},
   "outputs": [
    {
     "name": "stdout",
     "output_type": "stream",
     "text": [
      "New value [ 0.  1.  2.  3.  4.]\n"
     ]
    }
   ],
   "source": [
    "# Setting a new value\n",
    "s.run(shared_vector_1.assign(np.arange(5)))\n",
    "\n",
    "# Getting that new value\n",
    "print(\"New value\", s.run(shared_vector_1))"
   ]
  },
  {
   "cell_type": "markdown",
   "metadata": {},
   "source": [
    "# tf.gradients - why graphs matter\n",
    "* Tensorflow can compute derivatives and gradients automatically using the computation graph\n",
    "* True to its name it can manage matrix derivatives\n",
    "* Gradients are computed as a product of elementary derivatives via the chain rule:\n",
    "\n",
    "$$ {\\partial f(g(x)) \\over \\partial x} = {\\partial f(g(x)) \\over \\partial g(x)}\\cdot {\\partial g(x) \\over \\partial x} $$\n",
    "\n",
    "It can get you the derivative of any graph as long as it knows how to differentiate elementary operations"
   ]
  },
  {
   "cell_type": "code",
   "execution_count": 23,
   "metadata": {},
   "outputs": [],
   "source": [
    "my_scalar = tf.placeholder('float32')\n",
    "\n",
    "scalar_squared = my_scalar**2\n",
    "\n",
    "# A derivative of scalar_squared by my_scalar\n",
    "derivative = tf.gradients(scalar_squared, [my_scalar, ])"
   ]
  },
  {
   "cell_type": "code",
   "execution_count": 24,
   "metadata": {},
   "outputs": [
    {
     "data": {
      "text/plain": [
       "[<tf.Tensor 'gradients/pow_1_grad/Reshape:0' shape=<unknown> dtype=float32>]"
      ]
     },
     "execution_count": 24,
     "metadata": {},
     "output_type": "execute_result"
    }
   ],
   "source": [
    "derivative"
   ]
  },
  {
   "cell_type": "code",
   "execution_count": 25,
   "metadata": {},
   "outputs": [
    {
     "data": {
      "image/png": "[encoded data removed]",
      "text/plain": [
       "<matplotlib.figure.Figure at 0x7f0341fb30f0>"
      ]
     },
     "metadata": {},
     "output_type": "display_data"
    }
   ],
   "source": [
    "import matplotlib.pyplot as plt\n",
    "%matplotlib inline\n",
    "\n",
    "x = np.linspace(-3, 3)\n",
    "x_squared, x_squared_der = s.run([scalar_squared, derivative[0]],\n",
    "                                 {my_scalar:x})\n",
    "\n",
    "plt.plot(x, x_squared,label=\"$x^2$\")\n",
    "plt.plot(x, x_squared_der, label=r\"$\\frac{dx^2}{dx}$\")\n",
    "plt.legend();"
   ]
  },
  {
   "cell_type": "markdown",
   "metadata": {},
   "source": [
    "# Why that rocks"
   ]
  },
  {
   "cell_type": "code",
   "execution_count": 26,
   "metadata": {},
   "outputs": [],
   "source": [
    "my_vector = tf.placeholder('float32', [None])\n",
    "# Compute the gradient of the next weird function over my_scalar and my_vector\n",
    "# Warning! Trying to understand the meaning of that function may result in permanent brain damage\n",
    "weird_psychotic_function = tf.reduce_mean(\n",
    "    (my_vector+my_scalar)**(1+tf.nn.moments(my_vector,[0])[1]) + \n",
    "    1./ tf.atan(my_scalar))/(my_scalar**2 + 1) + 0.01*tf.sin(\n",
    "    2*my_scalar**1.5)*(tf.reduce_sum(my_vector)* my_scalar**2\n",
    "                      )*tf.exp((my_scalar-4)**2)/(\n",
    "    1+tf.exp((my_scalar-4)**2))*(1.-(tf.exp(-(my_scalar-4)**2)\n",
    "                                    )/(1+tf.exp(-(my_scalar-4)**2)))**2\n",
    "\n",
    "der_by_scalar = tf.gradients(weird_psychotic_function, my_scalar)\n",
    "der_by_vector = tf.gradients(weird_psychotic_function, my_vector)"
   ]
  },
  {
   "cell_type": "code",
   "execution_count": 27,
   "metadata": {},
   "outputs": [
    {
     "data": {
      "image/png": "[encoded data removed]",
      "text/plain": [
       "<matplotlib.figure.Figure at 0x7f0350665898>"
      ]
     },
     "metadata": {},
     "output_type": "display_data"
    }
   ],
   "source": [
    "# Plotting the derivative\n",
    "scalar_space = np.linspace(1, 7, 100)\n",
    "\n",
    "y = [s.run(weird_psychotic_function, {my_scalar:x, my_vector:[1, 2, 3]})\n",
    "     for x in scalar_space]\n",
    "\n",
    "plt.plot(scalar_space, y, label='function')\n",
    "\n",
    "y_der_by_scalar = [s.run(der_by_scalar,\n",
    "                         {my_scalar:x, my_vector:[1, 2, 3]})\n",
    "                   for x in scalar_space]\n",
    "\n",
    "plt.plot(scalar_space, y_der_by_scalar, label='derivative')\n",
    "plt.grid()\n",
    "plt.legend();"
   ]
  },
  {
   "cell_type": "markdown",
   "metadata": {},
   "source": [
    "# Almost done - optimizers\n",
    "\n",
    "While you can perform gradient descent by hand with automatic grads from above, tensorflow also has some optimization methods implemented for you. Recall momentum & rmsprop?"
   ]
  },
  {
   "cell_type": "code",
   "execution_count": 28,
   "metadata": {},
   "outputs": [],
   "source": [
    "y_guess = tf.Variable(np.zeros(2, dtype='float32'))\n",
    "y_true = tf.range(1, 3, dtype='float32')\n",
    "loss = tf.reduce_mean((y_guess - y_true + tf.random_normal([2]))**2) \n",
    "#loss = tf.reduce_mean((y_guess - y_true)**2) \n",
    "optimizer = tf.train.MomentumOptimizer(0.01, 0.5).minimize(\n",
    "    loss, var_list=y_guess)"
   ]
  },
  {
   "cell_type": "code",
   "execution_count": 29,
   "metadata": {},
   "outputs": [
    {
     "data": {
      "image/png": "[encoded data removed]",
      "text/plain": [
       "<matplotlib.figure.Figure at 0x7f028fe50278>"
      ]
     },
     "metadata": {},
     "output_type": "display_data"
    }
   ],
   "source": [
    "from matplotlib import animation, rc\n",
    "import matplotlib_utils\n",
    "from IPython.display import HTML\n",
    "\n",
    "fig, ax = plt.subplots()\n",
    "y_true_value = s.run(y_true)\n",
    "level_x = np.arange(0, 2, 0.02)\n",
    "level_y = np.arange(0, 3, 0.02)\n",
    "X, Y = np.meshgrid(level_x, level_y)\n",
    "Z = (X - y_true_value[0])**2 + (Y - y_true_value[1])**2\n",
    "ax.set_xlim(-0.02, 2)\n",
    "ax.set_ylim(-0.02, 3)\n",
    "s.run(tf.global_variables_initializer())\n",
    "ax.scatter(*s.run(y_true), c='red')\n",
    "contour = ax.contour(X, Y, Z, 10)\n",
    "ax.clabel(contour, inline=1, fontsize=10)\n",
    "line, = ax.plot([], [], lw=2)\n",
    "\n",
    "def init():\n",
    "    line.set_data([], [])\n",
    "    return (line,)\n",
    "\n",
    "guesses = [s.run(y_guess)]\n",
    "\n",
    "def animate(i):\n",
    "    s.run(optimizer)\n",
    "    guesses.append(s.run(y_guess))\n",
    "    line.set_data(*zip(*guesses))\n",
    "    return (line,)\n",
    "\n",
    "anim = animation.FuncAnimation(fig, animate, init_func=init,\n",
    "                               frames=400, interval=20, blit=True)"
   ]
  },
  {
   "cell_type": "code",
   "execution_count": 30,
   "metadata": {},
   "outputs": [],
   "source": [
    "try:\n",
    "    HTML(anim.to_html5_video())\n",
    "# In case the build-in renderers are unaviable, fall back to\n",
    "# a custom one, that doesn't require external libraries\n",
    "except RuntimeError:\n",
    "    anim.save(None, writer=matplotlib_utils.SimpleMovieWriter(0.001))"
   ]
  },
  {
   "cell_type": "code",
   "execution_count": 31,
   "metadata": {},
   "outputs": [
    {
     "data": {
      "text/html": [
       "<video width=\"432\" height=\"288\" controls autoplay loop>\n",
       "  <source type=\"video/mp4\" src=\"data:video/mp4;base64,AAAAHGZ0eXBNNFYgAAACAGlzb21pc28yYXZjMQAAAAhmcmVlAAC15G1kYXQAAAKuBgX//6rcRem9\n",
       "5tlIt5Ys2CDZI+7veDI2NCAtIGNvcmUgMTQ4IHIyNjQzIDVjNjU3MDQgLSBILjI2NC9NUEVHLTQg\n",
       "QVZDIGNvZGVjIC0gQ29weWxlZnQgMjAwMy0yMDE1IC0gaHR0cDovL3d3dy52aWRlb2xhbi5vcmcv\n",
       "eDI2NC5odG1sIC0gb3B0aW9uczogY2FiYWM9MSByZWY9MyBkZWJsb2NrPTE6MDowIGFuYWx5c2U9\n",
       "MHgzOjB4MTEzIG1lPWhleCBzdWJtZT03IHBzeT0xIHBzeV9yZD0xLjAwOjAuMDAgbWl4ZWRfcmVm\n",
       "PTEgbWVfcmFuZ2U9MTYgY2hyb21hX21lPTEgdHJlbGxpcz0xIDh4OGRjdD0xIGNxbT0wIGRlYWR6\n",
       "b25lPTIxLDExIGZhc3RfcHNraXA9MSBjaHJvbWFfcXBfb2Zmc2V0PS0yIHRocmVhZHM9OSBsb29r\n",
       "YWhlYWRfdGhyZWFkcz0xIHNsaWNlZF90aHJlYWRzPTAgbnI9MCBkZWNpbWF0ZT0xIGludGVybGFj\n",
       "ZWQ9MCBibHVyYXlfY29tcGF0PTAgY29uc3RyYWluZWRfaW50cmE9MCBiZnJhbWVzPTMgYl9weXJh\n",
       "bWlkPTIgYl9hZGFwdD0xIGJfYmlhcz0wIGRpcmVjdD0xIHdlaWdodGI9MSBvcGVuX2dvcD0wIHdl\n",
       "aWdodHA9MiBrZXlpbnQ9MjUwIGtleWludF9taW49MjUgc2NlbmVjdXQ9NDAgaW50cmFfcmVmcmVz\n",
       "aD0wIHJjX2xvb2thaGVhZD00MCByYz1jcmYgbWJ0cmVlPTEgY3JmPTIzLjAgcWNvbXA9MC42MCBx\n",
       "cG1pbj0wIHFwbWF4PTY5IHFwc3RlcD00IGlwX3JhdGlvPTEuNDAgYXE9MToxLjAwAIAAADIwZYiE\n",
       "AC///vau/MsrRwuVLh1Ze7NR8uhJcv2IMH1oAAADAADVayF8oYJVUBjg5Cl8UC950wnQObmxLpMS\n",
       "eTd2N1o7ZvU7nZLqidQWs9IRqH4qZFuUNOvgrgAArGB7WlESNB735J/CfrjEy3i5zjzWx5r7oD4b\n",
       "7vRGf5YZpSE2SfCltWRnqtLPBS3FxRjhpp/BEdar5txSfEu67R/ppgZwAi2i8ff512MwmU2ndVwZ\n",
       "0/IypwbXeLiexIGKwjGLSLtuFQ6Y/OKysfXRdbpNhUrKtfRj7DGM8WCX1Bh4c330WAw+R6EXVRFY\n",
       "lu5UH1qoQzyL4+ViaXbsk9e17GMhYcjYQ2ErNh8GLHqFB5yll7cH5+/ATt414OGqKJBfavN2H7Eo\n",
       "MYMyQUJm9f6njg6oT6RI9deVwCrdBzM/Sz/x8vLmA7OACvEgs7ec3QswOORd/etOu0E7t7VpiB00\n",
       "hKHHIDZREnqwvaNj69QpwDqX0pss1cRClh94zlgStU4c5yUCVO+HQbSt4HAXLJj2f9Btb1Gp56ii\n",
       "Oi96XZV1x4KhUxTYawQAUfjzsl0QevSEuVTVlSNIsvo+7QD/x5dqmV34q8Y/e22ByjofSHxpk/7U\n",
       "JlOIzg46ZfH1hLZgWW3R/niY7hJcJ7T94UsjfEkSh3TDgfcD17lLYnCY2sdzwQUX/M7yx8DlUAxf\n",
       "Bf5jCXE+1+wNMg1QAvfybm1SjIO2TPl8BU8XJsElm8w528BUCYhGy7qcnRnuSy6QxEV7zgbX58W4\n",
       "OX++3kHg9QTGgyx+9vVBAdT1fCClHX4ANSaqmTCW59ftwD0BujqkCCWkUJ2w9uAMrIdCjsnjVQgY\n",
       "usw2C1nI5upe6qRnHhMYO+//zOhJwy3GFabODqjJ8LP6JD9HicRvbp/KU0u7QNM3PDeCZGEppIp+\n",
       "d+A0U9LkqJcqlVU9QxjMxe4V5wWiAXVz7X2hUEkcgvbIBu6DDirLSkB6X62ytFi1xHsjrXMwRBoi\n",
       "23k/4WJeSt9ercxBpim+OztNcFsiesOQP5sSGoW5wkc38yjAPbcq7Tdzbk/IrDDaOdxl5A3HGLvo\n",
       "zZ1BGOReneHzeHg/afksZWL4VFYt54t3/Hf9K1pP0qpg033ec0POTLSV2EuXudGEW3w0++tbXV/W\n",
       "TzfL1OHthmmQR6IPVUHFMoqzp1QcXRtQTOdfyzhgBiRX5WVO85tv8+La/kmO0HsSZYHMklOP3co5\n",
       "QDWHzfJAv2xFzpb4zaWMSFkI64HEJiEbYjDtCz5R+5934JrTITw/HoIDDZMsJDKJDy7tEPbaSA9e\n",
       "Rs6mLK1h7v5ilXo8fU4zXpoO8DIuXkGCPnMytYPsejoVgG8/4hV+pdupgbZzrYj2YP/KOAfFDlCb\n",
       "c+Afko28P+APuNw+AREopUusHlOjBttYqMfZpF0lXHnSyZGaC4E/9t+DTsSLLdxT7j02EJ/DJYcg\n",
       "zlbYlWxHyR67M59DOduDXxQ1yVc6Uv0xHmi8cZyM2klmNgFAuAnAXoBpK89d0ninH4c+/x3zxCND\n",
       "gVwld+ZkhAQLOdusrHeV3kkduEsmNVMMG/Z4jzBVquh65pjovblc+tWCuZM25L8WnssoH8vTmfqk\n",
       "8z4vSza/UA18+dAwWnRG9TaD1J9lDGVsI+2H5s+SHVWANZOLLVmeWQLhlKcLusWsnTy4W6Qc1hK3\n",
       "lWy4lqZwoLwKwRWbX98yP5cBLAAAJoy3FrpsDsUYtE3TL3kuxuFVvIqfYjjoZ3q1MFTJsXRq06LK\n",
       "CGXjzDp6hB7mkW+cUnSDxxWGDOoq2FRt3I6jf4pVWCtbujN+OSzPO8fJfMPqmvW7za2IZNH4Ivtm\n",
       "sJzTRzypJjeyJ0gkQxOt04Wtpk9pR8wFijYSlPAPe/xLLPTGlzVe4z/sJ/ZxT0sXez2TFb2HS+PN\n",
       "5fGrWLRo7iTiPCfUPMNtVVeW8QLshluhtUxaeuzxL4KRaXWDzZPD3oCZy7l7PrHjbnsCu+QniSLg\n",
       "8rdR9xoYbwUQ5YwHF3/Nci+zL1HxGZ4L2fog8TyKfh5YrePpnYaER/liN4NOXHG3TyRUAHQPEB+O\n",
       "0fmDCiGW42CFp/SOdacVMu4hEherC3AgxrebXZ6lt57G1D6yYyf/mXSrjlMM6aD8AzMo7YaVi/1Q\n",
       "riXfAbGXkxyMj9BfJMwbTj+GynyOugQf/Ri8ucxRM1dfn2kFerYby85cHDMQ9lc0dfLgioxLGqWq\n",
       "oC8rjPsjgmTYbWjjaA5viU+h3WQwUXncbC4FRQhD0yz3P9NlsUrJdkV2Go1oMz4i+CEUEZ2ZkBJz\n",
       "FarjflXpG/8+IATcngfdDr5VkKobO7YcOa+0UnNb1BisIZLgIINH6bNOX/auSFixOuura7NqF0w4\n",
       "yktpy6EiUEE2UhLILpa9OhwPj297SHzPzpUJ7OzNirub9vTQ3R+DIb3veZhh2NJs7ng8D4fp3dwN\n",
       "kg2bGg65AmO+f0zYI1LjeuzwEPQ8nUEw/JgiwhUDfBlwhDpqvABLah888nCPqf9VMblkQvYaNqv1\n",
       "J1XnKb4fdkbYTG689HMbVdOd5qFgHz6mOXOzhLIMp+mrjkBhzIUqWY8MFa8tkNz8AGsvFdQ277DD\n",
       "BcBoaY0FfW6vZrHoyHvO+0rZxzfvl2VAH2OPcyxY1KAVkaiMyg9tUJhQCCyaeCAaYJRX0POhs1nB\n",
       "rxNMmd3vcuW9N0qbkdUhj7FxRU3zTdBE79H8IUjU6e8m8eIs0V4RCG4esc2vL/zynbBPEV9wOhO1\n",
       "uBCndBnQH4b6dhF+XZFlGjLyHbPuLPfLmBIBWCYq2eD7STVpE6PJPuCvAmbPC5m0lPNpZWo+XO+h\n",
       "+a9vrXVhUbtkbVatlRKdLRBvsnANQoy3YIERU7FTrr3HOGr5X/cxFJcG03ynZEGNtvBsxCPM2vVz\n",
       "9xydhy+xgUsM2+kb8B/t+KYu1BQXKB1ZwCnPND98Gi9c11J0/un/nSwEoU4Rbcvfq7L3zJIxZIg2\n",
       "0mgxgx1gHCPdIlIiBtvD4QUEWEHCG7ocN78Fs8mNp0LEinC8aEASBNw/mSOHLbwlkZbujn5bLpce\n",
       "KapAHON2Bx8YsqXBTXi84R/vZWum7aY2uUpP7TlWQKJclnQ7k1MVA5kVVK4Nj74cP7oYOzfw7uZG\n",
       "oiqDeFiu+47tFaAiVDfvaReIxl6EyGI8fkgsG8iqAP+AmdeKT6Grilk7qacYBf0OcfNuqhyyLwIv\n",
       "3q2LML6SHM7Ec532aC0ISAZ14YPV4zsva9vittTo/hQcxAYlYukhwZVusTE/MSNjUqhqMyRDrwX3\n",
       "IKO9K/ImCewamz0Abw3iaqNh36pRIcchViuFje65j50/0pv1tN3gzhv/LBizr3ZnzgKDOSeMqyqC\n",
       "DdzUnhg3pwYphty+qRZgxa1OlBAtusjFLkDDk++oIPQRjJ+f74dtesy6yvSuYs1wYIQXBBHxkbGk\n",
       "ZmRfiUDlOz6xPzU85VX66Ntpd6XX+Ce7Qe1kXS/x+9K2fwdvBPNoKR6KUzKUajM9UX8Xomu+F4ZX\n",
       "nSkncW5U9clHujca1lv4Boc1dM90s/8ReNgCCBayK25GZmLmtO1dlqltK52qd8dzuus4UASSZDJT\n",
       "2ZVYx19XxQEjQlQzMhCAqasSb4tvBsCbwIkGNwCQ7mtJpzu7VVn93Pr0s6YpQOHdV9bSxjzkQKry\n",
       "5+O6BTUi0kWs9Iq6sgACfQ6y6U4YrLKvLZlNIzcVchjStS6T9o+P825mB7swMY0DdjufxTHng9kA\n",
       "Z0qM57iUJoJkPtUwZhNdyky3ld38NMBvTw9/60vgGfUjig2+GyCIit//FAU8YsqvjXWi1GN/OJbV\n",
       "H/c1Ju2J6H2F3zANdpD1ehzoTpHRlBIfTx9kXF9+8uML96TxnPKIT5UFQ8um5Qp41RXiFywjLVfV\n",
       "dcUFIy8Ok1dlVAvG4M/mRRj1aeDc3VQd2Gf1u5A9O8c44wLr1+h3pQSL/w14trFZYT8w6KWRqt39\n",
       "bM0KwH2uODLMng3RUyTj8L4oIuo83xRT4wqRXrALBJjpZKFBBSvsVMUNNz459qwYJ9wamFP0CDK6\n",
       "l7NET9O6z03guxSfSyZQ2nLL3D6JHdqP1tMm+VjQK6MztY2dt/wRczmYSKeR9bXkUgHQqQZ1+Swp\n",
       "E6dgkYvV/QnhBSN0AOaW97XQBgl3rRLCKx1XnPrIcnFQKWboDatGNrUriZ+aE3NaH3yaNHLVkJUL\n",
       "mRNWRM34AaDkB+JBVUM7bGjmOHIqQZC9oUMW6R0/qBWpEzLHTV6awDwF+ms/Zk6kw52T2bRVumq6\n",
       "DAWjiSBdOem4+crtHSBAOHykWah4O/1qY3NVjTirvTxwmTJR8hT1bd2QqA9+Xy8TjOUIcgHlv1Us\n",
       "W4aL2MC8IdyKNdyUDMqlDNwEHTa1sg+0a7H2gh8D96veLzUWCB3MUTxwKl/+rBF2nJ847hOMa3GR\n",
       "66HN7NEwLsA4Drn3DWp2xeyOGChDOmI897pfBlDwr3Pe9/TclQiKEjpuGl1ATfTKxEe+s1ALAMch\n",
       "P/IUgMzR/36a+wvDoU6Q8+hcw02CaGQnp6ztjz2LF9NlJZUnABB1p5L7Iy+piitsE7mHdXUX2vNo\n",
       "hyG5ZTZSOpWqbSZOvopq6ZHbORdmDeFfrIL/MkNbJP8XLEYUZ6pVP/EAvoBja5zIi5Oq0VupY9C6\n",
       "gNoyZHodJWS4s0KueLQo++74Pn3sJId7xhtcTc8f9SCxVk6nyksYSXy8STfSfEG5TdlhBk7heQj/\n",
       "tORfMc/9KIDXYMoGnB2fI7+gNsPgQYBraUBcApRBH/xsss+qZ7sC43Oh/GnW0huai89d5IRnmPEN\n",
       "/DN9EefSWAPmKrDBnVOdrzUDugVpKPY3VLJ84qH9wKk72rM5YMo+2ahCW/oxHoPpzqKWlVAcH+6Q\n",
       "qwgcK9v72EB9KozL727ChOzkoXdlpsXw2B3kKMAyov2OOc3a4rD4fg1rEXD/ub42mh8d9sf/1vNA\n",
       "9275ntzQWdlSTzIee0pT9Ok6+bLkHhceZZr1r4tZgdENd76TFD1MUaVQMo2/CYjzJYgNxvS4rkn3\n",
       "IcMyKQ5eGWoAPOaixTBYpnc6w9rPJ/1MKwPrFUAjaLWS+cht8elMtM+ufgBLyEosOnJH3zqw6doI\n",
       "mGKdiZwnir5MC+Jc65gwCin/Ec70uf2TuqVO4+B8PhhAjYbUO7ZLT0T3iaH0vDMwgShJxJ9hW3vZ\n",
       "wpDPh9lGkCdWKHHzfm3cX5l2iuvMLwfNpzIk5eVdMKEcz4biGzTYCU6uRuFph3dsu1zuh8l+xR8d\n",
       "muiVgpUrxi6gaGGthzwEnjSITuFHpl+PUQNMr5Rx2tamJnBS7fqjm47xfTYXo+njUpw3/hYZJep0\n",
       "dZNcMW5LkzQk2QlfBJyRpCCJwIn/m2MYDN/LJHrfyVTzq/4QJQ45+wKcLx7oVWpTTQR1BFlYoHIl\n",
       "mxCo84go8r0CJ9JZoYfBspPmWwLUmcfa3Gh9j/nhJT5SAyTuVBHJEU9hvzLuYlLYFJwJMHFuEqI0\n",
       "70OzdgAjLszJ7FZQVvehR5MXiyN7k676RZMkYa/RP2XW+W8d2B2R/L1/RuykfO7Dzb4vrh00auXk\n",
       "f6WD886e5vqCA+KrswdfKS/xl5jYHkF6ym/UPMOhugJjUFY+Yly4+zQk3+lG3u4XUtOxG9ThN/IC\n",
       "ZG+epLilcvMDQxs/m7YRdybXXyWO8EhBrkEtmbAT5i0sFxtSZ4GbLyJGBTXs1mj2FvgQI8zVZO1b\n",
       "XkQntn2IvhEap3+WTKC8zuvmnwgWsWkDlWNHyQ2IzY63u7MoE7OjijTGqhLr+iZb8xHZFBNIl0UZ\n",
       "LoBnA1gPe4FYtSVsaOWBQkbnAbQo6ZShWcsSxb848Go7VcJaGYXMqt1ZjMl+PknHo9uItUHd+CYT\n",
       "qKkdmqY6mMBRU/v9Iy2Y0VVw0+Py4yrbiEqwvhOZEgyn+s6lmnExGIdmerqV/mwMzmAXceTp/wTT\n",
       "FcimSV4dKqbnFt0RVQaPx1puvKTHAlTrQpGADXkaespSvTGSr/ULQH1iIbKGoNwhsWZwtE8Ceol8\n",
       "OuRCvyILPNxomLfA6T39O5eJ5AwuCUtLWPjwizqspUduNRUPKqNzO0zFjm8EcfOWaEQq8kMpYPH7\n",
       "Y493I9EAaScsLmQeTG2P8+6X9Xbovr8pC22YCjZ4ku+Y5Ee+jRl8uX7VSClydJJmkUZWWabFD0N2\n",
       "twjSNMsX6rvedXcI427ytD372b7bCiXUlQVc8KAlezvSgMQRSsI4Ly/5KQiuuocCszNJvtk/qhqi\n",
       "iodrhzAv/8pM0WbBV90FMIts3K/mYMNfXZ3LmTXX+spGMaCScb6rjeTtjN72nP9ix8qThXxFTg5G\n",
       "ry5dUSPAdHzDqm5dj/lNhSas1V//z5L9SS9YJkn3ejP6R7TpnSZnCK+DV5D3DeTKdlNoHwaqFE9K\n",
       "HbCbCOLqrwGntMqUwLXpIT8YNwCQgjBs40QxukaUFjSO3CIDD5EMdAx88rq9myAwccOwWYW1+xUM\n",
       "RD+F0xzAhzCZ8UDxFTA2QoSDngoYX2b2iT5PIA/X61JmBrbRxgljzSAxgVFIs8fuMsu2crfxndkN\n",
       "7r58cmEoiSfCCLsDvxjr+0uy9ZO4bFfOiDuSCL7ZCoRpxd++JZz5TDNBTH7HrvluMl78BWYGrrv9\n",
       "N3fS5sSla85FOzFjJeQMyMVJf1Wkwee4ATbGogyj2TqPfDKKE8y2EXNkow/n3U0Ku3SiwnD1ZIn0\n",
       "1jHhibvuyPJsxnF2xdmbPPHvCrW/x9adKIyBv1oZ54FrkapY3DyuLzx24kal/PLIAuKm//p71Iqh\n",
       "ncEjtaLg028s8BxK6JW2/4UhgyG0GojaS0aGKYGCo57r+U5hbOLvMbk1t4N+jYLjQ9Lez43w/c90\n",
       "jKmImSGP7AxkR2NCHfMphGJk2FCNUy8i7ZvgzRTglrZ8YsXchJWma7xhIjUTFNAHubxTL8dR0Jr2\n",
       "lAKHgPTBF+uk/cOrWVjgtSueA9iC9OpIOOUcL+R2unWeR1Qvm6pu2qH0/QUMzep7a+k56G5K0Ayy\n",
       "ovfRG64mWzjxIHCU/8DBtrxCuV0MKOA+u6mAQighvpZs4U5leWt4E6/LGOA/WcDwNiwg83I1hQAp\n",
       "o6Q2EmAVXxnAycCidYQeNmZSOrvfsN+CIhHlQsfXL9gxUKEvtkXELdOZnnQMJ8CVWQDXCDsNDMzY\n",
       "mPgrC7MMg6V+PG/l8nFVwZjRgPQpThrnMc6ljQWzgzCk0vHVV+XRiKZjWx17TNHyXv3vZl8DFv2c\n",
       "8YaQHDkQWm1WGdUEpDBH7glTeEirE5qd12ty+bMjrOAZ2yW3YOxPEpZslAAP7HAX6zbp2lS7LJVT\n",
       "7F3yZib5aVvH/gzqrGRKxAUfbVjRpWGaXG9lh3uCv8EgQBtHx9r3chv5ch5GzhXsn2n+thmG/I2y\n",
       "5uvsGK2jFuwEr5fDm0PRPnvU8mwUxq6j3Vv0yEMALp9HekzBkZSCs/oAmPH+okUGA63cE/kC1c/5\n",
       "42NAjguoW02kBUIytnDAos0uwZNSsi5oJIqPntcMyd1LAKGb+bxh2MqZSj4EkNYCBhZszTlV1z6r\n",
       "8sgYzN3ZEeTYDKPhA3Eu9rkUK3rGOQaKXRYxsdXo6csznBSSp8cWf4H21KLyOYBgpuEHRAc86kcO\n",
       "Y5+xknnXXPv28NkwfdHEMJEIUCSfOmSi3X8eaxMO9InjiRhXIc79qhJA0kyvRfv3zjwRpXpk0vsI\n",
       "3wHarenXMT0teeL/NadtP7MIXyT3dlaEWDvMM9iO89oJ+hiZcrY3e2M2N1710sufyav1phez6YHM\n",
       "vwXLsW0s/LUsmHY5t45EGfIltxSd+o8M4P/iOIe/RyPaPKIRfXvLhH+bXyiWwNL+/EmdgWi2rezU\n",
       "F7/MMC/uZFT9w8rNX3ugZKbFl35TRCelfuBK/RPOGeYF4rOgqnA4YuUc4G+ol0WFJo4MmAy7ld56\n",
       "X3efAdJ+qPVuH5LGZBYH12XuhRDcUuZepvmSh+RIlBwSyFXgK/RxIeNrqxFmG2LklEIfHMvxVVnu\n",
       "9PHmpXo5MJkQdXCBUS5qvxvdzdMYMrCFAYTBgRqgKLl7O5CxgfNy2+JeQbbCreilrn87Pl2RVsGa\n",
       "BdoJ4CLrlMlE8VJEDQMan02qXckyVMEbYdMniPjcD/2bPqwulpFoSaPGM9z9h61tRhil6njjamMZ\n",
       "gdgr29rR7eNGkhdXS0xLzn3adFnrZdjYm4uRp/R2gD0pm5AmmWYO44qBP7tuidEIF5PsJMa0GIVa\n",
       "1rRQEhlqum3PsTRc7z2BXoR6xozML3XW2GYr4hGIyLKaXnhPatkoc13Y22JkvmUabWbgkspfBp4M\n",
       "URBgj2Niw/mp/XwtQX7qJuxuusIFidDRKaHrtQZEFwcJBCNxSca+BKK2L9Tc6Hyk+cC/R0fmhThq\n",
       "nLOHekHjxLXOO2d5EwPkndIRqiBgkTmGiE1l0KIWcQKm/J37MnEMeX7aIcwPdhvaC2C/gXeHjUHQ\n",
       "ybgxWwjveg/cZOhPMzaR06BIPncD3T5lmHr5tWwky6RI/Jyf3t2nzkV+OT1fbDnYoWhy8p54utCx\n",
       "zz4CrSzr0Sv1LFzAZRoBtwc5S0FYdAmlDVHqRf2rtUd8Mzzzawk/lyHB5uqtl/RRJgtXix219+6r\n",
       "JWJoBTPAnWJ7wMu8Eru4MGKZWpPHNssIvdUrJkTcfAFMMG/olh8gieyMkb/jbMOjm+BPjTfLdqpS\n",
       "W75FDWS+iFuaJUy0qxZ15T0yun9ExXXnZMhN6cX+veFo728McputHySaNZHB6PQxPKLeem9jH9Ru\n",
       "0e7PgX3cG9J6hjtjIZ64YdbCl4mSgGlX5zNB7OmC4TWzU2w3/Z/iPGAzomBjZSufTOBnMeC9Am69\n",
       "n76xMlEQDDDm/MJYVuTTcaC0OKT9HZ9z8UbGZLQF7R/+LX4vMCVAqFcctJjopwLTvXrdF/FxCm7b\n",
       "f8pbwp5fTjMDpHZDrv1G4FC8lFwIm115LbRk9SwzXEAqyQ9rkAVs5tqKPxgbnYHKUM03wblD8uBo\n",
       "JgNo1nTXImB2HULoCOSuMv0iTZnejZ+0n2DuFi9Pa/FAfj4KlFTt7yxOEkebMlzcBrXfZMERWAKN\n",
       "rg5rfODppFqAMz7z4M8uzmRomkAgPuxZV/KIUkbHpthaV584kDy407M4WEYrsgQf0qTkiWGTEAxV\n",
       "MlzUjAybzmBKZl6pBP4vRS8AKAfdrlyacTU1NBNDYEix8nazKqJz+aTtgp9cl+aPOsyG363lVn1A\n",
       "Q6ANjxmvzixl/7HNthmyElWMct8yioCYWDJyf39b0exnTHPvvPBlPtd9mpxG6XIBn1iM1X2AN6bh\n",
       "8NmpO+lrP9yQ8iSTyfqTkbLEukEx+uZ92M4WLYjF48XSa6XufG0HHUm9EXCmYahRSiR2j8y1FFtV\n",
       "9qAdsLYw3VmCVQJ7nwfmO5zzJ4e740qEreuoYQ1gp65oU5+FsP1fScSrLIzq1/vOSXyD71FnAc7C\n",
       "34mMRv07Aze73k5jrJk+MlXJ6F7L0hWKfaWDMTN9HpETOJPjmUCQk5OCI2azbsvFUK5ze2nltMUB\n",
       "kEyT8pfOQRuMvRPykvikJmsmIe+M4oFO3XQTpABNBVJdQKBOpGG5JFt2uoWlNnvsn5H5OODNuull\n",
       "Yv1AxVCDlxAsS3TjVGEV+qR4ZbK5bi9VecNRhCVPPWyodCgA7eqZkaF+evKtR+5e6X1709Ax757K\n",
       "/hvnDjEmdIdS9E01vYjbNy2BU3BZVlktElcUs/VhnzBcJ4OGH4Ti5ndTOXoHK+ItGXwZivkP4E/k\n",
       "igqrR+KYLZ5mX2UgzFmV7yPH84da5i/R96W1ObOX7ClWN0KogEkVFbMkuptQkL6zb4wGzJ4scjNf\n",
       "dIrbcCcZvlZjNtsR+enjYq4mswfhaXbg3/yaJccEgMk41kmpmL3FFiuM7V4uD1kEG9j5ugUd3ePZ\n",
       "DqW0SeKr8CmSyo/2HfEn5UJwe1hYEWDoyr67y/J0p6sO9GzyJ2A26qb6cTqdqn3ju/tjvcp9HJZ4\n",
       "MThv9R/PbRe6ci5iPcZc14krgTIRGgJ1h0X/yFQogSDQ8+ROtVgEniwgEAz9AUKlhNV21QZ4gzYv\n",
       "wISNk5/FJfPMphiCBmubaVWProv3jH/kvtHsmB5vqi76EAM9uo0jI+e9AIIf4W+ywoTj5Km5mma/\n",
       "IvN//BOqtiBIQl4YYAUkcxSDaNhj7TXJXG2mPMRgS+DxvKCAsvl1TzACifK4cc9GVslLLtjkw9Pf\n",
       "z80bRNJDWBeY9bWBbcpaTuXG2078NoFUBNfeDoVpIk3cYNFY21gmCOmDju6JD03SSfu9wp0oNh+x\n",
       "1bcdp5D/zwxn/zbskxjlGi+TiszINg5y1pN9d1sAI+ELtBNU8RJxuFLthRbkbIEkKgZQWpSc/q8h\n",
       "6fwmCYFE1kjDcbWJxURChHORQsSfMhpYz8QytOj9IdDHHTx6j5fV+bnrnqeTfY171ogtF3fIAjov\n",
       "ZcaAiayb2BFTaeeY2cQWPMLtTnPYNzWi73CLxu6bXlCsNs6BRw6CLEMTOp2rDTFTRrKUXuLnT5Az\n",
       "qnpVVjfbprfi++HuJlCtYk2jGe4OT3NGVT99qzUkmcJrb7lfKj1zZenOaxqbAgaJM+57dgdJ/sBj\n",
       "huzYJwMTr046OuFIdGYoFmgR6aANMr1ysK93czHKxK+3/s6dR2SHAYDbcVlSUpgj8hOSdxGgmTW9\n",
       "InvTZVli1Ma5CF1uY9sQiwQq8MBbyUGz5KFgZy/T9Q9nG+aI+ycaZ/6EEKCgtNtJajh6gJQGlK4e\n",
       "uFOmTNRhZ2VK2S1XhMaSd23J/+XTvUzCK3enF/2MF9SGD3jotNCfQiqozbylBYVGH1VahTDZK3Iz\n",
       "5sMdr4massb3CdSa/OypD8v3o74X/w7Z7/3+ZKHjoN00ATa7lkknMbC6QrKh6yXlbK8udlKCambT\n",
       "Jfn3eoGRACKrOMRNcnVbPMtsDB11M271JrP2UPnnL5rSQFYn3geLNcZuo9FJBJ6MZpL8AdNszzQv\n",
       "Zn28GGOrOZ+2g+CkLkjWfjgUkrwH2S/Hc1+0gxdXfnDXblmu5mUquOwLBRSdXkA6AwDUuL4LLQlz\n",
       "fVH56MCRd7ENB1MX+TcbF2wBmRuyNY9fm2iCiiWpmYjYfXu/jcZHQNonLfDDToXs8vgo3ncM9ZNe\n",
       "f3tJdS/hYbDoB0OrgovJi1Ol3jcWMW2CRGeGqLdd/socpX27QNMS467T2eEhMiHvVeESJ5Z/xGea\n",
       "M368VGYt4dD/AJlcCeVbVscGwVAcWkJDIigSBv57jWQk2w7idcJRryX3myr/U5o/cRriCEIg/WPs\n",
       "zDobath2cw2vsIPcLXDgK8+LnN3MIKKpGVnwt8KrqSm6mLHrLQxZs8GAAL2T+AhY9msqqgXTNxVu\n",
       "7Dvd+k8yyxcDyGhjbKWwSSAuxs8GtkrJM7PdEc2HVWQl29OOTQcS8Cjb+I3amfpaUDkU+VbG57AU\n",
       "Y7/EYlWUN+21HVdln8j02LGeSlIwQ4UQyuhCVJtbCMzplDWbJpkPB0P/NWxnSUcsnWBBdHsXa3A7\n",
       "W/90AjqThRg3HrGtuVH9TIhgke1BLQ+tpl//zfx8CHd6GEdyY/VJux3i9ahCbFpp5bYTxlvYl1Rq\n",
       "gnepC9avOmnngSdz6KL4N2E1VyRgqau1RLl2icPDg9dMQRaq6wTN6IneKGnYjMZbBdSuJywTGE41\n",
       "GSFZts+uheg1V9CFcE0q40+AaKnwnVfXOWxcG49BDR4agaS8O9OJkxvtSez1aRZAZcnHWPfwTDva\n",
       "Lsge3GSfWgleOWSwqYzPJDFNKPshEUt8s3k/pog03iuA4k/9xdOyFh+kt9m6u7fSZBqv8PFk6FJE\n",
       "/lrPmneU3Tae7Hg/ClFyzV1BBWpNkwBzp0uAy2B8bkTU+oGx885sypdzHytENBnrDJMQ5jcWBkWr\n",
       "LbNDG9EZ6knJf70mGMWy8kQa92JxgyjnGuRmfPcCqYQfvSWcg0m3Y+A/KHpzFnjoZhqgK3KaJXd7\n",
       "xIwWFTjr2cXNhd4MXNNKLHrIhDt+X2VEeAReh5o968guMIzSTvsGHvnRf392zzcBRIE55Iv/MTNe\n",
       "YRaRZqZPfuMtcL5mf6h7HES0YBQUN0LdnlFR7Ty3tz5zAedVCy8U/HM+6wZAKNM546m7cIb281/1\n",
       "cohwbuwZ5AZ0l/hkOIFG0Cz81xEV8ShVXf3hfRteiGNP5fzXEZZUZ9zQoAqT4MBFJbXT/nMdCq/Z\n",
       "lJTWhdGGnO2GssnYUXU45XGKcUrT350SFHEsrj2m910j8fJKEbhRPWuMqbg2ERLSw04trKqEFf+7\n",
       "Xmgqy4bkXoMfFbmI2eCRPSOcHFPwheNg5HJcFhzMZOni3x/DaI8qVhfxliVOS61VUue7z0DTG78o\n",
       "pFvtfQyUfJ97Ow9GXXkRax+/QG4fBdVuGw706IgZpULDeW9awk3xrqL6z0mbMDG+L0A404YAj/l4\n",
       "bRoxYF+tlkg0LSSyPF1qNFR/odq1L7Q4bbxGYoFJGK3/oMbJJ1V6Y6dJhP9bLf2umQx7HgOvw0Ap\n",
       "jK8PhTzKp2JCyUm17Nw3YwovOlpzgVTbKRbz/o3AZeNR48rhP6mx1bW4db573M6akvRDMhKuIy1y\n",
       "YTCilBI/rLl4oXIs+f9+SrVEUJB3Rd2ZjRQj2UdqgAJfXbmYcyAGPGwntqvrtvguEfxoE3WC7zb1\n",
       "9TOxOLmZbhJ8mzJYF9r4cHeV5jnjW6B5nuj7G1zqoGI7RWfjIpsYTo5qNceMZSBVAJWoOmMasn3N\n",
       "uTOvIRFNtMGEQ9JI7E0eDftUaU8LZn/gM5pDZgFHj+6Fc75C5i+e4Ova06o9KVprPM7apL2aqQ0F\n",
       "IjUH1bX3o/8LrB6zUzndemsaaaXuzOW117lo4xtq4Amk4tv2lDx2v5mTMEtX+fWFg1jhB22Ir86L\n",
       "9AuPgtouI0Vv8NDv8//+HO1984SO3Pe/8qJMteiXml6wbN8JZ2IpTqX+GAKX46Er3LkB43hDF9GJ\n",
       "sxvIzQZpdNjeI0dWmH32+6JS2a6Jxu2FvQaoOJBVJMP946T2n9TkvJxVUed4H6N0QAM/RTV+Y/Ct\n",
       "WFtMu2rpor9Gqejov3utB+0aSxNUb0dDRdG9SxFKurwCi7FUj3v4K1obKj34st1KJ+I4/JTRO5pp\n",
       "iQGtGm9scV4s/gqhXguJE9bx8wmbwJ1S4uyGtJwWE4h+6F/nzfbnvRk1PKVuXrfkEkCzsLkymkla\n",
       "73gSQDemo+Gq45bgpHLHFah3xoDTXwb9McTmyeSMZhFZHqC2NMmyGSe0oitPlSsVa2CQIXBpYCfY\n",
       "6M9GvWOvlVodiQk0mSFFYQFFLhu2mVZfln0VCbKkfwEalhyZ79SyCurEBFEtVvDrYnHeyzbox5p9\n",
       "F0dmUaPpMBRECRsbXTh5QOle5HBIyxc4ujV4QyNPLJ2xZWO3I6H6xTiz0I6ieqQujL4OTytTBLKw\n",
       "Rrm52ZilPDAfVe06o3nLe5oZRnqyFx+1tT0b1L4MsheISQ52CZdM+CDPoUCZu7Kx6H8WOJ/IbQgP\n",
       "n/CVjA1fShcnQi/u6hfQIovWPQSpLuitL2mnT96SAXFhFzQUrFGmuTHc5MfFh0SXQdhru4Ai4HdI\n",
       "7jULK4GtHOzI7Vtr37g9SSSV4aC9VjApmy/g7og8Xk98Isuh1Y4vxld+thDVT/41DXSAJHQq44dp\n",
       "DqyuCX60x1gWeNDiGOP9p/nTAoI2Y2Eds2nzGiAQYv6LxEg1G5Mq9jOggf3Iw3XV3lE9vGqhZWfZ\n",
       "9JNBP/g8VRqRjyTrCNDsYRucgmfkUx7p+scsjYHqFrtqN4QZyhewp7W4TNTv//pFuIA1Nhbedlnt\n",
       "6drmBVcAKZ0x/dj0dh6jOHkqc3cvM49B4YRPyyYkj55ZPchKmJvLGuppZAwUDQDwcsl7OAs4PgVV\n",
       "2gcq+w9oM2IkERiy+9BTAxQYfzOdckkPzd0+ejNLSrbHciGF/1Gz0TryF16YjYj6/7tnNiuc9vQ7\n",
       "XfXkYQTXDvEGVYlwuk4EM6CH5F/y0Jx7Hv+h4/GoXfA0MIhCJrY1EAzu/ZmIM9B+hNwITA31gT2m\n",
       "RpvzQR2R03QN+ImgambVYOUtFqx+fD3qvkj7zwUtmMU2d5XwDIt/YkpHWSQtTJHM3Q+ZjRPoIyir\n",
       "qVqyA9bW2McTEjadOskQK7mMAVEHHRKAOiH1M73nw2ynse4UvrqD+io2He/NFZH8AHw24TwYQroO\n",
       "bm2AbZ/cCQ+xeI5LbbCHAj6q3cMDDJixdzzPcsd732P9EqnJGIl0yvYFWfbGuBiU9ZeGPtAFayiv\n",
       "08w2QbjgRKrEUFK1wWuHo7GdN3D1Uw9PB2ZKlyayOGvXNvmymYX4dVjaArGGM1GwKF2ioQnSRPqW\n",
       "hIeXqSD1zDprDebc0yjPNDshY7T8S/L3oANYUkqmrKgeOPpK48UgmXTD+WOFr16MkmC9fUPGvVav\n",
       "j4KJRSDSk8gJzRaLHPySE8FVp5t679yq7RK8BzccvtGdtpu/qOttFDDnN+DUK9U5JPvz60W32VOo\n",
       "NU3X796FyJtYYS1+KZo4bksZtaYs/m0drcZEmn1QJVxMM06llg0tvryJGid1NriYRPvg5fexSVoh\n",
       "0oT3bDgxrL6Paofi+/RRlkf9IA8L+ZLKckjIDmbjsPBc3WV6PwPMymUi5xoTPg9Nx2Pk9FtBCDaV\n",
       "3SzFZz9Tzb1y4ePMO7hk5///K0X/jKc+xnexwXYU4oMiA4F2M7oklkzSqB/gwRoVEu4zXrpa2/UC\n",
       "GwdnPFdCS4c4CSNjLS9Tv3Oy5g0JpSgnC5p9RCAfxYdBH6u4uThMHXv227/7Vi77tz1zZcw2VR5b\n",
       "iBv7pxeC5T+kh5Hzz7NhYrSm6spTxMYanJ/JY835sO8Z66axx+c4KXJdARcB62Szcdu7v/7tLkeO\n",
       "boQj2+we4ZyuU+HzUEyzi6Txt4c3Drkacef2RO7KuGqPJCtLEsJrM3Baxz0nX/QALcenAjPx26F8\n",
       "rSbtldPOn83PbpnVrGMUHltjdRiLWvXU32x8qlVJX60gKPJaDl0ambLH6P+No9MpWeH7YIcR+DVp\n",
       "0SzrZfcj8KkcW63NmTjqGyl1bwxZgL7dc/FmCkGA1UIdmlM7cVcBhInkkx2JP5NAhzR+m9fw1BXZ\n",
       "UOXHn/brgqM2dYgdgJHMQV45YdVb2lVcpTp6ZHigy1/YarFsmtFJqLwJx9m3G1EwnjluJVwmOjTM\n",
       "7iz562+A2CxpZvNLbavuqmU2VZXdAC9lH1PO+f5Y7ZQAMtyGMWPPwS5xQTZXzkzvUJslo5np5i3G\n",
       "Cq9KGC2o2j4B4Y2OP64wxTwK+mEKapdpg9nuu+SOYwLtS/7LOTeV/a+B+BrvfLWKREoUIVSMu4AH\n",
       "zbxmTazMnRMLTnzevyojVJl972RvpmItxeOuIpBxz3EHJgotDXsRIYEhFnrScv8D4dBLb152eefv\n",
       "GE3yxeI3khiRnCDS6dJXH9L62gM3qWi5S2xYD7uYjbq3uEkcQTyUnUUfiOAsqCjmoZPFp37ki/Ut\n",
       "S7s9U4le4LhlKcot4wlJHPm8NSY1ZLCsTzhnYQVgLZZbdAm+FHrkl5AwEsFRZzugveworZ2yFkxK\n",
       "ORWnxhzpVlPf3k7zZY1b5uNhHCpXQP0klJ+qP4Pj8MSfuB2XXIX870mEbF56vXP7auUGhW5/QfkV\n",
       "9D3MBBNbtcgjCXlsOrLLQ5bbSO+8TAnj+OCcLUY4Z8IN43gIBaCH7p0htKrwrdt+4S4sUcq4Aczx\n",
       "38Pxw8Xpc2USXTg1sPZEZPGMZ6NU350O+ao2N6SwcIiqIg8l4BcYR+F8lJXCRbgDgZockATX9hHe\n",
       "rZnoXfulXjMDWbTJlwCJnCRtZloAkZiIEHZ2CzxEYy8X0VfrSaSkyCH48cj0qFm8dQK1uce1ivyi\n",
       "sjpydR62jSgO3lSo2B5ukcJu1shVpZp62UW5TlkEjqP2A5mhGT2D2WIH7/bCpp0oImHkCGZUH4Tl\n",
       "rB6EL57OMKtWYFsgICbkJLgC4ciDIaKY6QWVJELcP1b9JI8GzgpixJoMzotbGqp9EhcYXQ2LaHAZ\n",
       "d9PGe8CW75fwOuPlcGLFvcu3qU2MeR8Ze7pioX47QPUTbh0iu4J2iz6Rb+3uMEiYRl+0AY3wwwQQ\n",
       "dE9wJdtudE/Yn5zk9JJ43CBai0oVGRFzit1QW7wnDuvRhcOrNzMaolXY239Tc/U5xouGPAIg83lq\n",
       "M4apl3CymfoNmegdDbQM2A4YmiU3g4M5k15Y1uFxq0Q3GXmWxW9Vo42qMbwIPXQldIqi7t70ryv5\n",
       "8/ThdJb53sEnfKOQaBzEDpPRRmu0AJkLiC18kmkI7bNDBRMndCYwari6CvZMvehTQykHYPtZkRlk\n",
       "r+/cMWeZGmkoQBmVy48gocYW/tCJURWdyWHu8aC2edsQW2N4aH99gI8UzvyFLKFjdeol3/+iJdkO\n",
       "cpjHqk3TFR+JtUohkTdEFL68MtAz6kDna5xMS9bXkowAdsYuFZabuGgMBg6DVMum5Weawi4BvYK3\n",
       "4Chp4tgXTtuaWC2SzS+6+fyNgizdlJHUo115wCSglMfhHPkyT8Etrvdn7y0KVAAAAwJUG2+OfyFk\n",
       "jPLiqza0VXw2mR++wM4yTGq4enw3iw7PKS/s3p3TIZI3wymNGl9/qaRzwuvSKYxR++sy2/FKOXPv\n",
       "hcqyzZbb/xcscLagN9K2wZJkyu9JlwjuRj3W+SOHnercWxt8tEVaG71CbNxJI6bqpR4kKzwcU+OK\n",
       "S7Q6OfsbJFr1AeCI/NQlmPPW+9Bh8S8NbJ2MeOoHfKECvbecDr+Y6x+tkYcQKvCdOOVj1OQK6eni\n",
       "+T2t2zCq78t661s+cxt/NyUnl7FGBbi9cO5uCLPgQe0ibdOT0nYOb8M2vOFDoxQf6OEEvXt6+u43\n",
       "ahT3eYZzc4dnM8P0GAcbWtby854nVEyFw4JEe8QiLWF+U8v/THtKH1hTA+2cAUJv/R9hR6S/Ve4g\n",
       "yuqRr6nFHc+4IPftJq/5M5sXiinKGklHK6zDu/Cj4qVVtj7g2FVkInbpWePwUIHwrhSW/RCbAUQf\n",
       "rfr8h7MHbK3tFHl5isoVzXRc65z/99SCfDJE/3gppkKORgkvSAofZORadTzs6JaLqURKKpIw0doT\n",
       "qX8S6eI7rJHrgzsqVA+pv2acvRL6Sf/fv5CnbOscbV//OLAVvIcUVR04Q0Kr46aJYJPTOALm/ojQ\n",
       "LcWTrs9voQAAq5mPAATBGIwAB/kAAAMaQZokbEL//oywDK8Tk5z4IdCg2uAaFUX8LkapTCNnwNK1\n",
       "F6hx7Sw0K/vzHleDMKloZOQ8DVUGi3Wk0W+plc8MQF2QDLC3WnaJBvlSK+ocn6Yx+ywMv9l53T6Z\n",
       "JswrLnuMa8t3CSdYGN9O7i4GrPGLMgmjyqEHgwJX4jKfVgTAmjeUiWtYqHukoQJTBZKCzkpiGx5t\n",
       "4NAf5BfH+9ZGW+kChcy6XhWPqUNKj7qnU0+fkJKYhdvGG/o7y/qyFsoqoizsWRYGA6Y3lvAOOfIR\n",
       "BbxGs8EVAQ9HGso3fr+HfqGwhLokyCR7KwRA8VAj31rF3H8clrAOMgYnXcDQrbONX8fVRLqmpUkw\n",
       "EJnsVZ1Q+pP2ircAjSFlzsXn9uXQc0OQk5mC7sjqMeScvpKoIy4kittGhaNXmoaKj45ptFWHSKZy\n",
       "oCPGG/edzN1iy5EE1a8wsRpqFV+/6YmfMMQwvU0uwYpupGjXphouY+M/OmOTmHDRPBSoFprvpP5e\n",
       "nAPp8NLu/EppwI3EjJPMwpJ0/Zxj7hgGvsiRAvInnE599mHlmR1TZf+NDgjlpweyM/uDlf/dbyMR\n",
       "3jNsvkel+g8E0mvx2o6+5/xl4lGboektOtGzxKXwx/l50ZIT1kle9QlP83aBAKZyjxcf8qO6+160\n",
       "UgxBGZsD83rwftL2F+G99obNRohySWp6aE48BKa3shj5V4XiZY7eCNOJy5skiPB3aazG7UJEuc6q\n",
       "jQey9KG98AMU9efIR4Hr5ziL+RLnyAEHhzA/118RrcRMGUB+QrG/T5/uoEIGS/81/9xijzp8zahl\n",
       "MDBK+2kq6S28yUpNhikHE4FyL/ewxhJI6pR9pqlqIE2bphY4lBQ2olWS0mN3p+mzmMB1srZidJ27\n",
       "857TXh62ZjsZfdrN/AL6fer434TnRShamxXwOagC12ZltdJ8qailH0Uxb1KcNDS2qfyfiq7zpCfi\n",
       "24JdRgl/oc4tl24Mylakwj3S5l3+8+X9Q52kRyc1PJFvGYaWx17aIyD3P+O/WEW/MaLItR2k/byD\n",
       "QQ6nvbmurF4wMK5OCaf4mDmIAWEAAABPQZ5CeIR/BTPeF9B0wB5xDjfijfciCt0LqkjQtyQQXtRF\n",
       "EOgSKvcnHMqiL5phCqVRf1+beHOWFcPh5ntPNSVc6gzrDXfpZ3x0ae6d8TMBOwAAADkBnmF0R/8H\n",
       "4pUmaRDjFurphKHl2KcWsQC2UMqyMrPxuEX9iibIOOYz7qluyD4r/6jEJiW0zIAAnoAAAAAuAZ5j\n",
       "akf/B+o0ppRczrDkKwIAUznZSw6QNURF/M+P1ygA4ro9Z2RrqcR3x5AjIQAAAHRBmmVJqEFomUwI\n",
       "Z//+nhB/4sTBociKVrqoYLiAZJmXWXaadWJ4WHokLyYj+oBXGjJsYZu3riCkWGVxQWfYT1v6Hk0D\n",
       "9r20q+lezcScTeGPjUyudC8tu0yCd3hf45FdS/ytM5Wt67YSpa8YdjqmIbtQmL0+YQAAAH5BmolJ\n",
       "4QpSZTAhf/6MsAAAzzu2wFDPW2RRMDZiy65gpqlos9Q7dOjV8k+C4fUaDufbT4c07hvBF62Dywh6\n",
       "hH+Qs5uVna1CfZCZWveoe57DNcd64utpKXWTlJL4I+1KSMMSBahm0/Sy8zb4bBrmLguMmNTXaYY/\n",
       "Bm/wUoBhizcAAAAsQZ6nRTRMI/8CsdTvZeCATCEYU/MArWmFkvfMAxXjuoATLY5PARSCToFvBm0A\n",
       "AAAmAZ7GdEf/BDGI4k8GTKYZhiZHPl4fQEAC1EztFublgYS4FzkeYpAAAAAkAZ7Iakf/BDPkQhmn\n",
       "s8VCb6mJ5dkgALZ1ulxr2Ts9vwqt/p9AAAAAVEGazUmoQWiZTAhf//6MsAAAzzsyAH2BNEPi8Wxs\n",
       "mtoZ17mdv14QQ0pRqygXu1qIm4HWEVDA8NNaDeA7zQVDQuK9v6RM1GHzB1+MrsBUzPevwjTtgQAA\n",
       "ACdBnutFESwj/wKyFBweqfumrtM8I6TRQTaYD12d8AE7dF3UwZ1+EP8AAAAZAZ8KdEf/BDGI4k8G\n",
       "TKYZhiZHPq27lGJK2AAAABgBnwxqR/8EM+RCGaezxUJvqY/W1RTQUEEAAAByQZsRSahBbJlMCF//\n",
       "/oywAADKO7bANG1ehciIqzgx98WHnUjU9d9qx5FulYeiiOlSZlhrtkmP1fF6h4/fTgh2FqnBreuS\n",
       "ptKeT/bMiXhQvJjQo6dR8OBXzD11s+H2iDTvVOrXs1sjd7C/1fL3NNZBNAqBAAAAKEGfL0UVLCP/\n",
       "ArIUHB6p+6au0zwjpNFBNpRMOEvqAFkjP/0GyMrr4ssAAAAbAZ9OdEf/BDGI4k8GTKYZhiZHPqft\n",
       "GFvhpw8YAAAAIgGfUGpH/wQz5EIZp7PFQm+pj9bUwyFgALqK/CFdw9pgFFAAAAA4QZtSSahBbJlM\n",
       "CF///oywAADFQ0kABO5iHIK6lt01cD6afe7HYb4mO1/HT4hQDQOHX0q0tynm2pkAAAB3QZt2SeEK\n",
       "UmUwIX/+jLAAAYoLFbr4AsgpcBICPA7WdYth7Q4XKOQSbWxKNDemAT/A9cASdcGx5WhSxb4h+WwD\n",
       "P41MuuPD/UM6npV0r7jmd4LQ7Ik4v51phZNRJa2IR1bU45OSjtCnIYpP+AXAd0XV5aAudugJ0bgA\n",
       "AAArQZ+URTRMI/8CsdTvZeCATCEYU/MArWpS44AD8TR+Ya5CjTlwOFGko43GDAAAAB4Bn7N0R/8E\n",
       "MYjiTwZMphmGJlA78QAXO7ZI0s7XTtsAAAAXAZ+1akf/BDPkQhmns8VCb6mRkv3Qh4AAAAA/QZu3\n",
       "SahBaJlMCGf//p4QAAF9hAqAA6R7PVFucQ+sZ/HHDOPX+W0Ro6vzoPGVP9UVQ8pOOhETg9wIK3M/\n",
       "0DgJAAAAZ0Gb20nhClJlMCF//oywAAMA7tsAmkqdnslrMlmLxaHYTQ61fDlDm0KfYltbn1MvhoHH\n",
       "xXkxDFcoSlL3b2Vorx6+VKqV5PQceGnRoOL1jjkPCe03YAsfAl9sW2iGtojZsvtu6UJD9oEAAAAg\n",
       "QZ/5RTRMI/8CsdTvZeCATCEYU/MCOjHKvKvoUOdyWkAAAAAgAZ4YdEf/BDGI4k8GTKYZhiZLQmUi\n",
       "gqQAB7f/bzMYRcEAAAAdAZ4aakf/BDPkQhmns8VCcKeHsAF0sMnwQ6jGAb0AAABnQZofSahBaJlM\n",
       "CF///oywAAMA79GAJ3RVaO4ZQ+VM44xVYaDB4TosHWFv2Ugz/x5YRrObTxzGp5k1of0eSuetbVNh\n",
       "IPWBGCpsaOoeSrM+y0Nfk3CfJedCPU6Odc+1m3Nij2o4PSmbqQAAACdBnj1FESwj/wKyFBweqfum\n",
       "rtM8I6+YrVHBAAXQMpcE2twgjgarvMEAAAAbAZ5cdEf/BDGI4k8GTKYZigsYK+gZh9rDqLuAAAAA\n",
       "JAGeXmpH/wQz5EIZp7PFQnCN/tqAFpQGI7OMYMq54tSrDAx3QAAAAHJBmkNJqEFsmUwIX//+jLAA\n",
       "BdsdtgGja0fGHR/RT2fOHWY/qXm/2lS61eisIUoJx3UjoqrGFzY9J7uutBEfl0mdQBAX/vtPw2qN\n",
       "1QJPp9+eqpevnE8yC8EpAGEC1/QYPtLKYctWxxuyGcW+uuH0cweO5UkAAAAfQZ5hRRUsI/8CshQc\n",
       "Hqn7pq7TPb6XxiZU4OAlQKFiwAAAABwBnoB0R/8EMYjiTwZMpn09chjeIAJwMuWgczofAAAAHAGe\n",
       "gmpH/wQz5EIZp7PFXur4ACR2Vao6gXLDYeEAAAA8QZqESahBbJlMCGf//p4QAAXPG44BMObeqpGD\n",
       "/8K76TafBoaMFaEf7zagyJi6KVGV72+P2haKo9pznz5hAAAAVkGaqEnhClJlMCGf/p4QAAtWVa4A\n",
       "jtc1LOAA3njzT5Qv0MiWUwgXalOS+VcWCqM+6tOihqkJjoVBpGDk5yXJLLwwzz9dX5VB2/jicj5i\n",
       "9DuRuK4prWfBAAAAKEGexkU0TCP/ArHU72XggEwhGFXKdfCZQAPbsoLF3QEOf0eQL5M9ZL0AAAAg\n",
       "AZ7ldEf/BDGI4k8GTKZpQuUqvh0AJoT4e1kATOfYf4EAAAAWAZ7nakf/BDPkQhmns8Zc7kXZrFeI\n",
       "eAAAAEBBmuxJqEFomUwIZ//+nhAAC1ZOjAFW5uf4BYo+LEShNE6fQQb6NxYCMJy8tIBf+ksz/Iyb\n",
       "Q1mkv/xZEqVOURZQAAAAJkGfCkURLCP/ArIUHB6p+6au00gd74AC4lFqCYVExguegJEKRkPBAAAA\n",
       "GgGfKXRH/wQxiOJPBkyo24kwAJ2PD7CDPNEvAAAAGgGfK2pH/wQz5EIZp7PGXdXwAD8Ig9ZSEQzI\n",
       "AAAAXEGbMEmoQWyZTAhn//6eEAALVmg8AVbiBI2Iqn65vS22n0kQmXS5YFsMbuHP1FDQPofzhLkD\n",
       "j9/bz3MvwonMIpDK6eZ/SezkQ8YP4RUS8Z7OWvDmY/JxRKGGTJeBAAAAJ0GfTkUVLCP/ArIUHB6p\n",
       "+6au01y+7JnTlAAD+dySh3NhMD0g9ZgyoQAAABsBn210R/8EMYjiTwZMqNOfwABO3ahSB5n3VsEA\n",
       "AAAVAZ9vakf/BDPkQhmns8hBwJOp8IGAAAAAZkGbdEmoQWyZTAhn//6eEAAWzpKIKtH+Uz0NGDEy\n",
       "RV2IXpDh9X9+ZsFUVdDy9PgRILOZOl/DoFcK6ijzje2FQQurcbj4eo5xpu9tAHsNSHymuusFChYD\n",
       "EO5g1tzOdbm7pbi9nnQVwQAAAB9Bn5JFFSwj/wKyFBweqfumrtNcvuxgOVz4OCQURtQRAAAAHAGf\n",
       "sXRH/wQxiOJPBkytpb9zbkgAJk7qw+TcFdUAAAAcAZ+zakf/BDPkQhmns8hXqDgxqgAm3/cH0Zmf\n",
       "SAAAAEdBm7hJqEFsmUwIZ//+nhAAFs338LDuwaACHeN0UZfi3y1BtXGIUeWDxLyP5DIt99aglC9S\n",
       "R45t+weBsDG3kjnTxvsZ85oPmQAAACpBn9ZFFSwj/wKyFBweqfumrtNdJZ8+MADhZ6YwsW9uYOBg\n",
       "Fbh5fATcY0AAAAAVAZ/1dEf/BDGI4k8GTK2yKtmIUa5ZAAAAHQGf92pH/wQz5EIZp7PIVr2qADiX\n",
       "8NPJ/qhVsxvRAAAAP0Gb/EmoQWyZTAhn//6eEAAWqb5NgBtZfwFnahjXAq7WB6O0dEaf5YITkFIK\n",
       "9i331qqpKu5nHnhcHp9XzTOP8AAAAClBnhpFFSwj/wKyFBweqfumrtNdOf9ADe13U1ilkRAPypoZ\n",
       "Wx2jOb4Q8QAAABwBnjl0R/8EMYjiTwZMraboYALXHHzZiVeV4sEPAAAAFAGeO2pH/wQz5EIZp7PI\n",
       "UwrA6sIvAAAAYUGaIEmoQWyZTAhn//6eEAAWwVaYq8AVqkOy00XwRTEr3htKKp4f9RUn8U2uOHsj\n",
       "+P9PyX05vKlA9pstP1mbbSFixkQJdQQkHUN3/ElBINU4FeaEnR/PzjMMkN4yzeyFhZUAAAAlQZ5e\n",
       "RRUsI/8CshQcHqn7pq7TXN6YqAAXQNYG19R5kb+QDX1B0wAAACEBnn10R/8EMYjiTwZMrY41LSyA\n",
       "C4nxH4DryEmnwyT4Z8AAAAAWAZ5/akf/BDPkQhmns8hSzPMx54ujKwAAAEJBmmRJqEFsmUwIZ//+\n",
       "nhAAFqzk+QBA7s2u68BByPxtJiKlu6QPmPy0GTNSX/exr1yInILOgeGzOoasprGTGMhYz4AAAAAj\n",
       "QZ6CRRUsI/8CshQcHqn7pq7TXRE8YAPu+pGHbNip7ZouE3sAAAAVAZ6hdEf/BDGI4k8GTLdeSUuo\n",
       "+CBgAAAAFQGeo2pH/wQz5EIZp7PMU7w/+RwDAwAAADRBmqhJqEFsmUwIX//+jLAAFtzzeADftzmZ\n",
       "qHR9e6Jro6CpSdwkwXbrykbju6aE89WOPhCxAAAAJEGexkUVLCP/ArIUHB6p+6au04cUPa+AAJaV\n",
       "cAoLK+kHsgZlQQAAABYBnuV0R/8EMYjiTwZMra61gNnfnFbBAAAAFgGe52pH/wQz5EIZp7PIV6P1\n",
       "QqwYOOAAAABJQZrsSahBbJlMCF///oywABbc3hgDk/VXAg4hhUMJPFw94trrQhM0XJnI//+o7wgQ\n",
       "fKm8BxNkJnK1CAs95QXZYBMftITfyZo3oAAAABxBnwpFFSwj/wKyFBweqfumrtNcfpHcr9dC3wWV\n",
       "AAAAEAGfKXRH/wQxiOJPBkykAyoAAAAcAZ8rakf/BDPkQhmns8hVYagAnF43fTTXIOwi4AAAADNB\n",
       "mzBJqEFsmUwIX//+jLAAFk/nLYAg2kpU1S+Eny3PD7DLfOCoHSBsle6Ka1gJpnfkUEEAAAAkQZ9O\n",
       "RRUsI/8CshQcHqn7pq7TXADBObAFA63aQA+NN+TKkhxxAAAAEwGfbXRH/wQxiOJPBkytYoY1oi8A\n",
       "AAAZAZ9vakf/BDPkQhmns8hFq+AAsz5N3gRFwAAAAElBm3FJqEFsmUwIX//+jLAAFk17bgEKtsqY\n",
       "ZkWOMk6+HdkATNwLL3WmDGb3iqrRXC98gp7wTDmqHlxdWcIcEXo13sELW4zMrlpgAAAATkGblUnh\n",
       "ClJlMCF//oywABZGhzQ20XLPRgC1QvRYFY7u9XRE1wwNkGJQaGd15ZsqNNM/y8rvuKk+4YYJcU/D\n",
       "8Txa2k1n+UIhxvH0NczRxwAAACVBn7NFNEwj/wKx1O9l4IBMIRhY8K1AALqNVpFb/6x0MQ7uGxk3\n",
       "AAAAFwGf0nRH/wQxiOJPBkytUHRYpP/2EwW0AAAAFwGf1GpH/wQz5EIZp7PIPtJZrGQcSEfBAAAA\n",
       "KEGb1kmoQWiZTAhn//6eEAAVh04Mg1fpgAsD4uMmbnC1SnJ5sH2KIXcAAAA8QZv6SeEKUmUwIZ/+\n",
       "nhAAFZY86a804ARV2Y0v6L+ogBR/SW6FfpqkU1steWfVdTrvKFiN+i57Si4whYXdAAAAKUGeGEU0\n",
       "TCP/ArHU72XggEwhGF8J1Lthev4AGjOd4dgIqfPW5m6d6TehAAAAFQGeN3RH/wQxiOJPBkytIyRu\n",
       "llIj4AAAAB4BnjlqR/8EM+RCGaezy/dxwo4JAAtTBu/6ck6r1MEAAABAQZo+SahBaJlMCGf//p4Q\n",
       "ACjUPa4jllAvrnCCyoOToFYR6Qf9tptEEiOaKsjRaUYJPs0I1sHfQcAX/QBHZ8zVgAAAABxBnlxF\n",
       "ESwj/wKyFBweqfumrtOCgGhCgHiHdhlRAAAAFAGee3RH/wQxiOJPBky2TBWtZJRRAAAAGgGefWpH\n",
       "/wQz5EIZp7PIKYlQAEzCzRnWDLaAAAAAPkGaYkmoQWyZTAhn//6eEAArHw5yA/z31LIex6FilPct\n",
       "cEjQtWZTLgElnYVov/R+Hb5w9X9TvXhecZ5sWjZgAAAAHEGegEUVLCP/ArIUHB6p+6au04KAb1Qf\n",
       "yAsvJQUAAAAUAZ6/dEf/BDGI4k8GTLZMFa1klFAAAAASAZ6hakf/BDPkQhmns8v3dbPDAAAAV0Ga\n",
       "pkmoQWyZTAhn//6eEAArW+/kEiQIAR2suV2bHr8wr2oW4j3FpXrUSjRd9fCBbK0tUSR33E3Qb9Ia\n",
       "Zteq9QszQpXeDr5Le1Igt8nERtmUzHYduCgg4AAAACdBnsRFFSwj/wKyFBweqfumrtOCEKSwAOPV\n",
       "uJD2mzTWeDsjX492FJEAAAAfAZ7jdEf/BDGI4k8GTLYeuEcaIACruywFnsvvREi9TQAAABsBnuVq\n",
       "R/8EM+RCGaezy98CDCYAHGtzfulzPCEAAAA5QZrqSahBbJlMCGf//p4QACsskTjlsAX2rGW5aD6T\n",
       "Gmf/fbS7r2amWt10BRHH7p91ymG1s4QsatLjAAAAI0GfCEUVLCP/ArIUHB6p+6au04J0zHUANyJW\n",
       "SBDDpb5pSAOmAAAAEwGfJ3RH/wQxiOJPBky2Q6e7xbQAAAAQAZ8pakf/BDPkQhmns8RhUwAAAEdB\n",
       "my5JqEFsmUwIZ//+nhAAKxjccAco3c8ZK/0+cQYN8Y2iY698D3wt99aqI5oVTn8H5F1bhVgRCj6W\n",
       "I7zkcoKYbwu3qeTCggAAACVBn0xFFSwj/wKyFBweqfumrtOCG6onAB+zaTY61EeTdO9y6pOAAAAA\n",
       "EAGfa3RH/wQxiOJPBkykAysAAAAVAZ9takf/BDPkQhmns8vxwnrDr9UnAAAARUGbckmoQWyZTAhn\n",
       "//6eEAAp9Z6QLAC1C62n/XfM0ntLjIZX/rjo0e53hf0+BRpIV13cS36F6+qbVCoHZtLbiDXoxGYo\n",
       "IQAAAB5Bn5BFFSwj/wKyFBweqfumrtOAlVjfcUazmbZrSMAAAAAWAZ+vdEf/BDGI4k8GTLXVBA+B\n",
       "/G0ruAAAABIBn7FqR/8EM+RCGaezy8lIMXcAAAAzQZu2SahBbJlMCGf//p4QACn0aBgBFYqe2b8J\n",
       "cndFyFfukQ1csHZdY9CZ1baE8TODCw3oAAAAIkGf1EUVLCP/ArIUHB6p+6au04C/MNgBtpIvQ9WW\n",
       "cmvJDugAAAAUAZ/zdEf/BDGI4k8GTLWcxlcrQk8AAAASAZ/1akf/BDPkQhmns8vNW4EnAAAANkGb\n",
       "+kmoQWyZTAhn//6eEAAp+V8cAUmx3cd9asD8pjELvxKvs3NcHC0i+Bu6wuR/SD2Rr1EGBQAAACVB\n",
       "nhhFFSwj/wKyFBweqfumrtOA+QbADVJrElKKLLP8tb2c3wh5AAAAEwGeN3RH/wQxiOJPBky1nnEG\n",
       "esAAAAAQAZ45akf/BDPkQhmns8RhUwAAAFZBmj5JqEFsmUwIZ//+nhAAKxjccAQjBEPIL/TUpR75\n",
       "BPMFAFXKbswd9b6l+fND3pfoE7F3XwzhBwElsAGvpOJK1rR3H5pW3Bqi12eWMaXWLJJUHZMKCAAA\n",
       "ACZBnlxFFSwj/wKyFBweqfumrtOC32qAFX6aUnsYIRuifUdrgyaJgQAAAB4Bnnt0R/8EMYjiTwZM\n",
       "tl+FAALicxuxDRqfy1p1GLEAAAASAZ59akf/BDPkQhmns8R5w6LmAAAAO0GaYkmoQWyZTAhn//6e\n",
       "EAArGO0oAWilwovYOLwoLTO2ggyvGrFg/svdrFiaC7aheuo//82LAU28/DegAAAAGkGegEUVLCP/\n",
       "ArIUHB6p+6au04CbE05PHDqnAAAAEgGev3RH/wQxiOJPBky13ivq2AAAABABnqFqR/8EM+RCGaez\n",
       "xGFTAAAAOkGapkmoQWyZTAhn//6eEAArLChDADbW95e7fPsAZ/APR1OxdmO/JwSt8YXpF3ICvyyE\n",
       "ELr829lFgu4AAAAaQZ7ERRUsI/8CshQcHqn7pq7TgqQNNFuladMAAAAQAZ7jdEf/BDGI4k8GTKQD\n",
       "KwAAABMBnuVqR/8EM+RCGaezy+aBUs8JAAAAQEGa6kmoQWyZTAhn//6eEAArGTowBCOrH1Rno75M\n",
       "9PZJLJ1VLvjXZPLsmSTsQwvJa33E3OLId1kBXMCCZvKFhs0AAAAoQZ8IRRUsI/8CshQcHqn7pq7T\n",
       "gcifOwAJEUQk6hFVIJ+aijwGa/zJuAAAABwBnyd0R/8EMYjiTwZMtk40gAEsXBUMUfoS4mHHAAAA\n",
       "HAGfKWpH/wQz5EIZp7PL7IN0gAEyl8pAuGxMh00AAAAnQZsuSahBbJlMCGf//p4QACsYvQAEM9LV\n",
       "B/o5MfTzdYSp8z5npOEvAAAAGUGfTEUVLCP/ArIUHB6p+6au0zWhgaL4PmAAAAAQAZ9rdEf/BDGI\n",
       "4k8GTKQDKwAAABABn21qR/8EM+RCGaezxGFTAAAAOkGbckmoQWyZTAhn//6eEAArGaDwBEx9oJEW\n",
       "gtLT3BkPgDZSfXVh/5Cz0usw4gM5ak1JiQSVEd1ThL0AAAAbQZ+QRRUsI/8CshQcHqn7pq7TgnzA\n",
       "X2Tb7ZCwAAAAEAGfr3RH/wQxiOJPBkykAyoAAAAVAZ+xakf/BDPkQhmns8vw4DR6PqmBAAAAS0Gb\n",
       "tkmoQWyZTAhn//6eEAArQjT5YAcGp23iF+o3Ee1c7WdVoSAYCKmlf/SWYA+atZxuwOkuQl49eqCN\n",
       "vvXlK9/YMGsrQhX5DKILuAAAAB9Bn9RFFSwj/wKyFBweqfumrtPSyhp3yPc6tVM1NB/gAAAAGQGf\n",
       "83RH/wQxiOJPBky2YApgAP5v3k+EMW0AAAAVAZ/1akf/BDPkQhmns9N+3vHmU3VMAAAAM0Gb+kmo\n",
       "QWyZTAhn//6eEAArGqqcAIrE1R/RgqwC++2bLJnYH0vAIEK5eepaj3fYzQsNmQAAACNBnhhFFSwj\n",
       "/wKyFBweqfumrtPSgRX3yACGYd6xM+Zuoms9IQAAABUBnjd0R/8EMYjiTwZMyLwf4ET3VMAAAAAT\n",
       "AZ45akf/BDPkQhmns9Nz39rLaQAAAE1Bmj5JqEFsmUwIZ//+nhAAVrffyRCSuE2XO2+TOLkdbzMN\n",
       "n+RnhzIpKmzbw7pZbLzc01de20nhUiTmuhdlCMGbHdEOFL6SnOKtibkCDgAAACRBnlxFFSwj/wKy\n",
       "FBweqfumrtPSyqffkAExS/SssaofMuUtwkcAAAAQAZ57dEf/BDGI4k8GTKQDKwAAABwBnn1qR/8E\n",
       "M+RCGaez03zx7EADSOk5mPHolI+AAAAAVkGaYkmoQWyZTAhn//6eEABYauw47wDG66US8KgCMGCm\n",
       "3L+QBi6QYZ6k9GatIZ/Zclzk9TErrXpqP5jByKCwOU11WhMyNDrFObGBIsqQGMZKQDuCucIOAAAA\n",
       "JkGegEUVLCP/ArIUHB6p+6au09dX87BABFyVKk6FwB3mrdfdowTdAAAAFgGev3RH/wQxiOJPBkzI\n",
       "knMRUMazcWUAAAAVAZ6hakf/BDPkQhmns9PSdAZZshUxAAAAPEGapkmoQWyZTAhn//6eEABYgUWH\n",
       "HeAY3hojBE5t9bAFyfxsHiGYMRFwK0go+kDLrdi6uiddhqsaZlUjBgAAABpBnsRFFSwj/wKyFBwe\n",
       "qfumrtPTIA51kF7CtwAAABUBnuN0R/8EMYjiTwZMybS+Q/6vxSUAAAASAZ7lakf/BDPkQhmns8vx\n",
       "9sW1AAAAREGa6kmoQWyZTAhn//6eEABWMOuARHYuzZkhAjNtuEXxLsXT5NtALp0Ki8CWDQ5v6aUO\n",
       "KlGa3qfxr7eOxo8BmcaNCjrhAAAAGkGfCEUVLCP/ArIUHB6p+6au04KkDTRbpWnTAAAAEAGfJ3RH\n",
       "/wQxiOJPBkykAyoAAAASAZ8pakf/BDPkQhmns8vx9sW1AAAAHkGbLkmoQWyZTAhn//6eEAArGs3A\n",
       "AI1dDJ4kypOEvAAAABlBn0xFFSwj/wKyFBweqfumrtM1oYGi+D5gAAAAEAGfa3RH/wQxiOJPBkyk\n",
       "AysAAAAQAZ9takf/BDPkQhmns8RhUwAAACVBm3JJqEFsmUwIZ//+nhAAKxrRAoAjV3C0chbj/Xcn\n",
       "S86ekWGzAAAAGUGfkEUVLCP/ArIUHB6p+6au0zWhgaL4PmAAAAAQAZ+vdEf/BDGI4k8GTKQDKgAA\n",
       "ABIBn7FqR/8EM+RCGaezy/H2xbUAAAAXQZu2SahBbJlMCGf//p4QAFY/NoFg2YAAAAAZQZ/URRUs\n",
       "I/8CshQcHqn7pq7TNaGBovg+YAAAABABn/N0R/8EMYjiTwZMpAMrAAAAEgGf9WpH/wQz5EIZp7PT\n",
       "c+2FtAAAAC9Bm/pJqEFsmUwIZ//+nhAAVjZIlgBxiCHtuP/UB9a8Ki5J3SmWbDILrhdiw04JeQAA\n",
       "ACNBnhhFFSwj/wKyFBweqfumrtPT73wAIyNfX0RaoS2jOb4Q8QAAABIBnjd0R/8EMYjiTwZMyLxX\n",
       "ypgAAAAbAZ45akf/BDPkQhmns9OAAUgA4sGJl8xuqxHzAAAAQUGaPkmoQWyZTAhn//6eEABWHXG1\n",
       "FZwBGbxp0/12gOslKO+N5YI4hjEGJoDn22ZqwZ3wAMIpxAYE5HiOqsNQWBdwAAAAIEGeXEUVLCP/\n",
       "ArIUHB6p+6au09Li6IAEFe+2SizHsJGBAAAAEAGee3RH/wQxiOJPBkykAysAAAAUAZ59akf/BDPk\n",
       "Qhmns9NuPl52PCAAAABKQZpiSahBbJlMCGf//p4QAFYxuOAOR4nq7xsPk34IFFxY8jMp+nXHYIap\n",
       "su/TndxfiWPET1JyhrldK2tvw3o4SclmLF/3Xpc+CHgAAAAbQZ6ARRUsI/8CshQcHqn7pq7T0zPR\n",
       "kN6jrOSNAAAAEwGev3RH/wQxiOJPBkzIh093hbQAAAAUAZ6hakf/BDPkQhmns9MUeSKvY9cAAABG\n",
       "QZqmSahBbJlMCGf//p4QAFZYQFABzD7hVDdB9HkyHUH9IZ6HHSfXUdNrTGqCj2wW+yF4byrNTXpE\n",
       "nsvnDFwClSQX6rYqoAAAABxBnsRFFSwj/wKyFBweqfumrtPTIa54RXyh8hsxAAAAFgGe43RH/wQx\n",
       "iOJPBkzIl3+nJIdToi0AAAASAZ7lakf/BDPkQhmns8vF9sXdAAAANEGa6kmoQWyZTAhn//6eEABW\n",
       "QggcAOkesx/PuOGK/cZatkVIDF8kFAajD2NA/FdQb658EPEAAAAbQZ8IRRUsI/8CshQcHqn7pq7T\n",
       "0teCmSd9EwXcAAAAEAGfJ3RH/wQxiOJPBkykAyoAAAASAZ8pakf/BDPkQhmns9Nz7YW1AAAAMEGb\n",
       "LkmoQWyZTAhf//6MsABXF6UQAs2V8ChqCfPPE6544oBeDoPmAGRBKEAIalCPgAAAABxBn0xFFSwj\n",
       "/wKyFBweqfumrtPTM9e6ZNIRSAPCAAAAFQGfa3RH/wQxiOJPBkzImAm9tdIpIQAAABIBn21qR/8E\n",
       "M+RCGaez0xvthd0AAABAQZtySahBbJlMCF///oywAFcDcLgBt5sWlwEFwNcQzWR3wucr2xoFHc28\n",
       "nNzNZ4/cwJtYTYCjZ+bFqgH/3qRLwQAAABtBn5BFFSwj/wKyFBweqfumrtPSypXXS3oLhlQAAAAU\n",
       "AZ+vdEf/BDGI4k8GTLXMFcCwEvAAAAASAZ+xakf/BDPkQhmns8vLdbPXAAAALUGbtkmoQWyZTAhf\n",
       "//6MsABVAvf6MAItLYfxmHuDSDkiKxOT4lMheJpyiwSMGAAAABpBn9RFFSwj/wKyFBweqfumrtPO\n",
       "egmvJ5U1UwAAABABn/N0R/8EMYjiTwZMpAMrAAAAEgGf9WpH/wQz5EIZp7PTJutj1gAAADZBm/dJ\n",
       "qEFsmUwIZ//+nhAAU/J0YAiY+lBeogVf3ugHZSS0I2im7/VsWKhnhQXFiabl6w0KJuEAAABkQZob\n",
       "SeEKUmUwIZ/+nhAAU/G44AiQxJj3gGT1icJgjFkYSRb8bLVNTAtQLheTKTcGBfRN5Mzhs/3jdcMi\n",
       "PisyIqPVHx60Fhj1qqEaEI8b5LKNDgSiUl1f66ql1laB4W480WxXwQAAACZBnjlFNEwj/wKx1O9l\n",
       "4IBMIRhq4YnAB/O8bE/Rf/8P48VMOPx/gAAAAB8Bnlh0R/8EMYjiTwZMx9o3ABNIJeesONsiZN7S\n",
       "KPWBAAAAEwGeWmpH/wQz5EIZp7PTG6/uAl4AAAA0QZpfSahBaJlMCGf//p4QAFGyvjgCtMIhAb81\n",
       "Muv2L2KZ9dsQNZ7l70L36scECWTtOhYOOQAAABpBnn1FESwj/wKyFBweqfumrtPKthPWzxw6pwAA\n",
       "ABQBnpx0R/8EMYjiTwZMxpgolLAS8AAAABABnp5qR/8EM+RCGaezxGFTAAAAQkGag0moQWyZTAhn\n",
       "//6eEABSG7iLEgCdg8iv0LU+3aNT2y/knLMsASlwgijHmkrgyagu0Ys1EA9MexMABmDK+Fg44QAA\n",
       "ABlBnqFFFSwj/wKyFBweqfumrtM1oYGi+D5gAAAAEAGewHRH/wQxiOJPBkykAysAAAAQAZ7Cakf/\n",
       "BDPkQhmns8RhUwAAADVBmsdJqEFsmUwIZ//+nhAAUajmHADbxrwusF7mLLZ5iefgNXVvCiaPjMQ0\n",
       "z4GbUyoquCcFBQAAABxBnuVFFSwj/wKyFBweqfumrtPJ/n0Ell/LdKCBAAAAEAGfBHRH/wQxiOJP\n",
       "BkykAysAAAAQAZ8Gakf/BDPkQhmns8RhUwAAADZBmwtJqEFsmUwIZ//+nhAAUbK+OARrWvXOt94a\n",
       "+6oLtGLcI9XT/x49MIcD7QfJ1R0q/SkQYEAAAAAaQZ8pRRUsI/8CshQcHqn7pq7TyrYT1s8cOqYA\n",
       "AAAUAZ9IdEf/BDGI4k8GTMaYKJSwEvEAAAAQAZ9Kakf/BDPkQhmns8RhUwAAAFBBm09JqEFsmUwI\n",
       "Z//+nhAAU/J0YAq3OF5ZssshZyY15JhAKDICZ5A/Y9vSQ9iFZ7Qy8RrXbsX2SGw2zLhdnUx1ik8u\n",
       "fD6R58Z3w2NTMnBNwAAAACRBn21FFSwj/wKyFBweqfumrtPOJlxwAEPycV1vWrJqHIpEN+EAAAAQ\n",
       "AZ+MdEf/BDGI4k8GTKQDKwAAABkBn45qR/8EM+RCGaez0wsLZwAD+LD40WPXAAAAN0Gbk0moQWyZ\n",
       "TAhn//6eEABUQyjhN8QBvRY7a47X2r4WAbn3Aw7tFoqbNKlKWIBUg7HsykTgm4AAAAAaQZ+xRRUs\n",
       "I/8CshQcHqn7pq7TzrYTTk8cOqYAAAAUAZ/QdEf/BDGI4k8GTMeYKICwEvEAAAAQAZ/Sakf/BDPk\n",
       "Qhmns8RhUwAAAB9Bm9dJqEFsmUwIZ//+nhAAU/KtcAW2pOVt5QPuLBvQAAAAGkGf9UUVLCP/ArIU\n",
       "HB6p+6au0862E05PHDqnAAAAFAGeFHRH/wQxiOJPBkzHmCiAsBLwAAAAEAGeFmpH/wQz5EIZp7PE\n",
       "YVMAAAAdQZoZSahBbJlMFEwj//3hAAUaPLwAlsJnEm4QHzEAAAAYAZ44akf/BDT5OL/YaFwSmA6k\n",
       "Gwo7g1T/AABAwmWIggAP//73aJ8Cm1pDeoDklcUl20+B/6tncHyP6QMAAAMAAK6tMz+8WNhqAgRc\n",
       "U8lfHXXwyWY3uENgj4HKn3y1OBgSeNPqs5Cmenz7pT3KXZhvzA6t59jnr5fISbkfIAATVGWsXGoj\n",
       "V/bNtQ4lRBKjTdC/J2eCDvirdJA4JlMLIRhkkD0cN/qk4cSPU2/MH0/v9f3BqQGncVcS2zrPYkGY\n",
       "fWZ7KnuZAhtpL4QK8ulAnzs3AzXFiTExlgY+KDRFogNHEG9QJFrQBnuNH4uUA4d1j7eBOsrPlgmH\n",
       "T/aFTK5+Mv8sAF+/TjL5bPsUVITAwqA+fcoAHOgBxFCp9zRwTh4GF4pYni0K8BFvuOnt9U9XrxR6\n",
       "fwVLjCp/VTA6K49v3r4wrI617mfid/3ZPoHYi9cWBEP4gyBD3lzKdUhU09VAWntcl/V5jnrCmE8g\n",
       "ZFIwSZv/CzSdyRRPkdgCfwIfgEfZTS7ChpFoG1EhRL8jeK6SYszjXcSVEiEmR11fje/Fg2FNvag2\n",
       "CSP5DbnGs+H2wEIlNNDjMMa4Ghm1tzbebgerUNetrLgKpTn8vs+qMN7JdQNEx6E7PA83eSQesfAt\n",
       "fX5MaN37UCPw+w9EJk3DjU8BXhul/xbZXy7uhjJkq58ITGL92F38WvPLQnTNeCVtf9Qg7MERkxdZ\n",
       "q6yAMA/viiE1Iiccl73NIZILBwYplP+uo7Z2bL6q5EXA7GrfqG3FpnloelbZUVOr9gAfSeaKLeT8\n",
       "EQHlvmm3GLAdngCxj5y2cJcDTeAwuM6M/tWprM7ncIIZgnDRnQOne+lVydbnu43gBjWxOk4x5CQZ\n",
       "/1iPaLNNccsk19NY04gRCMjex4741DgSmOtAl96CaSp620i+DPHBS655eIXu+/tMEuideq5zyRRf\n",
       "zB9knuMRU1dZu38OILJKtaJHJW1SYrL/cS/rdtp5qjeZz8R9EcXLi2mGh8FHLS/fDCZvbWEtseKq\n",
       "RoVNmRPFnqAqVUbgaCBXifGUk92bEhDb8DRvmtCrZi1IkM1Y+QaK+nYZWHfECx+WoDbwApfnEJf1\n",
       "gf7ghk/Zs+n2drlKeuLO+2pyme7sKk/1ZwHoEqdlMNtpEPOlH9vazRvY2sfUN5g5g0j3elYbhn/u\n",
       "DY7MzsH6Bd6yO7SULKtTVJxaFjrAdJMpV0xMDZvufzLhGuOMTAooiDgpHMqg3dzRwsuDQt1b3A1F\n",
       "hfZbdDhL9PQWUIZtVYBCSBSCWqeJ983qgZwfMdnCQqaodCGB5mgrIW/Ex2xKJV2qeKKZ3AccW6lQ\n",
       "Ktvrsh5ZPqkLVRGfP/5uC7ODUtXvkZBu+QwRBJG1rU0RYOSwWCrUCogyi7oUpx7FsHReebABkI7Y\n",
       "pIfvpzmU82j1CTPWeeacKbfcYg6xFffgXEYQLjYI6j1+2TMDvBASJGBIsLvGFWRsUGu7m2zdzChh\n",
       "AdFGOfqDpdWV3mjHP5WrR9IYXHBxNFaTB7bzYXIH1Ui9mQIQBPqHYKiS/2ih7pqMzNs7MphGUuCB\n",
       "OxiNpLBVbMKdEyb4I4m7NUttreBiZd0VaLhow74MHQIB7iVyNBbrqx//PaNWdLpivySDV7gs5pAT\n",
       "wocXL+ZecEsIOK9wgnL6k0ooa92furkPCKoucLpy7kZEaW2mv7FqncpXzswkn5QhOXjLIaa9vpjd\n",
       "tEbWkV/erx836vOZTF8NZ9hMduWgnuvLA2wVwHpBBp/9hAZkrPoBZzpFO8/lcRv4ajjO86qDNUgm\n",
       "tMe0jGepTNq6yg5P8i8fI5V7Rzyo9ovdKtCSri6Sl9vuTnx3SNPLK/5tZAlDH9GxEAev4/26aSoC\n",
       "5uFJQY/qF7IYgn8dEX3KvhqwaTvopsy7+TO5WmIjuIMlMuLLlvfV/i0voSK316uvsqmfofV/NQQ5\n",
       "6JKhChqhGM1CXHsLbN7OiLPhk/ZvgLpk9uvsGadKAN0zm0Byw9JGHTfBOYb5PMckW+RPsHbM4YNz\n",
       "UoxGJGAiBymwszeqt3Kt8HCi/wGQw8Vhx/mMuV6njXvMpqAr4rLJ0a1aJGHbAJCgcVaBeaFXlsH6\n",
       "ZjDHsMvgGeB4D+RQOq3/LG7xpxZII4rCMOtZM6OR5coqm6t0b36mNuHqdB85CxED6Jx52SCQKhjC\n",
       "yLAJJ0UyQLmuhKC6Tnr0AjfcYevAnjj+k4CZCESeQL2MmhSE1kP/irncTUZXcWuNpQ0OhSHlMRl0\n",
       "JuFzttgrwFDXEowYdgz1XfIS9LbOPWATMc6zvMBxeg4LjKDBsp8813GedsuJD0p49hpe04d4Fz4h\n",
       "dkzUyBk4AbhLn0MAuiwOC0dKBzq3jzfkFYUitjn4kWRloWUqHBcvlSL0Obs/G4cbUgDaLnmw7CyH\n",
       "VfgM9Gk8FmbAbpy6uPNNiaxVIj4vUPPjMavMnV0YGsGM4XMBa1b6OKzaMu0dQi0C0GGoesLlqzgx\n",
       "5PJpIXoQJw2vmZ3RabRgtnozZczD9QbUlYQ/oVt5Uvxq1Lj2wYFvwnvmdT7IYZNJBabcSvr3x5mL\n",
       "gZICY3xxnYWS3Ac9Wd6LikUF8qxDLrXgLLWLUovY8VzzW7JglZzm08vnluZj1TzN1e+Ja813rKd3\n",
       "Xakaq2WhssmI5KiS0iyWU6Nbj/1ieJFUUboloIqiowuDBEVLjsKZ0l5jM3cDTGB1xqg9w1dQ8LCp\n",
       "z9cUUMgtmEOCepLvSTiG5mVa25dV/oGePByzAGezbwE7dyerwK811mtWFg47VT1mgOBDQt/vR93v\n",
       "M8Ecife9vHtu/rcsdT8SbsMDHva3tW/bYRZvc6AWllY9g0vSkl80vzTLXUkWuGc2KBU82y101m/G\n",
       "zUGkOZ8CVrupIkJmUqZ2vgBCcg54DPEZRCRDCGxbvrs5kfHpLkvKfjy1GF+6Nxt2vzEGzTyQ4eNC\n",
       "b7QgTHobM23SEctemoHpz89WHHBhnrNBHAY5OX2N+iPcq70K3Hq8+a6MMp7kGOXrh67goRbJmzUH\n",
       "yv8SKhN0Ep9y2VaXGOihi6AXnM+xtqYQEuKtdnMtulT/BJuNv/WB6O9ITFVe8SRYwX2cIoXiM3bP\n",
       "guNFn9uGq+9OZZZVQ3vRDE7WbILlHyWJEQWl26mRT34HJ7P7WKrJkGjIR4+HdtXhHq0k3HZRRH8R\n",
       "hUr/FuFOVLdkMwEmzy1arx83iYG0c9mstHsYm4kbonEtEbTeFJdH7NPFYtPIlTcThXoHM9APpJdN\n",
       "d6K7uezxXzfTKd0NKwTNsIw50Peh61xsY3DTCqTAVgHjWXPLMFaOAdyud+eQlMvbwdfpdmsuPOJu\n",
       "99DCILEpsP0bGT0P1351QYqanlt7zWOsrCK6hQBB3jk0RpMnf+Q/gn8DayJQJY2WdSA6UkAzfU8m\n",
       "g0SDZpNPLqZTkHgTSKjDOANdGykWpw5C8U7YCKIdzDE9i0YVPL5vD5yvGEZyXQcD/sxvUgI6nYn1\n",
       "H4MtPMHceKSS6d2Jv1BUevsZt7RLu8NCydhZIBjPmIUyBjxwuor6W4iQfJ6B/YLwg08IefG9+L9T\n",
       "dCjbopB6T5i3HiaUl3bCzPxm5L3mbyhwjmbE7N+XVk0O1wLuHCrB6hAjKxV+eQosjs/04t1xX2fS\n",
       "Zj7tz3xTgqg0CMStFAWOhtTZQmRCRmqxz8DljLWK7mbwENBtv3DDJSU6+fX//QZi/ygcdJ81MOEs\n",
       "lBBEM9Gz/Q5JDODndzVGInor/9dz5Uza3KzvCPZ0pWRBACpt7KIq492FwXX74Za/rDO1sVkJHv25\n",
       "V69cbVMqcGsPSri2dFV8gmIXaeIKdjYjtuYWZJmsyIEZW2qe2fFC5F6G0eiL849Qau2s/3LSUdFW\n",
       "QAdaci0Nd1w7v7JVyPA6hTlI6SriSkk8lcUr52Xq1LCm3/KPbhsMEiasjIxkiZ8v76k223xIJfQp\n",
       "egrfY59vHMwifJhQERHM7S1xPujdjwpDKYZ3TYW6Mkg1fIbCPsxsPekanoq1MjpZl1PlQqemCKR+\n",
       "ynL9A9ElW0/jqShgYI4psT/JTKDsNvvGA11UNYyeYMTSWj/4lkS4n9yzBNEC3iy9+nEIrS3B7Cul\n",
       "G02xb2VKAHNFVkHhDjXqgsBsp30amlUMmy4MYFqSVPKKw2o8gIixX/6iyP0s2BEvrsbNp0YUwUZr\n",
       "BPZeZUBxX9z2AO01gtuzqFuJDXHzMNRoeG4ATRbsGAB7jrGR5km85gscGPXahbmWQdu20x7tYB5s\n",
       "V+vxi0OoZ5mjNbAIm/o6vHodB9ILZZ9v8csFAJ6+ZyUNCgAzPJv5pZOpS25jAWT8N3DAWmLALxC4\n",
       "B6ZbINLc4k+cgwIvYw7w/4hEzjzdRiyOtT0sdXWZKcIJVMNjYLCzEi5BhsFgJBdk4GnLgXrWMlCQ\n",
       "vxzhH6CP2sAkW2mt6XcweR8QA2maC16om8TLRF3JxfRbTX/1BY4HeBb97VxRxwQ2q96FrMOo1/Rz\n",
       "oICs1F6X+vXghIGpFS2FU+Z2Nawt6e2og76E/cLesfpXmW/hGlYW4k/tLlEGnm6iiNN5ZkCCGd/c\n",
       "4pi8crdTO36kn9kNs40BcmFD/AgyK5qTdXAy6OGsaBPPfRuTLBWceO+Y5tyn7vo4TUW5AsuOP/rt\n",
       "26L4JO+VFG2AJZFbWM9GJxuUA2xtFz/vtIkrsd5YCEQAO1gGRFESvK+q/929LoGJCd/KQ2hLyHF3\n",
       "B0yLM4Cpz0yp7/mCF+TBopmCdwJvefzj+YQLequs4GPPijOWiOLqLhJ9VhgpnKxc5MGdHvbKGQ48\n",
       "6IrSHHFat5Qq8+bdrn+vkRHtWOlCzqtiBIGtLN6sgTeFVKIbg9OUQL4viVsGe0orwC7U3ULfP0vB\n",
       "udXc7P1HbTTrbb5TRyz6ffqNFv02kIlbggepCXzgfiFj4pEH0g3Cx48KZCkL4Q10na0D6ytFPkKc\n",
       "2h7OyHJA1WHH6CHXQbbo7dhlihHuE4oUQVVaxG7nrGkQgEIlIoJHY4vOALrOkbjddOal27RDKie0\n",
       "8Z3tdS4zUNuS6/cyXXOUIGVKJuj13l1diU6EVJ1NWfD4rQJwQlxPzNGeLS/j3NZyjuaeFRncKEpb\n",
       "FUi+DrLfJPyFB/rKJyCliek9eHpiobdsdAwpN9SkwjOFYLpmk6pt7GB4d73nUcqHBviI4ZkPRPxk\n",
       "TpXkH0HfokpBvTAYYMht3Iihd6P+UM/KASXp1LE6oiOc8z9JXbDvPkVdMNxHX/hn3q9NxIR0yY+2\n",
       "fIgA7fY1WB7HMonMF2abnpt6nP0Tu24SGhFx3NfRs6U5QiMkcI2lqjnucTF2sZn3PJaSO80rEc0V\n",
       "ODQOJb9M+hwL/v5BQb9VipjNogWuRqn93KUIRCWS/iC1EMa5e2ypSAvlci2kT5gobOXf+UyLBPUl\n",
       "61Q2FTnCKt7qpVjK+mo/8GjFPMr6aW09HaOSEF1/z1oUGBp1vy06iokqihzCjzPN6KMWYZw6xMmK\n",
       "qvUhoMiTLk1JSMo29wBHKXLDyNdOZfBxS8//HbN7isB3WwAG5dxUSEnk+gDPwDvZmzOtxBtFpdoP\n",
       "0UBtx4M4/NdfOtMAeHFsy7nSdtAdD3egL2Tcec+BTuxN71v2NzDgbI+zC6bNC2UDmbejLVhEKcbl\n",
       "nBDmXZfm6lbPijYeyfW9exfw3AF9MJC1tLjp2LHpzzQoOGDn5G5POVmLt+OFZD5FoDpbKvHaV8yH\n",
       "qRD2eaIbnS6PP1Zr+LEAcEi0vcdhSt4xL5V0lHqfPg7Jq5kNZ4aSetKnU4IVFaSDa+6CajWz2asL\n",
       "qMaRgprddm6Koimv844piNW//4ibTFEMYlNGxKAV2H7dtvv2G2lvv7eHWzr8cfpUSCtW8JwetJCb\n",
       "NyJt3TSLhvKZKlT1v7Al5KuPQjrVVVB9nDttOvNgYa9nSusKQwmpXVP5aQERzuUox32K5aKzxT+u\n",
       "iK7cuABj5NQc12NXh7KLKZ4yKonxXZDP9bempcZrnbRH77PZXbIcn6a9PiZABG9fFucXmYEG68eE\n",
       "LjnN+mrh/nk57fwg4OnHmuGDKoCyB/MNp8qSIU+ccuALVvpxUPVzvdP2dSRc5OgzkiDSRGPvbj6F\n",
       "xzQXgi4Bdc/qED3chS8kgpu0h5DqCTUkEz+v32e0Oug1NePM+b3ryTuWqQ+k5ze235dwON7O7xB2\n",
       "53HI10nXP/sRRaQLXZOsZeroVU7ddgAkvaby60XXGny6nKeUKjHQUaOEzUcGtQNoVPK2rwtZOG9K\n",
       "6b0CU7/rnTebdCfjgl4KKi/2DKOzxU5qGdhEo1PwWeesMGgveeyB4ciYgZh4ic818c/9mkiByrea\n",
       "Ap6xX6Ko5MXBNbXMNErkFnsQ7Uh060fVCF+iqcgO4tl6jSgYy025LUin2AGH5R8J5MAEzW0DeZCh\n",
       "UPYOjhc6Kyj+IqeRSYYFtkcg26O1OvQV5KYk9tqAUBZv9P+pg8ORgbySPudvjpA5dSFYu0zI/lOV\n",
       "1KcOfAleSwnGaYCd8hzUNt2Sxf/+4+CGS24CFoVDBko8/91W7qiRZBEeIx7quxfnnv6GLHjRQRcP\n",
       "ytxn8gzqgMHgimy1m79l99bTednYoYfirb5Ot4t4dn3TXSzOLYlDmuKsxGXo1O3/k3q2xKKkUU8X\n",
       "nlCKvpAlaTdAwy67N90kTgkmyRrCXN1QHXpIf0C25Nvunb0RXo/gYkJaRz34UZv/rv56oY6ls21v\n",
       "D8dvj6MJTJIJdtqNwtw98ZfovWUWiJDDu2+LBe4m0RpxI6u/kkRBApvryVeoaiCrO5gBHKS0raIm\n",
       "ffWbK+UNbCpvUyfkNdZn9wPzZokmR4qon3p71Gz1YdSxtrzCotoN5Vutr//HiVofoVh9PBfXa/Rh\n",
       "3FDfNITOKMMQWg7TPnyoCyoltN/Uc+Eg2rekxQVGdXY3evThOpVU13hFsJX7tpGqmnbbEOeYdHAa\n",
       "5MWU2rGprfnzpkHeiCpjmwfU5o8r21fUq2kd+b/0XvUEXdCX+jt86mRGqfI/YbTu4G6pnpZbs/NI\n",
       "IfSV32S613IvZ/UYr2irM6h4IrY8lti7X8kXowxsAvboDDxIiy4FLRVl15edIIAuA7H5allvZjWl\n",
       "fMKn21ICdrJ32WBroCZ61IJrRlvTqvWRYVa7e6k16fYqv1eWfg6+OHGzjxivGvoV9O5rmVHQOYZb\n",
       "MOylYhDl0QrTW5HwdThA47dbJf89u/lDQzxMvdInj8SowxiX4o0AAvEbCyF7nwBsdYLb/1kvxGDr\n",
       "Fk5KnxWBBxzR2Wkt2ID39mhkaiTeE1yJyDcGt0SvaKGK9/TPghkiQw24xn/s8WuLNQT4P1VHaoiq\n",
       "4AYQ1YGOmYX4UpToH1Otrv1aHQeKFqPAuk0GEkuJGmEQHI6FSvZ2Ujxk0AV+KiJzIoN75OaTgHQi\n",
       "0pW3anGPJRgRZ/XR3ErlSbnCEnNvEzEFw3Sx/ufYwFYsF4vk6fxOsfBN6eVRYlqcKinQoEOs6fGT\n",
       "T06XKH2/0tGW8fz9JYZQXfvUtJNqsh9ERR91gPw+DZPMGZy52iInTLsM4KFqaEhxrpz4aDu7Qzhb\n",
       "vrkSiuVhQ4N3DaNByWgQOLjh1rQN8ncn7B0yuWUNlVYo0gb0xLSfYn/sxq7MihUUwB3BUw6AWdcp\n",
       "O2bNX/jY33Yoob7WLcsEjxxzjtkZxerQ7BGDE5x1TYTf3Ka0k3BMjQm4ZTkROKfAj1BPtM++xehl\n",
       "GQXTxjlJn8I3lTGz3toW0R8XIlMUArySfiw19dPT9oe0eOy97Dx8dQAoZVQBuAhF4r3E4t5qi03v\n",
       "naX3SVcMRiIENLbzX8vnw1y+eZWYlzrbjeodxsY6+4fpAg+5+gtdLnQnTUxqBONXiZ+jjo+A8UAq\n",
       "ugwUpilyNgv//9JPsoGet9K4QLKzY4amKnzE51gL4GCeTlf25akNoxosxTWjCxUAx3eg9gMa1aEb\n",
       "6kBVHFTEXmmANecxDUsxbWrtzHU2WXawSm11Yw6zUv2BvcgZqPN0GLRkbfZsEd05nScwpqPBl12D\n",
       "ofO/DUdaUx58i3YLvOfOwAuf9PqZAps+uUkTB8pWhF/RSCWo553p/06OyiYSNb01orrlJdgAbAUO\n",
       "+ox+XNs9q3O77Il7SYVqyISdr/3V6cbd6Le/rH0HU15NcFXVbiWciWumjtN51FqZ5QUrYuGRO3HS\n",
       "SuEN4TJPcz0Sjc8P6lLXvroxPiFCrAyGPpj1Qo4zlPUNJppI9EYZRh+utyW/d76g/MN0lYLtjJ06\n",
       "GTI+Y2hwo19sr8cGlfx1abyaDQwbv29t0id7fTtbktuV+r0ePhxgNDpaPjbeVQ2n1jI6PSY06di8\n",
       "PA4jirAF5CQqYRzouEJM1VkiPFgydOIljOpotkWRFuxnIxuf3JgTnCLv6LkssfqWmI5UeXTg5E3T\n",
       "5ibzRbNAuY6hKZnvAkEtVWK/LMoA3bLOxv/TMaVSQ+f3s/6jGVVk15pZZlvV3d4H4jrXwF3AMgg2\n",
       "K8H+pHz+ZAAUFClbriNKOHMGJA39acdX6dMh6DdCKl+TNg8W9wYVxvy0P3cMBVtM14NvQ/eWefuY\n",
       "pWWRlncU2HL7X+9cZkvLcsZZ+Er8OHYR4IigoYTS4ZAInqM0SITrVUr5K58RI7arHmPwS7bd5R+C\n",
       "HGGwJi0ziUD9epSyMQym5f4N09B1xvarL7QZH88yrcbV4HMZdnWxzagdtAkRMsejmMdmF7MPtcLu\n",
       "M0XaFhkx8ik9bQ/lKdsR3v25vXfTkDGt07890O8wv82u3/5CxtK7B8Wk7aVSpEit7h0TwIT1FJ0M\n",
       "vQOAfb9ca1bvxd/k25w9H1GJVE/ooHhmATr57KnrgXczGgfNXyDxcYdyvwvqxGCECjZdOIQnT9VX\n",
       "GTl6PlxCDpROV80Q1o8FfrN4NaujII4aQ7OJsk5lwttlhoegSPA6kBXqCkvmlUYLGiGcCxTFtjAG\n",
       "BLpTmqBeEn87+EdGvyq0pGkohg06T8SqQw4enAQRSyIxICdz5ePZYxNMM5ZRuUSDjOCwY1RtxzHZ\n",
       "pdnxuTbwuestzDvWTtKGdcEuv2mC12ZaUqiss/ogqC2keYUYVNqiF7+tkj0evwQaIvO954oQP8z/\n",
       "nk3KdNcoFPCQhRRLQlrXTixvq3Ks8ddNrZD1+/bxFeurlSLbCLZrVxbfXZk+1ZNc9wB4Didnu7qU\n",
       "jqDzEPzNtTK6gx/zAoBbime+WeNmYesKnMr53ET1nOBeFIAfJxxWmqSmfZfBVTo5DZ1wzQVCr/uI\n",
       "C5Vko4bT2IvQNh/vtdko6cq9LnQMT/bngPEhQbt6xwvj153NPzUVoNjzoM9dhmr7iBEQvlpBWLPS\n",
       "zlDc25gHdv7UuBJqfgGoA8e52RzTTbQjQZ1tNwPmoCdV84Q5/5f7Ryb79JccI3p8Cbp7YqJWD1sH\n",
       "N4HONfOuI0ShSZx7M8r+2JpWQH6eFCbAELt0DHaCzYESjZiVJZuTevc5AJ8smP/+YFyNuQ+qbfMx\n",
       "IOiFASE7ylbIV+KpSxMqUzFSKOs0lXLyKc8v+YMrDHYZDrJyvHJRk+0HiVhYjLINUrg88RDAWp8P\n",
       "aK3f6CkRcbKq123t3osU9QBluyRN6dzR8lmlhkyTS557kQDx1A386tBCp5zWb1CXNfezwzvVV59Z\n",
       "gmuxhbTDwkJ9kIWOQ1kfiVraZ8VRiyazyM/TFzP1PpbbaPqhFs/BHb12m3amPGBp1u//p43IN/Eu\n",
       "/DjZ9rPuoZ6jsz/i8ZuYGx/Rx8mgFL5VGeo+ioVDNCxKYCemghtqge5N8icwrge30/QrZeQKLSVT\n",
       "KLqMGc+7V5WcnvtTz8ldIWj+DQpZgP17vMSWEtN4lScwVwPYgWZ0A9CVOYje/am0MDZSonaKLlG8\n",
       "EwDZ8VH6aDd/dKb6hju8F/UltwHu+Ewi4vHL9sjngosrbLamVKw5adyi5B93Xm/mp1HvSnfNjsZG\n",
       "Ev3tudt1VrJlRD3/DI+NCXyJhxRjMm7wmxMcj81P6O72nH2bQtxZGTuXKMIwKP67p/IkLw6GZsHQ\n",
       "Ps030FPuPuTj9Sqc6xh8dXccGmDPIfbh6A193ZtvCQIURo383g0nZ6PMrFOOs1FPtxSG27pQZRbZ\n",
       "cHJPN//+Cymtpx+40gbMz+MPdFC4iTUxETYnbud0YmuxVyp/lM5CD6pZXh0QGLapSwrLvVyCN7jy\n",
       "8Wgfz6NOxlFvIYHubdiiFJbFLN4JGMg6IN8RYLqwXOEZgir6V2JDdzx783RkQw+r+C0hk9amdiPv\n",
       "lyIIvW/iLf/R7WIQwyX+bK92NBH+5ZbLyf1bkDOheknohD7ZA+JxpIpdnyUMkIeMSQekQT/fryn4\n",
       "2DRWVpdtwMj0omXZ+hcLeSSGrv8ElN2Y3/ioEme5JQMZJsoKPgdRIYBPDHiDL+Lxzr4zAUVxD6t5\n",
       "Za5mOnZZXVrCpO+6KecnhVfAMQXm82s4zpsos0YACpmIM6GY6x/jXPt9S3MXhzH23/OygQu0JZvQ\n",
       "OA7jqqVa/L/H4770w4Axt0B3SATDIlG2nVlmeKdeIkkba+yaioO0/5rl2CQQ7dEbT3OATidT+C3b\n",
       "tMDv5y3sFgo4VXiRv0l5xwpSsQpm8dGX0S8ilLw+FaXM772HJzwQSSfAPfOBwC9ZnCUYz3NjUgVG\n",
       "9cCjywWu9v24edncnElehshrHeG1YissA9KBlfaNl/WRm+KyZkUlBkzmbCDTueEnjxUuCh2M4j2F\n",
       "bIn6A4MHlnPm0w6yc+HPA6xLVrl99gMJZxYOWqr19S0Vj2pJh7np4A/k+mHQftxDHyx5gZ7S3Gmb\n",
       "77b7+ZiyrkZ/SRyBK7VXesgLeKMxgf/dF+xhifPcR80IbcgsbaN0TL1hVDGz90O2MSGPDADVMkx+\n",
       "pqxt6ywkBNkbutTImovFJgPJkteOPyqF+PBwJvDRTs4mv3UW1TC875u/bdJG8LNS35ew3vKvxU5m\n",
       "XaLtaAwMjs2XuZ/dP69YXRDCJ8kIqH2Oxot6eD/owj7MtxdA4tMtyRnhWO4SC7JwQ+NRv7Ni0x7U\n",
       "IIH2HaimPZkaHGTj8hMjpBXjaGGQSauLEl7HBMp+KdKsPYwRWDmRXzcG+I1Cd1SSSeWMV5XS6I7X\n",
       "UPoYcblIUY982tjTbgjm6yQhcd/O+yPx9Z2jXhMLLybPjSh4HzcThEaV3o/uBti/OVQcp2ogorJ6\n",
       "d3pEVXV7Zkq1cIIvaGE1CTm0757uPIU8beDDBpVAFE78pTTsxN5d19Oh+S3GemiZIBvo3xBAiL0o\n",
       "48DHKHevko8srZ468NeNc8vA10eoZ271m1jqydv2IZG2Rpch3wKBrauLX3FmuGngzCCkvo1as6wo\n",
       "mrjBrmhbKWrnwO3N8CIX52IOhv3dHzY6XmuzfyYR2Wtzsg27S/atwggWkJ7P45gXqrnz8fV58zL3\n",
       "Nomj8KuxQlba77IAkNUfN4eXrU8PlE9ILWpQSVvW/SNh95D4KRWhVkwqxYYKjaYeMU9U1NHjna08\n",
       "jo0ElvwEi1iYp7wk8NTPf3lB3FIO2xhFmlqGqdMCQc0uZKWIElRAC/VRYFRQo/L3Z4GC9r9d0/wo\n",
       "8Rc2dae6T+martqaXocNNhdRJZkrvIBMsc4Hq1l6muNRs2d037JvCeLjwkT3fUQvB1fIIF1P0PiE\n",
       "/1nKO5q8LFWx/fZ5/Z8GFYsvmOXgLd5KqlGCM4t3Mx93hBMlHpJeTsr8vynPLj8KR0ZSrJSldjxf\n",
       "cuaHD000KUUy40IeUfFi6SAa9V17wm3v8ByONbUIar338JrKqg3Vwtml9aE6scZ7NYUL09aNi7+2\n",
       "8lMdX6+BI3Xfvt005vAVIvAsx2SmuqG5RGntHL6DkKG5dGsdSEjDJm0WRL4KwgqIo5pfCG7xMEx3\n",
       "pfsF2DOeDhN6mABW8G8M08DBEmRwoiO3V1rNcU+679VPYC8ZjyxfOZXYU/+fJT36WxM8ZT0LxVra\n",
       "yQvZdfA9px0SpkSMpdOOhFaY2lUP6macz74CoJAr7t6n5DKUQMmyBsC2iuJQpa4+3bSd919Qhc30\n",
       "nJZqktE19mEKSrtqpSzphJ/aeNVIDidZvbVok7fJG6ePDefHKrO4hdzed1bNQm6h2uvth9po2j76\n",
       "HfvNMecq56+0YFMRKj7o8O6s+F3UQQl7xzMfijEFTWqTv71bt9Y1Oa8dlIzUKAth5xaj8pu5yr3U\n",
       "sV0WTklQM5hosXx4JhJkrE61/oK6459huTY4AWyggv+pm+urnMghgB5JSx7PbeuHTM/ty3tmRerF\n",
       "NTr7BSqPxb1I3Z+PfjcQtRPCoyl9L60v8XR+XUTTlnVkgexlzfRtl4kvYvVVqF+4glh211giTYPF\n",
       "xARITINQjGXgH/eg8sgnvTrX9ON2RUEfybX8o3+9K+clUd+q7fEa7oOsxqrIlW6atHs1Sq18uLFF\n",
       "xvN3mlQmSI68eKdo/nCQ47yHVl5TpyDMvaUz4TpYMxj1bb0MK9Pf6kvGU9/gaY73siKoUnlhUaK6\n",
       "35d1VEH0pCZqlwV+v+pygXOGzIyo7xH3OyfBW1t5EBFckAwfv1QRAE1+F8O2Vi9pSqzhJJocc/pU\n",
       "w3MmMhpgDRCcW1tuCEJkM464Ao9173tDKE3nsXiq7u+bc4QQuY4t3XrlIlSvj9fLxmK5Ix72ZAkY\n",
       "mOHHtPo8GEiNx7vV89ujQfZi9D6o+h1tDS4W9IEiFId0xgLMPXLmZqMq3c2GG85NqF7Lz0Z74yCe\n",
       "X8GTpjtcG7/ZfNcdwIpTSpT9FbKu4ZL1H8Bm5nYhc685YUqGyabUkn1EkIMHnsg/TrMk3zmqG04M\n",
       "NmiVyb1O5Hc6XlpzZyJdsbzjeXCZd997uY2ZAZZsV00LKfrtr3c7liRaRRizz8ROBYRMw1NUrh8g\n",
       "TQp3gv2Pzc5iYuKaZ7GnVu6asdp94aXFY64yeuZPhacF1cJ1Pb4TwB5bKHfTkLXGk2nZAXZBn+qF\n",
       "BJKEXraH7JEY4JQPrjkQCrCQpyTDln2yW99Os49GcLcdczl3TpGOxxexJ1UUyMs7b4Sv1w2tMmVd\n",
       "AjaNhwGkONocWkENhiTL7ILi9GeCplvd+QtQkKc/CLe80Shrbs4w8nNiyATtcJ7b1nJgBqPs90sP\n",
       "ZKaHIL3qRoxOBrYYi+g0y5oIWVoEUidfzQ6Oal+Z3xgO58gLpedSC7UHb87QxFC6VbPzGjFhM9NX\n",
       "RBBzgSReKAtzZ0KlWoWN5b20t334q5XGvTjiZtZHo4Eq+UGzUvyl7NVIoUuEMPHr+L+7azwtxsqJ\n",
       "+EF9ekuhiALEX7yYBE85Ok4zkUoSXYc5MyXllJ5eP08O1ID4gR2L2bMjfC4fZf6G6pPQgFyNShZg\n",
       "sJKfzOTuWR86Fyhsvfa/Pf3ZxYBCtI3Sk5wO0DVaivb2Yc7JWp5TLRvwgJNlsjp3S80oXyDJM5rA\n",
       "Bs1kZrlWWIy8DBlHhfB0lxY15Q0UiddWw/um+uA4dE0S07CtgK7i4N4zgqG8rS5YX4InOGo1ijaS\n",
       "G8C1WHhuhBJlmlZ1G4IL7lCeFMVZy2bimYQ5mZLGERIfkmna24zwPtkZMj9eW5+mpt0DPN3usVU7\n",
       "AGV4iOrqwzivaxC2CyI/Vaa0na1T8sZ8W2T1vBAcil82Xovr+WZ6D/ALu2ymUEVw5B2P/rzSZQiq\n",
       "W7wA+QveAytMx41vvOD7zp8/C3M3DLWi5ulcdTuOqA78PkcUDJKfjSSF2lP69aRotyqO1ymZ8XUP\n",
       "Fc8ayk2ai+FezHEu8hVr8M3h1SRC287T2iyocdNfW+JoSFUMQ878WEnEWv0IJJaRc7BHRen/AGlS\n",
       "v1mOG0fDj421qHOS/v0Z5QTNkrbidUlXhwdEgwDcC4M/xzFsbyiL0UvZV/fTLL4OS/TJ6zfYMONf\n",
       "ntw5T9VjdO0Vck7/Ekkb3w5lc5KD9qWPdY/irgZVqWqO2wi0YX+4zzA7e3B6yR+cXG3CpvIPgzsY\n",
       "dOPLnfyK3wG2jDEz6mrIiuB9ELotUQpIdX6W/bWDl41zgDZ4cPc+2GLv3n10nPK71lIqK/mlzgaQ\n",
       "BIXQY1++s+5JbdnS/Z0Ps6GPXdn6gADQVp9TU4IDUeY0QSAFiP5WprOnxwWPOxcIqEPBrfnEnEOO\n",
       "EByAa1waXICYqCexeT25lX97bRfMhLHTaISCtT7Us5zjiWqnh4nvUA1vOanzXNNPJfj8Trqo3TUo\n",
       "GihINSQVIeC9fGZswNDqpDsCc07XSdL6BW4LojKX7/b/KJaxnoHAjSzfskDIhSPY1ISY/ywq9IG0\n",
       "73Y7xmqHRs+uBaVRlzAbYYuxECyVM8oqTL0Obmp1nzyuXA6zm0ZcmSCz3sghwztaRygH9c0FxN/0\n",
       "POMvHhu3T1Nse9mpqIzdnX2Q8ai/mUBh692lod5m626UN1XUm+2mw5hd4HuvtDPSu21Tx7fN8EZO\n",
       "cC+sLo/Lj/OBik6nQ19KX9KGcLAC3znva7QOg2j9u41WyVp95ssftUELMrZPRN6wSmQ4fUiTgyT7\n",
       "soT8cW/3We0/gTU2iPP4ynDpgCqeUJ1Bvrz5+YHktBafpyNaXwqmO7YhrtoQ6sKAvS7d5TyrItRI\n",
       "4l9YXzYkcxYYu4hZDcXJn1wWRE1tXS+91pU6TZg3LUS0oGsHj8hYOpm1g/996NnmywwN90sdUcbL\n",
       "ZImP6I/yHyrXrMD+o0D+Q8MSA40bRMU5YNkOh8wpYEQPPBaZjlNMeYCjNoDgMssGr+8l3nxvOldT\n",
       "n1QWAnWz63d2WYmhacrl/aEYifOH6CZmZRiE8K9AJ9JpKHHnCDT7ipvFnGvfDdLPsGF9xC85VmHq\n",
       "u2vZ9BdP9naQq38JPpQjxEzNMjl1X3PVgRMdUMP6bXUr8ZzOaXK3iCPF/TwSML5enZzlXnI1d6GB\n",
       "T9Or3dDNhYUSpKyZNbFL3vADxxXsVJbMB3wIrocZyNMfhm0e6QXi8p9CPI2mXCiaPe5CdjnAph0R\n",
       "SNHOvTqUD7ig2xWSr+Ew9h1fb5sgpjs4udibmm57EILYTBXZlnCMnAhaN0Q7P4NEyhj9Ptazl3p8\n",
       "RO5VODe8zbEzzzOdTMjSrzZjhMZOefmM5JSaImgnjntiBqBvi36K5SS7GEhb549CuOA1axOv4qDM\n",
       "PYpAsPEUn8wzBedabJxaOiRKnjW4ZbnAoZlayF0w/uZG/ZuzDqhbMNeHkbLhRhYRFHB9IIPxHnmx\n",
       "805cOB4JD4cUOM2zyVYkqKLsu+UqkVG50XLcBQHg2cjLOB2w6shxhADCQ6qZ4xZ7LeLKB5ilhhnV\n",
       "xb+0OHs/jiZHnS/zUGaqNtqHZ1HJRG088SGJbVHY4JBLgb8D2HYjxorRHKP6VIM7IRi94NxVrwbZ\n",
       "OM//MGvVpCKttZJrnbX3OdwXzszn+g9I4xoTnIs4fc1tRBGOr6tFHr1qvMB8mmMQuGG+bbtHmF1n\n",
       "IDDwzP4MCaLPzOmIodVlWEvwESzd/WJTSl40R1wUYt9AlFxnAZ3f35jE2d5mz8h8mtC3TOs4sKdg\n",
       "yqEOD8++GXLN1bx5bVHw18rtYmnUp42GaJwY/t6kF3UzVRgppghXNvg5tN9y/NSPbd9pnhp8JxrA\n",
       "86AZawNC8Y++sdQy9rcyBY3kGShP38NN7MS6dJf1f0acoL4JJ2j6r41tybZi8300C6HUj15twDWF\n",
       "hlOxDXElk6RVpHH3w7s5vCsMkwQqR2ndCAzrfk6Xqj5uZoecTBBCkj4H7i8cWdExkWXYix4PeB4Q\n",
       "nKJ/iTEeFphaLZ0V1hGn/mL9pdbevGLhelKd8Ry9DBTI0wDWskgmW93BKdgzCugC443Xna37yZ8d\n",
       "qv+QHZC3sRhVV7JKVaaR5GNbJ5SdQlwdGJfYUyMyJoCY7tyvBKqvFZicw0E4hw1Wq5BZeghqwDTU\n",
       "DSlBz5Sp2UP59OjMFxAyO78sgzh5M4wt+5xx3OjlqLf0gfv+wKZOk7LHbgY5aB6979Ut0IQOOX+P\n",
       "EUzKZn3ntWVFTgJk/3fHhvKWxVRphT2sk16sNi20AkCKI5+CJrlUQPI9HhcS3eiqzfoCYsSIsw8c\n",
       "/Yo5rErhOw5J5dbtBfeqEYKgwmbFJZkdDDBPW2icWwwuRp6P8QI1Qus4jToz8Vo+zE+xuGm4FwKo\n",
       "0Gy14kcMIq0wR3oxuwr7FGWsN+YYNrWxKHOyUMn6ofV1wQrGHI5zzwPx2jl8mcCSdoL8M/S4fxZx\n",
       "ZfRaFy8+PH1AgqRbpfMTvKMkN8UJ2chjaXucolH5KTk14RsehLtKz1KgB5TTwQpUmyPXhlimLtQ1\n",
       "hSo6fL+pkWOk4vWJW5apCr24/K/EfAqNQNuR6i/zHOJG5KE9oOmOyzSnX6fcO2gIbpKKLIkUIDZx\n",
       "LUPRhdiNDa+r4n3Emnhj/c7M5j66D+XPeHE9ZZKgSlvbfxMlzkr7npSFYeY9OfYTAkyEhpONNo15\n",
       "ivnt2/JlU10XIWIZxX8khAkm1BC+zHZQqcAi/VkLhOnlJfFyx3WK7XW8LPCk6ctQeVBfcwamFOKN\n",
       "L1/nBBoOeA9o8o/250j1Gk4n7X5OstXhIU9vOab+3Yp41ZaOJpMqOsp9wVrPPLdXeiYyOyaiUGHf\n",
       "S3ysE61Up7stdRYocLelYt1Wrd1d72nmZorutjsRM/sSSRcR98wLZ1MZbP+jAUni0Kn9o9ly6k5o\n",
       "OODNet9ujfBmLEuw1YK8CRPOtT6DOIMDSAxCUahhIEFfiPOzePV9N7JAX5w6PV+46DfOiv68YzF8\n",
       "uAyLMuqmOkqjcJ4jk4srCKq5Tdw7dk0ZoDpdBWquR8GR/BuXxUTZabIOIR3a/B+xVr8fXlYVZGjW\n",
       "yGzl5kk5BwVxxTU6REi9VeRBnhN4M7CgyPMPthkCkKsAjrZR7nD3HUB12FkwHIE8Z/AwKezeXnNK\n",
       "kga3rqgPfRBhCM9+c5HBH1v0dejHdK73CHht5Um6fU67A5H0s5t/I5pkyNu/Qv/GXo13N55rJifU\n",
       "ui7204RjY1Br2tPGZ2KApE0LG+pboR11jvFTDXGszlHHVJRsTqxVeWbrOf7uT4Q2BFvX0vkBgIBm\n",
       "G3xNlh1pF31pUahGKHAZfvUOSOQ9wu1ohAcejSgnJgaeSsWBnElmpqXSz51DolZHKHCX5gizwmWX\n",
       "cky0LbASK9jzvdAPLOSvB8ecrQ0a7N6fXCW3jYQA6PU7FgePopYSN1xPLydZmb4vMEuPsYeUlzRR\n",
       "Vjc8BrvfQf1kVxhA1lt4B5z3nbdjx15X9LpgZg3qIAW4/HTlRAGevrTynY6ophqkju+9Q5D1HZ4A\n",
       "Id8mlZwDLI30IDI0dx8HF78drS16ruwKLcfwAHPYZaN8H2Bug/VGTQP7U4GELk3uk7ItzOUrWVSt\n",
       "qF4lzqw5DwdLjIUguuWyHmM1jDGLECxzJHeD3Dg9lT4YDg3NFkvH74UxGMqmHF++OBKohS/tOf2d\n",
       "xHyCNi0Yd0c5mN6CNO7fXUKEbs6AbrupQ0+86Aavp+9r9FybwlPsrhMAF9pBMWc0H2OoFohja5tL\n",
       "tTuZiKsJoSSw+CQnoqi8H6frz+dQUoy54UnDi4NqLypyXga5qPgCDqTa5dXPIYLW3jtpKM4esJ4A\n",
       "sAG/SdHTLlgbAq7ikGsn7D2ar67m0unE6E2PrFkRFYbfN/Duf7A+/fb2f7U7qzsmGiNuNsAGIAZO\n",
       "GZ9D7DMR0MM48dAxdyOWUKNLaF+snqqXb5C5Ez3hRh1ZvAAb2ybI4j/6we1r+qxfd65zHPYsBR9z\n",
       "Kt1C8loMkwe/dj60r100LxsrYnrBPKk6SjTxIZ1x1AjSwn3Ppf72ZaDmzZdg9DHbQBt0Q+jqL3BX\n",
       "hjAcXHWs/SaWmaGSk9lQ3JPa841MxC1tPANUhZ7R5bhu9jMY9ydY5TURaE6XQgpxzzJq/fooOGgU\n",
       "0Bt6NjFQ4X2Pm+oXAbJC7mBGmDa6Ij1ewEM9LPMwp8UWZpUgPqYYfj1Jb2h1Elhj0WgXlBzSUAxp\n",
       "iOizG5DuJ5s07CSKjNc+Bl3rp7gkHFx2yQmjOswbp2A3Wem5eTyOqjqIDlQNOzWLgx2cU4Is2amL\n",
       "3+kZ0hz14SdCq/N1XJJTvUI0IXohvGAQoZnKYBLQJXhiAKA1NpYEOJlL95Ro1iQwOdiVy3HeIg6j\n",
       "1aa2LAyhwWNYnAszVTC6xrdTmED5p9zBS8qEOdpkrgLGoXdhAYqTjtldhgOyZP3l5nSBECmHGV1r\n",
       "esrU+SUaJuH/RDgwpn9jvvThUlsKj5uBEVUCsa30g9rid3LrbR1Z1jYFNgncemqyo4Xbrw/seIUH\n",
       "B+ecIT06nrRAbgB1fQgo4ktzBy42n7qgPhyPu1e/ya569PNNQNesaBZDtPZPePUA3plsdcPOge2e\n",
       "Fl/zjD+wK/GMcT09CRXTVR43sGOq7w4CUZ0STtAMoVeRpDTLaatE1hiHtThTGc+sX5lmzIYnIav0\n",
       "t8HeeGaBc72y2kYkV+Q4YclsK5qeLhaRszP7TpeH/ER3HO/CfUOEq3dK4BxIn/jGkJ6QGHHKOvkH\n",
       "69QaBx3dbMA2ir+3/zMRHULWvh3ujQUu5Z2qP7hcpQeBxRE/UBLkgkcX2A00a/7S4gmluZobrMu+\n",
       "c16V6yShkaDuBDVyjEymbdvoylgtLGC48DuNluo+Kk5De3C2xbaKYiJ2ubTbpE4oXjxduytMFDJY\n",
       "60AuXHV4DkNy2gNO0dFafcAt8U3rj1DmkfZlIMiW+F93fR1sJNuS8Q9525vacsvwouzKW4jfz5+6\n",
       "1wqAxYfMDNlmex0UG6nM4t5Dp0YGuF1//MueTrXngylBJU65DMtTkssNqhWQPwciN3gBtgs34DqJ\n",
       "6yoCY/pFRaLZQWmMKNgE8naxzKXTYlI/apIUXVrdjjGApxGEUWurcXLOKqDMwp8uz397Sz6oFDCR\n",
       "SlR1j+clxYvjCpd25+voYdnEvlGs5HsHBKAKpWYP7DfnN5M2u5/1pr5cBq75666VSCcVhkdygTw+\n",
       "QjGczLckKynAvrNs4SzeUbK4RShqHC+FjHEE+waklu/lsi9RWxqWTAkX8I+iv2Qj/v2tdTalssGE\n",
       "JCLP3Z5AovtkoHdOmCTa3zh/9uZbNA7x0n0GMMsjUBcrZqXruCN79SGlLh2JQ5v2OM31IlekPggq\n",
       "bYfBS82quBc9tbUi6lkQwydCOkJVoinhhBI+PvIguzTEgMEkNo290AbmtNNTm84ahI5AjBZNPjlq\n",
       "n1lu4dvz3hau46n6xS7eiS6bisRZlQmAfEnUXv5vkql9wZIr6R+z2Rg8enQbVW8xwxEx4yV6i50z\n",
       "Lzc4j8gGom4hm/YcqMEEY8avD/b89uahozMHf+Rb5HP8pEO6714jLqrtPkGpFfSejkHdoJ0oGtO9\n",
       "Jxxl5WawC+UH3PJ3bAOXAYUJg9V1z6kppaWNlv9R50maB+yPg/fDgeioxAaHPvkgJAqJ/69ruPvx\n",
       "cjN949ftKiJwtT5ky7ry4js7BeCyG6My9E4GtV+ImSF/zPYMkAUCZQ51cigOxD1tz394BO4Qf+z0\n",
       "dHT9emYhBqxfdMDRaej25T94OJhdN17ajsQUdW2/s7h22JdquweY+agrz680t3E1WmfffN9h1F46\n",
       "jk9k+Z3UwWIhL1J2LPPRVFaO/JA/+acebvUtB/wQr8SaU0jDSvBTyP30sqCNa00h4vO63yJZ7mOq\n",
       "9sYmvEgb6sy1Oqt8etti+V9Q8erZu8D0INxF/fYI1ECM9l1U9+SYD7eXJt6M8TXJZy//9jhve5MS\n",
       "Wo4l5JNc+vdFwJqHjoN3s9q3+6HicmFskOx+XuZCZpvH/gyBxsjYTdR7cbnkShoX4IzlWzClSLVS\n",
       "ULlQZ1O+bpfAhuOChMvtKyxyFQNfYjjFfRlNsJrDUIqAHz+M6rWwieL6JJ5UTzKp7GKcBCozWtYs\n",
       "zsoLJxIu30t793tl41/FE5B0QrPU2SEN+6h8pQQcHpPv9cRZpO5RYgh6UK5QyTf4v3NyFbnx1X04\n",
       "n28a2ZPVVrnOCnuzGhdq9cBgxLridB6o+SKJadEVk9jymA4IRnvvxnEYFcFUthNNCNHbqpgjLNf7\n",
       "kBREsnjHqicMxHIMwfwLHsF1JNp1AFy32QcnV+ufQLwrUvDxeGv/OqLRxx+DU823Fzy6aEqm3eAp\n",
       "WN9jNC3i4KTq0JLKQsbpG5plBqfTs9Tg5n9RB2Ye0WGcVS0IWB7ZGP6Nv5NJS9ELZIJX/qBx6qji\n",
       "boLf3XDzGZ721qNPfCN7O1Rkw4ygZ9uKNB+ExUDuRvRjp0TFQ9Lz79LJLgdQY5+bUWtzqjKTHei8\n",
       "u2lKvM9Ht5yG6TJogFciwwgNkCZQUWkt6OTbFlqXz3rsMmOsBac2XFFjSxCdZQwWFcAnhX7TzA6a\n",
       "Mv1pUTdwDNTPPF4O7Df7FwIQSTIAdSVRtQOq0bUbhCx8yMZDIJRbQXpiVqGUiPijTaAXasEN6gs6\n",
       "0Y/sPiENh6fWiRVqFGA8+sTeMMqqTK6gg0Lleakdz3//9SZKG1hYerRSEIkw3OFZKU1u2Bp06KO8\n",
       "OUAGWoG7G7f4mzLDzgIuT6Z4viP6/BRj0cFtlQzHZw/GOVmiEwlU2e1GOFYSHUJTi1gPjKlTzmCB\n",
       "lNUpO2PEpdC3F9oCcyrF94kG8K5DKgLfsrJ+d6aNihBj85SkM/bs3iTD6lHWx1BrY9/fEpU7HMTY\n",
       "UZVRkrKCbimQyIQJ/8a4EYLAwXq6g17x9xjcXZnOYmIN3gnzpUlW+HcUmooJO5mF2QeFhMZc37zY\n",
       "qTyidf+RnabPw3/G91fUFAfY/Pkm4CCBLweHvzGjVGB4fvlosyVR9K1NhOtgXR5in64AlWD0dnH7\n",
       "7Ymal2QmlFCGuA1vsVbPns3XWPvuysHBahyXeXQIQE89o9ZEfseSsIdGxCyGJZ4ZnD3P+ec9FJ3I\n",
       "mk/k0kRdotg31heCWdDZWD3qCCZ/t87x5qwDJa+p+mjEFSq1hKz8f+msXOSGStEYZ4NCpOUXcsOn\n",
       "gb2FN4VTAs04g1c+izdsDsD0yubxSZpWGhz2IzLyY6TftPQ6dLfGz0LxqRqAUXiUzf+//MhbzBNQ\n",
       "kv/cB8FHBfJCobVSaDA7qXiyQvaHq+Sh7ehKloYQx17E5txZl00Mquwf/a++DDtjovWC+xnkC+Wk\n",
       "J15vKdpmeIb9S8aPIJ1Do7GxoNNDlTXkGrS9bYiot/HmE3NBOqsrpNJBdWj8gIRUHCgTUKxhVN4j\n",
       "XIEJbgh8e7CBu8PvqAgmRgAHTcSSuww81PqbwGiTmUzVnPVQwCZ4BrM7T8FhH0HMOInldppAAVtq\n",
       "8sPgWNBNiGQpF8cNVn3fOhxpF6pWWmaTgELlgF7nnxm2dZQIlmhrDF9hEz7eZPJUEcbdVaC2Gpzq\n",
       "m0KFhYkpboKdcbp7tq29Bpz2Cp8v/uWv3QgVfQk0VETO5deqDEQ2QtScUaUBg6wNCsJYZC/1aD5w\n",
       "ZuXWlq/wAuypQHuUjMzVN3CgoMI5+S/iw80sH+cT6wa64N0+selEBNoCeaOBy50LxMeGGL0bzNVb\n",
       "zfZjJ48892f6hVWeXxMgy6PpglRaVX5cOTpgrB7KNCH0bpJUo7U+xk2WX4JTduuJfbIFbPTcsRy4\n",
       "1ag9fY1ilMjQssNyhOMEPDmUljeNBvKQi2XDFwXIIilYS19pYEajtK+6VoOZm1sWoHPcxVHn7mQx\n",
       "zI9uH/vMzVqh6/Z3oPYe4xPrztjm/7OlPO/P3j+0lG3Ag9+GyEp8stliUyCdBthx2Cltw/cjrBXI\n",
       "4zPMMSyNX7y5UnqrGZGLO9slVyWObTxl1xgKLI/vCe3ooXJ/oAo67EnFIfKJky8cKPxtSJAZx2Cu\n",
       "Ha1cb3uTWcozstMIW8mJb0LWdLq23HRhA8Ioo1QaQVw5z0QnRUvFyJRR+oN8WaVMlHQr+yj5NMQd\n",
       "tN11nz4rzCDV/ZB2InpAEUrnXJqtiHG6UCVTLKCpYN76/wPopQgGH2ytdG4MELTz22sgkWbPhMJG\n",
       "q6EEzJskpzGgbsNk5T80BroFZUPMDUkRefGxgwyBM0Cxq4Xu7jhXs7Du3JLMBxXSwD1zixst7VV5\n",
       "4Ay7FryvLh5rFxMMs+6J0FIuf0e+GoaddlKdCvvfstzvyW5hVNzXZEn40Ep9RLjyu0jlJdpyBM+/\n",
       "Moj2qoKWfdtkGqVjs9o6vgYQuKu8riRLRNKGdU6HJdBYfok+xE7EPuIEY+yVE2UObrhM1UDpSwDQ\n",
       "/8u7YRrEH/ZsnLMuJQD5KNBVict3b8hOp+nmJRrW19V1PZtidSB077ggT89hBzs1ye9XJ49TsJHK\n",
       "3p2+1UAdHKwb52kSzUL3RkV9itj1Rs4k8DLxBXywUn7pCEeiQaHswNdlO4aWDkP37/HoNcGSeiGs\n",
       "CmXKw83LiSkquR9gXHk4BfpgE66he0suwfL7JeWQmwhEhT9xLq5qGrvAArOL2weHYASMBlO4BrXq\n",
       "iQAAAWdBmiRsQz/+nhADc+x4IKX8AbvOhvJFT2Z0wvqA1N1eTaC/wyYfkU9zoDN0pZhX913ync19\n",
       "YZvxWHjNTGmF0QiS3eEjZEKLrLc0KCOOwUh3v1CVrhRP2d1Jg3BKevJy6rL4LiWhmr5pWkB5erzD\n",
       "MU5rYa5f/Ly6b1z+prLNJYzxVjLQzDoN+V/L1LykPAjSNSBFrwlPnRFKGQz127v9evEfdDYGImDZ\n",
       "Za4qqgkjh4tT+buLItLeFbGezmT0yGJUMoIfvUStyzEZlFtF0F4lQ9aexawZK8jVfslJwfyjNJmf\n",
       "kZ0ZGcBE1JnGn9Sk7Bl0wwyVgF7xfONyWnvGPP7xjr7PJWpgL1wx4qhKVSKg6DDLH+HXb+/wkl84\n",
       "HGs1dQQKG5acsk+SKQ2AJ5YAtGGXtY7zmU8iYEPLpJHFQTJXtXym9wM13xJYN9Kya74PbNxztgL4\n",
       "rlWZIfVCc8AGH4I5kT3oovWq8pBBQAAAADNBnkJ4hH8BGlFQhrhVhgAba/jLM3v4a2Rp1DDQl81V\n",
       "LhEIjcWS8sKl8Kkga0D+93E8W8EAAAAsAZ5hdEf/AcSKNooJWSyeLW3Kq0X2tdPK747U+xVeh/oU\n",
       "9XTD6PTlyxIx7OkAAAAXAZ5jakf/AcWAAUFKu+G2o10ECFHTQGAAAAArQZpoSahBaJlMCGf//p4Q\n",
       "A3PseFRKC9AAODkSqFuaCNlXdv/Zk58iLKLn0AAAABtBnoZFESwj/wEdgY2cUwX6OLwpm2SJrb0w\n",
       "l/kAAAASAZ6ldEf/AcSKYswQ1VyV4dn2AAAAEgGep2pH/wAsWax3MKts2Gfg2wAAADpBmqxJqEFs\n",
       "mUwIZ//+nhAAVj5SAAIyPVMOtuP+xT6IiBIopZgu311WHRAp+SQ5XylpV97n/7wnfTcyAAAAH0Ge\n",
       "ykUVLCP/ABuKDr1ABb54RYW1ELDsLzVOA5CqiqkAAAAQAZ7pdEf/AADf+58+ucqZoQAAABIBnutq\n",
       "R/8AAN/7nz65yudSIgsAAAA9QZrwSahBbJlMCGf//p4QAFaKlD593gCJDcPiPfrTryiu5iBazXkE\n",
       "D7p2ePc7i+zj/4OecCbpRsfJ+jDoEQAAACFBnw5FFSwj/wA3Uxwr25VABcrAjSHtUuu2tIDIB439\n",
       "NUAAAAASAZ8tdEf/ACwwRRZnFY2GbiugAAAAEgGfL2pH/wBYs1iWFNtKvef/YQAAADVBmzRJqEFs\n",
       "mUwIZ//+nhAAVjF6AAhAmoG6uxvPXZXzN7RjErpRU/s96apz6RPs48uZdTOT4AAAABZBn1JFFSwj\n",
       "/wA3W78wTsQOxRRqYjuOAAAAEQGfcXRH/wBYhb2gbUH7su4ZAAAAEAGfc2pH/wBYs1iXMIqFXtsA\n",
       "AAAuQZt4SahBbJlMCGf//p4QAFYxuOAIR+8j3fIu15htpF1Cbu3X0XCdlA903ow6BQAAABxBn5ZF\n",
       "FSwj/wA3W7/mGgBYRVZU6bu9YJGo7lvUAAAAEgGftXRH/wBYhckBtYtKwBv/YAAAABsBn7dqR/8A\n",
       "WLNXbGAB5KGZ+ner6pksWuE9lGcAAABTQZu8SahBbJlMCGf//p4QAFY1NMACuc1sXhwuHZSy/CYa\n",
       "cVdwYh8cQJ6U6hxpOoZMgZIUSu/oTu2I9nS9HnDaso1cy+wTiUY/qpKxOGTvCeL82OAAAAAhQZ/a\n",
       "RRUsI/8AN1u8XbtsqgAmaqaBfEgpy9P3uvvciTajAAAADwGf+XRH/wBYvRijx8Ij7QAAABEBn/tq\n",
       "R/8AWMgd0hUybAkQ6gAAAD9Bm+BJqEFsmUwIZ//+nhAArX9H2OePTNt8E/KwNGu9x266Cwy+UEeg\n",
       "cw6DQMbh/8EhqlWcKzp0lWyfKw8d7n0AAAAfQZ4eRRUsI/8AN0U2JpcAJa9WOACGMaOzPfr73Gs1\n",
       "YwAAABUBnj10R/8AWIWi0YR+AAg9JaibgUkAAAAPAZ4/akf/ACxKAEa7Y6PtAAAAPkGaJEmoQWyZ\n",
       "TAhn//6eEACschClEX68FoxWKIInC3sSa101+WeAfzCCi0tbYPNQb/Ck6hxOfYh6d4TyXefAAAAA\n",
       "FEGeQkUVLCP/ADdTIAhpu3PpkyDRAAAADgGeYXRH/wAA4kU0QTxbAAAAEAGeY2pH/wBYs1iXMIqF\n",
       "XtsAAABxQZpoSahBbJlMCGf//p4QAK1vv5CgFjQAHQN4LO1YS2aRuaWAxmTx9pseL1xIKQANjxC0\n",
       "alTyNIvXfYSSm4gK7BeDXB4lh0Yfbvw/5Fb0fL4BuXoK9ADxEpsV6A+Mo7xafCO+l1JDUCd1m4kd\n",
       "O15v3nwAAAAYQZ6GRRUsI/8ANqoRwEy4GuYUr1nwbpJlAAAAEwGepXRH/wBa/LMvgYLYPPCe5QQA\n",
       "AAAVAZ6nakf/AFsH6t5L9V7CRDDrZZ+JAAAAb0GarEmoQWyZTAhn//6eEACsY3HAJhwa9p9ueXtm\n",
       "CWw7b49NF+fJnUqZQxz849DDqVS4UH+q5N6mkgoVMG5cXQh0rcmWXsXwQ3V8Qvj+W4Fhf/7Ak+QZ\n",
       "r8OW+ck/hdSlqfieLWDsLccTcnQrYNFuwAAAACFBnspFFSwj/wA3RO4ImCNUANzDG0tq0bNI8bty\n",
       "Hh4pc4EAAAATAZ7pdEf/AFijOnEIOoNRqgW3MQAAABIBnutqR/8AVUHznrBJufVe3+0AAABYQZrw\n",
       "SahBbJlMCGf//p4QAKgyjdwAKCXvD+c1l3bITEt33y5ChRrkicdFqCoLLTfXp9Gr43ngZj2mSTFs\n",
       "sjLdnqdn46DIQ0FHi7NywitvSvvvgmF2HxaMMQAAABpBnw5FFSwj/wA2BCyEJpcFQ9uVW6yxDSaH\n",
       "MAAAABIBny10R/8AVny/AFsakILkY6gAAAAcAZ8vakf/AFQIn24oARb1vBjzYGhYFHx6dvc8QQAA\n",
       "AFJBmzRJqEFsmUwIZ//+nhAAo6MMeDjAHMPuDw26wHmt3RcOZ4QtIKyQqFQxUcNaMJ3Z+htbv/RI\n",
       "jEY/co1NVmHauXqq46E9LxKJXItX39E7pougAAAAFkGfUkUVLCP/ADQmk1+yZFIFfEeNciAAAAAa\n",
       "AZ9xdEf/AFQp6FABxtyoyxUZZ7cogbyfRMMAAAAaAZ9zakf/AFRmOABLGeX528/hcpsSw6KxgUEA\n",
       "AABMQZt4SahBbJlMCGf//p4QAKNjccAcw9VmdpD2fe3zIlo4Lr1uNjl9ri/o/rx3PqcZlg0VgO1R\n",
       "iIH74ZkEv1w9QB5Ds3l+q7U6t0VCBQAAAB5Bn5ZFFSwj/wA0xPMevcAAht9ipw3+WDCNbPLvMCgA\n",
       "AAAVAZ+1dEf/AFQ88t8nT4TzNxO1OTbmAAAAFAGft2pH/wBR82l5Ua6j1wtbjk6hAAAAQkGbvEmo\n",
       "QWyZTAhn//6eEABRtVU4ARWNnlAGO5K/bwDbgTruoGXTPdohjM1M+UVlHY50YIJKEY7gFC3Yh8Xt\n",
       "YFg44AAAAB1Bn9pFFSwj/wAzm8IuiwAAJwaV9bZ/+iJNjNFDsAAAABEBn/l0R/8AUcXcmFlCZIzR\n",
       "9wAAABsBn/tqR/8AUfNpTcDIABMvBlFTzmoTIMizLd4AAABYQZvgSahBbJlMCGf//p4QAKfi9AAo\n",
       "Nu1WYlnTkwc2y9YAeyHOIX8g9wugKFdPr0Q2t7JYaTsoHV69NI4JlqNKPtA+FLdEnEa8OQGEf7X3\n",
       "4rxAsNyQwWOEXQAAABhBnh5FFSwj/wA2EufVWWYNTF51PIFSYUEAAAAYAZ49dEf/AFHF3ERrXgAJ\n",
       "xmiZgZqE1EqLAAAAEgGeP2pH/wBWcwkFsZkIksO2gQAAAC9BmiRJqEFsmUwIZ//+nhAAp8tkcAmv\n",
       "rucOp9A8HEoXNDLyfbsFP5ONyV9paJwJuAAAABlBnkJFFSwj/wA2Le8ALdVgdreNdOoumE61AAAA\n",
       "CwGeYXRH/wAAAwO7AAAADwGeY2pH/wBWPeBCVNXR9gAAAClBmmhJqEFsmUwIZ//+nhAAUaTS9erp\n",
       "gAbeBvnN8DuG2d138fEvtLAxYAAAABJBnoZFFSwj/wAy/uRPiCsIYWEAAAAOAZ6ldEf/AFHFyKQh\n",
       "DNYAAAAOAZ6nakf/AFHzWEOmzWsAAAA4QZqsSahBbJlMCGf//p4QAFG1VTgA4O8h90p0Sk8+bJy+\n",
       "EdFmQI0eWb4Kku3H+uv0RL9e2OwLBxwAAAATQZ7KRRUsI/8AM5vCLCsiTY7JeQAAAA4Bnul0R/8A\n",
       "UcXIpCEM1wAAAA4BnutqR/8AUfNYQ6bNawAAACxBmvBJqEFsmUwIZ//+nhAAUbVVOADb05Odolw5\n",
       "M1XIkj3GLiP79jotg6iBiwAAABFBnw5FFSwj/wAzm8AEdPqpWAAAAA4Bny10R/8AUcXIpCEM1gAA\n",
       "AA4Bny9qR/8AUfNYQ6bNawAAAC1BmzRJqEFsmUwIX//+jLAAUpkumYANvJyUcn4n1X5yINxYTryJ\n",
       "GuZD+bo0YWcAAAASQZ9SRRUsI/8AM5u/M2xVRMVIAAAAEAGfcXRH/wBRxcDnwYqeVFUAAAAQAZ9z\n",
       "akf/AFHzaZEbocg/CwAAACdBm3hJqEFsmUwIX//+jLAAUnYBFgAtXkugMNNU0/RCipx/t89DBn0A\n",
       "AAARQZ+WRRUsI/8AM5vABHT6qVgAAAAOAZ+1dEf/AFHFyKQhDNYAAAAQAZ+3akf/AFHzaZEbocg/\n",
       "CwAAAEFBm7xJqEFsmUwIX//+jLAAUnXtuACure4qbv+4S0FrRjWUwYMSa6wm++s1cSDJ761EUWkC\n",
       "PLkMMzrZsMNgZ4YM+AAAABxBn9pFFSwj/wAzm8Ihb1Q2AE0ycuDIbkqYLXx2AAAAEwGf+XRH/wAq\n",
       "P7zAA2co4eqcQwcAAAANAZ/7akf/AAAI0vNKOAAAADhBm/1JqEFsmUwIZ//+nhAAUbUCoABxvW6F\n",
       "SQqb2LhkwzzUBbrerH178JGBjCR7a6v2wSOnEk4KCQAAAC5BmgFJ4QpSZTAhn/6eEABRtVU4ARkW\n",
       "kJ7rU/yEW69Xiiv3hiQ9fl+HK6+AsHHBAAAAFEGeP0U0TCP/ADL+5HdHLwOGRxhYAAAAEAGeXnRH\n",
       "/wBRxdxq2UJqaE8AAAAOAZ5Aakf/AFHzWEOmzWsAAABTQZpFSahBaJlMCGf//p4QAFPzk+QA0+f7\n",
       "UaYwhJLGwj6OifObS3rZq6uwbd57+ENMuCjiMrRo/wk9N7511OfE2sYLLNfol56eJtfP+DgEfFq0\n",
       "MGEAAAAcQZ5jRREsI/8AM5vCWfdDC4AQp1T4FLVWM5ko6QAAAA8BnoJ0R/8AKh6MU/S2o+wAAAAP\n",
       "AZ6Eakf/ACs5rCNw3FH2AAAAQkGaiUmoQWyZTAhn//6eEABURqjbADj22P02bdOdMTLmAvQ5vSKO\n",
       "yhwKtNs1Q2Vh6jUonO+jIoF0WCjrIjPv3GfBFwAAABRBnqdFFSwj/wAy/uR6LXMHLI4bkAAAABcB\n",
       "nsZ0R/8AUcXed4gAEQc3CcEYOeZ1sQAAABEBnshqR/8AUfNpn/jQmurCwAAAADBBms1JqEFsmUwI\n",
       "Z//+nhAAUbWT3ACwjvdEDelXQA4gRHUiuqhVfknq0FFCE/oWDjkAAAARQZ7rRRUsI/8AM5vABHT6\n",
       "qVkAAAAOAZ8KdEf/AFHFyKQhDNcAAAAQAZ8Makf/AFHzaZEbocg/CwAAAE5BmxFJqEFsmUwIZ//+\n",
       "nhAAU/G44Ah5dDyxb8gZmWUc/trI+NDe0xcxlHvfLVQr2+RKf/GUKvb9e1XW2G5NpnulVM80p1YK\n",
       "KIjGa1z4IuAAAAATQZ8vRRUsI/8AM5vCWgSYOh0B2AAAAA4Bn050R/8AUcXIpCEM1wAAABABn1Bq\n",
       "R/8AUfNpeldDkL3LAAAAR0GbVUmoQWyZTAhn//6eEABT80HgCJCmBN4ez01MuORpFyuMlUNMd5kq\n",
       "RLYNynhlaJqV32f2ely+2XbijwlKzppXhmJmFgYEAAAAG0Gfc0UVLCP/ADObwlgKmACau1QHMwdl\n",
       "Tk6RaQAAAA4Bn5J0R/8AKpsb8AheQQAAAA0Bn5RqR/8AAAjS80o5AAAALkGbmUmoQWyZTAhn//6e\n",
       "EABT85lIAQ57WYwH9H6Dy+hE+OzCz+VvK1k1/658EXAAAAAUQZ+3RRUsI/8AMv7kd3s6RJkkzO8A\n",
       "AAAOAZ/WdEf/AFHFyKQhDNcAAAAQAZ/Yakf/AFHzaZEbocg/CwAAACFBm91JqEFsmUwIZ//+nhAA\n",
       "UbWbgAESkuw/LOFOOriwccAAAAARQZ/7RRUsI/8AM5vABHT6qVkAAAAOAZ4adEf/AFHFyKQhDNYA\n",
       "AAAOAZ4cakf/AFHzWEOmzWsAAAA3QZoBSahBbJlMCGf//p4QAFPzY1ACWSVVtwouSVHZ/vdiqxcV\n",
       "C0iSS2NayoLFEAME8hJSc+fBFwAAABxBnj9FFSwj/wAzm8JfHaAB+6gyoy0GasZyao6AAAAADwGe\n",
       "XnRH/wAqAuRT9auj7QAAAA8BnkBqR/8AKyoARuNjo+wAAAAxQZpFSahBbJlMCF///oywAFSzeGAG\n",
       "5rPBaUN1u9LqB0KBbG2h371BCA9ShzhsI4YMqQAAABxBnmNFFSwj/wAy/uR4nI7wwAJzYN6V6VOT\n",
       "2hc3AAAACwGegnRH/wAAAwO6AAAADwGehGpH/wArOawjcNxR9gAAAE9BmolJqEFsmUwIX//+jLAA\n",
       "VvGZAA2podVR6bS+tIA/uvTeHZYYFeMO7JIyyPGq5800gN4vqS06zNEAnnC05APsY+jYzSA0ZoGo\n",
       "3OHvM0HTAAAAIUGep0UVLCP/ADL+5H2Sc0iYAP2mDH8uNe8MHI5UsXQ/mAAAABgBnsZ0R/8AKprE\n",
       "smQARAqosQLoDP54TsEAAAAQAZ7Iakf/ACxj/lh48GNx+QAAABNBms1JqEFsmUwIX//+jLAAAAdV\n",
       "AAAAEkGe60UVLCP/ADL+5E+IKwhhYQAAAA4Bnwp0R/8AUcXIpCEM1wAAAA4BnwxqR/8AUfNYQ6bN\n",
       "awAAACNBmxFJqEFsmUwIV//+OEABT7n5AC3BmEKJdQrzJH9avmgCpgAAABNBny9FFSwj/wAzm8KG\n",
       "A6E4vQHYAAAADgGfTnRH/wBRxcikIQzXAAAAEAGfUGpH/wBR82xNFwLpXtsAAAAdQZtVSahBbJlM\n",
       "CP/8hAAT2c2IACAFwhKVcppZAg4AAAAcQZ9zRRUsI/8AM5vCi+xMAH8Pxqt+VLfnl0whmwAAAA8B\n",
       "n5J0R/8ALELkU8hqlFkAAAANAZ+Uakf/AAAI0vNKOQAAFfJtb292AAAAbG12aGQAAAAAAAAAAAAA\n",
       "AAAAAAPoAAAfQAABAAABAAAAAAAAAAAAAAAAAQAAAAAAAAAAAAAAAAAAAAEAAAAAAAAAAAAAAAAA\n",
       "AEAAAAAAAAAAAAAAAAAAAAAAAAAAAAAAAAAAAAAAAAACAAAVHHRyYWsAAABcdGtoZAAAAAMAAAAA\n",
       "AAAAAAAAAAEAAAAAAAAfQAAAAAAAAAAAAAAAAAAAAAAAAQAAAAAAAAAAAAAAAAAAAAEAAAAAAAAA\n",
       "AAAAAAAAAEAAAAABsAAAASAAAAAAACRlZHRzAAAAHGVsc3QAAAAAAAAAAQAAH0AAAAIAAAEAAAAA\n",
       "FJRtZGlhAAAAIG1kaGQAAAAAAAAAAAAAAAAAADIAAAGQAFXEAAAAAAAtaGRscgAAAAAAAAAAdmlk\n",
       "ZQAAAAAAAAAAAAAAAFZpZGVvSGFuZGxlcgAAABQ/bWluZgAAABR2bWhkAAAAAQAAAAAAAAAAAAAA\n",
       "JGRpbmYAAAAcZHJlZgAAAAAAAAABAAAADHVybCAAAAABAAAT/3N0YmwAAACzc3RzZAAAAAAAAAAB\n",
       "AAAAo2F2YzEAAAAAAAAAAQAAAAAAAAAAAAAAAAAAAAABsAEgAEgAAABIAAAAAAAAAAEAAAAAAAAA\n",
       "AAAAAAAAAAAAAAAAAAAAAAAAAAAAAAAAAAAY//8AAAAxYXZjQwFkAB7/4QAYZ2QAHqzZQbCWhAAA\n",
       "AwAEAAADAZA8WLZYAQAGaOvjyyLAAAAAHHV1aWRraEDyXyRPxbo5pRvPAyPzAAAAAAAAABhzdHRz\n",
       "AAAAAAAAAAEAAAGQAAABAAAAABhzdHNzAAAAAAAAAAIAAAABAAAA+wAADJBjdHRzAAAAAAAAAZAA\n",
       "AAABAAACAAAAAAEAAAUAAAAAAQAAAgAAAAABAAAAAAAAAAEAAAEAAAAAAQAAAgAAAAABAAAFAAAA\n",
       "AAEAAAIAAAAAAQAAAAAAAAABAAABAAAAAAEAAAUAAAAAAQAAAgAAAAABAAAAAAAAAAEAAAEAAAAA\n",
       "AQAABQAAAAABAAACAAAAAAEAAAAAAAAAAQAAAQAAAAABAAACAAAAAAEAAAUAAAAAAQAAAgAAAAAB\n",
       "AAAAAAAAAAEAAAEAAAAAAQAAAgAAAAABAAAFAAAAAAEAAAIAAAAAAQAAAAAAAAABAAABAAAAAAEA\n",
       "AAUAAAAAAQAAAgAAAAABAAAAAAAAAAEAAAEAAAAAAQAABQAAAAABAAACAAAAAAEAAAAAAAAAAQAA\n",
       "AQAAAAABAAACAAAAAAEAAAUAAAAAAQAAAgAAAAABAAAAAAAAAAEAAAEAAAAAAQAABQAAAAABAAAC\n",
       "AAAAAAEAAAAAAAAAAQAAAQAAAAABAAAFAAAAAAEAAAIAAAAAAQAAAAAAAAABAAABAAAAAAEAAAUA\n",
       "AAAAAQAAAgAAAAABAAAAAAAAAAEAAAEAAAAAAQAABQAAAAABAAACAAAAAAEAAAAAAAAAAQAAAQAA\n",
       "AAABAAAFAAAAAAEAAAIAAAAAAQAAAAAAAAABAAABAAAAAAEAAAUAAAAAAQAAAgAAAAABAAAAAAAA\n",
       "AAEAAAEAAAAAAQAABQAAAAABAAACAAAAAAEAAAAAAAAAAQAAAQAAAAABAAAFAAAAAAEAAAIAAAAA\n",
       "AQAAAAAAAAABAAABAAAAAAEAAAUAAAAAAQAAAgAAAAABAAAAAAAAAAEAAAEAAAAAAQAABQAAAAAB\n",
       "AAACAAAAAAEAAAAAAAAAAQAAAQAAAAABAAACAAAAAAEAAAUAAAAAAQAAAgAAAAABAAAAAAAAAAEA\n",
       "AAEAAAAAAQAAAgAAAAABAAAFAAAAAAEAAAIAAAAAAQAAAAAAAAABAAABAAAAAAEAAAUAAAAAAQAA\n",
       "AgAAAAABAAAAAAAAAAEAAAEAAAAAAQAABQAAAAABAAACAAAAAAEAAAAAAAAAAQAAAQAAAAABAAAF\n",
       "AAAAAAEAAAIAAAAAAQAAAAAAAAABAAABAAAAAAEAAAUAAAAAAQAAAgAAAAABAAAAAAAAAAEAAAEA\n",
       "AAAAAQAABQAAAAABAAACAAAAAAEAAAAAAAAAAQAAAQAAAAABAAAFAAAAAAEAAAIAAAAAAQAAAAAA\n",
       "AAABAAABAAAAAAEAAAUAAAAAAQAAAgAAAAABAAAAAAAAAAEAAAEAAAAAAQAABQAAAAABAAACAAAA\n",
       "AAEAAAAAAAAAAQAAAQAAAAABAAAFAAAAAAEAAAIAAAAAAQAAAAAAAAABAAABAAAAAAEAAAUAAAAA\n",
       "AQAAAgAAAAABAAAAAAAAAAEAAAEAAAAAAQAABQAAAAABAAACAAAAAAEAAAAAAAAAAQAAAQAAAAAB\n",
       "AAAFAAAAAAEAAAIAAAAAAQAAAAAAAAABAAABAAAAAAEAAAUAAAAAAQAAAgAAAAABAAAAAAAAAAEA\n",
       "AAEAAAAAAQAABQAAAAABAAACAAAAAAEAAAAAAAAAAQAAAQAAAAABAAAFAAAAAAEAAAIAAAAAAQAA\n",
       "AAAAAAABAAABAAAAAAEAAAUAAAAAAQAAAgAAAAABAAAAAAAAAAEAAAEAAAAAAQAABQAAAAABAAAC\n",
       "AAAAAAEAAAAAAAAAAQAAAQAAAAABAAAFAAAAAAEAAAIAAAAAAQAAAAAAAAABAAABAAAAAAEAAAUA\n",
       "AAAAAQAAAgAAAAABAAAAAAAAAAEAAAEAAAAAAQAABQAAAAABAAACAAAAAAEAAAAAAAAAAQAAAQAA\n",
       "AAABAAAFAAAAAAEAAAIAAAAAAQAAAAAAAAABAAABAAAAAAEAAAUAAAAAAQAAAgAAAAABAAAAAAAA\n",
       "AAEAAAEAAAAAAQAABQAAAAABAAACAAAAAAEAAAAAAAAAAQAAAQAAAAABAAAFAAAAAAEAAAIAAAAA\n",
       "AQAAAAAAAAABAAABAAAAAAEAAAUAAAAAAQAAAgAAAAABAAAAAAAAAAEAAAEAAAAAAQAABQAAAAAB\n",
       "AAACAAAAAAEAAAAAAAAAAQAAAQAAAAABAAAFAAAAAAEAAAIAAAAAAQAAAAAAAAABAAABAAAAAAEA\n",
       "AAUAAAAAAQAAAgAAAAABAAAAAAAAAAEAAAEAAAAAAQAABQAAAAABAAACAAAAAAEAAAAAAAAAAQAA\n",
       "AQAAAAABAAAFAAAAAAEAAAIAAAAAAQAAAAAAAAABAAABAAAAAAEAAAUAAAAAAQAAAgAAAAABAAAA\n",
       "AAAAAAEAAAEAAAAAAQAAAgAAAAABAAAFAAAAAAEAAAIAAAAAAQAAAAAAAAABAAABAAAAAAEAAAUA\n",
       "AAAAAQAAAgAAAAABAAAAAAAAAAEAAAEAAAAAAQAABQAAAAABAAACAAAAAAEAAAAAAAAAAQAAAQAA\n",
       "AAABAAAFAAAAAAEAAAIAAAAAAQAAAAAAAAABAAABAAAAAAEAAAUAAAAAAQAAAgAAAAABAAAAAAAA\n",
       "AAEAAAEAAAAAAQAABQAAAAABAAACAAAAAAEAAAAAAAAAAQAAAQAAAAABAAAFAAAAAAEAAAIAAAAA\n",
       "AQAAAAAAAAABAAABAAAAAAEAAAUAAAAAAQAAAgAAAAABAAAAAAAAAAEAAAEAAAAAAQAAAwAAAAAB\n",
       "AAABAAAAAAEAAAIAAAAAAQAABQAAAAABAAACAAAAAAEAAAAAAAAAAQAAAQAAAAABAAAFAAAAAAEA\n",
       "AAIAAAAAAQAAAAAAAAABAAABAAAAAAEAAAUAAAAAAQAAAgAAAAABAAAAAAAAAAEAAAEAAAAAAQAA\n",
       "BQAAAAABAAACAAAAAAEAAAAAAAAAAQAAAQAAAAABAAAFAAAAAAEAAAIAAAAAAQAAAAAAAAABAAAB\n",
       "AAAAAAEAAAUAAAAAAQAAAgAAAAABAAAAAAAAAAEAAAEAAAAAAQAABQAAAAABAAACAAAAAAEAAAAA\n",
       "AAAAAQAAAQAAAAABAAAFAAAAAAEAAAIAAAAAAQAAAAAAAAABAAABAAAAAAEAAAUAAAAAAQAAAgAA\n",
       "AAABAAAAAAAAAAEAAAEAAAAAAQAABQAAAAABAAACAAAAAAEAAAAAAAAAAQAAAQAAAAABAAAFAAAA\n",
       "AAEAAAIAAAAAAQAAAAAAAAABAAABAAAAAAEAAAUAAAAAAQAAAgAAAAABAAAAAAAAAAEAAAEAAAAA\n",
       "AQAABQAAAAABAAACAAAAAAEAAAAAAAAAAQAAAQAAAAABAAAFAAAAAAEAAAIAAAAAAQAAAAAAAAAB\n",
       "AAABAAAAAAEAAAUAAAAAAQAAAgAAAAABAAAAAAAAAAEAAAEAAAAAAQAABQAAAAABAAACAAAAAAEA\n",
       "AAAAAAAAAQAAAQAAAAABAAAFAAAAAAEAAAIAAAAAAQAAAAAAAAABAAABAAAAAAEAAAUAAAAAAQAA\n",
       "AgAAAAABAAAAAAAAAAEAAAEAAAAAAQAABQAAAAABAAACAAAAAAEAAAAAAAAAAQAAAQAAAAABAAAF\n",
       "AAAAAAEAAAIAAAAAAQAAAAAAAAABAAABAAAAAAEAAAUAAAAAAQAAAgAAAAABAAAAAAAAAAEAAAEA\n",
       "AAAAAQAABQAAAAABAAACAAAAAAEAAAAAAAAAAQAAAQAAAAABAAAFAAAAAAEAAAIAAAAAAQAAAAAA\n",
       "AAABAAABAAAAAAEAAAIAAAAAAQAABQAAAAABAAACAAAAAAEAAAAAAAAAAQAAAQAAAAABAAAFAAAA\n",
       "AAEAAAIAAAAAAQAAAAAAAAABAAABAAAAAAEAAAUAAAAAAQAAAgAAAAABAAAAAAAAAAEAAAEAAAAA\n",
       "AQAABQAAAAABAAACAAAAAAEAAAAAAAAAAQAAAQAAAAABAAAFAAAAAAEAAAIAAAAAAQAAAAAAAAAB\n",
       "AAABAAAAAAEAAAUAAAAAAQAAAgAAAAABAAAAAAAAAAEAAAEAAAAAAQAABQAAAAABAAACAAAAAAEA\n",
       "AAAAAAAAAQAAAQAAAAABAAAFAAAAAAEAAAIAAAAAAQAAAAAAAAABAAABAAAAAAEAAAUAAAAAAQAA\n",
       "AgAAAAABAAAAAAAAAAEAAAEAAAAAAQAABQAAAAABAAACAAAAAAEAAAAAAAAAAQAAAQAAAAABAAAF\n",
       "AAAAAAEAAAIAAAAAAQAAAAAAAAABAAABAAAAAAEAAAUAAAAAAQAAAgAAAAABAAAAAAAAAAEAAAEA\n",
       "AAAAAQAABQAAAAABAAACAAAAAAEAAAAAAAAAAQAAAQAAAAABAAAFAAAAAAEAAAIAAAAAAQAAAAAA\n",
       "AAABAAABAAAAABxzdHNjAAAAAAAAAAEAAAABAAABkAAAAAEAAAZUc3RzegAAAAAAAAAAAAABkAAA\n",
       "NOYAAAMeAAAAUwAAAD0AAAAyAAAAeAAAAIIAAAAwAAAAKgAAACgAAABYAAAAKwAAAB0AAAAcAAAA\n",
       "dgAAACwAAAAfAAAAJgAAADwAAAB7AAAALwAAACIAAAAbAAAAQwAAAGsAAAAkAAAAJAAAACEAAABr\n",
       "AAAAKwAAAB8AAAAoAAAAdgAAACMAAAAgAAAAIAAAAEAAAABaAAAALAAAACQAAAAaAAAARAAAACoA\n",
       "AAAeAAAAHgAAAGAAAAArAAAAHwAAABkAAABqAAAAIwAAACAAAAAgAAAASwAAAC4AAAAZAAAAIQAA\n",
       "AEMAAAAtAAAAIAAAABgAAABlAAAAKQAAACUAAAAaAAAARgAAACcAAAAZAAAAGQAAADgAAAAoAAAA\n",
       "GgAAABoAAABNAAAAIAAAABQAAAAgAAAANwAAACgAAAAXAAAAHQAAAE0AAABSAAAAKQAAABsAAAAb\n",
       "AAAALAAAAEAAAAAtAAAAGQAAACIAAABEAAAAIAAAABgAAAAeAAAAQgAAACAAAAAYAAAAFgAAAFsA\n",
       "AAArAAAAIwAAAB8AAAA9AAAAJwAAABcAAAAUAAAASwAAACkAAAAUAAAAGQAAAEkAAAAiAAAAGgAA\n",
       "ABYAAAA3AAAAJgAAABgAAAAWAAAAOgAAACkAAAAXAAAAFAAAAFoAAAAqAAAAIgAAABYAAAA/AAAA\n",
       "HgAAABYAAAAUAAAAPgAAAB4AAAAUAAAAFwAAAEQAAAAsAAAAIAAAACAAAAArAAAAHQAAABQAAAAU\n",
       "AAAAPgAAAB8AAAAUAAAAGQAAAE8AAAAjAAAAHQAAABkAAAA3AAAAJwAAABkAAAAXAAAAUQAAACgA\n",
       "AAAUAAAAIAAAAFoAAAAqAAAAGgAAABkAAABAAAAAHgAAABkAAAAWAAAASAAAAB4AAAAUAAAAFgAA\n",
       "ACIAAAAdAAAAFAAAABQAAAApAAAAHQAAABQAAAAWAAAAGwAAAB0AAAAUAAAAFgAAADMAAAAnAAAA\n",
       "FgAAAB8AAABFAAAAJAAAABQAAAAYAAAATgAAAB8AAAAXAAAAGAAAAEoAAAAgAAAAGgAAABYAAAA4\n",
       "AAAAHwAAABQAAAAWAAAANAAAACAAAAAZAAAAFgAAAEQAAAAfAAAAGAAAABYAAAAxAAAAHgAAABQA\n",
       "AAAWAAAAOgAAAGgAAAAqAAAAIwAAABcAAAA4AAAAHgAAABgAAAAUAAAARgAAAB0AAAAUAAAAFAAA\n",
       "ADkAAAAgAAAAFAAAABQAAAA6AAAAHgAAABgAAAAUAAAAVAAAACgAAAAUAAAAHQAAADsAAAAeAAAA\n",
       "GAAAABQAAAAjAAAAHgAAABgAAAAUAAAAIQAAABwAAEDGAAABawAAADcAAAAwAAAAGwAAAC8AAAAf\n",
       "AAAAFgAAABYAAAA+AAAAIwAAABQAAAAWAAAAQQAAACUAAAAWAAAAFgAAADkAAAAaAAAAFQAAABQA\n",
       "AAAyAAAAIAAAABYAAAAfAAAAVwAAACUAAAATAAAAFQAAAEMAAAAjAAAAGQAAABMAAABCAAAAGAAA\n",
       "ABIAAAAUAAAAdQAAABwAAAAXAAAAGQAAAHMAAAAlAAAAFwAAABYAAABcAAAAHgAAABYAAAAgAAAA\n",
       "VgAAABoAAAAeAAAAHgAAAFAAAAAiAAAAGQAAABgAAABGAAAAIQAAABUAAAAfAAAAXAAAABwAAAAc\n",
       "AAAAFgAAADMAAAAdAAAADwAAABMAAAAtAAAAFgAAABIAAAASAAAAPAAAABcAAAASAAAAEgAAADAA\n",
       "AAAVAAAAEgAAABIAAAAxAAAAFgAAABQAAAAUAAAAKwAAABUAAAASAAAAFAAAAEUAAAAgAAAAFwAA\n",
       "ABEAAAA8AAAAMgAAABgAAAAUAAAAEgAAAFcAAAAgAAAAEwAAABMAAABGAAAAGAAAABsAAAAVAAAA\n",
       "NAAAABUAAAASAAAAFAAAAFIAAAAXAAAAEgAAABQAAABLAAAAHwAAABIAAAARAAAAMgAAABgAAAAS\n",
       "AAAAFAAAACUAAAAVAAAAEgAAABIAAAA7AAAAIAAAABMAAAATAAAANQAAACAAAAAPAAAAEwAAAFMA\n",
       "AAAlAAAAHAAAABQAAAAXAAAAFgAAABIAAAASAAAAJwAAABcAAAASAAAAFAAAACEAAAAgAAAAEwAA\n",
       "ABEAAAAUc3RjbwAAAAAAAAABAAAALAAAAGJ1ZHRhAAAAWm1ldGEAAAAAAAAAIWhkbHIAAAAAAAAA\n",
       "AG1kaXJhcHBsAAAAAAAAAAAAAAAALWlsc3QAAAAlqXRvbwAAAB1kYXRhAAAAAQAAAABMYXZmNTYu\n",
       "NDAuMTAx\n",
       "\">\n",
       "  Your browser does not support the video tag.\n",
       "</video>"
      ],
      "text/plain": [
       "<IPython.core.display.HTML object>"
      ]
     },
     "execution_count": 31,
     "metadata": {},
     "output_type": "execute_result"
    }
   ],
   "source": [
    "HTML(anim.to_html5_video())"
   ]
  },
  {
   "cell_type": "markdown",
   "metadata": {},
   "source": [
    "# Logistic regression\n",
    "Your assignment is to implement the logistic regression\n",
    "\n",
    "Plan:\n",
    "* Use a shared variable for weights\n",
    "* Use a matrix placeholder for `X`\n",
    " \n",
    "We shall train on a two-class MNIST dataset\n",
    "* please note that target `y` are `{0,1}` and not `{-1,1}` as in some formulae"
   ]
  },
  {
   "cell_type": "code",
   "execution_count": 32,
   "metadata": {},
   "outputs": [
    {
     "name": "stdout",
     "output_type": "stream",
     "text": [
      "y [shape - (360,)]: [0 1 0 1 0 1 0 0 1 1]\n",
      "X [shape - (360, 64)]:\n"
     ]
    }
   ],
   "source": [
    "from sklearn.datasets import load_digits\n",
    "mnist = load_digits(2)\n",
    "\n",
    "X, y = mnist.data, mnist.target\n",
    "\n",
    "print(\"y [shape - %s]:\" % (str(y.shape)), y[:10])\n",
    "print(\"X [shape - %s]:\" % (str(X.shape)))"
   ]
  },
  {
   "cell_type": "code",
   "execution_count": 33,
   "metadata": {},
   "outputs": [
    {
     "name": "stdout",
     "output_type": "stream",
     "text": [
      "X:\n",
      " [[  0.   0.   5.  13.   9.   1.   0.   0.   0.   0.]\n",
      " [  0.   0.   0.  12.  13.   5.   0.   0.   0.   0.]\n",
      " [  0.   0.   1.   9.  15.  11.   0.   0.   0.   0.]]\n",
      "y:\n",
      " [0 1 0 1 0 1 0 0 1 1]\n"
     ]
    },
    {
     "data": {
      "image/png": "[encoded data removed]",
      "text/plain": [
       "<matplotlib.figure.Figure at 0x7f028d56c358>"
      ]
     },
     "metadata": {},
     "output_type": "display_data"
    }
   ],
   "source": [
    "print('X:\\n',X[:3,:10])\n",
    "print('y:\\n',y[:10])\n",
    "plt.imshow(X[0].reshape([8,8]));"
   ]
  },
  {
   "cell_type": "markdown",
   "metadata": {},
   "source": [
    "It's your turn now!\n",
    "Just a small reminder of the relevant math:\n",
    "\n",
    "$$\n",
    "P(y=1|X) = \\sigma(X \\cdot W + b)\n",
    "$$\n",
    "$$\n",
    "\\text{loss} = -\\log\\left(P\\left(y_\\text{predicted} = 1\\right)\\right)\\cdot y_\\text{true} - \\log\\left(1 - P\\left(y_\\text{predicted} = 1\\right)\\right)\\cdot\\left(1 - y_\\text{true}\\right)\n",
    "$$\n",
    "\n",
    "$\\sigma(x)$ is available via `tf.nn.sigmoid` and matrix multiplication via `tf.matmul`"
   ]
  },
  {
   "cell_type": "code",
   "execution_count": 34,
   "metadata": {},
   "outputs": [],
   "source": [
    "from sklearn.model_selection import train_test_split\n",
    "X_train, X_test, y_train, y_test = train_test_split(\n",
    "    X, y, random_state=42)"
   ]
  },
  {
   "cell_type": "markdown",
   "metadata": {},
   "source": [
    "__Your code goes here.__ For the training and testing scaffolding to work, please stick to the names in comments."
   ]
  },
  {
   "cell_type": "code",
   "execution_count": 105,
   "metadata": {},
   "outputs": [],
   "source": [
    "# Model parameters - weights and bias\n",
    "# weights = tf.Variable(...) shape should be (X.shape[1], 1)\n",
    "# b = tf.Variable(...)\n",
    "weights = tf.Variable(initial_value=np.zeros((X.shape[1],1), dtype=\"float32\"), name=\"weights\")\n",
    "b = tf.Variable(initial_value=0, dtype=tf.float32, name=\"b\")"
   ]
  },
  {
   "cell_type": "code",
   "execution_count": 106,
   "metadata": {},
   "outputs": [
    {
     "data": {
      "text/plain": [
       "(360, 64)"
      ]
     },
     "execution_count": 106,
     "metadata": {},
     "output_type": "execute_result"
    }
   ],
   "source": [
    "X.shape"
   ]
  },
  {
   "cell_type": "code",
   "execution_count": 107,
   "metadata": {},
   "outputs": [
    {
     "data": {
      "text/plain": [
       "dtype('float64')"
      ]
     },
     "execution_count": 107,
     "metadata": {},
     "output_type": "execute_result"
    }
   ],
   "source": [
    "Y.dtype\n"
   ]
  },
  {
   "cell_type": "code",
   "execution_count": 108,
   "metadata": {},
   "outputs": [],
   "source": [
    "# Placeholders for the input data\n",
    "input_X = tf.placeholder(tf.float32, shape=(None, 64))\n",
    "input_y = tf.placeholder(tf.float32, shape=(None,))"
   ]
  },
  {
   "cell_type": "code",
   "execution_count": 129,
   "metadata": {},
   "outputs": [],
   "source": [
    "# The model code\n",
    "\n",
    "# Compute a vector of predictions, resulting shape should be [input_X.shape[0],]\n",
    "# This is 1D, if you have extra dimensions, you can  get rid of them with tf.squeeze .\n",
    "# Don't forget the sigmoid.\n",
    "predicted_y = tf.squeeze(tf.nn.sigmoid(tf.matmul(input_X, weights) + b))\n",
    "loss = tf.reduce_mean(-tf.log(predicted_y) * input_y - tf.log(1 - predicted_y) * (1 - input_y))\n",
    "optimizer = tf.train.MomentumOptimizer(learning_rate=0.01, momentum=0.5).minimize(loss)\n",
    "\n",
    "# Loss. Should be a scalar number - average loss over all the objects\n",
    "# tf.reduce_mean is your friend here\n",
    "# loss = <logistic loss (scalar, mean over sample)>\n",
    "\n",
    "# See above for an example. tf.train.*Optimizer\n",
    "# optimizer = <optimizer that minimizes loss>"
   ]
  },
  {
   "cell_type": "markdown",
   "metadata": {},
   "source": [
    "A test to help with the debugging"
   ]
  },
  {
   "cell_type": "code",
   "execution_count": 130,
   "metadata": {},
   "outputs": [
    {
     "name": "stdout",
     "output_type": "stream",
     "text": [
      "0.728689\n"
     ]
    }
   ],
   "source": [
    "validation_weights = 1e-3 * np.fromiter(map(lambda x:\n",
    "        s.run(weird_psychotic_function, {my_scalar:x, my_vector:[1, 0.1, 2]}),\n",
    "                                   0.15 * np.arange(1, X.shape[1] + 1)),\n",
    "                                   count=X.shape[1], dtype=np.float32)[:, np.newaxis]\n",
    "# Compute predictions for given weights and bias\n",
    "prediction_validation = s.run(\n",
    "    predicted_y, {\n",
    "    input_X: X,\n",
    "    weights: validation_weights,\n",
    "    b: 1e-1})\n",
    "\n",
    "# Load the reference values for the predictions\n",
    "validation_true_values = np.loadtxt(\"validation_predictons.txt\")\n",
    "\n",
    "assert prediction_validation.shape == (X.shape[0],),\\\n",
    "       \"Predictions must be a 1D array with length equal to the number \" \\\n",
    "       \"of examples in input_X\"\n",
    "assert np.allclose(validation_true_values, prediction_validation)\n",
    "loss_validation = s.run(\n",
    "        loss, {\n",
    "            input_X: X[:100],\n",
    "            input_y: y[-100:],\n",
    "            weights: validation_weights+1.21e-3,\n",
    "            b: -1e-1})\n",
    "print(loss_validation)\n",
    "assert np.allclose(loss_validation, 0.728689)"
   ]
  },
  {
   "cell_type": "code",
   "execution_count": 133,
   "metadata": {},
   "outputs": [
    {
     "data": {
      "text/plain": [
       "array([[  8.12320504e-03],\n",
       "       [  4.84619662e-03],\n",
       "       [  3.74430022e-03],\n",
       "       [  3.16137658e-03],\n",
       "       [  2.77759763e-03],\n",
       "       [  2.49203923e-03],\n",
       "       [  2.26146006e-03],\n",
       "       [  2.06162385e-03],\n",
       "       [  1.87773013e-03],\n",
       "       [  1.70421624e-03],\n",
       "       [  1.54667709e-03],\n",
       "       [  1.42089184e-03],\n",
       "       [  1.34515646e-03],\n",
       "       [  1.32576784e-03],\n",
       "       [  1.34276703e-03],\n",
       "       [  1.35022413e-03],\n",
       "       [  1.30149839e-03],\n",
       "       [  1.18680776e-03],\n",
       "       [  1.04674953e-03],\n",
       "       [  9.41126025e-04],\n",
       "       [  9.02085798e-04],\n",
       "       [  9.16975841e-04],\n",
       "       [  9.47595108e-04],\n",
       "       [  9.58273478e-04],\n",
       "       [  9.31424671e-04],\n",
       "       [  8.69925425e-04],\n",
       "       [  7.94011110e-04],\n",
       "       [  7.36476388e-04],\n",
       "       [  7.32726592e-04],\n",
       "       [  7.98068650e-04],\n",
       "       [  8.92258424e-04],\n",
       "       [  9.02365427e-04],\n",
       "       [  7.13676272e-04],\n",
       "       [  3.90522648e-04],\n",
       "       [  2.71155295e-04],\n",
       "       [  6.61121565e-04],\n",
       "       [  1.29721023e-03],\n",
       "       [  1.40529638e-03],\n",
       "       [  6.25265297e-04],\n",
       "       [ -3.12853721e-04],\n",
       "       [ -2.72616802e-04],\n",
       "       [  8.71356868e-04],\n",
       "       [  1.85786095e-03],\n",
       "       [  1.41149294e-03],\n",
       "       [ -1.03412574e-04],\n",
       "       [ -8.78973980e-04],\n",
       "       [  1.79986935e-04],\n",
       "       [  1.86797313e-03],\n",
       "       [  1.96110038e-03],\n",
       "       [  1.44491467e-04],\n",
       "       [ -1.25631783e-03],\n",
       "       [ -2.14864674e-04],\n",
       "       [  2.00813217e-03],\n",
       "       [  2.26254691e-03],\n",
       "       [ -3.42113999e-05],\n",
       "       [ -1.66677695e-03],\n",
       "       [ -7.70114711e-05],\n",
       "       [  2.55375076e-03],\n",
       "       [  2.16273870e-03],\n",
       "       [ -9.02755768e-04],\n",
       "       [ -1.91673276e-03],\n",
       "       [  9.54567862e-04],\n",
       "       [  3.25461733e-03],\n",
       "       [  1.05352316e-03]], dtype=float32)"
      ]
     },
     "execution_count": 133,
     "metadata": {},
     "output_type": "execute_result"
    }
   ],
   "source": [
    "validation_weights"
   ]
  },
  {
   "cell_type": "code",
   "execution_count": 132,
   "metadata": {},
   "outputs": [
    {
     "name": "stdout",
     "output_type": "stream",
     "text": [
      "loss at iter 0:0.1252\n",
      "train auc: 0.999945103206\n",
      "test auc: 1.0\n",
      "loss at iter 1:0.0450\n",
      "train auc: 1.0\n",
      "test auc: 1.0\n",
      "loss at iter 2:0.0269\n",
      "train auc: 1.0\n",
      "test auc: 1.0\n",
      "loss at iter 3:0.0200\n",
      "train auc: 1.0\n",
      "test auc: 1.0\n",
      "loss at iter 4:0.0169\n",
      "train auc: 1.0\n",
      "test auc: 1.0\n"
     ]
    }
   ],
   "source": [
    "from sklearn.metrics import roc_auc_score\n",
    "s.run(tf.global_variables_initializer())\n",
    "for i in range(5):\n",
    "    s.run(optimizer, {input_X: X_train, input_y: y_train})\n",
    "    loss_i = s.run(loss, {input_X: X_train, input_y: y_train})\n",
    "    print(\"loss at iter %i:%.4f\" % (i, loss_i))\n",
    "    print(\"train auc:\", roc_auc_score(y_train, s.run(predicted_y, {input_X:X_train})))\n",
    "    print(\"test auc:\", roc_auc_score(y_test, s.run(predicted_y, {input_X:X_test})))"
   ]
  },
  {
   "cell_type": "markdown",
   "metadata": {},
   "source": [
    "### Coursera submission"
   ]
  },
  {
   "cell_type": "code",
   "execution_count": 37,
   "metadata": {
    "collapsed": true
   },
   "outputs": [],
   "source": [
    "grade_submitter = grading.Grader(\"BJCiiY8sEeeCnhKCj4fcOA\")"
   ]
  },
  {
   "cell_type": "code",
   "execution_count": 38,
   "metadata": {
    "collapsed": true
   },
   "outputs": [],
   "source": [
    "test_weights = 1e-3 * np.fromiter(map(lambda x:\n",
    "    s.run(weird_psychotic_function, {my_scalar:x, my_vector:[1, 2, 3]}),\n",
    "                               0.1 * np.arange(1, X.shape[1] + 1)),\n",
    "                               count=X.shape[1], dtype=np.float32)[:, np.newaxis]"
   ]
  },
  {
   "cell_type": "markdown",
   "metadata": {},
   "source": [
    "First, test prediction and loss computation. This part doesn't require a fitted model."
   ]
  },
  {
   "cell_type": "code",
   "execution_count": 39,
   "metadata": {
    "collapsed": true
   },
   "outputs": [],
   "source": [
    "prediction_test = s.run(\n",
    "    predicted_y, {\n",
    "    input_X: X,\n",
    "    weights: test_weights,\n",
    "    b: 1e-1})"
   ]
  },
  {
   "cell_type": "code",
   "execution_count": 40,
   "metadata": {
    "collapsed": true
   },
   "outputs": [],
   "source": [
    "assert prediction_test.shape == (X.shape[0],),\\\n",
    "       \"Predictions must be a 1D array with length equal to the number \" \\\n",
    "       \"of examples in X_test\""
   ]
  },
  {
   "cell_type": "code",
   "execution_count": 41,
   "metadata": {
    "collapsed": true
   },
   "outputs": [],
   "source": [
    "grade_submitter.set_answer(\"0ENlN\", prediction_test)"
   ]
  },
  {
   "cell_type": "code",
   "execution_count": 42,
   "metadata": {
    "collapsed": true
   },
   "outputs": [],
   "source": [
    "loss_test = s.run(\n",
    "    loss, {\n",
    "        input_X: X[:100],\n",
    "        input_y: y[-100:],\n",
    "        weights: test_weights+1.21e-3,\n",
    "        b: -1e-1})\n",
    "# Yes, the X/y indices mistmach is intentional"
   ]
  },
  {
   "cell_type": "code",
   "execution_count": 43,
   "metadata": {
    "collapsed": true
   },
   "outputs": [],
   "source": [
    "grade_submitter.set_answer(\"mMVpM\", loss_test)"
   ]
  },
  {
   "cell_type": "code",
   "execution_count": 44,
   "metadata": {
    "collapsed": true
   },
   "outputs": [],
   "source": [
    "grade_submitter.set_answer(\"D16Rc\", roc_auc_score(y_test, s.run(predicted_y, {input_X:X_test})))"
   ]
  },
  {
   "cell_type": "markdown",
   "metadata": {},
   "source": [
    "Please use the credentials obtained from the Coursera assignment page."
   ]
  },
  {
   "cell_type": "code",
   "execution_count": 45,
   "metadata": {},
   "outputs": [
    {
     "name": "stdout",
     "output_type": "stream",
     "text": [
      "Submitted to Coursera platform. See results on assignment page!\n"
     ]
    }
   ],
   "source": [
    "grade_submitter.submit(<email>, <token>)"
   ]
  }
 ],
 "metadata": {
  "kernelspec": {
   "display_name": "Python 3",
   "language": "python",
   "name": "python3"
  },
  "language_info": {
   "codemirror_mode": {
    "name": "ipython",
    "version": 3
   },
   "file_extension": ".py",
   "mimetype": "text/x-python",
   "name": "python",
   "nbconvert_exporter": "python",
   "pygments_lexer": "ipython3",
   "version": "3.5.2"
  }
 },
 "nbformat": 4,
 "nbformat_minor": 1
}
