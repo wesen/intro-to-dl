{
 "cells": [
  {
   "cell_type": "markdown",
   "metadata": {},
   "source": [
    "### Your very own neural network\n",
    "\n",
    "In this notebook, we're going to build a neural network using naught but pure numpy and steel nerves. It's going to be fun, I promise!\n",
    "\n",
    "![img](https://s27.postimg.org/vpui4r5n7/cartoon-2029952_960_720.png)"
   ]
  },
  {
   "cell_type": "code",
   "execution_count": null,
   "metadata": {
    "collapsed": true
   },
   "outputs": [],
   "source": [
    "# use the preloaded keras datasets and models\n",
    "! mkdir -p ~/.keras/datasets\n",
    "! mkdir -p ~/.keras/models\n",
    "! ln -s $(realpath ../readonly/keras/datasets/*) ~/.keras/datasets/\n",
    "! ln -s $(realpath ../readonly/keras/models/*) ~/.keras/models/"
   ]
  },
  {
   "cell_type": "code",
   "execution_count": 1,
   "metadata": {
    "collapsed": true
   },
   "outputs": [],
   "source": [
    "from __future__ import print_function\n",
    "import numpy as np\n",
    "np.random.seed(42)"
   ]
  },
  {
   "cell_type": "markdown",
   "metadata": {},
   "source": [
    "Here goes our main class: a layer that can .forward() and .backward()."
   ]
  },
  {
   "cell_type": "code",
   "execution_count": 3,
   "metadata": {
    "collapsed": true
   },
   "outputs": [],
   "source": [
    "class Layer:\n",
    "    \"\"\"\n",
    "    A building block. Each layer is capable of performing two things:\n",
    "    \n",
    "    - Process input to get output:           output = layer.forward(input)\n",
    "    \n",
    "    - Propagate gradients through itself:    grad_input = layer.backward(input, grad_output)\n",
    "    \n",
    "    Some layers also have learnable parameters which they update during layer.backward.\n",
    "    \"\"\"\n",
    "    def __init__(self):\n",
    "        \"\"\"Here you can initialize layer parameters (if any) and auxiliary stuff.\"\"\"\n",
    "        # A dummy layer does nothing\n",
    "        pass\n",
    "    \n",
    "    def forward(self, input):\n",
    "        \"\"\"\n",
    "        Takes input data of shape [batch, input_units], returns output data [batch, output_units]\n",
    "        \"\"\"\n",
    "        # A dummy layer just returns whatever it gets as input.\n",
    "        return input\n",
    "\n",
    "    def backward(self, input, grad_output):\n",
    "        \"\"\"\n",
    "        Performs a backpropagation step through the layer, with respect to the given input.\n",
    "        \n",
    "        To compute loss gradients w.r.t input, you need to apply chain rule (backprop):\n",
    "        \n",
    "        d loss / d x  = (d loss / d layer) * (d layer / d x)\n",
    "        \n",
    "        Luckily, you already receive d loss / d layer as input, so you only need to multiply it by d layer / d x.\n",
    "        \n",
    "        If your layer has parameters (e.g. dense layer), you also need to update them here using d loss / d layer\n",
    "        \"\"\"\n",
    "        # The gradient of a dummy layer is precisely grad_output, but we'll write it more explicitly\n",
    "        num_units = input.shape[1]\n",
    "        \n",
    "        d_layer_d_input = np.eye(num_units)\n",
    "        \n",
    "        return np.dot(grad_output, d_layer_d_input) # chain rule"
   ]
  },
  {
   "cell_type": "markdown",
   "metadata": {},
   "source": [
    "### The road ahead\n",
    "\n",
    "We're going to build a neural network that classifies MNIST digits. To do so, we'll need a few building blocks:\n",
    "- Dense layer - a fully-connected layer, $f(X)=W \\cdot X + \\vec{b}$\n",
    "- ReLU layer (or any other nonlinearity you want)\n",
    "- Loss function - crossentropy\n",
    "- Backprop algorithm - a stochastic gradient descent with backpropageted gradients\n",
    "\n",
    "Let's approach them one at a time.\n"
   ]
  },
  {
   "cell_type": "markdown",
   "metadata": {},
   "source": [
    "### Nonlinearity layer\n",
    "\n",
    "This is the simplest layer you can get: it simply applies a nonlinearity to each element of your network."
   ]
  },
  {
   "cell_type": "code",
   "execution_count": 18,
   "metadata": {
    "collapsed": true
   },
   "outputs": [],
   "source": [
    "class ReLU(Layer):\n",
    "    def __init__(self):\n",
    "        \"\"\"ReLU layer simply applies elementwise rectified linear unit to all inputs\"\"\"\n",
    "        pass\n",
    "    \n",
    "    def forward(self, input):\n",
    "        \"\"\"Apply elementwise ReLU to [batch, input_units] matrix\"\"\"\n",
    "        return np.maximum(input, 0.)\n",
    "    \n",
    "    def backward(self, input, grad_output):\n",
    "        \"\"\"Compute gradient of loss w.r.t. ReLU input\"\"\"\n",
    "        relu_grad = input > 0\n",
    "        ret = grad_output * relu_grad\n",
    "        return ret"
   ]
  },
  {
   "cell_type": "code",
   "execution_count": 19,
   "metadata": {
    "collapsed": true
   },
   "outputs": [],
   "source": [
    "# some tests\n",
    "from util import eval_numerical_gradient\n",
    "x = np.linspace(-1,1,10*32).reshape([10,32])\n",
    "l = ReLU()\n",
    "grads = l.backward(x,np.ones([10,32])/(32*10))\n",
    "numeric_grads = eval_numerical_gradient(lambda x: l.forward(x).mean(), x=x)\n",
    "assert np.allclose(grads, numeric_grads, rtol=1e-3, atol=0),\\\n",
    "    \"gradient returned by your layer does not match the numerically computed gradient\""
   ]
  },
  {
   "cell_type": "markdown",
   "metadata": {},
   "source": [
    "#### Instant primer: lambda functions\n",
    "\n",
    "In python, you can define functions in one line using the `lambda` syntax: `lambda param1, param2: expression`\n",
    "\n",
    "For example: `f = lambda x, y: x+y` is equivalent to a normal function:\n",
    "\n",
    "```\n",
    "def f(x,y):\n",
    "    return x+y\n",
    "```\n",
    "For more information, click [here](http://www.secnetix.de/olli/Python/lambda_functions.hawk).    "
   ]
  },
  {
   "cell_type": "markdown",
   "metadata": {},
   "source": [
    "### Dense layer\n",
    "\n",
    "Now let's build something more complicated. Unlike nonlinearity, a dense layer actually has something to learn.\n",
    "\n",
    "A dense layer applies affine transformation. In a vectorized form, it can be described as:\n",
    "$$f(X)= W \\cdot X + \\vec b $$\n",
    "\n",
    "Where \n",
    "* X is an object-feature matrix of shape [batch_size, num_features],\n",
    "* W is a weight matrix [num_features, num_outputs] \n",
    "* and b is a vector of num_outputs biases.\n",
    "\n",
    "Both W and b are initialized during layer creation and updated each time backward is called."
   ]
  },
  {
   "cell_type": "code",
   "execution_count": 231,
   "metadata": {
    "collapsed": true
   },
   "outputs": [],
   "source": [
    "class Dense(Layer):\n",
    "    def __init__(self, input_units, output_units, learning_rate=0.1):\n",
    "        \"\"\"\n",
    "        A dense layer is a layer which performs a learned affine transformation:\n",
    "        f(x) = <W*x> + b\n",
    "        \"\"\"\n",
    "        self.learning_rate = learning_rate\n",
    "        \n",
    "        # initialize weights with small random numbers. We use normal initialization, \n",
    "        # but surely there is something better. Try this once you got it working: http://bit.ly/2vTlmaJ\n",
    "        self.weights = np.random.randn(input_units, output_units)*0.01\n",
    "        self.biases = np.zeros(output_units)\n",
    "        \n",
    "    def forward(self,input):\n",
    "        \"\"\"\n",
    "        Perform an affine transformation:\n",
    "        f(x) = <W*x> + b\n",
    "        \n",
    "        input shape: [batch, input_units]\n",
    "        output shape: [batch, output units]\n",
    "        \"\"\"\n",
    "        return np.dot(input, self.weights) + self.biases\n",
    "    \n",
    "    def backward(self, input, grad_output):\n",
    "#         print(\"input shape\", input.shape)\n",
    "#         print(\"grad_output shape\", grad_output.shape)\n",
    "#         print(\"weights shape\", self.weights.shape)\n",
    "        \n",
    "        # compute d f / d x = d f / d dense * d dense / d x\n",
    "        # where d dense/ d x = weights transposed\n",
    "        grad_input = np.matmul(grad_output, self.weights.T)\n",
    "        \n",
    "        # compute gradient w.r.t. weights and biases\n",
    "        # grad_weights = np.matmul(input.T, grad_output)\n",
    "        grad_weights = np.matmul(grad_output.T, input).T / input.shape[0]\n",
    "        \n",
    "        grad_biases = np.mean(grad_output, axis=0)\n",
    "        \n",
    "        assert grad_weights.shape == self.weights.shape and grad_biases.shape == self.biases.shape\n",
    "        # Here we perform a stochastic gradient descent step. \n",
    "        # Later on, you can try replacing that with something better.\n",
    "        self.weights = self.weights - self.learning_rate * grad_weights\n",
    "        self.biases = self.biases - self.learning_rate * grad_biases\n",
    "        \n",
    "#         print(\"grad_output\", grad_output[0, :5])\n",
    "#         print(\"grad_input\", grad_input[0, :5])\n",
    "        \n",
    "        return grad_input"
   ]
  },
  {
   "cell_type": "markdown",
   "metadata": {},
   "source": [
    "### Testing the dense layer\n",
    "\n",
    "Here we have a few tests to make sure your dense layer works properly. You can just run them, get 3 \"well done\"s and forget they ever existed.\n",
    "\n",
    "... or not get 3 \"well done\"s and go fix stuff. If that is the case, here are some tips for you:\n",
    "* Make sure you compute gradients for W and b as __sum of gradients over batch__, not mean over gradients. Grad_output is already divided by batch size.\n",
    "* If you're debugging, try saving gradients in class fields, like \"self.grad_w = grad_w\" or print first 3-5 weights. This helps debugging.\n",
    "* If nothing else helps, try ignoring tests and proceed to network training. If it trains alright, you may be off by something that does not affect network training."
   ]
  },
  {
   "cell_type": "code",
   "execution_count": 232,
   "metadata": {},
   "outputs": [
    {
     "name": "stdout",
     "output_type": "stream",
     "text": [
      "Well done!\n"
     ]
    }
   ],
   "source": [
    "l = Dense(128, 150)\n",
    "\n",
    "assert -0.05 < l.weights.mean() < 0.05 and 1e-3 < l.weights.std() < 1e-1,\\\n",
    "    \"The initial weights must have zero mean and small variance. \"\\\n",
    "    \"If you know what you're doing, remove this assertion.\"\n",
    "assert -0.05 < l.biases.mean() < 0.05, \"Biases must be zero mean. Ignore if you have a reason to do otherwise.\"\n",
    "\n",
    "# To test the outputs, we explicitly set weights with fixed values. DO NOT DO THAT IN ACTUAL NETWORK!\n",
    "l = Dense(3,4)\n",
    "\n",
    "x = np.linspace(-1,1,2*3).reshape([2,3])\n",
    "l.weights = np.linspace(-1,1,3*4).reshape([3,4])\n",
    "l.biases = np.linspace(-1,1,4)\n",
    "\n",
    "assert np.allclose(l.forward(x),np.array([[ 0.07272727,  0.41212121,  0.75151515,  1.09090909],\n",
    "                                          [-0.90909091,  0.08484848,  1.07878788,  2.07272727]]))\n",
    "print(\"Well done!\")"
   ]
  },
  {
   "cell_type": "code",
   "execution_count": 233,
   "metadata": {},
   "outputs": [
    {
     "name": "stdout",
     "output_type": "stream",
     "text": [
      "(10, 32)\n",
      "Well done!\n"
     ]
    }
   ],
   "source": [
    "# To test the grads, we use gradients obtained via finite differences\n",
    "\n",
    "from util import eval_numerical_gradient\n",
    "\n",
    "x = np.linspace(-1,1,10*32).reshape([10,32])\n",
    "l = Dense(32,64,learning_rate=0)\n",
    "\n",
    "numeric_grads = eval_numerical_gradient(lambda x: l.forward(x).sum(),x)\n",
    "print(numeric_grads.shape)\n",
    "grads = l.backward(x,np.ones([10,64]))\n",
    "\n",
    "assert np.allclose(grads,numeric_grads,rtol=1e-3,atol=0), \"input gradient does not match numeric grad\"\n",
    "print(\"Well done!\")"
   ]
  },
  {
   "cell_type": "code",
   "execution_count": 234,
   "metadata": {},
   "outputs": [
    {
     "name": "stdout",
     "output_type": "stream",
     "text": [
      "Well done!\n"
     ]
    }
   ],
   "source": [
    "#test gradients w.r.t. params\n",
    "def compute_out_given_wb(w,b):\n",
    "    l = Dense(32,64,learning_rate=1)\n",
    "    l.weights = np.array(w)\n",
    "    l.biases = np.array(b)\n",
    "    x = np.linspace(-1,1,10*32).reshape([10,32])\n",
    "    return l.forward(x)\n",
    "    \n",
    "def compute_grad_by_params(w,b):\n",
    "    l = Dense(32,64,learning_rate=1)\n",
    "    l.weights = np.array(w)\n",
    "    l.biases = np.array(b)\n",
    "    x = np.linspace(-1,1,10*32).reshape([10,32])\n",
    "    l.backward(x,np.ones([10,64]) / 10.)\n",
    "    return w - l.weights, b - l.biases\n",
    "    \n",
    "w,b = np.random.randn(32,64), np.linspace(-1,1,64)\n",
    "\n",
    "numeric_dw = eval_numerical_gradient(lambda w: compute_out_given_wb(w,b).mean(0).sum(),w )\n",
    "numeric_db = eval_numerical_gradient(lambda b: compute_out_given_wb(w,b).mean(0).sum(),b )\n",
    "grad_w,grad_b = compute_grad_by_params(w,b)\n",
    "\n",
    "assert np.allclose(numeric_dw,grad_w,rtol=1e-3,atol=0), \"weight gradient does not match numeric weight gradient\"\n",
    "assert np.allclose(numeric_db,grad_b,rtol=1e-3,atol=0), \"weight gradient does not match numeric weight gradient\"\n",
    "print(\"Well done!\")"
   ]
  },
  {
   "cell_type": "markdown",
   "metadata": {},
   "source": [
    "### The loss function\n",
    "\n",
    "Since we want to predict probabilities, it would be logical for us to define softmax nonlinearity on top of our network and compute loss given predicted probabilities. However, there is a better way to do so.\n",
    "\n",
    "If you write down the expression for crossentropy as a function of softmax logits (a), you'll see:\n",
    "\n",
    "$$ loss = - log \\space {e^{a_{correct}} \\over {\\underset i \\sum e^{a_i} } } $$\n",
    "\n",
    "If you take a closer look, ya'll see that it can be rewritten as:\n",
    "\n",
    "$$ loss = - a_{correct} + log {\\underset i \\sum e^{a_i} } $$\n",
    "\n",
    "It's called Log-softmax and it's better than naive log(softmax(a)) in all aspects:\n",
    "* Better numerical stability\n",
    "* Easier to get derivative right\n",
    "* Marginally faster to compute\n",
    "\n",
    "So why not just use log-softmax throughout our computation and never actually bother to estimate probabilities.\n",
    "\n",
    "Here you are! We've defined the both loss functions for you so that you could focus on neural network part."
   ]
  },
  {
   "cell_type": "code",
   "execution_count": 122,
   "metadata": {
    "collapsed": true
   },
   "outputs": [],
   "source": [
    "def softmax_crossentropy_with_logits(logits,reference_answers):\n",
    "    \"\"\"Compute crossentropy from logits[batch,n_classes] and ids of correct answers\"\"\"\n",
    "    logits_for_answers = logits[np.arange(len(logits)),reference_answers]\n",
    "    \n",
    "    xentropy = - logits_for_answers + np.log(np.sum(np.exp(logits),axis=-1))\n",
    "    \n",
    "    return xentropy\n",
    "\n",
    "def grad_softmax_crossentropy_with_logits(logits,reference_answers):\n",
    "    \"\"\"Compute crossentropy gradient from logits[batch,n_classes] and ids of correct answers\"\"\"\n",
    "    ones_for_answers = np.zeros_like(logits)\n",
    "    ones_for_answers[np.arange(len(logits)),reference_answers] = 1\n",
    "    \n",
    "    softmax = np.exp(logits) / np.exp(logits).sum(axis=-1,keepdims=True)\n",
    "    \n",
    "    return (- ones_for_answers + softmax) / logits.shape[0]"
   ]
  },
  {
   "cell_type": "code",
   "execution_count": 123,
   "metadata": {
    "collapsed": true
   },
   "outputs": [],
   "source": [
    "logits = np.linspace(-1,1,500).reshape([50,10])\n",
    "answers = np.arange(50)%10\n",
    "\n",
    "softmax_crossentropy_with_logits(logits,answers)\n",
    "grads = grad_softmax_crossentropy_with_logits(logits,answers)\n",
    "numeric_grads = eval_numerical_gradient(lambda l: softmax_crossentropy_with_logits(l,answers).mean(),logits)\n",
    "\n",
    "assert np.allclose(numeric_grads,grads,rtol=1e-3,atol=0), \"The reference implementation has just failed. Someone has just changed the rules of math.\""
   ]
  },
  {
   "cell_type": "markdown",
   "metadata": {},
   "source": [
    "### Full network\n",
    "\n",
    "Now let's combine what we've just built into a working neural network. As we announced, we're gonna use this monster to classify handwritten digits, so let's get them loaded."
   ]
  },
  {
   "cell_type": "code",
   "execution_count": 124,
   "metadata": {},
   "outputs": [
    {
     "data": {
      "image/png": "iVBORw0KGgoAAAANSUhEUgAAAXAAAAF1CAYAAADx1LGMAAAABHNCSVQICAgIfAhkiAAAAAlwSFlz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\n",
      "text/plain": [
       "<matplotlib.figure.Figure at 0x20275523e10>"
      ]
     },
     "metadata": {},
     "output_type": "display_data"
    }
   ],
   "source": [
    "import matplotlib.pyplot as plt\n",
    "%matplotlib inline\n",
    "\n",
    "from preprocessed_mnist import load_dataset\n",
    "X_train, y_train, X_val, y_val, X_test, y_test = load_dataset(flatten=True)\n",
    "\n",
    "plt.figure(figsize=[6,6])\n",
    "for i in range(4):\n",
    "    plt.subplot(2,2,i+1)\n",
    "    plt.title(\"Label: %i\"%y_train[i])\n",
    "    plt.imshow(X_train[i].reshape([28,28]),cmap='gray');"
   ]
  },
  {
   "cell_type": "markdown",
   "metadata": {},
   "source": [
    "We'll define network as a list of layers, each applied on top of previous one. In this setting, computing predictions and training becomes trivial."
   ]
  },
  {
   "cell_type": "code",
   "execution_count": 151,
   "metadata": {
    "collapsed": true
   },
   "outputs": [],
   "source": [
    "network = []\n",
    "network.append(Dense(X_train.shape[1],100))\n",
    "network.append(ReLU())\n",
    "network.append(Dense(100,200))\n",
    "network.append(ReLU())\n",
    "network.append(Dense(200,10))"
   ]
  },
  {
   "cell_type": "code",
   "execution_count": 152,
   "metadata": {},
   "outputs": [],
   "source": [
    "def forward(network, X):\n",
    "    \"\"\"\n",
    "    Compute activations of all network layers by applying them sequentially.\n",
    "    Return a list of activations for each layer. \n",
    "    Make sure last activation corresponds to network logits.\n",
    "    \"\"\"\n",
    "    activations = []\n",
    "    input = X\n",
    "\n",
    "    for layer in network:\n",
    "        input = layer.forward(input)\n",
    "        activations += [input]\n",
    "        \n",
    "    assert len(activations) == len(network)\n",
    "    return activations\n",
    "\n",
    "def predict(network,X):\n",
    "    \"\"\"\n",
    "    Compute network predictions.\n",
    "    \"\"\"\n",
    "    logits = forward(network,X)[-1]\n",
    "    return logits.argmax(axis=-1)\n",
    "\n",
    "def train(network,X,y):\n",
    "    \"\"\"\n",
    "    Train your network on a given batch of X and y.\n",
    "    You first need to run forward to get all layer activations.\n",
    "    Then you can run layer.backward going from last to first layer.\n",
    "    \n",
    "    After you called backward for all layers, all Dense layers have already made one gradient step.\n",
    "    \"\"\"\n",
    "    \n",
    "    # Get the layer activations\n",
    "    layer_activations = forward(network,X)\n",
    "    layer_inputs = [X]+layer_activations  #layer_input[i] is an input for network[i]\n",
    "    logits = layer_activations[-1]\n",
    "    \n",
    "    # Compute the loss and the initial gradient\n",
    "    loss = softmax_crossentropy_with_logits(logits,y)\n",
    "    loss_grad = grad_softmax_crossentropy_with_logits(logits,y)\n",
    "    \n",
    "    # <your code: propagate gradients through the network>\n",
    "    grad = loss_grad\n",
    "    for layer, activation in reversed(list(zip(network, layer_inputs))):\n",
    "        grad = layer.backward(activation, grad)\n",
    "        \n",
    "    return np.mean(loss)"
   ]
  },
  {
   "cell_type": "markdown",
   "metadata": {},
   "source": [
    "Instead of tests, we provide you with a training loop that prints training and validation accuracies on every epoch.\n",
    "\n",
    "If your implementation of forward and backward are correct, your accuracy should grow from 90~93% to >97% with the default network."
   ]
  },
  {
   "cell_type": "markdown",
   "metadata": {},
   "source": [
    "### Training loop\n",
    "\n",
    "As usual, we split data into minibatches, feed each such minibatch into the network and update weights."
   ]
  },
  {
   "cell_type": "code",
   "execution_count": 153,
   "metadata": {
    "collapsed": true
   },
   "outputs": [],
   "source": [
    "from tqdm import trange\n",
    "def iterate_minibatches(inputs, targets, batchsize, shuffle=False):\n",
    "    assert len(inputs) == len(targets)\n",
    "    if shuffle:\n",
    "        indices = np.random.permutation(len(inputs))\n",
    "    for start_idx in trange(0, len(inputs) - batchsize + 1, batchsize):\n",
    "        if shuffle:\n",
    "            excerpt = indices[start_idx:start_idx + batchsize]\n",
    "        else:\n",
    "            excerpt = slice(start_idx, start_idx + batchsize)\n",
    "        yield inputs[excerpt], targets[excerpt]"
   ]
  },
  {
   "cell_type": "code",
   "execution_count": 154,
   "metadata": {
    "collapsed": true
   },
   "outputs": [],
   "source": [
    "from IPython.display import clear_output\n",
    "train_log = []\n",
    "val_log = []"
   ]
  },
  {
   "cell_type": "code",
   "execution_count": 246,
   "metadata": {
   "outputs": [
    {
     "name": "stdout",
     "output_type": "stream",
     "text": [
      "Epoch 24\n",
      "Train accuracy: 1.0\n",
      "Val accuracy: 0.979\n"
     ]
    },
    {
     "data": {
      "image/png": "iVBORw0KGgoAAAANSUhEUgAAAYQAAAD8CAYAAAB3u9PLAAAABHNCSVQICAgIfAhkiAAAAAlwSFlz\nAAALEgAACxIB0t1+/AAAADl0RVh0U29mdHdhcmUAbWF0cGxvdGxpYiB2ZXJzaW9uIDIuMS4wLCBo\ndHRwOi8vbWF0cGxvdGxpYi5vcmcvpW3flQAAIABJREFUeJzt3Xl0VfW99/H3NwOEIUASJAIBg4pV\nkDEBwqAGrYgdHEAqVkVYV2krup4uV3sdblu8tKxWix2srS7konKrpRTqo/ZBEbgcsatwBSoyyowl\ngBDmRAYz/J4/9o/kEDKcnCSE5Hxea+2VffZ0ft/sc/ZnT9kx5xwiIiJxjd0AERG5OCgQREQEUCCI\niIinQBAREUCBICIingJBREQABYKIiHgKBBERARQIIiLiJTR2A2qjY8eOLjMzM6p5v/jiC9q0aVO/\nDWoiYrl2iO36Y7l2iO36w2tfs2bNIefcJTXN06QCITMzk9WrV0c1bygUIjc3t34b1ETEcu0Q2/XH\ncu0Q2/WH125mn0Uyj04ZiYgIoEAQERFPgSAiIoACQUREPAWCiIgAEQaCmc02s4NmtqGK8WZmz5vZ\ndjNbZ2YDw8Y9YGbbfPdA2PAsM1vv53nezKzu5YiISLQiPUJ4FRhdzfhbgZ6+mwy8CGBmqcBUYAgw\nGJhqZil+nhf9tGfnq275IiLSwCL6OwTn3HIzy6xmktuBOS74f5wrzayDmXUGcoHFzrkjAGa2GBht\nZiGgnXNuhR8+B7gDeDfKOqr1n+9s5B+bTvHilhUNsfiL3rFjsVs7xHb9sVw7NJ/6e3Vpx9Rv9m7w\n96mvP0zrCuwJe53nh1U3PK+S4ecxs8kERxKkp6cTCoVq3bi8vDOUlJRw7NixWs/bHMRy7RDb9cdy\n7dB86s8rPUEolF+reQoLC2u9vayvQKjs/L+LYvj5A52bCcwEyM7OdtH81WFurv5iMVZrh9iuP5Zr\nh9iuP5ra6+suozygW9jrDGBfDcMzKhkuIiKNpL4C4W1ggr/bKAc47pzbDywCRplZir+YPApY5McV\nmFmOv7toAvBWPbVFRESiENEpIzP7E8EF4o5mlkdw51AigHPuJWAh8DVgO3ASmOTHHTGznwKr/KKm\nnb3ADHyP4O6lVgQXkxvkgrKIiEQm0ruM7qlhvAOmVDFuNjC7kuGrgWsjeX8REWl4+ktlEREBFAgi\nIuIpEEREBFAgiIiIp0AQERFAgSAiIp4CQUREAAWCiIh4CgQREQEUCCIi4ikQREQEUCCIiIinQBAR\nEUCBICIingJBREQABYKIiHgKBBERARQIIiLiKRBERARQIIiIiKdAEBERQIEgIiKeAkFERAAFgoiI\neAoEEREBFAgiIuIpEEREBFAgiIiIp0AQERFAgSAiIp4CQUREAAWCiIh4CgQREQEUCCIi4ikQREQE\nUCCIiIinQBARESDCQDCz0Wa2xcy2m9kTlYy/zMyWmtk6MwuZWUbYuGfMbIPv7g4b/qqZ7TKztb7r\nXz8liYhINGoMBDOLB34P3Ar0Au4xs14VJpsBzHHO9QWmAT/3834dGAj0B4YAPzSzdmHz/dA51993\na+tcjYiIRC2SI4TBwHbn3E7n3JfAXOD2CtP0Apb6/mVh43sBHzjnip1zXwCfAKPr3mwREalvkQRC\nV2BP2Os8PyzcJ8BY338nkGxmaX74rWbW2sw6AiOBbmHzTfenmX5tZi2jqkBEROqFOeeqn8BsHHCL\nc+5B//p+YLBz7tGwaboALwA9gOUE4dDbOXfczP4DGAfkAweBj5xzvzWzzsDnQAtgJrDDOTetkvef\nDEwGSE9Pz5o7d25UhRYWFtK2bduo5m3qYrl2iO36Y7l2iO36w2sfOXLkGudcdo0zOeeq7YChwKKw\n108CT1YzfVsgr4pxbwBfq2R4LvC3mtqSlZXlorVs2bKo523qYrl252K7/liu3bnYrj+8dmC1q2H7\n6pyL6JTRKqCnmfUwsxbAeODt8AnMrKOZnV3Wk8BsPzzenzrCzPoCfYH3/evO/qcBdwAbImiLiIg0\nkISaJnDOFZvZI8AiIB6Y7ZzbaGbTCFLnbYI9/J+bmSM4ZTTFz54IfBhs8zkB3OecK/bjXjezSwAD\n1gLfrb+yRESktmoMBADn3EJgYYVhPwnrnw/Mr2S+0wR3GlW2zBtr1VIREWlQ+ktlEREBFAgiIuIp\nEEREBFAgiIiIp0AQERFAgSAiIp4CQUREAAWCiIh4CgQREQEUCCIi4ikQREQEUCCIiIinQBAREUCB\nICIingJBREQABYKIiHgKBBERARQIIiLiKRBERARQIIiIiKdAEBERQIEgIiKeAkFERAAFgoiIeAoE\nEREBFAgiIuIpEEREBFAgiIiIp0AQERFAgSAiIp4CQUREAEho7AaIyMWtqKiIvLw8Tp8+3dhNqbX2\n7duzefPmxm7GBZOUlERGRgaJiYlRza9AEJFq5eXlkZycTGZmJmbW2M2plYKCApKTkxu7GReEc47D\nhw+Tl5dHjx49olqGThmJSLVOnz5NWlpakwuDWGNmpKWl1elIToEgIjVSGDQNdV1PCgQRuagdO3aM\nP/zhD1HNO3bsWI4dO1bPLWq+FAgiclGrLhBKSkqqnXfBggV06NChIZpVJ845SktLG7sZ54koEMxs\ntJltMbPtZvZEJeMvM7OlZrbOzEJmlhE27hkz2+C7u8OG9zCz/zWzbWb2ZzNrUT8liUhz8sQTT7Bj\nxw769+/PD3/4Q0KhECNHjuTb3/42ffr0AeCOO+4gKyuL3r17M3PmzLJ5r732Wg4dOsTu3bu55ppr\neOihh+jduzejRo3i1KlT573XO++8w5AhQxgwYABf/epXOXDgAACFhYVMmjSJPn360LdvXxYsWADA\ne++9x8CBA+nXrx833XQTAE8//TQzZsw4pw27d+8ua8PDDz/MwIED2bNnD9/73vfIzs6md+/eTJ06\ntWyeVatWMWzYMPr168fgwYMpKCjguuuuY+3atWXTDB8+nHXr1tXjbzqCu4zMLB74PXAzkAesMrO3\nnXObwiabAcxxzr1mZjcCPwfuN7OvAwOB/kBL4AMze9c5dwJ4Bvi1c26umb0E/BvwYn0WJyL16z/f\n2cimfSfqdZm9urRj6jd7Vzn+F7/4BRs2bCjbGIZCIT766CM2bNhQdjfN7NmzSU1N5dSpUwwaNIix\nY8eSlpZ2znK2bdvGn/70J15++WW+9a1vsWDBAu67775zphkxYgQrV67EzJg1axbPPvsszz33HD/9\n6U9p374969evB+Do0aPk5+fz0EMPsXz5cnr06MGRI0dqrHXLli288sorZUc806dPJzU1lZKSEm66\n6SbWrVvH1Vdfzd13382f//xnBg0axIkTJ2jVqhUPPvggr776Kr/5zW/YunUrZ86coW/fvpH/oiMQ\nyRHCYGC7c26nc+5LYC5we4VpegFLff+ysPG9gA+cc8XOuS+AT4DRFlz5uBGY76d7Dbgj+jJEJJYM\nHjz4nFsrn3/+efr160dOTg579uxh27Zt583To0cP+vfvD0BWVha7d+8+b5q8vDxuueUW+vTpwy9/\n+Us2btwIwJIlS5gyZUrZdCkpKaxcuZLrr7++rB2pqak1tvuyyy4jJyen7PW8efMYOHAgAwYMYOPG\njWzatIktW7bQuXNnBg0aBEC7du1ISEhg3Lhx/O1vf6OoqIjZs2czceLEmn9RtRTJ3yF0BfaEvc4D\nhlSY5hNgLPBb4E4g2czS/PCpZvYroDUwEtgEpAHHnHPFYcvsGm0RInJhVLcnfyG1adOmrD8UCrFk\nyRJWrFhB69atyc3NrfTWy5YtW5b1x8fHV3rK6NFHH+Wxxx7jtttuIxQK8fTTTwPBOf+Kd/BUNgwg\nISHhnOsD4W0Jb/euXbuYMWMGq1atIiUlhYkTJ3L69Okql9u6dWtuvvlm3nrrLebNm8fq1asr+9XU\nSSSBUNl9TK7C6x8AL5jZRGA5sBcods69b2aDgH8A+cAKoDjCZQZvbjYZmAyQnp5OKBSKoMnnKyws\njHrepi6Wa4fYrr8+am/fvj0FBQX106AonThxoqwNJ0+epLi4uOz1559/TnJyMiUlJaxZs4aVK1dy\n8uRJCgoKcM5RWFhIYWEhpaWlZfOcOXOGM2fOnFfX0aNH6dChAwUFBcyaNYuSkhIKCgrIzc3lV7/6\nFc8880zZdH369OHhhx9m/fr1ZGZmcuTIEVJTU0lPT+e9996joKCAtWvXsmvXLgoLCwHOacP+/ftp\n1aoVcXFx7Nixg4ULF5KTk0PXrl3Zu3cvoVCIrKwsCgoKaNWqFQkJCdxzzz3cfffdDBs2jMTExErX\ny+nTpwmFQlGt+0gCIQ/oFvY6A9gXPoFzbh8wBsDM2gJjnXPH/bjpwHQ/7g1gG3AI6GBmCf4o4bxl\nhi17JjATIDs72+Xm5kZa2zlCoRDRztvUxXLtENv110ftmzdvbtS/9k1OTmbEiBEMHTqUW2+9la9/\n/eskJCSUtenOO+/ktddeY/jw4XzlK18hJyeH1q1bk5ycjJnRtm1bAOLi4srmadmyJUVFRefVNW3a\nNCZOnEjXrl3Jyckp+yvtadOmMWXKFIYOHUp8fDxTp05lzJgxvPzyy0yYMIHS0lI6derE4sWLue++\n+/jLX/7Cddddx6BBg7jqqqsqbcOwYcPIysoiJyeHyy+/nBEjRpCUlERaWhrz5s3j0Ucf5dSpU7Rq\n1YolS5bQtm1brr/+etq3b89DDz1U5TpJSkpiwIAB0a1751y1HUFo7AR6AC0ITgP1rjBNRyDO908H\npvn+eCDN9/cFNgAJ/vVfgPG+/yXg4ZrakpWV5aK1bNmyqOdt6mK5dudiu/76qH3Tpk11b0gjOXHi\nRGM3oV7t3bvX9ezZ05WUlFQ5zdn1Fb7ugdWuhu2rc67mi8ou2IN/BFgEbAbmOec2mtk0M7vNT5YL\nbDGzrUC6DwWAROBDM9tEsJd/nyu/bvA48JiZbSe4pvBftQkyEZFYMmfOHIYMGcL06dOJi2uYPyGL\n6OF2zrmFwMIKw34S1j+f8juGwqc5TXCnUWXL3ElwB5OIiNRgwoQJTJgwoUHfQ3+pLCIigAJBREQ8\nBYKIiAAKBBER8RQIItLsnL3vX2pHgSAiUs+Ki4trnugipEAQkYva448/fs7/Q3j66ad57rnnKCws\n5KabbmLgwIH06dOHt956q8ZlVfWY7MoeY13VI6/Djz7mz59f9pC5iRMn8thjjzFy5Egef/xxPvro\nI4YNG8aAAQMYNmwYW7ZsAYL/4fCDH/ygbLm/+93vWLp0KXfeeWfZchcvXsyYMWOi/6VFKaK/QxAR\nAeDdJ+Dz9fW7zEv7wK2/qHL0+PHj+f73v8/DDz8MBE8Ife+990hKSuLNN9+kXbt2HDp0iJycHG67\n7bZq/41kZY/JLi0trfQx1pU98romW7duZcmSJcTHx3PixAmWL19OQkICS5Ys4amnnmLBggXMnDmT\nXbt28fHHH5OQkMCRI0dISUlhypQp5Ofnc8kll/DKK68wadKk2vwW64UCQUQuagMGDODgwYPs27eP\n/Px8UlJS6N69O0VFRTz11FMsX76cuLg49u7dy4EDB7j00kurXNbzzz/Pm2++CVD2mOz8/PxKH2O9\nZMkS5s6dWzZvSkpKjW0dN24c8fHxABw/fpwHHniAbdu2YWYUFRWVLfe73/0uCQkJ57zf/fffzx//\n+EcmTZrEihUrmDNnTm1/VXWmQBCRyFWzJ9+Q7rrrLubPn8/nn3/O+PHjAXj99dfJz89nzZo1JCYm\nkpmZWeljr8+q6jHZrorHTVc1PHxYxfcLf7z1j3/8Y0aOHMmbb77J7t27yx40V9VyJ02axDe/+U2S\nkpIYN25cWWBcSLqGICIXvfHjxzN37lzmz5/PXXfdBQR74J06dSIxMZFly5bx2WefVbuM48ePk5KS\nQuvWrfn0009ZuXIlAEOHDuWDDz5g165dAGWnjEaNGsULL7xQNv/ZU0bp6els3ryZ0tLSsqONqt6v\na9fg37y8+uqrZcNHjRrFSy+9VHbh+ez7denShS5duvCzn/2sQf75TSQUCCJy0evduzcFBQV07dqV\nzp07A3DvvfeyevVqsrOzef3117n66qurXcbo0aMpLi6mb9++/PjHPy77z2WXXHIJM2fOZMyYMfTr\n14+77w7+9fuPfvQjjh49yrXXXku/fv1YtmwZEPxLz2984xvceOONZW2pzL//+7/z5JNPMnz4cEpK\nSsqGP/jgg3Tv3p2+ffvSr18/3njjjbJx9957L926daNXr0ofAdfwInkk6sXS6fHX0Ynl2p2L7fr1\n+Oum9fjrKVOmuFmzZtVpGXV5/LWuIYiIXASysrJo06YNzz33XKO1QYEgInIRWLNmTWM3QdcQREQk\noEAQkRoFp6HlYlfX9aRAEJFqJSUlcfjwYYXCRc45x+HDh0lKSop6GbqGICLVysjIIC8vj/z8/MZu\nSq2dPn26ThvIpiYpKYmMjIyo51cgiEi1EhMTyx7r0NSEQiEGDBjQ2M1oMnTKSEREAAWCiIh4CgQR\nEQEUCCIi4ikQREQEUCCIiIinQBAREUCBICIingJBREQABYKIiHgKBBERARQIIiLiKRBERARQIIiI\niKdAEBERQIEgIiKeAkFERAAFgoiIeBEFgpmNNrMtZrbdzJ6oZPxlZrbUzNaZWcjMMsLGPWtmG81s\ns5k9b2bmh4f8Mtf6rlP9lSUiIrVVYyCYWTzwe+BWoBdwj5n1qjDZDGCOc64vMA34uZ93GDAc6Atc\nCwwCbgib717nXH/fHaxrMSIiEr1IjhAGA9udczudc18Cc4HbK0zTC1jq+5eFjXdAEtACaAkkAgfq\n2mgREal/CRFM0xXYE/Y6DxhSYZpPgLHAb4E7gWQzS3POrTCzZcB+wIAXnHObw+Z7xcxKgAXAz5xz\nruKbm9lkYDJAeno6oVAoosIqKiwsjHrepi6Wa4fYrj+Wa4fYrj+q2p1z1XbAOGBW2Ov7gd9VmKYL\n8FfgY4JQyAPaA1cC/w9o67sVwPV+nq7+ZzLwPjChprZkZWW5aC1btizqeZu6WK7dudiuP5Zrdy62\n6w+vHVjtati+OuciOmWUB3QLe50B7KsQKvucc2OccwOA//DDjhMcLax0zhU65wqBd4EcP36v/1kA\nvEFwakpERBpJJIGwCuhpZj3MrAUwHng7fAIz62hmZ5f1JDDb9/8LuMHMEswskeCC8mb/uqOfNxH4\nBrCh7uWIiEi0agwE51wx8AiwCNgMzHPObTSzaWZ2m58sF9hiZluBdGC6Hz4f2AGsJ7jO8Ilz7h2C\nC8yLzGwdsBbYC7xcb1WJiEitRXJRGefcQmBhhWE/CeufT7DxrzhfCfCdSoZ/AWTVtrEiItJw9JfK\nIiICKBBERMRTIIiICKBAEBERT4EgIiKAAkFERDwFgoiIAAoEERHxFAgiIgIoEERExFMgiIgIoEAQ\nERFPgSAiIoACQUREPAWCiIgACgQREfEUCCIiAigQRETEUyCIiAigQBAREU+BICIigAJBREQ8BYKI\niAAKBBER8RQIIiICKBBERMRTIIiICKBAEBERT4EgIiKAAkFERDwFgoiIAAoEERHxFAgiIgIoEERE\nxFMgiIgIoEAQERFPgSAiIkCEgWBmo81si5ltN7MnKhl/mZktNbN1ZhYys4ywcc+a2UYz22xmz5uZ\n+eFZZrbeL7NsuIiINI4aA8HM4oHfA7cCvYB7zKxXhclmAHOcc32BacDP/bzDgOFAX+BaYBBwg5/n\nRWAy0NN3o+tajIiIRC+SI4TBwHbn3E7n3JfAXOD2CtP0Apb6/mVh4x2QBLQAWgKJwAEz6wy0c86t\ncM45YA5wR50qERGROokkELoCe8Je5/lh4T4Bxvr+O4FkM0tzzq0gCIj9vlvknNvs58+rYZkiInIB\nJUQwTWXn9l2F1z8AXjCzicByYC9QbGZXAtcAZ68pLDaz64FTESwzeHOzyQSnlkhPTycUCkXQ5PMV\nFhZGPW9TF8u1Q2zXH8u1Q2zXH03tkQRCHtAt7HUGsC98AufcPmAMgJm1BcY65477jflK51yhH/cu\nkAP8N+UhUekyw5Y9E5gJkJ2d7XJzcyNo8vlCoRDRztvUxXLtENv1x3LtENv1R1N7JKeMVgE9zayH\nmbUAxgNvh09gZh3N7OyyngRm+/5/ATeYWYKZJRJcUN7snNsPFJhZjr+7aALwVq1aLiIi9arGQHDO\nFQOPAIuAzcA859xGM5tmZrf5yXKBLWa2FUgHpvvh84EdwHqC6wyfOOfe8eO+B8wCtvtp3q2XikRE\nJCqRnDLCObcQWFhh2E/C+ucTbPwrzlcCfKeKZa4muBVVpGYlRXBgA5w6Bl36Q6uUxm6RSLMTUSCI\nXHAn9kHeKt+thn0fQ/Hp8vEdr4KMQZCRDRmDodM1EBffeO2Vps25YIcjfwtcNgzadWnsFjWK2AiE\nDQvI2PN3+HgvtE6FVqnlP1t1uLAbEuegYD8c3gGHt8OpIw3+lt3+9RlsPAppV0Lq5dCiTYO/Z60U\nnYb9n5wbACf8XcnxLaBzf8j+t2Dj3yoF9q4Jptn6Hqx9PZgusQ10HehDwndtL2m8miQ6pSXBUeCp\nI3DqKJw8Ut7fsl2wXjteBXH18NSdL7+AnR/AtkWwbTGc2Fs+7tI+0PMW6Dkq+NzFyM5GbATCx69z\n5Y6lsGN25eOT2oeFREqFwEgpHx4+vmUyVPW0Defg5OHyjf4R//PwzqC/6GTD1VqJKwB2vlY+ILkL\npF0RdKlXBEGRdgWkZEJCy4ZvUNEp2PUh7PgfyPsI9q+D0qJgXIfu0H0IZDwS7Plfeu35bbpiZPDT\nOTi6KwiHs2Hyj+ehtDgYn5IJGYO44mgRnFnc8HU1NIuD9hnl661D9/rZUJ0+4T+jvjtzou7LrElp\nsd/YHw02+Gf7Tx+nijvQy7VsB12zgnDoNjjob50a2fse2Qlb3w9CYPffoeRLaJEMV+RC7pOQ3iv4\nbG57H/7+a/hwRvB9v/KrcNUtcMWNkb9XExQbgXDfAj5cupDrBvbyH76j5++BnP1AnjwMh7YF/dV9\nMeISzg+PhJZwdHfw5Tp9vHxaiw82TmlXQI/rgr30sxvhNp2qDpZ68mFoKdf1zggLp51B/+Z3gnrL\n2hkH7bsF7brkGn86ZlCwEaprG4/tCb6EW9+HXcuh+BQktAq+zEOn+C92NiSnR75Ms+B3mXo59P1W\nMOzLk+cebXz2D7oUHoYDzWAPr7QYSs6Uv45v4T9XV577mUq7EpI7n7vOik4FG8NzdlJ898XBc98n\n8QIcQcYlBEfnZ3eyUnpUs0OWEvz84lD5et2zKthYu9JgeWlXVjiF2AviE7DSIn8U8D5sXQSHt/np\ne8LgycERQPehkNCivG1ds2DE94NtwI7/CT6z2xfD+nnBd6TbkGC+q24J3qeu3w3ngqOVyo6KToYF\n5qifNfhRrwVPjmgasrOz3erVq6OaN6r7kUuKqj58rRgkp44Ge/4duvsv6BXlX84O3SE+Map214dq\naz91tDwgyo5kdkD+p+Xn7NteGnzRug0OvnSd+0OL1tW/aUlxsPe/dVHwZTy4KRiekhkcil81Ci4b\nAYlJ9VVmlZrNvejOQeHBChv07eUb+vCwSGwNqZdz9AyklB4rPwV3Vtt0/xm9POzzeiWk9oDEVhe2\nrmidKQyuLZWdalwFX+QH4xJbQ6deFH++kYSSU0F4Zo7wp4FuDr6btVFaAnv/6XdqFsHn64Lh7TKC\n00u1CQXngp3N8COkki+rnr5F2yAc7/8rdOwZ8duEf+7NbI1zLrumeWLjCCFa8YlBIjfnc9GtUiAj\nK+jCnb2r5+zpmD0fwad/C8ZZfHAqJ2NQsDeWkR3soZ48AtuXBF+a7Uvh9LFgT7D70GDvpuctwQda\nD7aNjllwBJWcDpnDzx1XWhqcA6+w9x93YHcwbfhRROrlkNSuUUqoVy3bBkfcPa4LXjsHxz4r/8zu\nX8fBTtfR5YaJ0OOGYPpoxcVDt0FBd+OP4MT+YEdn2/vBe9a67e2CUDrvqKjiEVKHC3Ma11MgSOXi\nE6HLgKAb/FAw7ItD556v/2QurJoVjEvqUH7+t00nuPobwVHA5SObx8bnYhcXBx26Bd3ZayzAx83l\n6CgSZsERaEom9LkLgK2hEF2uzq3/92rXGbIeCLpmRIEgkWvTEb4yOuggOIzO/zQIh73/DM5bX3VL\ncEqpPu4CEZELSoEg0YuLh/TeQZc1sbFbIyJ1pN04EREBFAgiIuIpEEREBFAgiIiIp0AQERFAgSAi\nIp4CQUREAAWCiIh4TerhdmaWD0Tx4BAAOgKH6rE5TUks1w6xXX8s1w6xXX947Zc552p8KFuTCoS6\nMLPVkTztrzmK5dohtuuP5dohtuuPpnadMhIREUCBICIiXiwFwszGbkAjiuXaIbbrj+XaIbbrr3Xt\nMXMNQUREqhdLRwgiIlKNmAgEMxttZlvMbLuZPdHY7bmQzGy3ma03s7VmFt0/pG5CzGy2mR00sw1h\nw1LNbLGZbfM/UxqzjQ2litqfNrO9fv2vNbOvNWYbG4qZdTOzZWa22cw2mtn/8cOb/bqvpvZar/tm\nf8rIzOKBrcDNQB6wCrjHObepURt2gZjZbiDbORcT92Kb2fVAITDHOXetH/YscMQ59wu/Q5DinHu8\nMdvZEKqo/Wmg0Dk3ozHb1tDMrDPQ2Tn3TzNLBtYAdwATaebrvprav0Ut130sHCEMBrY753Y6574E\n5gK3N3KbpIE455YDRyoMvh14zfe/RvBlaXaqqD0mOOf2O+f+6fsLgM1AV2Jg3VdTe63FQiB0BfaE\nvc4jyl9WE+WA981sjZlNbuzGNJJ059x+CL48QKdGbs+F9oiZrfOnlJrdKZOKzCwTGAD8LzG27ivU\nDrVc97EQCFbJsOZ9nuxcw51zA4FbgSn+tILEjheBK4D+wH7gucZtTsMys7bAAuD7zrkTjd2eC6mS\n2mu97mMhEPKAbmGvM4B9jdSWC845t8//PAi8SXAKLdYc8OdZz55vPdjI7blgnHMHnHMlzrlS4GWa\n8fo3s0SCDeLrzrm/+sExse4rqz2adR8LgbAK6GlmPcysBTAeeLuR23RBmFkbf5EJM2sDjAI2VD9X\ns/Q28IDvfwB4qxHbckGd3RjAqRKAAAAAt0lEQVR6d9JM17+ZGfBfwGbn3K/CRjX7dV9V7dGs+2Z/\nlxGAv93qN0A8MNs5N72Rm3RBmNnlBEcFAAnAG829djP7E5BL8KTHA8BU4P8C84DuwL+Acc65Znfx\ntYracwlOGThgN/Cds+fUmxMzGwF8CKwHSv3gpwjOpTfrdV9N7fdQy3UfE4EgIiI1i4VTRiIiEgEF\ngoiIAAoEERHxFAgiIgIoEERExFMgiIgIoEAQERFPgSAiIgD8f+AMyomX8phiAAAAAElFTkSuQmCC\n",
      "text/plain": [
       "<matplotlib.figure.Figure at 0x202002ff748>"
      ]
     },
     "metadata": {},
     "output_type": "display_data"
    }
   ],
   "source": [
    "from IPython.display import clear_output\n",
    "\n",
    "train_log = []\n",
    "val_log = []\n",
    "\n",
    "for epoch in range(25):\n",
    "\n",
    "    for x_batch,y_batch in iterate_minibatches(X_train,y_train,batchsize=32,shuffle=True):\n",
    "        train(network,x_batch,y_batch)\n",
    "    \n",
    "    train_log.append(np.mean(predict(network,X_train)==y_train))\n",
    "    val_log.append(np.mean(predict(network,X_val)==y_val))\n",
    "    \n",
    "    clear_output()\n",
    "    print(\"Epoch\",epoch)\n",
    "    print(\"Train accuracy:\",train_log[-1])\n",
    "    print(\"Val accuracy:\",val_log[-1])\n",
    "    plt.plot(train_log,label='train accuracy')\n",
    "    plt.plot(val_log,label='val accuracy')\n",
    "    plt.legend(loc='best')\n",
    "    plt.grid()\n",
    "    plt.show()\n",
    "    "
   ]
  },
  {
   "cell_type": "markdown",
   "metadata": {},
   "source": [
    "# Optional assignment\n",
    "\n",
    "I decided to implement Xavier initialization of the dense layer. This is very simple, I use numpy to draw samples out of a gaussian distribution of mean 0 and variance $$\\frac{2}{n_{in} + n_{out}}$$."
   ]
  },
  {
   "cell_type": "code",
   "execution_count": 243,
   "metadata": {},
   "outputs": [],
   "source": [
    "class DenseXavier(Dense):\n",
    "    def __init__(self, input_units, output_units, learning_rate=0.1, init_xavier=False):\n",
    "        Dense.__init__(self, input_units, output_units, learning_rate=learning_rate)\n",
    "\n",
    "        if init_xavier:\n",
    "            self.weights = np.random.normal(0., np.sqrt(2./(input_units + output_units)), (input_units, output_units))\n",
    "\n"
   ]
  },
  {
   "cell_type": "markdown",
   "metadata": {},
   "source": [
    "Let's compare a 5 hidden layer network, with and without xavier initialization."
   ]
  },
  {
   "cell_type": "code",
   "execution_count": 244,
   "metadata": {},
   "outputs": [],
   "source": [
    "def test_network(init_xavier=False):\n",
    "    inner_width = 50\n",
    "    network_xavier = []\n",
    "\n",
    "    network_xavier.append(DenseXavier(X_train.shape[1],inner_width, init_xavier=init_xavier))\n",
    "    network_xavier.append(ReLU())\n",
    "    for i in range(5):\n",
    "        network_xavier.append(DenseXavier(inner_width,inner_width, init_xavier=init_xavier))\n",
    "        network_xavier.append(ReLU())\n",
    "    network_xavier.append(DenseXavier(inner_width,10, init_xavier=init_xavier))\n",
    "\n",
    "    from IPython.display import clear_output\n",
    "\n",
    "    train_log = []\n",
    "    val_log = []\n",
    "\n",
    "\n",
    "    for epoch in range(10):\n",
    "\n",
    "        for x_batch,y_batch in iterate_minibatches(X_train,y_train,batchsize=200,shuffle=True):\n",
    "            train(network_xavier,x_batch,y_batch)\n",
    "\n",
    "#         print(\"y_train\", y_train[:10], \"predict\", predict(network_xavier, X_train)[:10])\n",
    "        train_log.append(np.mean(predict(network_xavier,X_train)==y_train))\n",
    "        val_log.append(np.mean(predict(network_xavier,X_val)==y_val))\n",
    "\n",
    "        clear_output()\n",
    "        print(\"Epoch\",epoch)\n",
    "        print(\"Train accuracy:\",train_log[-1])\n",
    "        print(\"Val accuracy:\",val_log[-1])\n",
    "        plt.plot(train_log,label='train accuracy')\n",
    "        plt.plot(val_log,label='val accuracy')\n",
    "        plt.legend(loc='best')\n",
    "        plt.grid()\n",
    "        plt.show()"
   ]
  },
  {
   "cell_type": "code",
   "execution_count": 239,
   "metadata": {},
   "outputs": [
    {
     "name": "stdout",
     "output_type": "stream",
     "text": [
      "Epoch 9\n",
      "Train accuracy: 0.11356\n",
      "Val accuracy: 0.1064\n"
     ]
    },
    {
     "data": {
      "image/png": "iVBORw0KGgoAAAANSUhEUgAAAYQAAAD8CAYAAAB3u9PLAAAABHNCSVQICAgIfAhkiAAAAAlwSFlz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\nBDMzSzgQzMwMcCCYmVnCgWBmZgD8f9Yl/S1ZqsqPAAAAAElFTkSuQmCC\n",
      "text/plain": [
       "<matplotlib.figure.Figure at 0x202002ffc50>"
      ]
     },
     "metadata": {},
     "output_type": "display_data"
    }
   ],
   "source": [
    "test_network(init_xavier=False)"
   ]
  },
  {
   "cell_type": "code",
   "execution_count": 245,
   "metadata": {},
   "outputs": [
    {
     "name": "stdout",
     "output_type": "stream",
     "text": [
      "Epoch 9\n",
      "Train accuracy: 0.97844\n",
      "Val accuracy: 0.9675\n"
     ]
    },
    {
     "data": {
      "image/png": "iVBORw0KGgoAAAANSUhEUgAAAX0AAAD8CAYAAACb4nSYAAAABHNCSVQICAgIfAhkiAAAAAlwSFlz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\n",
      "text/plain": [
       "<matplotlib.figure.Figure at 0x2020013bf60>"
      ]
     },
     "metadata": {},
     "output_type": "display_data"
    }
   ],
   "source": [
    "test_network(init_xavier=True)"
   ]
  },
  {
   "cell_type": "markdown",
   "metadata": {},
   "source": [
    "We can see that with the normal initialization (random standard distribution scaled by 0.001), the gradients disappear entirely, and the network never gets too learn anything by the time we reach the input layers. By choosing the initialization weights from a normal distribution with larger variance, we avoid that issue, and the network quickly trains."
   ]
  },
  {
   "cell_type": "markdown",
   "metadata": {},
   "source": [
    "### Peer-reviewed assignment\n",
    "\n",
    "Congradulations, you managed to get this far! There is just one quest left undone, and this time you'll get to choose what to do.\n",
    "\n",
    "\n",
    "#### Option I: initialization\n",
    "* Implement Dense layer with Xavier initialization as explained [here](http://bit.ly/2vTlmaJ)\n",
    "\n",
    "To pass this assignment, you must conduct an experiment showing how xavier initialization compares to default initialization on deep networks (5+ layers).\n",
    "\n",
    "\n",
    "#### Option II: regularization\n",
    "* Implement a version of Dense layer with L2 regularization penalty: when updating Dense Layer weights, adjust gradients to minimize\n",
    "\n",
    "$$ Loss = Crossentropy + \\alpha \\cdot \\underset i \\sum {w_i}^2 $$\n",
    "\n",
    "To pass this assignment, you must conduct an experiment showing if regularization mitigates overfitting in case of abundantly large number of neurons. Consider tuning $\\alpha$ for better results.\n",
    "\n",
    "#### Option III: optimization\n",
    "* Implement a version of Dense layer that uses momentum/rmsprop or whatever method worked best for you last time.\n",
    "\n",
    "Most of those methods require persistent parameters like momentum direction or moving average grad norm, but you can easily store those params inside your layers.\n",
    "\n",
    "To pass this assignment, you must conduct an experiment showing how your chosen method performs compared to vanilla SGD.\n",
    "\n",
    "### General remarks\n",
    "_Please read the peer-review guidelines before starting this part of the assignment._\n",
    "\n",
    "In short, a good solution is one that:\n",
    "* is based on this notebook\n",
    "* runs in the default course environment with Run All\n",
    "* its code doesn't cause spontaneous eye bleeding\n",
    "* its report is easy to read.\n",
    "\n",
    "_Formally we can't ban you from writing boring reports, but if you bored your reviewer to death, there's noone left alive to give you the grade you want._\n",
    "\n",
    "\n",
    "### Bonus assignments\n",
    "\n",
    "As a bonus assignment (no points, just swag), consider implementing Batch Normalization ([guide](https://gab41.lab41.org/batch-normalization-what-the-hey-d480039a9e3b)) or Dropout ([guide](https://medium.com/@amarbudhiraja/https-medium-com-amarbudhiraja-learning-less-to-learn-better-dropout-in-deep-machine-learning-74334da4bfc5)). Note, however, that those \"layers\" behave differently when training and when predicting on test set.\n",
    "\n",
    "* Dropout:\n",
    "  * During training: drop units randomly with probability __p__ and multiply everything by __1/(1-p)__\n",
    "  * During final predicton: do nothing; pretend there's no dropout\n",
    "  \n",
    "* Batch normalization\n",
    "  * During training, it substracts mean-over-batch and divides by std-over-batch and updates mean and variance.\n",
    "  * During final prediction, it uses accumulated mean and variance.\n"
   ]
  }
 ],
 "metadata": {
  "kernelspec": {
   "display_name": "Python 3",
   "language": "python",
   "name": "python3"
  },
  "language_info": {
   "codemirror_mode": {
    "name": "ipython",
    "version": 3
   },
   "file_extension": ".py",
   "mimetype": "text/x-python",
   "name": "python",
   "nbconvert_exporter": "python",
   "pygments_lexer": "ipython3",
   "version": "3.6.3"
  },
  "toc": {
   "colors": {
    "hover_highlight": "#DAA520",
    "navigate_num": "#000000",
    "navigate_text": "#333333",
    "running_highlight": "#FF0000",
    "selected_highlight": "#FFD700",
    "sidebar_border": "#EEEEEE",
    "wrapper_background": "#FFFFFF"
   },
   "moveMenuLeft": true,
   "nav_menu": {
    "height": "264px",
    "width": "252px"
   },
   "navigate_menu": true,
   "number_sections": true,
   "sideBar": true,
   "threshold": 4,
   "toc_cell": false,
   "toc_section_display": "block",
   "toc_window_display": false,
   "widenNotebook": false
  }
 },
 "nbformat": 4,
 "nbformat_minor": 2
}
