{
 "cells": [
  {
   "cell_type": "code",
   "execution_count": 1,
   "metadata": {},
   "outputs": [
    {
     "name": "stderr",
     "output_type": "stream",
     "text": [
      "Using TensorFlow backend.\n"
     ]
    },
    {
     "name": "stdout",
     "output_type": "stream",
     "text": [
      "(50000, 28, 28) (50000,)\n"
     ]
    },
    {
     "data": {
      "image/png": "[encoded data removed]",
      "text/plain": [
       "<matplotlib.figure.Figure at 0x269bf2a7a20>"
      ]
     },
     "metadata": {},
     "output_type": "display_data"
    }
   ],
   "source": [
    "from preprocessed_mnist import load_dataset\n",
    "X_train, y_train, X_val, y_val, X_test, y_test = load_dataset()\n",
    "print(X_train.shape, y_train.shape)\n",
    "import matplotlib.pyplot as plt\n",
    "%matplotlib inline\n",
    "plt.imshow(X_train[0], cmap=\"Greys\");"
   ]
  },
  {
   "cell_type": "code",
   "execution_count": 2,
   "metadata": {
    "collapsed": true
   },
   "outputs": [],
   "source": [
    "import tensorflow as tf\n",
    "import numpy as np"
   ]
  },
  {
   "cell_type": "markdown",
   "metadata": {},
   "source": [
    "## Preparation\n",
    "\n",
    "Relaunch tensorboard, and import useful libraries."
   ]
  },
  {
   "cell_type": "code",
   "execution_count": 2,
   "metadata": {},
   "outputs": [
    {
     "name": "stdout",
     "output_type": "stream",
     "text": [
      "No matching processes belonging to you were found\r\n"
     ]
    }
   ],
   "source": [
    "! killall tensorboard\n",
    "import os\n",
    "os.system(\"tensorboard --logdir=/tmp/tboard --port=7007 &\");\n",
    "\n",
    "import tensorflow as tf\n",
    "\n",
    "import numpy as np"
   ]
  },
  {
   "cell_type": "markdown",
   "metadata": {},
   "source": [
    "# Data inspection and preparation\n",
    "\n",
    "We first take a look at the data, and prepare a version having just two classes."
   ]
  },
  {
   "cell_type": "code",
   "execution_count": null,
   "metadata": {
    "collapsed": true
   },
   "outputs": [],
   "source": [
    "X_train.shape"
   ]
  },
  {
   "cell_type": "code",
   "execution_count": 3,
   "metadata": {},
   "outputs": [
    {
     "data": {
      "text/plain": [
       "array([5, 0, 4, 1, 9, 2, 1, 3, 1, 4], dtype=uint8)"
      ]
     },
     "execution_count": 3,
     "metadata": {},
     "output_type": "execute_result"
    }
   ],
   "source": [
    "y_train[:10]"
   ]
  },
  {
   "cell_type": "markdown",
   "metadata": {},
   "source": [
    "Let's create a flattened version of the data, because tensorflow has difficulty computing gradients across a reshape node."
   ]
  },
  {
   "cell_type": "code",
   "execution_count": null,
   "metadata": {
    "collapsed": true
   },
   "outputs": [],
   "source": [
    "with tf.variable_scope(\"1nn-reshaper\"):\n",
    "    # input shape\n",
    "    x = tf.placeholder(tf.float32, shape=(None, rows, cols), name=\"input_X\")\n",
    "    y = tf.placeholder(tf.uint8, shape=(None,), name=\"input_Y\")\n",
    "\n",
    "    one_hot_y = tf.one_hot(y, 10)\n",
    "    flat_x = tf.reshape(x, [-1, rows * cols])\n",
    "\n",
    "X_train_flat, y_train_one_hot = s.run([flat_x, one_hot_y], feed_dict={\n",
    "    x: X_train,\n",
    "    y: y_train\n",
    "})"
   ]
  },
  {
   "cell_type": "markdown",
   "metadata": {},
   "source": [
    "## Single layer neural network\n",
    "\n",
    "We first create a simple single layer neural network. We use a one_hot encode layer and a reshape layer to create a flat X. This will prove to be troublesome in the future, but it works for the first version. We use a softmax function to compute the predicted classes.\n",
    "\n",
    "Also, for debugging, we create the `correct_prediction` and `accuracy` nodes, to avoid having to compute these metrics by hand after running the network."
   ]
  },
  {
   "cell_type": "code",
   "execution_count": 4,
   "metadata": {
    "collapsed": true
   },
   "outputs": [],
   "source": [
    "rows = 28\n",
    "cols = 28\n",
    "classes = 10\n",
    "\n",
    "tf.reset_default_graph()\n",
    "s = tf.InteractiveSession()\n",
    "\n",
    "with tf.variable_scope(\"1nn\"):\n",
    "    weights = tf.get_variable(\"weights\", \n",
    "                              [rows * cols, classes],\n",
    "                              initializer=tf.random_normal_initializer(mean=0, stddev=1e-3),\n",
    "                              dtype=tf.float32)\n",
    "    b = tf.get_variable(\"bias\", [classes],\n",
    "                    initializer=tf.random_uniform_initializer(minval=0, maxval=1e-3),\n",
    "                    dtype=tf.float32)\n",
    "\n",
    "    input_X = tf.placeholder(tf.float32, shape=(None, rows, cols), name=\"input_X\")\n",
    "    input_y = tf.placeholder(tf.uint8, shape=(None,), name=\"input_Y\")\n",
    "\n",
    "    one_hot_y = tf.one_hot(input_y, classes)\n",
    "    flat_X = tf.reshape(input_X, [-1, rows * cols])\n",
    "    \n",
    "    predicted_y = tf.nn.softmax(tf.matmul(flat_X, weights) + b)\n",
    "    class_loss = -tf.log(predicted_y) * one_hot_y - tf.log(1 - predicted_y) * (1 - one_hot_y)\n",
    "    loss = tf.reduce_mean(class_loss)\n",
    "    \n",
    "    correct_prediction = tf.equal(tf.cast(input_y, tf.int64), tf.argmax(predicted_y, 1))\n",
    "    accuracy = tf.reduce_mean(tf.cast(correct_prediction, tf.float32))\n",
    "\n",
    "    optimizer = tf.train.GradientDescentOptimizer(0.5).minimize(loss)"
   ]
  },
  {
   "cell_type": "markdown",
   "metadata": {},
   "source": [
    "Let's test that the weights get correctly initialized."
   ]
  },
  {
   "cell_type": "code",
   "execution_count": 5,
   "metadata": {},
   "outputs": [
    {
     "name": "stdout",
     "output_type": "stream",
     "text": [
      "[array([[  5.79033105e-04,   5.30614925e-04,   3.36251920e-04, ...,\n",
      "          2.76694028e-03,   1.15641451e-03,  -1.63831748e-03],\n",
      "       [ -1.58736168e-03,   1.21381214e-04,  -2.19016010e-03, ...,\n",
      "          1.32015243e-03,   4.94840438e-04,   1.25256577e-03],\n",
      "       [ -3.99170749e-05,   3.11565556e-04,   6.22138497e-04, ...,\n",
      "         -6.53253344e-04,   4.62306161e-05,  -8.24748189e-04],\n",
      "       ..., \n",
      "       [  1.43660349e-04,  -8.87794231e-05,   2.98190513e-04, ...,\n",
      "          2.59238703e-04,   4.58338851e-04,  -1.08343644e-04],\n",
      "       [  8.14772618e-04,   6.56542543e-04,   1.24888425e-03, ...,\n",
      "         -9.27994843e-04,  -7.12979992e-04,   1.58063893e-03],\n",
      "       [  5.21749025e-04,  -1.53792300e-03,   1.33906677e-03, ...,\n",
      "         -1.45935116e-03,  -2.51419330e-03,   1.67449866e-03]], dtype=float32), array([  2.86260271e-04,   9.36999510e-04,   8.29001729e-05,\n",
      "         5.16016968e-04,   8.68820585e-04,   6.75416377e-04,\n",
      "         8.76370585e-04,   2.40242618e-04,   2.61650217e-04,\n",
      "         6.24309832e-05], dtype=float32)]\n"
     ]
    }
   ],
   "source": [
    "s.run(tf.global_variables_initializer())\n",
    "print(s.run([weights, b]))"
   ]
  },
  {
   "cell_type": "markdown",
   "metadata": {},
   "source": [
    "Let's test that the network computes different values correctly, or at least that they seem to be roughly correct. I struggled a bit with different data shapes and wrong initialization. I decided to keep this step to show what pains I went through."
   ]
  },
  {
   "cell_type": "code",
   "execution_count": 7,
   "metadata": {},
   "outputs": [
    {
     "data": {
      "text/plain": [
       "[array([[  5.79033105e-04,   5.30614925e-04,   3.36251920e-04, ...,\n",
       "           2.76694028e-03,   1.15641451e-03,  -1.63831748e-03],\n",
       "        [ -1.58736168e-03,   1.21381214e-04,  -2.19016010e-03, ...,\n",
       "           1.32015243e-03,   4.94840438e-04,   1.25256577e-03],\n",
       "        [ -3.99170749e-05,   3.11565556e-04,   6.22138497e-04, ...,\n",
       "          -6.53253344e-04,   4.62306161e-05,  -8.24748189e-04],\n",
       "        ..., \n",
       "        [  1.43660349e-04,  -8.87794231e-05,   2.98190513e-04, ...,\n",
       "           2.59238703e-04,   4.58338851e-04,  -1.08343644e-04],\n",
       "        [  8.14772618e-04,   6.56542543e-04,   1.24888425e-03, ...,\n",
       "          -9.27994843e-04,  -7.12979992e-04,   1.58063893e-03],\n",
       "        [  5.21749025e-04,  -1.53792300e-03,   1.33906677e-03, ...,\n",
       "          -1.45935116e-03,  -2.51419330e-03,   1.67449866e-03]], dtype=float32),\n",
       " array([  2.86260271e-04,   9.36999510e-04,   8.29001729e-05,\n",
       "          5.16016968e-04,   8.68820585e-04,   6.75416377e-04,\n",
       "          8.76370585e-04,   2.40242618e-04,   2.61650217e-04,\n",
       "          6.24309832e-05], dtype=float32),\n",
       " array([[ 0.10137516,  0.10030492,  0.09839335,  0.10016569,  0.10039964,\n",
       "          0.10035313,  0.09931353,  0.09967161,  0.09963091,  0.10039211],\n",
       "        [ 0.10024301,  0.10021225,  0.10119337,  0.09891429,  0.10105252,\n",
       "          0.09899658,  0.10070042,  0.09855074,  0.10112355,  0.0990133 ],\n",
       "        [ 0.09860776,  0.0992314 ,  0.09991227,  0.1002026 ,  0.10112312,\n",
       "          0.10064189,  0.09889916,  0.09989031,  0.10192948,  0.099562  ]], dtype=float32),\n",
       " array([[ 0.10688964,  0.10569935,  0.10357691,  0.10554467,  0.10580463,\n",
       "          2.29906011,  0.10459802,  0.1049957 ,  0.10495048,  0.10579628],\n",
       "        [ 2.30015802,  0.10559641,  0.10668736,  0.10415487,  0.10653067,\n",
       "          0.10424622,  0.10613909,  0.10375152,  0.10660971,  0.10426481],\n",
       "        [ 0.1038148 ,  0.10450691,  0.10526306,  0.10558567,  2.29141641,\n",
       "          0.106074  ,  0.10413814,  0.10523862,  0.10750669,  0.10487396]], dtype=float32),\n",
       " array([[ 0.,  0.,  0.,  0.,  0.,  1.,  0.,  0.,  0.,  0.],\n",
       "        [ 1.,  0.,  0.,  0.,  0.,  0.,  0.,  0.,  0.,  0.],\n",
       "        [ 0.,  0.,  0.,  0.,  1.,  0.,  0.,  0.,  0.,  0.]], dtype=float32),\n",
       " 0.32444909,\n",
       " array([False, False, False], dtype=bool),\n",
       " 0.0]"
      ]
     },
     "execution_count": 7,
     "metadata": {},
     "output_type": "execute_result"
    }
   ],
   "source": [
    "s.run([weights, b, predicted_y, class_loss, one_hot_y, loss, correct_prediction, accuracy],\n",
    "     {\n",
    "         input_X: X_train[:3],\n",
    "         input_y: y_train[:3]\n",
    "     })"
   ]
  },
  {
   "cell_type": "markdown",
   "metadata": {},
   "source": [
    "Finally, compute accuracy metrics when training the network."
   ]
  },
  {
   "cell_type": "code",
   "execution_count": 8,
   "metadata": {
    "collapsed": true
   },
   "outputs": [],
   "source": [
    "s.run(tf.global_variables_initializer())\n",
    "\n",
    "losses = []\n",
    "test_accuracies = []\n",
    "train_accuracies = []\n",
    "\n",
    "for i in range(30):\n",
    "    s.run(optimizer, {input_X: X_train, input_y: y_train})\n",
    "    loss_i = s.run(loss,  {input_X: X_train, input_y: y_train})\n",
    "    losses += [loss_i]\n",
    "    train_accuracies += [s.run(accuracy, {input_X:X_train, input_y: y_train})]\n",
    "    test_accuracies += [s.run(accuracy, {input_X:X_test, input_y: y_test})]\n"
   ]
  },
  {
   "cell_type": "code",
   "execution_count": 9,
   "metadata": {},
   "outputs": [
    {
     "data": {
      "text/plain": [
       "<matplotlib.legend.Legend at 0x11019aeb8>"
      ]
     },
     "execution_count": 9,
     "metadata": {},
     "output_type": "execute_result"
    },
    {
     "data": {
      "image/png": "[encoded data removed]",
      "text/plain": [
       "<matplotlib.figure.Figure at 0x13c27d780>"
      ]
     },
     "metadata": {},
     "output_type": "display_data"
    }
   ],
   "source": [
    "plt.figure()\n",
    "plt.plot(losses);\n",
    "plt.plot(train_accuracies)\n",
    "plt.plot(test_accuracies);\n",
    "plt.legend(['loss', 'training accuracy', 'test accuracy'])\n"
   ]
  },
  {
   "cell_type": "markdown",
   "metadata": {},
   "source": [
    "## Multilayer neural network\n",
    "\n",
    "In this neural network, we use a second 50 neuron layer. The first layer has a sigmoid activation function."
   ]
  },
  {
   "cell_type": "code",
   "execution_count": 50,
   "metadata": {},
   "outputs": [
    {
     "name": "stdout",
     "output_type": "stream",
     "text": [
      "(50000, 28, 28) (50000,)\n",
      "sigma 0.4\n"
     ]
    }
   ],
   "source": [
    "from preprocessed_mnist import load_dataset\n",
    "X_train, y_train, X_val, y_val, X_test, y_test = load_dataset()\n",
    "print(X_train.shape, y_train.shape)\n",
    "\n",
    "import tensorflow as tf\n",
    "\n",
    "rows = 28\n",
    "cols = 28\n",
    "classes = 10\n",
    "\n",
    "layer_cnt = 0\n",
    "\n",
    "def add_layer(in_, size, output_f):\n",
    "    global layer_cnt\n",
    "    \n",
    "    W2 = tf.get_variable(\"weights{}\".format(layer_cnt),\n",
    "                         [in_.shape[1], size],\n",
    "                         initializer=tf.random_normal_initializer(mean=0, stddev=sigma),\n",
    "                         dtype=tf.float32)\n",
    "    b2 = tf.get_variable(\"bias{}\".format(layer_cnt),\n",
    "                         [size],\n",
    "                         initializer=tf.zeros_initializer(),\n",
    "                         dtype=tf.float32)\n",
    "\n",
    "    y2 = output_f(tf.matmul(in_, W2) + b2)\n",
    "    \n",
    "    layer_cnt += 1\n",
    "    return y2\n",
    "\n",
    "hidden_size = 30\n",
    "\n",
    "tf.reset_default_graph()\n",
    "s = tf.InteractiveSession()\n",
    "\n",
    "with tf.variable_scope(\"1nn-2layers\"):\n",
    "    # input shape\n",
    "    input_x = tf.placeholder(tf.float32, shape=(None, rows, cols), name=\"input_X\")\n",
    "    label_y = tf.placeholder(tf.uint8, shape=(None,), name=\"input_Y\")\n",
    "\n",
    "    y_ = tf.one_hot(label_y, classes, dtype=tf.float32)\n",
    "    x = tf.reshape(input_x, [-1, rows * cols])\n",
    "    \n",
    "    sigma = np.sqrt(2. / 10.)\n",
    "    sigma = 0.4\n",
    "    print(\"sigma\", sigma)\n",
    "  \n",
    "    # input layer\n",
    "    y1 = add_layer(x, 50, tf.nn.sigmoid)\n",
    "    y2 = add_layer(y1, 30, tf.nn.sigmoid)\n",
    "    y3 = add_layer(y2, 10, tf.nn.softmax)\n",
    "\n",
    "    # output\n",
    "    y = y3\n",
    "\n",
    "    loss = tf.reduce_mean(-tf.reduce_sum(tf.cast(y_, tf.float32) * tf.log(y), \n",
    "    reduction_indices=[1]))\n",
    "    \n",
    "    correct_prediction = tf.equal(tf.argmax(y_, 1), tf.argmax(y, 1))\n",
    "    accuracy = tf.reduce_mean(tf.cast(correct_prediction, tf.float32))\n",
    "\n",
    "    optimizer = tf.train.GradientDescentOptimizer(2.).minimize(loss)\n",
    "    \n",
    "    s.run(tf.global_variables_initializer())\n",
    "\n"
   ]
  },
  {
   "cell_type": "markdown",
   "metadata": {},
   "source": [
    "Next, we create a generator that will provide us with randomized minibatches, to do incremental training."
   ]
  },
  {
   "cell_type": "code",
   "execution_count": 51,
   "metadata": {
    "collapsed": true
   },
   "outputs": [],
   "source": [
    "import random\n",
    "\n",
    "class MiniBatchGenerator:\n",
    "    def __init__(self, X, y, batch_size):\n",
    "        self.X = X.copy()\n",
    "        self.y = y.copy()\n",
    "        self.batch_size = batch_size\n",
    "        self.current_i = 0\n",
    "        self.total_size = len(self.X)\n",
    "        \n",
    "        self.reshuffle()\n",
    "        \n",
    "    def reshuffle(self):        \n",
    "        idxs = list(range(self.total_size))\n",
    "        random.shuffle(idxs)\n",
    "        self.X_shuffled = self.X[idxs]\n",
    "        self.y_shuffled = self.y[idxs]        \n",
    "        \n",
    "    def __iter__(self):\n",
    "        return self\n",
    "    \n",
    "    def __next__(self):\n",
    "        return self.next()\n",
    "    \n",
    "    def next(self):\n",
    "        res_X = []\n",
    "        res_y = []\n",
    "        \n",
    "        end_i = self.current_i + self.batch_size\n",
    "        \n",
    "        if end_i > self.total_size:\n",
    "            rem = end_i - self.total_size\n",
    "            res_X = self.X_shuffled[self.current_i:]\n",
    "            res_y = self.y_shuffled[self.current_i:]\n",
    "            self.reshuffle()\n",
    "            res_X = np.append(res_X, self.X_shuffled[:rem], axis=0)\n",
    "            res_y = np.append(res_y, self.y_shuffled[:rem])\n",
    "            self.current_i = rem\n",
    "        else:\n",
    "            res_X = self.X_shuffled[self.current_i:end_i]\n",
    "            res_y = self.y_shuffled[self.current_i:end_i]\n",
    "            self.current_i = end_i\n",
    "        \n",
    "        return res_X, res_y"
   ]
  },
  {
   "cell_type": "code",
   "execution_count": 58,
   "metadata": {
    "scrolled": true
   },
   "outputs": [
    {
     "name": "stdout",
     "output_type": "stream",
     "text": [
      "(50000, 28, 28)\n",
      "(50000,)\n",
      "0 - loss: 4.409256935119629, train: 0.1011200100183487, test: 0.10099999606609344\n",
      "100 - loss: 0.4671499729156494, train: 0.8642799854278564, test: 0.8699000477790833\n",
      "200 - loss: 0.33546558022499084, train: 0.9081599712371826, test: 0.9108000993728638\n",
      "300 - loss: 0.2517157793045044, train: 0.9221798777580261, test: 0.9245001673698425\n",
      "400 - loss: 0.21394377946853638, train: 0.9329999089241028, test: 0.9317001104354858\n",
      "500 - loss: 0.18056724965572357, train: 0.9417999982833862, test: 0.9396001696586609\n",
      "600 - loss: 0.21675868332386017, train: 0.9448798298835754, test: 0.9401001334190369\n",
      "700 - loss: 0.18241411447525024, train: 0.9503399133682251, test: 0.9447001218795776\n",
      "800 - loss: 0.1484137922525406, train: 0.954779863357544, test: 0.9470000267028809\n",
      "900 - loss: 0.17482277750968933, train: 0.9571998119354248, test: 0.9494001269340515\n",
      "1000 - loss: 0.14041931927204132, train: 0.9609197974205017, test: 0.9521000981330872\n",
      "1100 - loss: 0.1381821632385254, train: 0.9622998237609863, test: 0.9528000950813293\n",
      "1200 - loss: 0.14377984404563904, train: 0.9652398228645325, test: 0.9531001448631287\n",
      "1300 - loss: 0.13850687444210052, train: 0.9653598666191101, test: 0.9544001221656799\n",
      "1400 - loss: 0.09984259307384491, train: 0.9685997366905212, test: 0.9556001424789429\n",
      "1500 - loss: 0.09109169989824295, train: 0.9700397849082947, test: 0.9565001726150513\n",
      "1600 - loss: 0.07407283782958984, train: 0.9710198640823364, test: 0.9557000994682312\n",
      "1700 - loss: 0.09737992286682129, train: 0.9738798141479492, test: 0.9581000804901123\n",
      "1800 - loss: 0.10932029038667679, train: 0.9739998579025269, test: 0.9586001038551331\n",
      "1900 - loss: 0.0717572271823883, train: 0.9760198593139648, test: 0.9594000577926636\n",
      "2000 - loss: 0.11350932717323303, train: 0.9743398427963257, test: 0.9578001499176025\n",
      "2100 - loss: 0.08546103537082672, train: 0.9780397415161133, test: 0.959800124168396\n",
      "2200 - loss: 0.08216743171215057, train: 0.9790797829627991, test: 0.9600001573562622\n",
      "2300 - loss: 0.07459298521280289, train: 0.9800997376441956, test: 0.9614002108573914\n",
      "2400 - loss: 0.06866050511598587, train: 0.9806598424911499, test: 0.9614001512527466\n",
      "2500 - loss: 0.0563042089343071, train: 0.9813398122787476, test: 0.9611001014709473\n",
      "2600 - loss: 0.0840655267238617, train: 0.9822396636009216, test: 0.9621001482009888\n",
      "2700 - loss: 0.062494173645973206, train: 0.9827797412872314, test: 0.9617000818252563\n",
      "2800 - loss: 0.06169988214969635, train: 0.9840797781944275, test: 0.9615001678466797\n",
      "2900 - loss: 0.06104014441370964, train: 0.9847997426986694, test: 0.9635001420974731\n",
      "3000 - loss: 0.054010700434446335, train: 0.9850397706031799, test: 0.9623001217842102\n",
      "3100 - loss: 0.05972354859113693, train: 0.9856797456741333, test: 0.9621001482009888\n",
      "3200 - loss: 0.04732382670044899, train: 0.9869598150253296, test: 0.9632001519203186\n",
      "3300 - loss: 0.04461211711168289, train: 0.9878197312355042, test: 0.9635000824928284\n",
      "3400 - loss: 0.04216843098402023, train: 0.9880997538566589, test: 0.9642001390457153\n",
      "3500 - loss: 0.050493963062763214, train: 0.9887197613716125, test: 0.9645001292228699\n",
      "3600 - loss: 0.04758436977863312, train: 0.9891998171806335, test: 0.9630001783370972\n",
      "3700 - loss: 0.053810738027095795, train: 0.9895197749137878, test: 0.9633001089096069\n",
      "3800 - loss: 0.039902426302433014, train: 0.9901196956634521, test: 0.9643001556396484\n",
      "3900 - loss: 0.039007678627967834, train: 0.9905396699905396, test: 0.9638001322746277\n",
      "4000 - loss: 0.03251204267144203, train: 0.9911797642707825, test: 0.9636000990867615\n",
      "4100 - loss: 0.036484528332948685, train: 0.991759717464447, test: 0.9636000990867615\n",
      "4200 - loss: 0.03022245317697525, train: 0.9916996955871582, test: 0.9645000696182251\n",
      "4300 - loss: 0.04685625433921814, train: 0.9923797249794006, test: 0.9642001390457153\n",
      "4400 - loss: 0.02449868991971016, train: 0.9928197264671326, test: 0.9638001322746277\n",
      "4500 - loss: 0.03912704065442085, train: 0.9923997521400452, test: 0.9636000990867615\n",
      "4600 - loss: 0.02495914325118065, train: 0.9931997656822205, test: 0.9635000824928284\n",
      "4700 - loss: 0.026655122637748718, train: 0.9937597513198853, test: 0.9630001783370972\n",
      "4800 - loss: 0.04231344535946846, train: 0.9935797452926636, test: 0.9630001783370972\n",
      "4900 - loss: 0.03734546899795532, train: 0.994239866733551, test: 0.9643001556396484\n",
      "5000 - loss: 0.015999287366867065, train: 0.9946397542953491, test: 0.9630002379417419\n",
      "5100 - loss: 0.040168605744838715, train: 0.9947997331619263, test: 0.9633001685142517\n",
      "5200 - loss: 0.018735338002443314, train: 0.995239794254303, test: 0.9636001586914062\n",
      "5300 - loss: 0.03258363530039787, train: 0.9951998591423035, test: 0.9630001187324524\n",
      "5400 - loss: 0.02184372954070568, train: 0.9958597421646118, test: 0.9633000493049622\n",
      "5500 - loss: 0.02683674916625023, train: 0.996019721031189, test: 0.9632001519203186\n",
      "5600 - loss: 0.028815248981118202, train: 0.9961796402931213, test: 0.9633001089096069\n",
      "5700 - loss: 0.018088463693857193, train: 0.9963197112083435, test: 0.9632001519203186\n",
      "5800 - loss: 0.03349122405052185, train: 0.9962596893310547, test: 0.9628000855445862\n",
      "5900 - loss: 0.023278282955288887, train: 0.9967797994613647, test: 0.962800145149231\n",
      "6000 - loss: 0.019877836108207703, train: 0.996479868888855, test: 0.9635000824928284\n",
      "6100 - loss: 0.014242297038435936, train: 0.9971997737884521, test: 0.96340012550354\n",
      "6200 - loss: 0.01556132361292839, train: 0.9972997307777405, test: 0.9624001979827881\n",
      "6300 - loss: 0.018962448462843895, train: 0.9973998069763184, test: 0.9633001089096069\n",
      "6400 - loss: 0.018365982919931412, train: 0.9975398182868958, test: 0.9633001089096069\n",
      "6500 - loss: 0.030435049906373024, train: 0.9974196553230286, test: 0.9631001353263855\n",
      "6600 - loss: 0.012691328302025795, train: 0.9977597594261169, test: 0.9631001949310303\n",
      "6700 - loss: 0.013867557048797607, train: 0.9979798197746277, test: 0.9622001647949219\n"
     ]
    },
    {
     "ename": "KeyboardInterrupt",
     "evalue": "",
     "output_type": "error",
     "traceback": [
      "\u001b[1;31m---------------------------------------------------------------------------\u001b[0m",
      "\u001b[1;31mKeyboardInterrupt\u001b[0m                         Traceback (most recent call last)",
      "\u001b[1;32m<ipython-input-58-234fda98eb0d>\u001b[0m in \u001b[0;36m<module>\u001b[1;34m()\u001b[0m\n\u001b[0;32m     17\u001b[0m         \u001b[0mloss\u001b[0m\u001b[1;33m,\u001b[0m \u001b[0maccuracy\u001b[0m\u001b[1;33m,\u001b[0m \u001b[0moptimizer\u001b[0m\u001b[1;33m\u001b[0m\u001b[0m\n\u001b[0;32m     18\u001b[0m     \u001b[1;33m]\u001b[0m\u001b[1;33m,\u001b[0m  \u001b[1;33m{\u001b[0m\u001b[0minput_x\u001b[0m\u001b[1;33m:\u001b[0m \u001b[0mX_batch\u001b[0m\u001b[1;33m,\u001b[0m\u001b[1;33m\u001b[0m\u001b[0m\n\u001b[1;32m---> 19\u001b[1;33m                      label_y: y_batch})\n\u001b[0m\u001b[0;32m     20\u001b[0m \u001b[1;33m\u001b[0m\u001b[0m\n\u001b[0;32m     21\u001b[0m     \u001b[1;32mif\u001b[0m \u001b[0mi\u001b[0m \u001b[1;33m%\u001b[0m \u001b[1;36m100\u001b[0m \u001b[1;33m==\u001b[0m \u001b[1;36m0\u001b[0m\u001b[1;33m:\u001b[0m\u001b[1;33m\u001b[0m\u001b[0m\n",
      "\u001b[1;32mC:\\tools\\Anaconda3\\lib\\site-packages\\tensorflow\\python\\client\\session.py\u001b[0m in \u001b[0;36mrun\u001b[1;34m(self, fetches, feed_dict, options, run_metadata)\u001b[0m\n\u001b[0;32m    776\u001b[0m     \u001b[1;32mtry\u001b[0m\u001b[1;33m:\u001b[0m\u001b[1;33m\u001b[0m\u001b[0m\n\u001b[0;32m    777\u001b[0m       result = self._run(None, fetches, feed_dict, options_ptr,\n\u001b[1;32m--> 778\u001b[1;33m                          run_metadata_ptr)\n\u001b[0m\u001b[0;32m    779\u001b[0m       \u001b[1;32mif\u001b[0m \u001b[0mrun_metadata\u001b[0m\u001b[1;33m:\u001b[0m\u001b[1;33m\u001b[0m\u001b[0m\n\u001b[0;32m    780\u001b[0m         \u001b[0mproto_data\u001b[0m \u001b[1;33m=\u001b[0m \u001b[0mtf_session\u001b[0m\u001b[1;33m.\u001b[0m\u001b[0mTF_GetBuffer\u001b[0m\u001b[1;33m(\u001b[0m\u001b[0mrun_metadata_ptr\u001b[0m\u001b[1;33m)\u001b[0m\u001b[1;33m\u001b[0m\u001b[0m\n",
      "\u001b[1;32mC:\\tools\\Anaconda3\\lib\\site-packages\\tensorflow\\python\\client\\session.py\u001b[0m in \u001b[0;36m_run\u001b[1;34m(self, handle, fetches, feed_dict, options, run_metadata)\u001b[0m\n\u001b[0;32m    952\u001b[0m             \u001b[0mnp_val\u001b[0m \u001b[1;33m=\u001b[0m \u001b[0msubfeed_val\u001b[0m\u001b[1;33m.\u001b[0m\u001b[0mto_numpy_array\u001b[0m\u001b[1;33m(\u001b[0m\u001b[1;33m)\u001b[0m\u001b[1;33m\u001b[0m\u001b[0m\n\u001b[0;32m    953\u001b[0m           \u001b[1;32melse\u001b[0m\u001b[1;33m:\u001b[0m\u001b[1;33m\u001b[0m\u001b[0m\n\u001b[1;32m--> 954\u001b[1;33m             \u001b[0mnp_val\u001b[0m \u001b[1;33m=\u001b[0m \u001b[0mnp\u001b[0m\u001b[1;33m.\u001b[0m\u001b[0masarray\u001b[0m\u001b[1;33m(\u001b[0m\u001b[0msubfeed_val\u001b[0m\u001b[1;33m,\u001b[0m \u001b[0mdtype\u001b[0m\u001b[1;33m=\u001b[0m\u001b[0msubfeed_dtype\u001b[0m\u001b[1;33m)\u001b[0m\u001b[1;33m\u001b[0m\u001b[0m\n\u001b[0m\u001b[0;32m    955\u001b[0m \u001b[1;33m\u001b[0m\u001b[0m\n\u001b[0;32m    956\u001b[0m           if (not is_tensor_handle_feed and\n",
      "\u001b[1;32mC:\\tools\\Anaconda3\\lib\\site-packages\\numpy\\core\\numeric.py\u001b[0m in \u001b[0;36masarray\u001b[1;34m(a, dtype, order)\u001b[0m\n\u001b[0;32m    529\u001b[0m \u001b[1;33m\u001b[0m\u001b[0m\n\u001b[0;32m    530\u001b[0m     \"\"\"\n\u001b[1;32m--> 531\u001b[1;33m     \u001b[1;32mreturn\u001b[0m \u001b[0marray\u001b[0m\u001b[1;33m(\u001b[0m\u001b[0ma\u001b[0m\u001b[1;33m,\u001b[0m \u001b[0mdtype\u001b[0m\u001b[1;33m,\u001b[0m \u001b[0mcopy\u001b[0m\u001b[1;33m=\u001b[0m\u001b[1;32mFalse\u001b[0m\u001b[1;33m,\u001b[0m \u001b[0morder\u001b[0m\u001b[1;33m=\u001b[0m\u001b[0morder\u001b[0m\u001b[1;33m)\u001b[0m\u001b[1;33m\u001b[0m\u001b[0m\n\u001b[0m\u001b[0;32m    532\u001b[0m \u001b[1;33m\u001b[0m\u001b[0m\n\u001b[0;32m    533\u001b[0m \u001b[1;33m\u001b[0m\u001b[0m\n",
      "\u001b[1;31mKeyboardInterrupt\u001b[0m: "
     ]
    }
   ],
   "source": [
    "s.run(tf.global_variables_initializer())\n",
    "\n",
    "batcher = MiniBatchGenerator(X_train, y_train, 1000)\n",
    "print(X_train.shape)\n",
    "print(y_train.shape)\n",
    "\n",
    "losses = []\n",
    "batch_train_accuracies = []\n",
    "\n",
    "train_accuracies = []\n",
    "test_accuracies = []\n",
    "\n",
    "for i in range(10000):\n",
    "    X_batch, y_batch = batcher.next()\n",
    "    \n",
    "    loss_i, accuracy_i, optimizer_i = s.run([\n",
    "        loss, accuracy, optimizer\n",
    "    ],  {input_x: X_batch, \n",
    "                     label_y: y_batch})\n",
    "\n",
    "    if i % 100 == 0:        \n",
    "        losses += [loss_i]\n",
    "        batch_train_accuracies += [accuracy_i]\n",
    "        \n",
    "        accuracy_i = s.run(\n",
    "            accuracy \n",
    "        ,  {input_x: X_train, \n",
    "             label_y: y_train})\n",
    "        train_accuracies += [accuracy_i]\n",
    "        \n",
    "        test_accuracy_i = s.run(\n",
    "            accuracy \n",
    "        ,  {input_x: X_test, \n",
    "             label_y: y_test})\n",
    "        test_accuracies += [test_accuracy_i]\n",
    "        \n",
    "        print(\"{} - loss: {}, train: {}, test: {}\".format(i, loss_i, accuracy_i, test_accuracy_i))\n",
    "\n",
    "accuracy_i = s.run([\n",
    "    accuracy\n",
    "],  {input_x: X_test, \n",
    "     label_y: y_test})\n",
    "\n",
    "print(\"test_accuracy:\", accuracy_i)\n"
   ]
  },
  {
   "cell_type": "code",
   "execution_count": 54,
   "metadata": {},
   "outputs": [
    {
     "name": "stdout",
     "output_type": "stream",
     "text": [
      "test_accuracy: [0.95810014]\n"
     ]
    }
   ],
   "source": [
    "accuracy_i = s.run([\n",
    "    accuracy\n",
    "],  {input_x: X_test, \n",
    "     label_y: y_test})\n",
    "\n",
    "print(\"test_accuracy:\", accuracy_i)"
   ]
  },
  {
   "cell_type": "code",
   "execution_count": null,
   "metadata": {
    "collapsed": true
   },
   "outputs": [],
   "source": [
    "28 * 28 * 100"
   ]
  },
  {
   "cell_type": "code",
   "execution_count": 59,
   "metadata": {},
   "outputs": [
    {
     "data": {
      "text/plain": [
       "<matplotlib.legend.Legend at 0x26986af9908>"
      ]
     },
     "execution_count": 59,
     "metadata": {},
     "output_type": "execute_result"
    },
    {
     "data": {
      "image/png": "[encoded data removed]",
      "text/plain": [
       "<matplotlib.figure.Figure at 0x269865d6b00>"
      ]
     },
     "metadata": {},
     "output_type": "display_data"
    }
   ],
   "source": [
    "plt.figure()\n",
    "plt.plot(losses);\n",
    "plt.plot(batch_train_accuracies)\n",
    "plt.plot(train_accuracies)\n",
    "plt.plot(test_accuracies);\n",
    "plt.legend(['loss', 'batch train accuracy', 'training accuracy', 'test accuracy'])"
   ]
  },
  {
   "cell_type": "code",
   "execution_count": 68,
   "metadata": {},
   "outputs": [
    {
     "data": {
      "text/plain": [
       "<matplotlib.legend.Legend at 0x269872f5a20>"
      ]
     },
     "execution_count": 68,
     "metadata": {},
     "output_type": "execute_result"
    },
    {
     "data": {
      "image/png": "[encoded data removed]",
      "text/plain": [
       "<matplotlib.figure.Figure at 0x26987337710>"
      ]
     },
     "metadata": {},
     "output_type": "display_data"
    }
   ],
   "source": [
    "plt.figure()\n",
    "plt.plot(train_accuracies[-60:])\n",
    "plt.plot(test_accuracies[-60:]);\n",
    "plt.legend(['training accuracy', 'test accuracy'])"
   ]
  },
  {
   "cell_type": "code",
   "execution_count": null,
   "metadata": {
    "collapsed": true
   },
   "outputs": [],
   "source": []
  }
 ],
 "metadata": {
  "kernelspec": {
   "display_name": "Python 3",
   "language": "python",
   "name": "python3"
  },
  "language_info": {
   "codemirror_mode": {
    "name": "ipython",
    "version": 3
   },
   "file_extension": ".py",
   "mimetype": "text/x-python",
   "name": "python",
   "nbconvert_exporter": "python",
   "pygments_lexer": "ipython3",
   "version": "3.6.3"
  }
 },
 "nbformat": 4,
 "nbformat_minor": 2
}
