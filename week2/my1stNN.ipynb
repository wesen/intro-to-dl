{
 "cells": [
  {
   "cell_type": "code",
   "execution_count": 1,
   "metadata": {},
   "outputs": [
    {
     "name": "stderr",
     "output_type": "stream",
     "text": [
      "Using TensorFlow backend.\n"
     ]
    },
    {
     "name": "stdout",
     "output_type": "stream",
     "text": [
      "(50000, 28, 28) (50000,)\n"
     ]
    },
    {
     "data": {
      "image/png": "[encoded data removed]",
      "text/plain": [
       "<matplotlib.figure.Figure at 0x269bf2a7a20>"
      ]
     },
     "metadata": {},
     "output_type": "display_data"
    }
   ],
   "source": [
    "from preprocessed_mnist import load_dataset\n",
    "X_train, y_train, X_val, y_val, X_test, y_test = load_dataset()\n",
    "print(X_train.shape, y_train.shape)\n",
    "import matplotlib.pyplot as plt\n",
    "%matplotlib inline\n",
    "plt.imshow(X_train[0], cmap=\"Greys\");"
   ]
  },
  {
   "cell_type": "code",
   "execution_count": 2,
   "metadata": {
    "collapsed": true
   },
   "outputs": [],
   "source": [
    "import tensorflow as tf\n",
    "import numpy as np"
   ]
  },
  {
   "cell_type": "markdown",
   "metadata": {},
   "source": [
    "## Preparation\n",
    "\n",
    "Relaunch tensorboard, and import useful libraries."
   ]
  },
  {
   "cell_type": "code",
   "execution_count": 2,
   "metadata": {},
   "outputs": [
    {
     "name": "stdout",
     "output_type": "stream",
     "text": [
      "No matching processes belonging to you were found\r\n"
     ]
    }
   ],
   "source": [
    "! killall tensorboard\n",
    "import os\n",
    "os.system(\"tensorboard --logdir=/tmp/tboard --port=7007 &\");\n",
    "\n",
    "import tensorflow as tf\n",
    "\n",
    "import numpy as np"
   ]
  },
  {
   "cell_type": "markdown",
   "metadata": {},
   "source": [
    "# Data inspection and preparation\n",
    "\n",
    "We first take a look at the data, and prepare a version having just two classes."
   ]
  },
  {
   "cell_type": "code",
   "execution_count": null,
   "metadata": {
    "collapsed": true
   },
   "outputs": [],
   "source": [
    "X_train.shape"
   ]
  },
  {
   "cell_type": "code",
   "execution_count": 3,
   "metadata": {},
   "outputs": [
    {
     "data": {
      "text/plain": [
       "array([5, 0, 4, 1, 9, 2, 1, 3, 1, 4], dtype=uint8)"
      ]
     },
     "execution_count": 3,
     "metadata": {},
     "output_type": "execute_result"
    }
   ],
   "source": [
    "y_train[:10]"
   ]
  },
  {
   "cell_type": "markdown",
   "metadata": {},
   "source": [
    "Let's create a flattened version of the data, because tensorflow has difficulty computing gradients across a reshape node."
   ]
  },
  {
   "cell_type": "code",
   "execution_count": null,
   "metadata": {
    "collapsed": true
   },
   "outputs": [],
   "source": [
    "with tf.variable_scope(\"1nn-reshaper\"):\n",
    "    # input shape\n",
    "    x = tf.placeholder(tf.float32, shape=(None, rows, cols), name=\"input_X\")\n",
    "    y = tf.placeholder(tf.uint8, shape=(None,), name=\"input_Y\")\n",
    "\n",
    "    one_hot_y = tf.one_hot(y, 10)\n",
    "    flat_x = tf.reshape(x, [-1, rows * cols])\n",
    "\n",
    "X_train_flat, y_train_one_hot = s.run([flat_x, one_hot_y], feed_dict={\n",
    "    x: X_train,\n",
    "    y: y_train\n",
    "})"
   ]
  },
  {
   "cell_type": "markdown",
   "metadata": {},
   "source": [
    "## Single layer neural network\n",
    "\n",
    "We first create a simple single layer neural network. We use a one_hot encode layer and a reshape layer to create a flat X. This will prove to be troublesome in the future, but it works for the first version. We use a softmax function to compute the predicted classes.\n",
    "\n",
    "Also, for debugging, we create the `correct_prediction` and `accuracy` nodes, to avoid having to compute these metrics by hand after running the network."
   ]
  },
  {
   "cell_type": "code",
   "execution_count": 4,
   "metadata": {
    "collapsed": true
   },
   "outputs": [],
   "source": [
    "rows = 28\n",
    "cols = 28\n",
    "classes = 10\n",
    "\n",
    "tf.reset_default_graph()\n",
    "s = tf.InteractiveSession()\n",
    "\n",
    "with tf.variable_scope(\"1nn\"):\n",
    "    weights = tf.get_variable(\"weights\", \n",
    "                              [rows * cols, classes],\n",
    "                              initializer=tf.random_normal_initializer(mean=0, stddev=1e-3),\n",
    "                              dtype=tf.float32)\n",
    "    b = tf.get_variable(\"bias\", [classes],\n",
    "                    initializer=tf.random_uniform_initializer(minval=0, maxval=1e-3),\n",
    "                    dtype=tf.float32)\n",
    "\n",
    "    input_X = tf.placeholder(tf.float32, shape=(None, rows, cols), name=\"input_X\")\n",
    "    input_y = tf.placeholder(tf.uint8, shape=(None,), name=\"input_Y\")\n",
    "\n",
    "    one_hot_y = tf.one_hot(input_y, classes)\n",
    "    flat_X = tf.reshape(input_X, [-1, rows * cols])\n",
    "    \n",
    "    predicted_y = tf.nn.softmax(tf.matmul(flat_X, weights) + b)\n",
    "    class_loss = -tf.log(predicted_y) * one_hot_y - tf.log(1 - predicted_y) * (1 - one_hot_y)\n",
    "    loss = tf.reduce_mean(class_loss)\n",
    "    \n",
    "    correct_prediction = tf.equal(tf.cast(input_y, tf.int64), tf.argmax(predicted_y, 1))\n",
    "    accuracy = tf.reduce_mean(tf.cast(correct_prediction, tf.float32))\n",
    "\n",
    "    optimizer = tf.train.GradientDescentOptimizer(0.5).minimize(loss)"
   ]
  },
  {
   "cell_type": "markdown",
   "metadata": {},
   "source": [
    "Let's test that the weights get correctly initialized."
   ]
  },
  {
   "cell_type": "code",
   "execution_count": 5,
   "metadata": {},
   "outputs": [
    {
     "name": "stdout",
     "output_type": "stream",
     "text": [
      "[array([[  5.79033105e-04,   5.30614925e-04,   3.36251920e-04, ...,\n",
      "          2.76694028e-03,   1.15641451e-03,  -1.63831748e-03],\n",
      "       [ -1.58736168e-03,   1.21381214e-04,  -2.19016010e-03, ...,\n",
      "          1.32015243e-03,   4.94840438e-04,   1.25256577e-03],\n",
      "       [ -3.99170749e-05,   3.11565556e-04,   6.22138497e-04, ...,\n",
      "         -6.53253344e-04,   4.62306161e-05,  -8.24748189e-04],\n",
      "       ..., \n",
      "       [  1.43660349e-04,  -8.87794231e-05,   2.98190513e-04, ...,\n",
      "          2.59238703e-04,   4.58338851e-04,  -1.08343644e-04],\n",
      "       [  8.14772618e-04,   6.56542543e-04,   1.24888425e-03, ...,\n",
      "         -9.27994843e-04,  -7.12979992e-04,   1.58063893e-03],\n",
      "       [  5.21749025e-04,  -1.53792300e-03,   1.33906677e-03, ...,\n",
      "         -1.45935116e-03,  -2.51419330e-03,   1.67449866e-03]], dtype=float32), array([  2.86260271e-04,   9.36999510e-04,   8.29001729e-05,\n",
      "         5.16016968e-04,   8.68820585e-04,   6.75416377e-04,\n",
      "         8.76370585e-04,   2.40242618e-04,   2.61650217e-04,\n",
      "         6.24309832e-05], dtype=float32)]\n"
     ]
    }
   ],
   "source": [
    "s.run(tf.global_variables_initializer())\n",
    "print(s.run([weights, b]))"
   ]
  },
  {
   "cell_type": "markdown",
   "metadata": {},
   "source": [
    "Let's test that the network computes different values correctly, or at least that they seem to be roughly correct. I struggled a bit with different data shapes and wrong initialization. I decided to keep this step to show what pains I went through."
   ]
  },
  {
   "cell_type": "code",
   "execution_count": 7,
   "metadata": {},
   "outputs": [
    {
     "data": {
      "text/plain": [
       "[array([[  5.79033105e-04,   5.30614925e-04,   3.36251920e-04, ...,\n",
       "           2.76694028e-03,   1.15641451e-03,  -1.63831748e-03],\n",
       "        [ -1.58736168e-03,   1.21381214e-04,  -2.19016010e-03, ...,\n",
       "           1.32015243e-03,   4.94840438e-04,   1.25256577e-03],\n",
       "        [ -3.99170749e-05,   3.11565556e-04,   6.22138497e-04, ...,\n",
       "          -6.53253344e-04,   4.62306161e-05,  -8.24748189e-04],\n",
       "        ..., \n",
       "        [  1.43660349e-04,  -8.87794231e-05,   2.98190513e-04, ...,\n",
       "           2.59238703e-04,   4.58338851e-04,  -1.08343644e-04],\n",
       "        [  8.14772618e-04,   6.56542543e-04,   1.24888425e-03, ...,\n",
       "          -9.27994843e-04,  -7.12979992e-04,   1.58063893e-03],\n",
       "        [  5.21749025e-04,  -1.53792300e-03,   1.33906677e-03, ...,\n",
       "          -1.45935116e-03,  -2.51419330e-03,   1.67449866e-03]], dtype=float32),\n",
       " array([  2.86260271e-04,   9.36999510e-04,   8.29001729e-05,\n",
       "          5.16016968e-04,   8.68820585e-04,   6.75416377e-04,\n",
       "          8.76370585e-04,   2.40242618e-04,   2.61650217e-04,\n",
       "          6.24309832e-05], dtype=float32),\n",
       " array([[ 0.10137516,  0.10030492,  0.09839335,  0.10016569,  0.10039964,\n",
       "          0.10035313,  0.09931353,  0.09967161,  0.09963091,  0.10039211],\n",
       "        [ 0.10024301,  0.10021225,  0.10119337,  0.09891429,  0.10105252,\n",
       "          0.09899658,  0.10070042,  0.09855074,  0.10112355,  0.0990133 ],\n",
       "        [ 0.09860776,  0.0992314 ,  0.09991227,  0.1002026 ,  0.10112312,\n",
       "          0.10064189,  0.09889916,  0.09989031,  0.10192948,  0.099562  ]], dtype=float32),\n",
       " array([[ 0.10688964,  0.10569935,  0.10357691,  0.10554467,  0.10580463,\n",
       "          2.29906011,  0.10459802,  0.1049957 ,  0.10495048,  0.10579628],\n",
       "        [ 2.30015802,  0.10559641,  0.10668736,  0.10415487,  0.10653067,\n",
       "          0.10424622,  0.10613909,  0.10375152,  0.10660971,  0.10426481],\n",
       "        [ 0.1038148 ,  0.10450691,  0.10526306,  0.10558567,  2.29141641,\n",
       "          0.106074  ,  0.10413814,  0.10523862,  0.10750669,  0.10487396]], dtype=float32),\n",
       " array([[ 0.,  0.,  0.,  0.,  0.,  1.,  0.,  0.,  0.,  0.],\n",
       "        [ 1.,  0.,  0.,  0.,  0.,  0.,  0.,  0.,  0.,  0.],\n",
       "        [ 0.,  0.,  0.,  0.,  1.,  0.,  0.,  0.,  0.,  0.]], dtype=float32),\n",
       " 0.32444909,\n",
       " array([False, False, False], dtype=bool),\n",
       " 0.0]"
      ]
     },
     "execution_count": 7,
     "metadata": {},
     "output_type": "execute_result"
    }
   ],
   "source": [
    "s.run([weights, b, predicted_y, class_loss, one_hot_y, loss, correct_prediction, accuracy],\n",
    "     {\n",
    "         input_X: X_train[:3],\n",
    "         input_y: y_train[:3]\n",
    "     })"
   ]
  },
  {
   "cell_type": "markdown",
   "metadata": {},
   "source": [
    "Finally, compute accuracy metrics when training the network."
   ]
  },
  {
   "cell_type": "code",
   "execution_count": 8,
   "metadata": {
    "collapsed": true
   },
   "outputs": [],
   "source": [
    "s.run(tf.global_variables_initializer())\n",
    "\n",
    "losses = []\n",
    "test_accuracies = []\n",
    "train_accuracies = []\n",
    "\n",
    "for i in range(30):\n",
    "    s.run(optimizer, {input_X: X_train, input_y: y_train})\n",
    "    loss_i = s.run(loss,  {input_X: X_train, input_y: y_train})\n",
    "    losses += [loss_i]\n",
    "    train_accuracies += [s.run(accuracy, {input_X:X_train, input_y: y_train})]\n",
    "    test_accuracies += [s.run(accuracy, {input_X:X_test, input_y: y_test})]\n"
   ]
  },
  {
   "cell_type": "code",
   "execution_count": 9,
   "metadata": {},
   "outputs": [
    {
     "data": {
      "text/plain": [
       "<matplotlib.legend.Legend at 0x11019aeb8>"
      ]
     },
     "execution_count": 9,
     "metadata": {},
     "output_type": "execute_result"
    },
    {
     "data": {
      "image/png": "[encoded data removed]",
      "text/plain": [
       "<matplotlib.figure.Figure at 0x13c27d780>"
      ]
     },
     "metadata": {},
     "output_type": "display_data"
    }
   ],
   "source": [
    "plt.figure()\n",
    "plt.plot(losses);\n",
    "plt.plot(train_accuracies)\n",
    "plt.plot(test_accuracies);\n",
    "plt.legend(['loss', 'training accuracy', 'test accuracy'])\n"
   ]
  },
  {
   "cell_type": "markdown",
   "metadata": {},
   "source": [
    "## Multilayer neural network\n",
    "\n",
    "In this neural network, we use a second 50 neuron layer. The first layer has a sigmoid activation function."
   ]
  },
  {
   "cell_type": "code",
   "execution_count": 34,
   "metadata": {},
   "outputs": [
    {
     "ename": "IndentationError",
     "evalue": "unindent does not match any outer indentation level (<tokenize>, line 50)",
     "output_type": "error",
     "traceback": [
      "\u001b[1;36m  File \u001b[1;32m\"<tokenize>\"\u001b[1;36m, line \u001b[1;32m50\u001b[0m\n\u001b[1;33m    initializer=tf.zeros_initializer(),\u001b[0m\n\u001b[1;37m    ^\u001b[0m\n\u001b[1;31mIndentationError\u001b[0m\u001b[1;31m:\u001b[0m unindent does not match any outer indentation level\n"
     ]
    }
   ],
   "source": [
    "from preprocessed_mnist import load_dataset\n",
    "X_train, y_train, X_val, y_val, X_test, y_test = load_dataset()\n",
    "print(X_train.shape, y_train.shape)\n",
    "\n",
    "import tensorflow as tf\n",
    "\n",
    "rows = 28\n",
    "cols = 28\n",
    "classes = 10\n",
    "\n",
    "layer_cnt = 0\n",
    "\n",
    "def add_layer(in_, size):\n",
    "    W2 = tf.get_variable(\"weights{}\".format(layer_cnt), \n",
    "                              [in_.shape[1], size],\n",
    "                              initializer=tf.random_normal_initializer(mean=0, stddev=sigma),\n",
    "                              dtype=tf.float32)\n",
    "    b2 = tf.get_variable(\"bias{}\".format(layer_cnt), [in_.shape[1]],\n",
    "                    initializer=tf.zeros_initializer(),\n",
    "                    dtype=tf.float32)\n",
    "\n",
    "    y2 = tf.nn.softmax(tf.matmulin_, W2) + b2)\n",
    "    \n",
    "    layer_cnt += 1\n",
    "    return y2\n",
    "\n",
    "hidden_size = 30\n",
    "\n",
    "tf.reset_default_graph()\n",
    "s = tf.InteractiveSession()\n",
    "\n",
    "with tf.variable_scope(\"1nn-2layers\"):\n",
    "    # input shape\n",
    "    input_x = tf.placeholder(tf.float32, shape=(None, rows, cols), name=\"input_X\")\n",
    "    label_y = tf.placeholder(tf.uint8, shape=(None,), name=\"input_Y\")\n",
    "\n",
    "    y_ = tf.one_hot(label_y, classes, dtype=tf.float32)\n",
    "    x = tf.reshape(input_x, [-1, rows * cols])\n",
    "    \n",
    "    sigma = np.sqrt(2. / 10.)\n",
    "    sigma = 0.4\n",
    "    print(\"sigma\", sigma)\n",
    "  \n",
    "    # input layer\n",
    "    W1 = tf.get_variable(\"weights\", \n",
    "                              [rows * cols, hidden_size],\n",
    "                              initializer=tf.random_normal_initializer(mean=0, stddev=sigma),\n",
    "                              dtype=tf.float32)\n",
    "    b1 = tf.get_variable(\"bias\", [hidden_size],\n",
    "                    initializer=tf.zeros_initializer(),\n",
    "                    dtype=tf.float32)\n",
    "\n",
    "    y1 = tf.nn.sigmoid(tf.matmul(x, W1) + b1)\n",
    "\n",
    "    # hidden layer\n",
    "    W2 = tf.get_variable(\"hidden_weights\", \n",
    "                              [hidden_size, hidden_size],\n",
    "                              initializer=tf.random_normal_initializer(mean=0, stddev=sigma),\n",
    "                              dtype=tf.float32)\n",
    "    b2 = tf.get_variable(\"hidden_bias\", [hidden_size],\n",
    "                    initializer=tf.zeros_initializer(),\n",
    "                    dtype=tf.float32)\n",
    "\n",
    "    y2 = tf.nn.softmax(tf.matmul(y1, W2) + b2)\n",
    "\n",
    "    # hidden layer\n",
    "    W3 = tf.get_variable(\"hidden_weights2\", \n",
    "                              [hidden_size, classes],\n",
    "                              initializer=tf.random_normal_initializer(mean=0, stddev=sigma),\n",
    "                              dtype=tf.float32)\n",
    "    b3 = tf.get_variable(\"hidden_bias2\", [classes],\n",
    "                    initializer=tf.zeros_initializer(),\n",
    "                    dtype=tf.float32)\n",
    "\n",
    "    y3 = tf.nn.softmax(tf.matmul(y2, W3) + b3)\n",
    "\n",
    "    # output\n",
    "    y = y3\n",
    "\n",
    "    loss = tf.reduce_mean(-tf.reduce_sum(tf.cast(y_, tf.float32) * tf.log(y), \n",
    "    reduction_indices=[1]))\n",
    "    \n",
    "    correct_prediction = tf.equal(tf.argmax(y_, 1), tf.argmax(y, 1))\n",
    "    accuracy = tf.reduce_mean(tf.cast(correct_prediction, tf.float32))\n",
    "\n",
    "    optimizer = tf.train.GradientDescentOptimizer(2.).minimize(loss)\n",
    "    \n",
    "    s.run(tf.global_variables_initializer())\n",
    "\n"
   ]
  },
  {
   "cell_type": "markdown",
   "metadata": {},
   "source": [
    "Next, we create a generator that will provide us with randomized minibatches, to do incremental training."
   ]
  },
  {
   "cell_type": "code",
   "execution_count": 21,
   "metadata": {
    "collapsed": true
   },
   "outputs": [],
   "source": [
    "import random\n",
    "\n",
    "class MiniBatchGenerator:\n",
    "    def __init__(self, X, y, batch_size):\n",
    "        self.X = X.copy()\n",
    "        self.y = y.copy()\n",
    "        self.batch_size = batch_size\n",
    "        self.current_i = 0\n",
    "        self.total_size = len(self.X)\n",
    "        \n",
    "        self.reshuffle()\n",
    "        \n",
    "    def reshuffle(self):        \n",
    "        idxs = list(range(self.total_size))\n",
    "        random.shuffle(idxs)\n",
    "        self.X_shuffled = self.X[idxs]\n",
    "        self.y_shuffled = self.y[idxs]        \n",
    "        \n",
    "    def __iter__(self):\n",
    "        return self\n",
    "    \n",
    "    def __next__(self):\n",
    "        return self.next()\n",
    "    \n",
    "    def next(self):\n",
    "        res_X = []\n",
    "        res_y = []\n",
    "        \n",
    "        end_i = self.current_i + self.batch_size\n",
    "        \n",
    "        if end_i > self.total_size:\n",
    "            rem = end_i - self.total_size\n",
    "            res_X = self.X_shuffled[self.current_i:]\n",
    "            res_y = self.y_shuffled[self.current_i:]\n",
    "            self.reshuffle()\n",
    "            res_X = np.append(res_X, self.X_shuffled[:rem], axis=0)\n",
    "            res_y = np.append(res_y, self.y_shuffled[:rem])\n",
    "            self.current_i = rem\n",
    "        else:\n",
    "            res_X = self.X_shuffled[self.current_i:end_i]\n",
    "            res_y = self.y_shuffled[self.current_i:end_i]\n",
    "            self.current_i = end_i\n",
    "        \n",
    "        return res_X, res_y"
   ]
  },
  {
   "cell_type": "code",
   "execution_count": 32,
   "metadata": {
    "scrolled": true
   },
   "outputs": [
    {
     "name": "stdout",
     "output_type": "stream",
     "text": [
      "(50000, 28, 28)\n",
      "(50000,)\n",
      "loss at iter 0:2.3284\n",
      "train accuracy: 0.063\n",
      "loss at iter 100:1.3399\n",
      "train accuracy: 0.421\n",
      "loss at iter 200:1.1936\n",
      "train accuracy: 0.502\n",
      "loss at iter 300:0.9971\n",
      "train accuracy: 0.583\n",
      "loss at iter 400:0.9223\n",
      "train accuracy: 0.618\n",
      "loss at iter 500:0.8193\n",
      "train accuracy: 0.682\n",
      "loss at iter 600:0.7426\n",
      "train accuracy: 0.729\n",
      "loss at iter 700:0.9437\n",
      "train accuracy: 0.594\n",
      "loss at iter 800:0.7265\n",
      "train accuracy: 0.701\n",
      "loss at iter 900:0.6475\n",
      "train accuracy: 0.8\n",
      "loss at iter 1000:0.6578\n",
      "train accuracy: 0.815\n",
      "loss at iter 1100:0.6384\n",
      "train accuracy: 0.834\n",
      "loss at iter 1200:0.4520\n",
      "train accuracy: 0.894\n",
      "loss at iter 1300:0.4416\n",
      "train accuracy: 0.883\n",
      "loss at iter 1400:0.3321\n",
      "train accuracy: 0.928\n",
      "loss at iter 1500:0.3690\n",
      "train accuracy: 0.916\n",
      "loss at iter 1600:0.3002\n",
      "train accuracy: 0.927\n",
      "loss at iter 1700:0.2532\n",
      "train accuracy: 0.933\n",
      "loss at iter 1800:0.6706\n",
      "train accuracy: 0.761\n",
      "loss at iter 1900:0.2402\n",
      "train accuracy: 0.94\n",
      "loss at iter 2000:0.2027\n",
      "train accuracy: 0.947\n",
      "loss at iter 2100:0.2004\n",
      "train accuracy: 0.96\n",
      "loss at iter 2200:0.1874\n",
      "train accuracy: 0.957\n",
      "loss at iter 2300:0.2102\n",
      "train accuracy: 0.947\n",
      "loss at iter 2400:0.1763\n",
      "train accuracy: 0.952\n",
      "loss at iter 2500:0.2073\n",
      "train accuracy: 0.958\n",
      "loss at iter 2600:0.2184\n",
      "train accuracy: 0.937\n",
      "loss at iter 2700:0.1564\n",
      "train accuracy: 0.961\n",
      "loss at iter 2800:0.1950\n",
      "train accuracy: 0.958\n",
      "loss at iter 2900:0.1400\n",
      "train accuracy: 0.971\n",
      "loss at iter 3000:0.1709\n",
      "train accuracy: 0.95\n",
      "loss at iter 3100:0.1474\n",
      "train accuracy: 0.964\n",
      "loss at iter 3200:0.1884\n",
      "train accuracy: 0.951\n",
      "loss at iter 3300:0.1600\n",
      "train accuracy: 0.962\n",
      "loss at iter 3400:0.1332\n",
      "train accuracy: 0.967\n",
      "loss at iter 3500:0.1233\n",
      "train accuracy: 0.97\n",
      "loss at iter 3600:0.1202\n",
      "train accuracy: 0.975\n",
      "loss at iter 3700:0.1544\n",
      "train accuracy: 0.963\n",
      "Total accuracy: 0.9683197736740112\n",
      "loss at iter 3800:0.1175\n",
      "train accuracy: 0.972\n",
      "loss at iter 3900:0.1054\n",
      "train accuracy: 0.975\n",
      "Total accuracy: 0.969559907913208\n",
      "loss at iter 4000:0.1285\n",
      "train accuracy: 0.968\n",
      "Total accuracy: 0.970619797706604\n",
      "Total accuracy: 0.9703198075294495\n",
      "Total accuracy: 0.9720598459243774\n",
      "Total accuracy: 0.9694197773933411\n",
      "Total accuracy: 0.9705197811126709\n",
      "loss at iter 4100:0.1170\n",
      "train accuracy: 0.974\n",
      "loss at iter 4200:0.1652\n",
      "train accuracy: 0.96\n",
      "Total accuracy: 0.9710997939109802\n",
      "Total accuracy: 0.971319854259491\n",
      "Total accuracy: 0.9717597961425781\n",
      "Total accuracy: 0.9721998572349548\n",
      "Total accuracy: 0.9724797606468201\n",
      "loss at iter 4300:0.1058\n",
      "train accuracy: 0.973\n",
      "Total accuracy: 0.9724597334861755\n",
      "Total accuracy: 0.9728997945785522\n",
      "Total accuracy: 0.9697397947311401\n",
      "Total accuracy: 0.9707998633384705\n",
      "Total accuracy: 0.9721599221229553\n",
      "loss at iter 4400:0.1018\n",
      "train accuracy: 0.977\n",
      "Total accuracy: 0.9727797508239746\n",
      "Total accuracy: 0.9725397229194641\n",
      "Total accuracy: 0.9727398157119751\n",
      "Total accuracy: 0.9733197689056396\n",
      "Total accuracy: 0.9737597107887268\n",
      "loss at iter 4500:0.1667\n",
      "train accuracy: 0.965\n",
      "Total accuracy: 0.9728597402572632\n",
      "Total accuracy: 0.9739397764205933\n",
      "Total accuracy: 0.9739598035812378\n",
      "Total accuracy: 0.9740197658538818\n",
      "Total accuracy: 0.9736797213554382\n",
      "Total accuracy: 0.9713597297668457\n",
      "Total accuracy: 0.9736397862434387\n",
      "Total accuracy: 0.9737198352813721\n",
      "Total accuracy: 0.9726598858833313\n",
      "loss at iter 4600:0.1263\n",
      "train accuracy: 0.977\n",
      "Total accuracy: 0.9741997718811035\n",
      "Total accuracy: 0.9738798141479492\n",
      "Total accuracy: 0.9739198684692383\n",
      "Total accuracy: 0.9741198420524597\n",
      "loss at iter 4700:0.1556\n",
      "train accuracy: 0.967\n",
      "Total accuracy: 0.9746997356414795\n",
      "Total accuracy: 0.974639892578125\n",
      "Total accuracy: 0.9741398692131042\n",
      "Total accuracy: 0.974199652671814\n",
      "Total accuracy: 0.9745398759841919\n",
      "Total accuracy: 0.9751397371292114\n",
      "Total accuracy: 0.9739197492599487\n",
      "Total accuracy: 0.9748398065567017\n",
      "loss at iter 4800:0.1460\n",
      "train accuracy: 0.964\n",
      "Total accuracy: 0.9737597703933716\n",
      "Total accuracy: 0.9737797379493713\n",
      "Total accuracy: 0.9744597673416138\n",
      "Total accuracy: 0.9736597537994385\n",
      "Total accuracy: 0.9755197763442993\n",
      "Total accuracy: 0.9742398262023926\n",
      "Total accuracy: 0.9741596579551697\n",
      "Total accuracy: 0.9756797552108765\n",
      "Total accuracy: 0.9746397733688354\n",
      "Total accuracy: 0.9749798774719238\n",
      "Total accuracy: 0.9753598570823669\n",
      "Total accuracy: 0.9756998419761658\n",
      "Total accuracy: 0.9758798480033875\n",
      "loss at iter 4900:0.2229\n",
      "train accuracy: 0.944\n",
      "Total accuracy: 0.9734199047088623\n",
      "Total accuracy: 0.9735397696495056\n",
      "Total accuracy: 0.9746797680854797\n",
      "Total accuracy: 0.9761397242546082\n",
      "Total accuracy: 0.9756197929382324\n",
      "Total accuracy: 0.9755998253822327\n",
      "Total accuracy: 0.9757997393608093\n",
      "Total accuracy: 0.9752597808837891\n",
      "Total accuracy: 0.9760197997093201\n",
      "loss at iter 5000:0.1318\n",
      "train accuracy: 0.972\n",
      "Total accuracy: 0.9745197892189026\n",
      "Total accuracy: 0.9766197800636292\n",
      "Total accuracy: 0.9761598110198975\n",
      "Total accuracy: 0.9743998050689697\n",
      "Total accuracy: 0.9757397770881653\n",
      "Total accuracy: 0.975919783115387\n",
      "Total accuracy: 0.9762997627258301\n",
      "Total accuracy: 0.9733997583389282\n",
      "Total accuracy: 0.9766398668289185\n",
      "Total accuracy: 0.9766597747802734\n",
      "Total accuracy: 0.9772998690605164\n",
      "Total accuracy: 0.9760197401046753\n",
      "Total accuracy: 0.9760197401046753\n",
      "loss at iter 5100:0.1000\n",
      "train accuracy: 0.98\n",
      "Total accuracy: 0.9736797213554382\n",
      "Total accuracy: 0.9752798080444336\n",
      "Total accuracy: 0.9759997129440308\n",
      "Total accuracy: 0.9765398502349854\n",
      "Total accuracy: 0.976239800453186\n",
      "Total accuracy: 0.9735598564147949\n",
      "Total accuracy: 0.9765197038650513\n",
      "Total accuracy: 0.9761597514152527\n",
      "Total accuracy: 0.97437983751297\n",
      "Total accuracy: 0.9773998260498047\n",
      "Total accuracy: 0.9768198132514954\n",
      "loss at iter 5200:0.1019\n",
      "train accuracy: 0.975\n",
      "Total accuracy: 0.9756197929382324\n",
      "Total accuracy: 0.9753798246383667\n",
      "Total accuracy: 0.9739397764205933\n",
      "Total accuracy: 0.9773398041725159\n",
      "Total accuracy: 0.977459728717804\n",
      "Total accuracy: 0.9765998125076294\n",
      "Total accuracy: 0.9738596677780151\n",
      "Total accuracy: 0.9775797724723816\n",
      "Total accuracy: 0.9758397340774536\n",
      "Total accuracy: 0.9766598343849182\n",
      "Total accuracy: 0.9769197702407837\n",
      "Total accuracy: 0.9778797030448914\n",
      "Total accuracy: 0.9776198267936707\n",
      "Total accuracy: 0.9777998328208923\n",
      "Total accuracy: 0.9771397709846497\n",
      "loss at iter 5300:0.1051\n",
      "train accuracy: 0.976\n",
      "Total accuracy: 0.9772997498512268\n",
      "Total accuracy: 0.9777398109436035\n",
      "Total accuracy: 0.9775997996330261\n",
      "Total accuracy: 0.9780397415161133\n",
      "Total accuracy: 0.9774997234344482\n",
      "Total accuracy: 0.9774397611618042\n",
      "Total accuracy: 0.9776197671890259\n",
      "Total accuracy: 0.9775198101997375\n",
      "Total accuracy: 0.9774998426437378\n",
      "Total accuracy: 0.977019727230072\n",
      "Total accuracy: 0.973899781703949\n",
      "Total accuracy: 0.9780798554420471\n",
      "Total accuracy: 0.9783998131752014\n",
      "Total accuracy: 0.9770398139953613\n",
      "Total accuracy: 0.977279782295227\n",
      "Total accuracy: 0.9738597869873047\n",
      "Total accuracy: 0.9767996668815613\n",
      "Total accuracy: 0.9769597053527832\n",
      "Total accuracy: 0.976879894733429\n",
      "Total accuracy: 0.9779398441314697\n",
      "Total accuracy: 0.978259801864624\n",
      "Total accuracy: 0.9781597852706909\n",
      "Total accuracy: 0.9781197905540466\n",
      "Total accuracy: 0.9781597852706909\n",
      "loss at iter 5400:0.1987\n",
      "train accuracy: 0.946\n",
      "Total accuracy: 0.9760797619819641\n",
      "Total accuracy: 0.9745797514915466\n",
      "Total accuracy: 0.9772998094558716\n"
     ]
    },
    {
     "ename": "KeyboardInterrupt",
     "evalue": "",
     "output_type": "error",
     "traceback": [
      "\u001b[1;31m---------------------------------------------------------------------------\u001b[0m",
      "\u001b[1;31mKeyboardInterrupt\u001b[0m                         Traceback (most recent call last)",
      "\u001b[1;32m<ipython-input-32-df04091ab7f6>\u001b[0m in \u001b[0;36m<module>\u001b[1;34m()\u001b[0m\n\u001b[0;32m     21\u001b[0m             \u001b[0maccuracy\u001b[0m\u001b[1;33m\u001b[0m\u001b[0m\n\u001b[0;32m     22\u001b[0m         ,  {input_x: X_train, \n\u001b[1;32m---> 23\u001b[1;33m              label_y: y_train})\n\u001b[0m\u001b[0;32m     24\u001b[0m         \u001b[0mprint\u001b[0m\u001b[1;33m(\u001b[0m\u001b[1;34m\"Total accuracy: {}\"\u001b[0m\u001b[1;33m.\u001b[0m\u001b[0mformat\u001b[0m\u001b[1;33m(\u001b[0m\u001b[0maccuracy_i\u001b[0m\u001b[1;33m)\u001b[0m\u001b[1;33m)\u001b[0m\u001b[1;33m\u001b[0m\u001b[0m\n\u001b[0;32m     25\u001b[0m \u001b[1;33m\u001b[0m\u001b[0m\n",
      "\u001b[1;32mC:\\tools\\Anaconda3\\lib\\site-packages\\tensorflow\\python\\client\\session.py\u001b[0m in \u001b[0;36mrun\u001b[1;34m(self, fetches, feed_dict, options, run_metadata)\u001b[0m\n\u001b[0;32m    776\u001b[0m     \u001b[1;32mtry\u001b[0m\u001b[1;33m:\u001b[0m\u001b[1;33m\u001b[0m\u001b[0m\n\u001b[0;32m    777\u001b[0m       result = self._run(None, fetches, feed_dict, options_ptr,\n\u001b[1;32m--> 778\u001b[1;33m                          run_metadata_ptr)\n\u001b[0m\u001b[0;32m    779\u001b[0m       \u001b[1;32mif\u001b[0m \u001b[0mrun_metadata\u001b[0m\u001b[1;33m:\u001b[0m\u001b[1;33m\u001b[0m\u001b[0m\n\u001b[0;32m    780\u001b[0m         \u001b[0mproto_data\u001b[0m \u001b[1;33m=\u001b[0m \u001b[0mtf_session\u001b[0m\u001b[1;33m.\u001b[0m\u001b[0mTF_GetBuffer\u001b[0m\u001b[1;33m(\u001b[0m\u001b[0mrun_metadata_ptr\u001b[0m\u001b[1;33m)\u001b[0m\u001b[1;33m\u001b[0m\u001b[0m\n",
      "\u001b[1;32mC:\\tools\\Anaconda3\\lib\\site-packages\\tensorflow\\python\\client\\session.py\u001b[0m in \u001b[0;36m_run\u001b[1;34m(self, handle, fetches, feed_dict, options, run_metadata)\u001b[0m\n\u001b[0;32m    952\u001b[0m             \u001b[0mnp_val\u001b[0m \u001b[1;33m=\u001b[0m \u001b[0msubfeed_val\u001b[0m\u001b[1;33m.\u001b[0m\u001b[0mto_numpy_array\u001b[0m\u001b[1;33m(\u001b[0m\u001b[1;33m)\u001b[0m\u001b[1;33m\u001b[0m\u001b[0m\n\u001b[0;32m    953\u001b[0m           \u001b[1;32melse\u001b[0m\u001b[1;33m:\u001b[0m\u001b[1;33m\u001b[0m\u001b[0m\n\u001b[1;32m--> 954\u001b[1;33m             \u001b[0mnp_val\u001b[0m \u001b[1;33m=\u001b[0m \u001b[0mnp\u001b[0m\u001b[1;33m.\u001b[0m\u001b[0masarray\u001b[0m\u001b[1;33m(\u001b[0m\u001b[0msubfeed_val\u001b[0m\u001b[1;33m,\u001b[0m \u001b[0mdtype\u001b[0m\u001b[1;33m=\u001b[0m\u001b[0msubfeed_dtype\u001b[0m\u001b[1;33m)\u001b[0m\u001b[1;33m\u001b[0m\u001b[0m\n\u001b[0m\u001b[0;32m    955\u001b[0m \u001b[1;33m\u001b[0m\u001b[0m\n\u001b[0;32m    956\u001b[0m           if (not is_tensor_handle_feed and\n",
      "\u001b[1;32mC:\\tools\\Anaconda3\\lib\\site-packages\\numpy\\core\\numeric.py\u001b[0m in \u001b[0;36masarray\u001b[1;34m(a, dtype, order)\u001b[0m\n\u001b[0;32m    529\u001b[0m \u001b[1;33m\u001b[0m\u001b[0m\n\u001b[0;32m    530\u001b[0m     \"\"\"\n\u001b[1;32m--> 531\u001b[1;33m     \u001b[1;32mreturn\u001b[0m \u001b[0marray\u001b[0m\u001b[1;33m(\u001b[0m\u001b[0ma\u001b[0m\u001b[1;33m,\u001b[0m \u001b[0mdtype\u001b[0m\u001b[1;33m,\u001b[0m \u001b[0mcopy\u001b[0m\u001b[1;33m=\u001b[0m\u001b[1;32mFalse\u001b[0m\u001b[1;33m,\u001b[0m \u001b[0morder\u001b[0m\u001b[1;33m=\u001b[0m\u001b[0morder\u001b[0m\u001b[1;33m)\u001b[0m\u001b[1;33m\u001b[0m\u001b[0m\n\u001b[0m\u001b[0;32m    532\u001b[0m \u001b[1;33m\u001b[0m\u001b[0m\n\u001b[0;32m    533\u001b[0m \u001b[1;33m\u001b[0m\u001b[0m\n",
      "\u001b[1;31mKeyboardInterrupt\u001b[0m: "
     ]
    }
   ],
   "source": [
    "s.run(tf.global_variables_initializer())\n",
    "\n",
    "batcher = MiniBatchGenerator(X_train, y_train, 1000)\n",
    "print(X_train.shape)\n",
    "print(y_train.shape)\n",
    "\n",
    "for i in range(10000):\n",
    "    X_batch, y_batch = batcher.next()\n",
    "    \n",
    "    loss_i, accuracy_i, optimizer_i = s.run([\n",
    "        loss, accuracy, optimizer\n",
    "    ],  {input_x: X_batch, \n",
    "                     label_y: y_batch})\n",
    "    if i % 100 == 0:\n",
    "        print(\"loss at iter %i:%.4f\" % (i, loss_i))\n",
    "        print(\"train accuracy:\", accuracy_i)\n",
    "    \n",
    "    \n",
    "    if accuracy_i > 0.98:\n",
    "        accuracy_i = s.run(\n",
    "            accuracy \n",
    "        ,  {input_x: X_train, \n",
    "             label_y: y_train})\n",
    "        print(\"Total accuracy: {}\".format(accuracy_i))\n",
    "\n",
    "accuracy_i = s.run([\n",
    "    accuracy\n",
    "],  {input_x: X_test, \n",
    "     label_y: y_test})\n",
    "\n",
    "print(\"test_accuracy:\", accuracy_i)\n"
   ]
  },
  {
   "cell_type": "code",
   "execution_count": 33,
   "metadata": {},
   "outputs": [
    {
     "name": "stdout",
     "output_type": "stream",
     "text": [
      "test_accuracy: [0.94780004]\n"
     ]
    }
   ],
   "source": [
    "accuracy_i = s.run([\n",
    "    accuracy\n",
    "],  {input_x: X_test, \n",
    "     label_y: y_test})\n",
    "\n",
    "print(\"test_accuracy:\", accuracy_i)"
   ]
  },
  {
   "cell_type": "code",
   "execution_count": null,
   "metadata": {
    "collapsed": true
   },
   "outputs": [],
   "source": [
    "28 * 28 * 100"
   ]
  },
  {
   "cell_type": "code",
   "execution_count": null,
   "metadata": {
    "collapsed": true
   },
   "outputs": [],
   "source": []
  }
 ],
 "metadata": {
  "kernelspec": {
   "display_name": "Python 3",
   "language": "python",
   "name": "python3"
  },
  "language_info": {
   "codemirror_mode": {
    "name": "ipython",
    "version": 3
   },
   "file_extension": ".py",
   "mimetype": "text/x-python",
   "name": "python",
   "nbconvert_exporter": "python",
   "pygments_lexer": "ipython3",
   "version": "3.6.3"
  }
 },
 "nbformat": 4,
 "nbformat_minor": 2
}
