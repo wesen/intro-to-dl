{
 "cells": [
  {
   "cell_type": "code",
   "execution_count": 1,
   "metadata": {},
   "outputs": [
    {
     "name": "stderr",
     "output_type": "stream",
     "text": [
      "Using TensorFlow backend.\n"
     ]
    },
    {
     "name": "stdout",
     "output_type": "stream",
     "text": [
      "(50000, 28, 28) (50000,)\n"
     ]
    },
    {
     "data": {
      "image/png": "[encoded data removed]",
      "text/plain": [
       "<matplotlib.figure.Figure at 0x25b44e7edd8>"
      ]
     },
     "metadata": {},
     "output_type": "display_data"
    }
   ],
   "source": [
    "import sys\n",
    "sys.path += ['week2']\n",
    "\n",
    "from preprocessed_mnist import load_dataset\n",
    "X_train, y_train, X_val, y_val, X_test, y_test = load_dataset()\n",
    "print(X_train.shape, y_train.shape)\n",
    "import matplotlib.pyplot as plt\n",
    "%matplotlib inline\n",
    "plt.imshow(X_train[0], cmap=\"Greys\");"
   ]
  },
  {
   "cell_type": "code",
   "execution_count": 2,
   "metadata": {
    "collapsed": true
   },
   "outputs": [],
   "source": [
    "from scipy.misc import imrotate, imresize"
   ]
  },
  {
   "cell_type": "code",
   "execution_count": 3,
   "metadata": {
    "collapsed": true
   },
   "outputs": [],
   "source": [
    "import tensorflow as tf\n",
    "import numpy as np"
   ]
  },
  {
   "cell_type": "markdown",
   "metadata": {},
   "source": [
    "## Preparation\n",
    "\n",
    "Relaunch tensorboard, and import useful libraries."
   ]
  },
  {
   "cell_type": "code",
   "execution_count": null,
   "metadata": {
    "collapsed": true
   },
   "outputs": [],
   "source": [
    "! killall tensorboard\n",
    "import os\n",
    "os.system(\"tensorboard --logdir=/tmp/tboard --port=7007 &\");\n",
    "\n",
    "import tensorflow as tf\n",
    "\n",
    "import numpy as np"
   ]
  },
  {
   "cell_type": "markdown",
   "metadata": {},
   "source": [
    "# Data inspection and preparation\n",
    "\n",
    "We first take a look at the data, and prepare a version having just two classes."
   ]
  },
  {
   "cell_type": "code",
   "execution_count": null,
   "metadata": {
    "collapsed": true
   },
   "outputs": [],
   "source": [
    "X_train.shape"
   ]
  },
  {
   "cell_type": "code",
   "execution_count": null,
   "metadata": {
    "collapsed": true
   },
   "outputs": [],
   "source": [
    "y_train[:10]"
   ]
  },
  {
   "cell_type": "markdown",
   "metadata": {},
   "source": [
    "Let's create a flattened version of the data, because tensorflow has difficulty computing gradients across a reshape node."
   ]
  },
  {
   "cell_type": "code",
   "execution_count": 4,
   "metadata": {
    "collapsed": true
   },
   "outputs": [],
   "source": [
    "rows = 28\n",
    "cols = 28\n",
    "classes = 10\n",
    "\n",
    "s = tf.InteractiveSession()\n",
    "\n",
    "with tf.variable_scope(\"1nn-reshaper\"):\n",
    "    # input shape\n",
    "    x = tf.placeholder(tf.float32, shape=(None, rows, cols), name=\"input_X\")\n",
    "    y = tf.placeholder(tf.uint8, shape=(None,), name=\"input_Y\")\n",
    "\n",
    "    one_hot_y = tf.one_hot(y, 10)\n",
    "    flat_x = tf.reshape(x, [-1, rows * cols])\n",
    "\n",
    "X_train_flat, y_train_one_hot = s.run([flat_x, one_hot_y], feed_dict={\n",
    "    x: X_train,\n",
    "    y: y_train\n",
    "})"
   ]
  },
  {
   "cell_type": "markdown",
   "metadata": {},
   "source": [
    "## Single layer neural network\n",
    "\n",
    "We first create a simple single layer neural network. We use a one_hot encode layer and a reshape layer to create a flat X. This will prove to be troublesome in the future, but it works for the first version. We use a softmax function to compute the predicted classes.\n",
    "\n",
    "Also, for debugging, we create the `correct_prediction` and `accuracy` nodes, to avoid having to compute these metrics by hand after running the network."
   ]
  },
  {
   "cell_type": "code",
   "execution_count": 5,
   "metadata": {
    "collapsed": true
   },
   "outputs": [],
   "source": [
    "rows = 28\n",
    "cols = 28\n",
    "classes = 10\n",
    "\n",
    "tf.reset_default_graph()\n",
    "s = tf.InteractiveSession()\n",
    "\n",
    "with tf.variable_scope(\"1nn\"):\n",
    "    weights = tf.get_variable(\"weights\", \n",
    "                              [rows * cols, classes],\n",
    "                              initializer=tf.random_normal_initializer(mean=0, stddev=1e-3),\n",
    "                              dtype=tf.float32)\n",
    "    b = tf.get_variable(\"bias\", [classes],\n",
    "                    initializer=tf.random_uniform_initializer(minval=0, maxval=1e-3),\n",
    "                    dtype=tf.float32)\n",
    "\n",
    "    input_X = tf.placeholder(tf.float32, shape=(None, rows, cols), name=\"input_X\")\n",
    "    input_y = tf.placeholder(tf.uint8, shape=(None,), name=\"input_Y\")\n",
    "\n",
    "    one_hot_y = tf.one_hot(input_y, classes)\n",
    "    flat_X = tf.reshape(input_X, [-1, rows * cols])\n",
    "    \n",
    "    predicted_y = tf.nn.softmax(tf.matmul(flat_X, weights) + b)\n",
    "    class_loss = -tf.log(predicted_y) * one_hot_y - tf.log(1 - predicted_y) * (1 - one_hot_y)\n",
    "    loss = tf.reduce_mean(class_loss)\n",
    "    \n",
    "    correct_prediction = tf.equal(tf.cast(input_y, tf.int64), tf.argmax(predicted_y, 1))\n",
    "    accuracy = tf.reduce_mean(tf.cast(correct_prediction, tf.float32))\n",
    "\n",
    "    optimizer = tf.train.GradientDescentOptimizer(0.5).minimize(loss)"
   ]
  },
  {
   "cell_type": "markdown",
   "metadata": {},
   "source": [
    "Let's test that the weights get correctly initialized."
   ]
  },
  {
   "cell_type": "code",
   "execution_count": 6,
   "metadata": {},
   "outputs": [
    {
     "name": "stdout",
     "output_type": "stream",
     "text": [
      "[array([[ -1.02057366e-03,  -4.27236548e-04,   2.47013268e-05, ...,\n",
      "         -3.49555718e-04,  -3.32526426e-04,   1.42738491e-03],\n",
      "       [  4.66067751e-04,  -8.86809372e-04,  -5.22999544e-05, ...,\n",
      "         -1.69798057e-03,   7.26577418e-05,   2.62943620e-04],\n",
      "       [ -1.15725701e-03,  -1.74877048e-03,   6.64400926e-04, ...,\n",
      "          9.60978563e-04,  -1.56462414e-03,  -1.44472253e-03],\n",
      "       ..., \n",
      "       [ -6.23423664e-04,   1.42920669e-03,   7.02040328e-04, ...,\n",
      "         -1.31052430e-03,   1.44734676e-03,  -8.74818128e-04],\n",
      "       [ -5.52055193e-04,  -9.15091252e-04,   1.31148787e-04, ...,\n",
      "          6.25178160e-04,   8.09437421e-04,   1.61222037e-04],\n",
      "       [  1.86423073e-03,   5.86324604e-04,   1.05774309e-03, ...,\n",
      "          4.50900057e-04,   1.04007684e-03,   1.71791017e-03]], dtype=float32), array([ 0.00049114,  0.00032053,  0.00095181,  0.00077437,  0.00070904,\n",
      "        0.00094271,  0.00029195,  0.0003054 ,  0.00092712,  0.00046623], dtype=float32)]\n"
     ]
    }
   ],
   "source": [
    "s.run(tf.global_variables_initializer())\n",
    "print(s.run([weights, b]))"
   ]
  },
  {
   "cell_type": "markdown",
   "metadata": {},
   "source": [
    "Let's test that the network computes different values correctly, or at least that they seem to be roughly correct. I struggled a bit with different data shapes and wrong initialization. I decided to keep this step to show what pains I went through."
   ]
  },
  {
   "cell_type": "code",
   "execution_count": 7,
   "metadata": {},
   "outputs": [
    {
     "data": {
      "text/plain": [
       "[array([[ -1.02057366e-03,  -4.27236548e-04,   2.47013268e-05, ...,\n",
       "          -3.49555718e-04,  -3.32526426e-04,   1.42738491e-03],\n",
       "        [  4.66067751e-04,  -8.86809372e-04,  -5.22999544e-05, ...,\n",
       "          -1.69798057e-03,   7.26577418e-05,   2.62943620e-04],\n",
       "        [ -1.15725701e-03,  -1.74877048e-03,   6.64400926e-04, ...,\n",
       "           9.60978563e-04,  -1.56462414e-03,  -1.44472253e-03],\n",
       "        ..., \n",
       "        [ -6.23423664e-04,   1.42920669e-03,   7.02040328e-04, ...,\n",
       "          -1.31052430e-03,   1.44734676e-03,  -8.74818128e-04],\n",
       "        [ -5.52055193e-04,  -9.15091252e-04,   1.31148787e-04, ...,\n",
       "           6.25178160e-04,   8.09437421e-04,   1.61222037e-04],\n",
       "        [  1.86423073e-03,   5.86324604e-04,   1.05774309e-03, ...,\n",
       "           4.50900057e-04,   1.04007684e-03,   1.71791017e-03]], dtype=float32),\n",
       " array([ 0.00049114,  0.00032053,  0.00095181,  0.00077437,  0.00070904,\n",
       "         0.00094271,  0.00029195,  0.0003054 ,  0.00092712,  0.00046623], dtype=float32),\n",
       " array([[ 0.10142773,  0.10089318,  0.10018177,  0.09886076,  0.09881776,\n",
       "          0.09855221,  0.10051554,  0.09973818,  0.10119211,  0.09982074],\n",
       "        [ 0.1030426 ,  0.10209508,  0.09844959,  0.10078106,  0.09849123,\n",
       "          0.09981354,  0.09882385,  0.09960943,  0.09964345,  0.09925009],\n",
       "        [ 0.10089964,  0.10115477,  0.09932902,  0.09962257,  0.09964424,\n",
       "          0.09875386,  0.10101134,  0.09873997,  0.10022973,  0.10061481]], dtype=float32),\n",
       " array([[ 0.10694814,  0.10635345,  0.10556249,  0.10409547,  0.10404778,\n",
       "          2.31716871,  0.1059335 ,  0.10506964,  0.10668597,  0.10516135],\n",
       "        [ 2.27261281,  0.10769108,  0.10363932,  0.10622876,  0.10368553,\n",
       "          0.10515334,  0.10405453,  0.10492665,  0.10496445,  0.10452762],\n",
       "        [ 0.10636061,  0.10664439,  0.10461523,  0.10494121,  2.30614901,\n",
       "          0.10397688,  0.10648485,  0.10396148,  0.10561582,  0.10604385]], dtype=float32),\n",
       " array([[ 0.,  0.,  0.,  0.,  0.,  1.,  0.,  0.,  0.,  0.],\n",
       "        [ 1.,  0.,  0.,  0.,  0.,  0.,  0.,  0.,  0.,  0.],\n",
       "        [ 0.,  0.,  0.,  0.,  1.,  0.,  0.,  0.,  0.,  0.]], dtype=float32),\n",
       " 0.32464349,\n",
       " array([False,  True, False], dtype=bool),\n",
       " 0.33333334]"
      ]
     },
     "execution_count": 7,
     "metadata": {},
     "output_type": "execute_result"
    }
   ],
   "source": [
    "s.run([weights, b, predicted_y, class_loss, one_hot_y, loss, correct_prediction, accuracy],\n",
    "     {\n",
    "         input_X: X_train[:3],\n",
    "         input_y: y_train[:3]\n",
    "     })"
   ]
  },
  {
   "cell_type": "markdown",
   "metadata": {},
   "source": [
    "Finally, compute accuracy metrics when training the network."
   ]
  },
  {
   "cell_type": "code",
   "execution_count": null,
   "metadata": {
    "collapsed": true
   },
   "outputs": [],
   "source": [
    "s.run(tf.global_variables_initializer())\n",
    "\n",
    "losses = []\n",
    "test_accuracies = []\n",
    "train_accuracies = []\n",
    "\n",
    "for i in range(30):\n",
    "    s.run(optimizer, {input_X: X_train, input_y: y_train})\n",
    "    loss_i = s.run(loss,  {input_X: X_train, input_y: y_train})\n",
    "    losses += [loss_i]\n",
    "    train_accuracies += [s.run(accuracy, {input_X:X_train, input_y: y_train})]\n",
    "    test_accuracies += [s.run(accuracy, {input_X:X_test, input_y: y_test})]\n"
   ]
  },
  {
   "cell_type": "code",
   "execution_count": null,
   "metadata": {
    "collapsed": true
   },
   "outputs": [],
   "source": [
    "plt.figure()\n",
    "plt.plot(losses);\n",
    "plt.plot(train_accuracies)\n",
    "plt.plot(test_accuracies);\n",
    "plt.legend(['loss', 'training accuracy', 'test accuracy'])\n"
   ]
  },
  {
   "cell_type": "markdown",
   "metadata": {},
   "source": [
    "Next, we create a generator that will provide us with randomized minibatches, to do incremental training."
   ]
  },
  {
   "cell_type": "code",
   "execution_count": 131,
   "metadata": {
    "collapsed": true
   },
   "outputs": [],
   "source": [
    "import random\n",
    "\n",
    "class MiniBatchGenerator:\n",
    "    def __init__(self, X, y, batch_size):\n",
    "        self.X = X.copy()\n",
    "        self.y = y.copy()\n",
    "        self.batch_size = batch_size\n",
    "        self.current_i = 0\n",
    "        self.total_size = len(self.X)\n",
    "        \n",
    "        self.reshuffle()\n",
    "        \n",
    "    def reshuffle(self):        \n",
    "        idxs = list(range(self.total_size))\n",
    "        random.shuffle(idxs)\n",
    "        self.idxs = np.array(idxs, dtype=np.int32)\n",
    "        \n",
    "    def __iter__(self):\n",
    "        return self\n",
    "    \n",
    "    def __next__(self):\n",
    "        return self.next()\n",
    "    \n",
    "    def next(self):\n",
    "        res_idxs = []\n",
    "        \n",
    "        end_i = self.current_i + self.batch_size\n",
    "        \n",
    "        if end_i > self.total_size:\n",
    "            rem = end_i - self.total_size\n",
    "            res_idxs = self.idxs[self.current_i:]\n",
    "            self.reshuffle()\n",
    "            res_idxs = np.append(res_idxs, self.idxs[:rem], axis=0)\n",
    "            self.current_i = rem\n",
    "        else:\n",
    "            res_idxs = self.idxs[self.current_i:end_i]\n",
    "            self.current_i = end_i\n",
    "\n",
    "        return self.X[res_idxs], self.y[res_idxs]"
   ]
  },
  {
   "cell_type": "code",
   "execution_count": 132,
   "metadata": {
    "collapsed": true,
    "scrolled": true
   },
   "outputs": [],
   "source": [
    "def train_network(iterations=2000, batch_size=1000, X_train=X_train, y_train=y_train):\n",
    "    s.run(tf.global_variables_initializer())\n",
    "\n",
    "    batcher = MiniBatchGenerator(X_train, y_train, batch_size)\n",
    "    print(X_train.shape)\n",
    "    print(y_train.shape)\n",
    "\n",
    "    losses = []\n",
    "    batch_train_accuracies = []\n",
    "\n",
    "    train_accuracies = []\n",
    "    test_accuracies = []\n",
    "\n",
    "    for i in range(iterations):\n",
    "        X_batch, y_batch = batcher.next()\n",
    "\n",
    "        loss_i, accuracy_i, optimizer_i = s.run([\n",
    "            loss, accuracy, optimizer\n",
    "        ],  {input_x: X_batch, \n",
    "                         label_y: y_batch})\n",
    "\n",
    "        if i % 100 == 0:        \n",
    "            losses += [loss_i]\n",
    "            batch_train_accuracies += [accuracy_i]\n",
    "\n",
    "#             accuracy_i = s.run(\n",
    "#                 accuracy \n",
    "#             ,  {input_x: X_train, \n",
    "#                  label_y: y_train})\n",
    "#             train_accuracies += [accuracy_i]\n",
    "\n",
    "            test_accuracy_i = s.run(\n",
    "                accuracy \n",
    "            ,  {input_x: X_test, \n",
    "                 label_y: y_test})\n",
    "            test_accuracies += [test_accuracy_i]\n",
    "\n",
    "            print(\"{} - loss: {}, train: {}, test: {}\".format(i, loss_i, accuracy_i, test_accuracy_i))\n",
    "\n",
    "    plt.figure()\n",
    "#     plt.plot(losses);\n",
    "#     plt.plot(batch_train_accuracies)\n",
    "#     plt.plot(train_accuracies)\n",
    "#     plt.plot(test_accuracies);\n",
    "#     plt.legend(['loss', 'batch train accuracy', 'training accuracy', 'test accuracy'])\n",
    "\n",
    "    plt.figure()\n",
    "    plt.plot(batch_train_accuracies[-60:])\n",
    "    plt.plot(test_accuracies[-60:]);\n",
    "    plt.legend(['batch training accuracy', 'test accuracy'])"
   ]
  },
  {
   "cell_type": "markdown",
   "metadata": {},
   "source": [
    "## Multilayer neural network\n",
    "\n",
    "In this neural network, we use a second 50 neuron layer. The first layer has a sigmoid activation function."
   ]
  },
  {
   "cell_type": "code",
   "execution_count": 10,
   "metadata": {},
   "outputs": [
    {
     "name": "stdout",
     "output_type": "stream",
     "text": [
      "(50000, 28, 28) (50000,)\n"
     ]
    }
   ],
   "source": [
    "from preprocessed_mnist import load_dataset\n",
    "X_train, y_train, X_val, y_val, X_test, y_test = load_dataset()\n",
    "print(X_train.shape, y_train.shape)\n",
    "\n",
    "import tensorflow as tf\n",
    "\n",
    "rows = 28\n",
    "cols = 28\n",
    "classes = 10\n",
    "\n",
    "layer_cnt = 0\n",
    "\n",
    "def add_layer(in_, size, output_f, sigma=1):\n",
    "    global layer_cnt\n",
    "    \n",
    "    W2 = tf.get_variable(\"weights{}\".format(layer_cnt),\n",
    "                         [in_.shape[1], size],\n",
    "                         initializer=tf.random_normal_initializer(mean=0, stddev=sigma),\n",
    "                         dtype=tf.float32)\n",
    "    b2 = tf.get_variable(\"bias{}\".format(layer_cnt),\n",
    "                         [size],\n",
    "                         initializer=tf.zeros_initializer(),\n",
    "                         dtype=tf.float32)\n",
    "\n",
    "    y2 = output_f(tf.matmul(in_, W2) + b2)\n",
    "    \n",
    "    layer_cnt += 1\n",
    "    return y2\n",
    "\n",
    "hidden_size = 30\n",
    "\n",
    "tf.reset_default_graph()\n",
    "s = tf.InteractiveSession()\n",
    "\n",
    "with tf.variable_scope(\"1nn-2layers\"):\n",
    "    # input shape\n",
    "    input_x = tf.placeholder(tf.float32, shape=(None, rows, cols), name=\"input_X\")\n",
    "    label_y = tf.placeholder(tf.uint8, shape=(None,), name=\"input_Y\")\n",
    "\n",
    "    y_ = tf.one_hot(label_y, classes, dtype=tf.float32)\n",
    "    x = tf.reshape(input_x, [-1, rows * cols])\n",
    "    \n",
    "    sigma = 1\n",
    "\n",
    "    # input layer\n",
    "    y1 = add_layer(x, 100, tf.nn.sigmoid, sigma=sigma)\n",
    "    y2 = add_layer(y1, 50, tf.nn.sigmoid, sigma=sigma)\n",
    "    y3 = add_layer(y2, 50, tf.nn.sigmoid, sigma=sigma)\n",
    "    y = add_layer(y3, 10, tf.nn.softmax, sigma=sigma)\n",
    "\n",
    "    loss = tf.reduce_mean(-tf.reduce_sum(tf.cast(y_, tf.float32) * tf.log(y), \n",
    "    reduction_indices=[1]))\n",
    "    \n",
    "    correct_prediction = tf.equal(tf.argmax(y_, 1), tf.argmax(y, 1))\n",
    "    accuracy = tf.reduce_mean(tf.cast(correct_prediction, tf.float32))\n",
    "\n",
    "    optimizer = tf.train.GradientDescentOptimizer(2.).minimize(loss)\n",
    "    \n",
    "    s.run(tf.global_variables_initializer())\n",
    "\n"
   ]
  },
  {
   "cell_type": "code",
   "execution_count": 11,
   "metadata": {},
   "outputs": [
    {
     "name": "stdout",
     "output_type": "stream",
     "text": [
      "(50000, 28, 28)\n",
      "(50000,)\n",
      "0 - loss: 5.294643402099609, train: 0.10302000492811203, test: 0.10080000013113022\n",
      "100 - loss: 0.6739616394042969, train: 0.7829201221466064, test: 0.781499981880188\n",
      "200 - loss: 0.5038734078407288, train: 0.84934002161026, test: 0.847100019454956\n",
      "300 - loss: 0.3965532183647156, train: 0.8803198933601379, test: 0.8729000687599182\n",
      "400 - loss: 0.342928409576416, train: 0.8980399370193481, test: 0.8896000981330872\n",
      "500 - loss: 0.2711547017097473, train: 0.9094399213790894, test: 0.8967001438140869\n",
      "600 - loss: 0.2824562191963196, train: 0.9176399111747742, test: 0.9035000205039978\n",
      "700 - loss: 0.2586315870285034, train: 0.9228998422622681, test: 0.9075000882148743\n",
      "800 - loss: 0.2609403133392334, train: 0.9303198456764221, test: 0.9127001762390137\n",
      "900 - loss: 0.19397962093353271, train: 0.9353997707366943, test: 0.9150000810623169\n",
      "1000 - loss: 0.20724773406982422, train: 0.9402598738670349, test: 0.9198000431060791\n",
      "1100 - loss: 0.20889964699745178, train: 0.9440598487854004, test: 0.9192001223564148\n",
      "1200 - loss: 0.16916289925575256, train: 0.9470599293708801, test: 0.9206000566482544\n",
      "1300 - loss: 0.16294686496257782, train: 0.949539840221405, test: 0.922200083732605\n",
      "1400 - loss: 0.16356965899467468, train: 0.9514198303222656, test: 0.9256001710891724\n",
      "1500 - loss: 0.18164870142936707, train: 0.9545798301696777, test: 0.9263001084327698\n",
      "1600 - loss: 0.13095465302467346, train: 0.9575198292732239, test: 0.9282000660896301\n",
      "1700 - loss: 0.1290457844734192, train: 0.9595598578453064, test: 0.927600085735321\n",
      "1800 - loss: 0.17330004274845123, train: 0.959919810295105, test: 0.928300142288208\n",
      "1900 - loss: 0.13421401381492615, train: 0.9622997641563416, test: 0.9307001829147339\n"
     ]
    },
    {
     "data": {
      "image/png": "[encoded data removed]",
      "text/plain": [
       "<matplotlib.figure.Figure at 0x25b60756278>"
      ]
     },
     "metadata": {},
     "output_type": "display_data"
    },
    {
     "data": {
      "image/png": "[encoded data removed]",
      "text/plain": [
       "<matplotlib.figure.Figure at 0x25b0b579f98>"
      ]
     },
     "metadata": {},
     "output_type": "display_data"
    }
   ],
   "source": [
    "train_network()"
   ]
  },
  {
   "cell_type": "code",
   "execution_count": 142,
   "metadata": {},
   "outputs": [],
   "source": [
    "expanded_X_train = []\n",
    "expanded_y_train = []\n",
    "\n",
    "def img_resize(img, percent):\n",
    "    img_ = imresize(img, percent)\n",
    "    offset = int((img_.shape[0] - 28) / 2)\n",
    "    return img_[offset:offset+28, offset:offset+28]\n",
    "\n",
    "for i in range(len(X_train)):\n",
    "    img = X_train[i]\n",
    "    img_class = y_train[i]\n",
    "\n",
    "    expanded_X_train += [img]\n",
    "    expanded_y_train += [img_class]\n",
    "\n",
    "    for angle in [5, -5, 10, -10, -15, 15, -20, 20]:\n",
    "#     for angle in [10, -10]:\n",
    "        img_ = imrotate(img, angle) / 255.\n",
    "        assert img_.shape[0] == 28\n",
    "        expanded_X_train += [img_]\n",
    "        expanded_y_train += [img_class]\n",
    "    \n",
    "    for scale in [120, 110]:\n",
    "        img_ = img_resize(img, scale) / 255.\n",
    "        assert img_.shape[0] == 28\n",
    "        expanded_X_train += [img_]\n",
    "        expanded_y_train += [img_class]\n",
    "    \n",
    "expanded_X_train = np.array(expanded_X_train)\n",
    "expanded_y_train = np.array(expanded_y_train)\n"
   ]
  },
  {
   "cell_type": "code",
   "execution_count": 144,
   "metadata": {},
   "outputs": [
    {
     "name": "stdout",
     "output_type": "stream",
     "text": [
      "sigma 0.1\n",
      "(50000, 28, 28)\n",
      "(50000,)\n",
      "0 - loss: 2.718897581100464, train: 0.07100000232458115, test: 0.2157999873161316\n",
      "100 - loss: 0.645745038986206, train: 0.9240000247955322, test: 0.9271001219749451\n",
      "200 - loss: 0.6266799569129944, train: 0.9220000505447388, test: 0.9482001066207886\n",
      "300 - loss: 0.5100219249725342, train: 0.9650000333786011, test: 0.9590001106262207\n"
     ]
    },
    {
     "ename": "KeyboardInterrupt",
     "evalue": "",
     "output_type": "error",
     "traceback": [
      "\u001b[1;31m---------------------------------------------------------------------------\u001b[0m",
      "\u001b[1;31mKeyboardInterrupt\u001b[0m                         Traceback (most recent call last)",
      "\u001b[1;32m<ipython-input-144-352004ea457b>\u001b[0m in \u001b[0;36m<module>\u001b[1;34m()\u001b[0m\n\u001b[0;32m     63\u001b[0m     \u001b[0ms\u001b[0m\u001b[1;33m.\u001b[0m\u001b[0mrun\u001b[0m\u001b[1;33m(\u001b[0m\u001b[0mtf\u001b[0m\u001b[1;33m.\u001b[0m\u001b[0mglobal_variables_initializer\u001b[0m\u001b[1;33m(\u001b[0m\u001b[1;33m)\u001b[0m\u001b[1;33m)\u001b[0m\u001b[1;33m\u001b[0m\u001b[0m\n\u001b[0;32m     64\u001b[0m \u001b[1;33m\u001b[0m\u001b[0m\n\u001b[1;32m---> 65\u001b[1;33m \u001b[0mtrain_network\u001b[0m\u001b[1;33m(\u001b[0m\u001b[0miterations\u001b[0m\u001b[1;33m=\u001b[0m\u001b[1;36m5000\u001b[0m\u001b[1;33m,\u001b[0m \u001b[0mbatch_size\u001b[0m\u001b[1;33m=\u001b[0m\u001b[1;36m1000\u001b[0m\u001b[1;33m,\u001b[0m \u001b[0mX_train\u001b[0m\u001b[1;33m=\u001b[0m\u001b[0mX_train\u001b[0m\u001b[1;33m,\u001b[0m \u001b[0my_train\u001b[0m\u001b[1;33m=\u001b[0m\u001b[0my_train\u001b[0m\u001b[1;33m)\u001b[0m\u001b[1;33m\u001b[0m\u001b[0m\n\u001b[0m",
      "\u001b[1;32m<ipython-input-132-cf9a4cdbd2f8>\u001b[0m in \u001b[0;36mtrain_network\u001b[1;34m(iterations, batch_size, X_train, y_train)\u001b[0m\n\u001b[0;32m     18\u001b[0m             \u001b[0mloss\u001b[0m\u001b[1;33m,\u001b[0m \u001b[0maccuracy\u001b[0m\u001b[1;33m,\u001b[0m \u001b[0moptimizer\u001b[0m\u001b[1;33m\u001b[0m\u001b[0m\n\u001b[0;32m     19\u001b[0m         \u001b[1;33m]\u001b[0m\u001b[1;33m,\u001b[0m  \u001b[1;33m{\u001b[0m\u001b[0minput_x\u001b[0m\u001b[1;33m:\u001b[0m \u001b[0mX_batch\u001b[0m\u001b[1;33m,\u001b[0m\u001b[1;33m\u001b[0m\u001b[0m\n\u001b[1;32m---> 20\u001b[1;33m                          label_y: y_batch})\n\u001b[0m\u001b[0;32m     21\u001b[0m \u001b[1;33m\u001b[0m\u001b[0m\n\u001b[0;32m     22\u001b[0m         \u001b[1;32mif\u001b[0m \u001b[0mi\u001b[0m \u001b[1;33m%\u001b[0m \u001b[1;36m100\u001b[0m \u001b[1;33m==\u001b[0m \u001b[1;36m0\u001b[0m\u001b[1;33m:\u001b[0m\u001b[1;33m\u001b[0m\u001b[0m\n",
      "\u001b[1;32mC:\\tools\\Anaconda3\\lib\\site-packages\\tensorflow\\python\\client\\session.py\u001b[0m in \u001b[0;36mrun\u001b[1;34m(self, fetches, feed_dict, options, run_metadata)\u001b[0m\n\u001b[0;32m    776\u001b[0m     \u001b[1;32mtry\u001b[0m\u001b[1;33m:\u001b[0m\u001b[1;33m\u001b[0m\u001b[0m\n\u001b[0;32m    777\u001b[0m       result = self._run(None, fetches, feed_dict, options_ptr,\n\u001b[1;32m--> 778\u001b[1;33m                          run_metadata_ptr)\n\u001b[0m\u001b[0;32m    779\u001b[0m       \u001b[1;32mif\u001b[0m \u001b[0mrun_metadata\u001b[0m\u001b[1;33m:\u001b[0m\u001b[1;33m\u001b[0m\u001b[0m\n\u001b[0;32m    780\u001b[0m         \u001b[0mproto_data\u001b[0m \u001b[1;33m=\u001b[0m \u001b[0mtf_session\u001b[0m\u001b[1;33m.\u001b[0m\u001b[0mTF_GetBuffer\u001b[0m\u001b[1;33m(\u001b[0m\u001b[0mrun_metadata_ptr\u001b[0m\u001b[1;33m)\u001b[0m\u001b[1;33m\u001b[0m\u001b[0m\n",
      "\u001b[1;32mC:\\tools\\Anaconda3\\lib\\site-packages\\tensorflow\\python\\client\\session.py\u001b[0m in \u001b[0;36m_run\u001b[1;34m(self, handle, fetches, feed_dict, options, run_metadata)\u001b[0m\n\u001b[0;32m    952\u001b[0m             \u001b[0mnp_val\u001b[0m \u001b[1;33m=\u001b[0m \u001b[0msubfeed_val\u001b[0m\u001b[1;33m.\u001b[0m\u001b[0mto_numpy_array\u001b[0m\u001b[1;33m(\u001b[0m\u001b[1;33m)\u001b[0m\u001b[1;33m\u001b[0m\u001b[0m\n\u001b[0;32m    953\u001b[0m           \u001b[1;32melse\u001b[0m\u001b[1;33m:\u001b[0m\u001b[1;33m\u001b[0m\u001b[0m\n\u001b[1;32m--> 954\u001b[1;33m             \u001b[0mnp_val\u001b[0m \u001b[1;33m=\u001b[0m \u001b[0mnp\u001b[0m\u001b[1;33m.\u001b[0m\u001b[0masarray\u001b[0m\u001b[1;33m(\u001b[0m\u001b[0msubfeed_val\u001b[0m\u001b[1;33m,\u001b[0m \u001b[0mdtype\u001b[0m\u001b[1;33m=\u001b[0m\u001b[0msubfeed_dtype\u001b[0m\u001b[1;33m)\u001b[0m\u001b[1;33m\u001b[0m\u001b[0m\n\u001b[0m\u001b[0;32m    955\u001b[0m \u001b[1;33m\u001b[0m\u001b[0m\n\u001b[0;32m    956\u001b[0m           if (not is_tensor_handle_feed and\n",
      "\u001b[1;32mC:\\tools\\Anaconda3\\lib\\site-packages\\numpy\\core\\numeric.py\u001b[0m in \u001b[0;36masarray\u001b[1;34m(a, dtype, order)\u001b[0m\n\u001b[0;32m    529\u001b[0m \u001b[1;33m\u001b[0m\u001b[0m\n\u001b[0;32m    530\u001b[0m     \"\"\"\n\u001b[1;32m--> 531\u001b[1;33m     \u001b[1;32mreturn\u001b[0m \u001b[0marray\u001b[0m\u001b[1;33m(\u001b[0m\u001b[0ma\u001b[0m\u001b[1;33m,\u001b[0m \u001b[0mdtype\u001b[0m\u001b[1;33m,\u001b[0m \u001b[0mcopy\u001b[0m\u001b[1;33m=\u001b[0m\u001b[1;32mFalse\u001b[0m\u001b[1;33m,\u001b[0m \u001b[0morder\u001b[0m\u001b[1;33m=\u001b[0m\u001b[0morder\u001b[0m\u001b[1;33m)\u001b[0m\u001b[1;33m\u001b[0m\u001b[0m\n\u001b[0m\u001b[0;32m    532\u001b[0m \u001b[1;33m\u001b[0m\u001b[0m\n\u001b[0;32m    533\u001b[0m \u001b[1;33m\u001b[0m\u001b[0m\n",
      "\u001b[1;31mKeyboardInterrupt\u001b[0m: "
     ]
    }
   ],
   "source": [
    "tf.reset_default_graph()\n",
    "s = tf.InteractiveSession()\n",
    "\n",
    "def add_layer_with_loss(in_, size, output_f, sigma=1):\n",
    "    global layer_cnt\n",
    "    \n",
    "    W2 = tf.get_variable(\"weights{}\".format(layer_cnt),\n",
    "                         [in_.shape[1], size],\n",
    "                         initializer=tf.random_normal_initializer(mean=0, stddev=sigma),\n",
    "                         dtype=tf.float32)\n",
    "    b2 = tf.get_variable(\"bias{}\".format(layer_cnt),\n",
    "                         [size],\n",
    "                         initializer=tf.zeros_initializer(),\n",
    "                         dtype=tf.float32)\n",
    "\n",
    "    y2 = output_f(tf.matmul(in_, W2) + b2)\n",
    "    \n",
    "    loss = tf.norm(W2, ord=2)\n",
    "#     loss = tf.reduce_sum(tf.sqrt(tf.tensordot(tf.squeeze(W2), tf.squeeze(W2), 1)))\n",
    "#     loss += tf.reduce_sum(tf.sqrt(tf.tensordot(b2, b2, 1)))\n",
    "    \n",
    "    layer_cnt += 1\n",
    "    return y2, loss\n",
    "\n",
    "\n",
    "with tf.variable_scope(\"1nn-2layers\"):\n",
    "    # input shape\n",
    "    input_x = tf.placeholder(tf.float32, shape=(None, rows, cols), name=\"input_X\")\n",
    "    label_y = tf.placeholder(tf.uint8, shape=(None,), name=\"input_Y\")\n",
    "\n",
    "    y_ = tf.one_hot(label_y, classes, dtype=tf.float32)\n",
    "    x = tf.reshape(input_x, [-1, rows * cols])\n",
    "    \n",
    "    sigma = np.sqrt(2. / 10.)\n",
    "    sigma = 0.1\n",
    "    print(\"sigma\", sigma)\n",
    "  \n",
    "    # input layer\n",
    "    loss_lambda = 0.01\n",
    "    \n",
    "    y1, loss_ = add_layer_with_loss(x, 100, tf.nn.relu, sigma=sigma)\n",
    "    loss = loss_lambda * loss_\n",
    "    y3, loss_ = add_layer_with_loss(y1, 50, tf.nn.relu, sigma=sigma)\n",
    "    loss += loss_lambda * loss_\n",
    "    y, loss_ = add_layer_with_loss(y3, 10, tf.nn.softmax, sigma=sigma)\n",
    "    loss += loss_lambda * loss_\n",
    "\n",
    "    loss += tf.reduce_mean(-tf.reduce_sum(tf.cast(y_, tf.float32) * tf.log(y), \n",
    "    reduction_indices=[1]))\n",
    "    \n",
    "    correct_prediction = tf.equal(tf.argmax(y_, 1), tf.argmax(y, 1))\n",
    "    accuracy = tf.reduce_mean(tf.cast(correct_prediction, tf.float32))\n",
    "\n",
    "    global_step = tf.Variable(0, trainable=False)\n",
    "    starter_learning_rate = .8\n",
    "    learning_rate = tf.train.exponential_decay(starter_learning_rate, global_step,\n",
    "                                           100, 0.96, staircase=True)\n",
    "\n",
    "    optimizer = tf.train.GradientDescentOptimizer(learning_rate).minimize(loss, global_step=global_step)\n",
    "#     optimizer = tf.train.GradientDescentOptimizer(2.).minimize(loss)\n",
    "\n",
    "    \n",
    "    s.run(tf.global_variables_initializer())\n",
    "\n",
    "train_network(iterations=5000, batch_size=1000, X_train=X_train, y_train=y_train)"
   ]
  },
  {
   "cell_type": "code",
   "execution_count": null,
   "metadata": {
    "scrolled": true
   },
   "outputs": [
    {
     "name": "stdout",
     "output_type": "stream",
     "text": [
      "(550000, 28, 28)\n",
      "(550000,)\n",
      "0 - loss: 2.69490647315979, train: 0.07600000500679016, test: 0.2726999521255493\n",
      "100 - loss: 0.7746925354003906, train: 0.8900001049041748, test: 0.9070001244544983\n",
      "200 - loss: 0.6733514070510864, train: 0.9190000295639038, test: 0.9385001063346863\n",
      "300 - loss: 0.6517444849014282, train: 0.9240000247955322, test: 0.9542001485824585\n",
      "400 - loss: 0.5867795944213867, train: 0.9460000395774841, test: 0.9612001180648804\n",
      "500 - loss: 0.5914017558097839, train: 0.9380000829696655, test: 0.9641001224517822\n",
      "600 - loss: 0.5276877284049988, train: 0.9569999575614929, test: 0.9647001028060913\n",
      "700 - loss: 0.5461990833282471, train: 0.9460000395774841, test: 0.9686000347137451\n",
      "800 - loss: 0.7036571502685547, train: 0.8999999761581421, test: 0.8885000348091125\n",
      "900 - loss: 0.46899890899658203, train: 0.9700000286102295, test: 0.9717000722885132\n",
      "1000 - loss: 0.4725476801395416, train: 0.9630000591278076, test: 0.9724001288414001\n",
      "1100 - loss: 0.46233031153678894, train: 0.9729999899864197, test: 0.9733000993728638\n",
      "1200 - loss: 0.4866977334022522, train: 0.9580000638961792, test: 0.9728001356124878\n",
      "1300 - loss: 0.4576174318790436, train: 0.9690000414848328, test: 0.9740001559257507\n",
      "1400 - loss: 0.4657224416732788, train: 0.9670000672340393, test: 0.9745001196861267\n",
      "1500 - loss: 0.4533767104148865, train: 0.9660000205039978, test: 0.9765000939369202\n",
      "1600 - loss: 0.44128742814064026, train: 0.9740000367164612, test: 0.9768001437187195\n",
      "1700 - loss: 0.4455971121788025, train: 0.9690001010894775, test: 0.9766001105308533\n",
      "1800 - loss: 0.43284153938293457, train: 0.9750000238418579, test: 0.9779000878334045\n",
      "1900 - loss: 0.43993860483169556, train: 0.9600000381469727, test: 0.9756001234054565\n",
      "2000 - loss: 0.41980037093162537, train: 0.9729999899864197, test: 0.9772000908851624\n",
      "2100 - loss: 0.4184918701648712, train: 0.9790000319480896, test: 0.9755000472068787\n",
      "2200 - loss: 0.40231597423553467, train: 0.9809999465942383, test: 0.97760009765625\n",
      "2300 - loss: 0.4477112591266632, train: 0.9670000672340393, test: 0.9788001179695129\n",
      "2400 - loss: 0.4266672134399414, train: 0.9690000414848328, test: 0.978900134563446\n",
      "2500 - loss: 0.4013559818267822, train: 0.9769999980926514, test: 0.9793001413345337\n",
      "2600 - loss: 0.40879717469215393, train: 0.9750000238418579, test: 0.9788001179695129\n",
      "2700 - loss: 0.41071659326553345, train: 0.9700000286102295, test: 0.9796000719070435\n",
      "2800 - loss: 0.4052148759365082, train: 0.9750000238418579, test: 0.9788001775741577\n",
      "2900 - loss: 0.3996883034706116, train: 0.972000002861023, test: 0.9786001443862915\n",
      "3000 - loss: 0.3988175094127655, train: 0.9690000414848328, test: 0.9800001382827759\n",
      "3100 - loss: 0.39039912819862366, train: 0.9760000705718994, test: 0.9797000885009766\n",
      "3200 - loss: 0.3768202066421509, train: 0.9850000143051147, test: 0.9802001118659973\n",
      "3300 - loss: 0.3929865062236786, train: 0.9720000624656677, test: 0.980100154876709\n",
      "3400 - loss: 0.3802489936351776, train: 0.9749999642372131, test: 0.9798001050949097\n"
     ]
    }
   ],
   "source": [
    "train_network(iterations=5000, batch_size=1000, X_train=expanded_X_train, y_train=expanded_y_train)"
   ]
  },
  {
   "cell_type": "code",
   "execution_count": 126,
   "metadata": {},
   "outputs": [
    {
     "name": "stdout",
     "output_type": "stream",
     "text": [
      "(350000, 28, 28)\n",
      "(350000,)\n",
      "0 - loss: 3.5045151710510254, train: 0.15700000524520874, test: 0.24939997494220734\n",
      "100 - loss: 1.6753380298614502, train: 0.8329999446868896, test: 0.8565000295639038\n",
      "200 - loss: 1.3664897680282593, train: 0.906000018119812, test: 0.9259001016616821\n",
      "300 - loss: 1.2018520832061768, train: 0.9300000071525574, test: 0.9474000930786133\n",
      "400 - loss: 1.0768394470214844, train: 0.9420000910758972, test: 0.9529001712799072\n",
      "500 - loss: 1.0233819484710693, train: 0.9500000476837158, test: 0.954500138759613\n",
      "600 - loss: 0.9942128658294678, train: 0.9450000524520874, test: 0.9602000713348389\n",
      "700 - loss: 0.9203286170959473, train: 0.958000123500824, test: 0.96260005235672\n",
      "800 - loss: 0.9133054614067078, train: 0.9399999976158142, test: 0.9555001854896545\n",
      "900 - loss: 0.83608078956604, train: 0.956000030040741, test: 0.9638000726699829\n"
     ]
    },
    {
     "data": {
      "image/png": "[encoded data removed]",
      "text/plain": [
       "<matplotlib.figure.Figure at 0x25c1ab22128>"
      ]
     },
     "metadata": {},
     "output_type": "display_data"
    },
    {
     "data": {
      "image/png": "[encoded data removed]",
      "text/plain": [
       "<matplotlib.figure.Figure at 0x25bdbc286d8>"
      ]
     },
     "metadata": {},
     "output_type": "display_data"
    }
   ],
   "source": [
    "%lprun -f train_network train_network(iterations=1000, batch_size=1000, X_train=expanded_X_train, y_train=expanded_y_train)"
   ]
  },
  {
   "cell_type": "code",
   "execution_count": 98,
   "metadata": {
    "collapsed": true
   },
   "outputs": [],
   "source": [
    "\n",
    "%load_ext line_profiler"
   ]
  },
  {
   "cell_type": "code",
   "execution_count": 95,
   "metadata": {},
   "outputs": [
    {
     "data": {
      "image/png": "[encoded data removed]",
      "text/plain": [
       "<matplotlib.figure.Figure at 0x25c1c2b9438>"
      ]
     },
     "metadata": {},
     "output_type": "display_data"
    },
    {
     "data": {
      "image/png": "[encoded data removed]",
      "text/plain": [
       "<matplotlib.figure.Figure at 0x25c50b7c978>"
      ]
     },
     "metadata": {},
     "output_type": "display_data"
    },
    {
     "data": {
      "image/png": "[encoded data removed]",
      "text/plain": [
       "<matplotlib.figure.Figure at 0x25c1c2e16d8>"
      ]
     },
     "metadata": {},
     "output_type": "display_data"
    },
    {
     "data": {
      "image/png": "[encoded data removed]",
      "text/plain": [
       "<matplotlib.figure.Figure at 0x25c1c320470>"
      ]
     },
     "metadata": {},
     "output_type": "display_data"
    },
    {
     "data": {
      "image/png": "[encoded data removed]",
      "text/plain": [
       "<matplotlib.figure.Figure at 0x25c1c2ef198>"
      ]
     },
     "metadata": {},
     "output_type": "display_data"
    },
    {
     "data": {
      "image/png": "[encoded data removed]",
      "text/plain": [
       "<matplotlib.figure.Figure at 0x25c1c38af60>"
      ]
     },
     "metadata": {},
     "output_type": "display_data"
    },
    {
     "data": {
      "image/png": "[encoded data removed]",
      "text/plain": [
       "<matplotlib.figure.Figure at 0x25c1c3cccf8>"
      ]
     },
     "metadata": {},
     "output_type": "display_data"
    },
    {
     "data": {
      "image/png": "[encoded data removed]",
      "text/plain": [
       "<matplotlib.figure.Figure at 0x25c1c40ea20>"
      ]
     },
     "metadata": {},
     "output_type": "display_data"
    },
    {
     "data": {
      "image/png": "[encoded data removed]",
      "text/plain": [
       "<matplotlib.figure.Figure at 0x25c1c3dfbe0>"
      ]
     },
     "metadata": {},
     "output_type": "display_data"
    },
    {
     "data": {
      "image/png": "[encoded data removed]",
      "text/plain": [
       "<matplotlib.figure.Figure at 0x25c2b225240>"
      ]
     },
     "metadata": {},
     "output_type": "display_data"
    }
   ],
   "source": [
    "for i in range(10):\n",
    "    plt.figure()\n",
    "    plt.imshow(expanded_X_train[i], cmap=\"Greys\");"
   ]
  },
  {
   "cell_type": "code",
   "execution_count": null,
   "metadata": {
    "collapsed": true
   },
   "outputs": [],
   "source": []
  }
 ],
 "metadata": {
  "kernelspec": {
   "display_name": "Python 3",
   "language": "python",
   "name": "python3"
  },
  "language_info": {
   "codemirror_mode": {
    "name": "ipython",
    "version": 3
   },
   "file_extension": ".py",
   "mimetype": "text/x-python",
   "name": "python",
   "nbconvert_exporter": "python",
   "pygments_lexer": "ipython3",
   "version": "3.6.3"
  }
 },
 "nbformat": 4,
 "nbformat_minor": 2
}
