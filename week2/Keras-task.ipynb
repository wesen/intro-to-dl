{
 "cells": [
  {
   "cell_type": "markdown",
   "metadata": {},
   "source": [
    "# Getting deeper with Keras\n",
    "* Tensorflow is a powerful and flexible tool, but coding large neural architectures with it is tedious.\n",
    "* There are plenty of deep learning toolkits that work on top of it like Slim, TFLearn, Sonnet, Keras.\n",
    "* Choice is matter of taste and particular task\n",
    "* We'll be using Keras"
   ]
  },
  {
   "cell_type": "code",
   "execution_count": 1,
   "metadata": {
    "collapsed": true
   },
   "outputs": [],
   "source": [
    "import sys\n",
    "sys.path.append(\"..\")\n",
    "import grading"
   ]
  },
  {
   "cell_type": "code",
   "execution_count": 2,
   "metadata": {},
   "outputs": [
    {
     "name": "stderr",
     "output_type": "stream",
     "text": [
      "The syntax of the command is incorrect.\n",
      "The syntax of the command is incorrect.\n",
      "'ln' is not recognized as an internal or external command,\n",
      "operable program or batch file.\n",
      "'ln' is not recognized as an internal or external command,\n",
      "operable program or batch file.\n"
     ]
    }
   ],
   "source": [
    "# use preloaded keras datasets and models\n",
    "! mkdir -p ~/.keras/datasets\n",
    "! mkdir -p ~/.keras/models\n",
    "! ln -s $(realpath ../readonly/keras/datasets/*) ~/.keras/datasets/\n",
    "! ln -s $(realpath ../readonly/keras/models/*) ~/.keras/models/"
   ]
  },
  {
   "cell_type": "code",
   "execution_count": 2,
   "metadata": {},
   "outputs": [
    {
     "name": "stderr",
     "output_type": "stream",
     "text": [
      "Using TensorFlow backend.\n"
     ]
    }
   ],
   "source": [
    "import numpy as np\n",
    "from preprocessed_mnist import load_dataset\n",
    "import keras\n",
    "X_train, y_train, X_val, y_val, X_test, y_test = load_dataset()\n",
    "y_train,y_val,y_test = map(keras.utils.np_utils.to_categorical,[y_train,y_val,y_test])"
   ]
  },
  {
   "cell_type": "code",
   "execution_count": 3,
   "metadata": {
    "scrolled": true
   },
   "outputs": [
    {
     "data": {
      "image/png": "[encoded data removed]",
      "text/plain": [
       "<matplotlib.figure.Figure at 0x26a1fdd2128>"
      ]
     },
     "metadata": {},
     "output_type": "display_data"
    }
   ],
   "source": [
    "import matplotlib.pyplot as plt\n",
    "%matplotlib inline\n",
    "plt.imshow(X_train[0]);"
   ]
  },
  {
   "cell_type": "markdown",
   "metadata": {},
   "source": [
    "## The pretty keras"
   ]
  },
  {
   "cell_type": "code",
   "execution_count": 4,
   "metadata": {
    "collapsed": true
   },
   "outputs": [],
   "source": [
    "import tensorflow as tf\n",
    "s = tf.InteractiveSession()"
   ]
  },
  {
   "cell_type": "code",
   "execution_count": 43,
   "metadata": {
    "collapsed": true
   },
   "outputs": [],
   "source": [
    "import keras\n",
    "from keras.models import Sequential\n",
    "import keras.layers as ll\n",
    "\n",
    "model = Sequential(name=\"mlp\")\n",
    "\n",
    "model.add(ll.InputLayer([28, 28, 1]))\n",
    "model.add(ll.Reshape((28,28)))\n",
    "\n",
    "model.add(ll.Flatten())\n",
    "\n",
    "# network body\n",
    "model.add(ll.Dense(50))\n",
    "model.add(ll.Activation('relu'))\n",
    "\n",
    "model.add(ll.Dense(30))\n",
    "model.add(ll.Activation('sigmoid'))\n",
    "\n",
    "# output layer: 10 neurons for each class with softmax\n",
    "model.add(ll.Dense(10, activation='softmax'))\n",
    "\n",
    "# categorical_crossentropy is your good old crossentropy\n",
    "# but applied for one-hot-encoded vectors\n",
    "model.compile(\"adam\", \"categorical_crossentropy\", metrics=[\"accuracy\"])\n",
    "# model.compile(keras.optimizers.SGD(lr=1.0, momentum=0.1, decay=0.0001), \"categorical_crossentropy\", metrics=[\"accuracy\"])"
   ]
  },
  {
   "cell_type": "code",
   "execution_count": 44,
   "metadata": {},
   "outputs": [
    {
     "name": "stdout",
     "output_type": "stream",
     "text": [
      "_________________________________________________________________\n",
      "Layer (type)                 Output Shape              Param #   \n",
      "=================================================================\n",
      "input_11 (InputLayer)        (None, 28, 28, 1)         0         \n",
      "_________________________________________________________________\n",
      "reshape_11 (Reshape)         (None, 28, 28)            0         \n",
      "_________________________________________________________________\n",
      "flatten_11 (Flatten)         (None, 784)               0         \n",
      "_________________________________________________________________\n",
      "dense_31 (Dense)             (None, 50)                39250     \n",
      "_________________________________________________________________\n",
      "activation_21 (Activation)   (None, 50)                0         \n",
      "_________________________________________________________________\n",
      "dense_32 (Dense)             (None, 30)                1530      \n",
      "_________________________________________________________________\n",
      "activation_22 (Activation)   (None, 30)                0         \n",
      "_________________________________________________________________\n",
      "dense_33 (Dense)             (None, 10)                310       \n",
      "=================================================================\n",
      "Total params: 41,090\n",
      "Trainable params: 41,090\n",
      "Non-trainable params: 0\n",
      "_________________________________________________________________\n"
     ]
    }
   ],
   "source": [
    "model.summary()"
   ]
  },
  {
   "cell_type": "markdown",
   "metadata": {},
   "source": [
    "### Model interface\n",
    "\n",
    "Keras models follow __Scikit-learn__'s interface of fit/predict with some notable extensions. Let's take a tour."
   ]
  },
  {
   "cell_type": "code",
   "execution_count": 60,
   "metadata": {},
   "outputs": [
    {
     "data": {
      "image/png": "[encoded data removed]",
      "text/plain": [
       "<matplotlib.figure.Figure at 0x26a0088ff28>"
      ]
     },
     "metadata": {},
     "output_type": "display_data"
    }
   ],
   "source": [
    "\n",
    "from matplotlib import pyplot\n",
    "from keras.preprocessing.image import ImageDataGenerator\n",
    "\n",
    "shift_range = 0.0\n",
    "datagen = ImageDataGenerator(rotation_range=10, \n",
    "#                              featurewise_center=True, \n",
    "#                              featurewise_std_normalization=True,\n",
    "                             width_shift_range=shift_range,\n",
    "                             height_shift_range=shift_range,\n",
    "#                             zca_whitening=True\n",
    "                            )\n",
    "\n",
    "X_train, y_train, X_val, y_val, X_test, y_test = load_dataset()\n",
    "y_train,y_val,y_test = map(keras.utils.np_utils.to_categorical,[y_train,y_val,y_test])\n",
    "\n",
    "test_train = X_train.copy()\n",
    "test_train = test_train.reshape(X_train.shape[0], 28, 28, 1)\n",
    "\n",
    "test_val = X_val.copy()\n",
    "test_val = test_val.reshape(X_val.shape[0], 28, 28, 1)\n",
    "\n",
    "test_test = X_test.copy()\n",
    "test_test = test_test.reshape(test_val.shape[0], 28, 28, 1)\n",
    "\n",
    "\n",
    "\n",
    "datagen.fit(test_train)\n",
    "# configure batch size and retrieve one batch of images\n",
    "for X_batch, y_batch in datagen.flow(test_train, y_train, batch_size=9):\n",
    "    # create a grid of 3x3 images\n",
    "    for i in range(0, 9):\n",
    "        pyplot.subplot(330 + 1 + i)\n",
    "        pyplot.imshow(X_batch[i].reshape(28, 28), cmap=pyplot.get_cmap('gray'))\n",
    "    # show the plot\n",
    "    pyplot.show()\n",
    "    break\n",
    "\n",
    "# model.fit_generator(datagen.flow(test_train, y_train, batch_size=32), steps_per_epoch=len(test_train)/32, epochs=10)"
   ]
  },
  {
   "cell_type": "code",
   "execution_count": 56,
   "metadata": {},
   "outputs": [
    {
     "name": "stdout",
     "output_type": "stream",
     "text": [
      "Epoch 1/50\n",
      " 99/100 [============================>.] - ETA: 0s - loss: 0.0780 - acc: 0.9763\n",
      "LR: 0.001000\n",
      "\n",
      "100/100 [==============================] - 12s - loss: 0.0780 - acc: 0.9762 - val_loss: 0.0793 - val_acc: 0.9744\n",
      "Epoch 2/50\n",
      " 99/100 [============================>.] - ETA: 0s - loss: 0.0762 - acc: 0.9767\n",
      "LR: 0.001000\n",
      "\n",
      "100/100 [==============================] - 12s - loss: 0.0762 - acc: 0.9767 - val_loss: 0.0774 - val_acc: 0.9760\n",
      "Epoch 3/50\n",
      " 99/100 [============================>.] - ETA: 0s - loss: 0.0736 - acc: 0.9775\n",
      "LR: 0.001000\n",
      "\n",
      "100/100 [==============================] - 12s - loss: 0.0736 - acc: 0.9776 - val_loss: 0.0767 - val_acc: 0.9759\n",
      "Epoch 4/50\n",
      " 99/100 [============================>.] - ETA: 0s - loss: 0.0718 - acc: 0.9783\n",
      "LR: 0.001000\n",
      "\n",
      "100/100 [==============================] - 12s - loss: 0.0717 - acc: 0.9784 - val_loss: 0.0753 - val_acc: 0.9761\n",
      "Epoch 5/50\n",
      " 99/100 [============================>.] - ETA: 0s - loss: 0.0699 - acc: 0.9791\n",
      "LR: 0.001000\n",
      "\n",
      "100/100 [==============================] - 12s - loss: 0.0699 - acc: 0.9791 - val_loss: 0.0754 - val_acc: 0.9766\n",
      "Epoch 6/50\n",
      " 99/100 [============================>.] - ETA: 0s - loss: 0.0678 - acc: 0.9794\n",
      "LR: 0.001000\n",
      "\n",
      "100/100 [==============================] - 12s - loss: 0.0678 - acc: 0.9795 - val_loss: 0.0742 - val_acc: 0.9778\n",
      "Epoch 7/50\n",
      " 99/100 [============================>.] - ETA: 0s - loss: 0.0658 - acc: 0.9801\n",
      "LR: 0.001000\n",
      "\n",
      "100/100 [==============================] - 12s - loss: 0.0660 - acc: 0.9800 - val_loss: 0.0742 - val_acc: 0.9767\n",
      "Epoch 8/50\n",
      " 99/100 [============================>.] - ETA: 0s - loss: 0.0643 - acc: 0.9804\n",
      "LR: 0.001000\n",
      "\n",
      "100/100 [==============================] - 12s - loss: 0.0645 - acc: 0.9803 - val_loss: 0.0726 - val_acc: 0.9769\n",
      "Epoch 9/50\n",
      " 99/100 [============================>.] - ETA: 0s - loss: 0.0633 - acc: 0.9807\n",
      "LR: 0.001000\n",
      "\n",
      "100/100 [==============================] - 12s - loss: 0.0633 - acc: 0.9807 - val_loss: 0.0732 - val_acc: 0.9773\n",
      "Epoch 10/50\n",
      " 99/100 [============================>.] - ETA: 0s - loss: 0.0610 - acc: 0.9817\n",
      "LR: 0.001000\n",
      "\n",
      "100/100 [==============================] - 12s - loss: 0.0610 - acc: 0.9817 - val_loss: 0.0732 - val_acc: 0.9765\n",
      "Epoch 11/50\n",
      " 99/100 [============================>.] - ETA: 0s - loss: 0.0600 - acc: 0.9818\n",
      "LR: 0.001000\n",
      "\n",
      "100/100 [==============================] - 12s - loss: 0.0600 - acc: 0.9818 - val_loss: 0.0719 - val_acc: 0.9777\n",
      "Epoch 12/50\n",
      " 99/100 [============================>.] - ETA: 0s - loss: 0.0581 - acc: 0.9823\n",
      "LR: 0.001000\n",
      "\n",
      "100/100 [==============================] - 12s - loss: 0.0581 - acc: 0.9823 - val_loss: 0.0718 - val_acc: 0.9775\n",
      "Epoch 13/50\n",
      " 99/100 [============================>.] - ETA: 0s - loss: 0.0568 - acc: 0.9831\n",
      "LR: 0.001000\n",
      "\n",
      "100/100 [==============================] - 12s - loss: 0.0569 - acc: 0.9831 - val_loss: 0.0704 - val_acc: 0.9776\n",
      "Epoch 14/50\n",
      " 99/100 [============================>.] - ETA: 0s - loss: 0.0567 - acc: 0.9830\n",
      "LR: 0.001000\n",
      "\n",
      "100/100 [==============================] - 12s - loss: 0.0566 - acc: 0.9830 - val_loss: 0.0709 - val_acc: 0.9786\n",
      "Epoch 15/50\n",
      " 99/100 [============================>.] - ETA: 0s - loss: 0.0557 - acc: 0.9834\n",
      "LR: 0.001000\n",
      "\n",
      "100/100 [==============================] - 12s - loss: 0.0557 - acc: 0.9833 - val_loss: 0.0718 - val_acc: 0.9785\n",
      "Epoch 16/50\n",
      " 99/100 [============================>.] - ETA: 0s - loss: 0.0537 - acc: 0.9838\n",
      "LR: 0.001000\n",
      "\n",
      "100/100 [==============================] - 12s - loss: 0.0541 - acc: 0.9837 - val_loss: 0.0707 - val_acc: 0.9781\n",
      "Epoch 17/50\n",
      " 99/100 [============================>.] - ETA: 0s - loss: 0.0532 - acc: 0.9839\n",
      "LR: 0.001000\n",
      "\n",
      "100/100 [==============================] - 12s - loss: 0.0532 - acc: 0.9839 - val_loss: 0.0704 - val_acc: 0.9778\n",
      "Epoch 18/50\n",
      " 99/100 [============================>.] - ETA: 0s - loss: 0.0531 - acc: 0.9836\n",
      "LR: 0.001000\n",
      "\n",
      "100/100 [==============================] - 12s - loss: 0.0532 - acc: 0.9836 - val_loss: 0.0714 - val_acc: 0.9778\n",
      "Epoch 19/50\n",
      " 99/100 [============================>.] - ETA: 0s - loss: 0.0508 - acc: 0.9846\n",
      "LR: 0.001000\n",
      "\n",
      "100/100 [==============================] - 13s - loss: 0.0508 - acc: 0.9846 - val_loss: 0.0713 - val_acc: 0.9781\n",
      "Epoch 20/50\n",
      " 99/100 [============================>.] - ETA: 0s - loss: 0.0492 - acc: 0.9853\n",
      "LR: 0.001000\n",
      "\n",
      "100/100 [==============================] - 12s - loss: 0.0494 - acc: 0.9852 - val_loss: 0.0701 - val_acc: 0.9792\n",
      "Epoch 21/50\n",
      " 99/100 [============================>.] - ETA: 0s - loss: 0.0474 - acc: 0.9860\n",
      "LR: 0.001000\n",
      "\n",
      "100/100 [==============================] - 12s - loss: 0.0476 - acc: 0.9859 - val_loss: 0.0702 - val_acc: 0.9787\n",
      "Epoch 22/50\n",
      " 99/100 [============================>.] - ETA: 0s - loss: 0.0465 - acc: 0.9863\n",
      "LR: 0.001000\n",
      "\n",
      "100/100 [==============================] - 12s - loss: 0.0465 - acc: 0.9862 - val_loss: 0.0709 - val_acc: 0.9788\n",
      "Epoch 23/50\n",
      " 99/100 [============================>.] - ETA: 0s - loss: 0.0473 - acc: 0.9854\n",
      "LR: 0.001000\n",
      "\n",
      "100/100 [==============================] - 12s - loss: 0.0474 - acc: 0.9854 - val_loss: 0.0701 - val_acc: 0.9784\n",
      "Epoch 24/50\n",
      " 99/100 [============================>.] - ETA: 0s - loss: 0.0453 - acc: 0.9864\n",
      "LR: 0.001000\n",
      "\n",
      "100/100 [==============================] - 12s - loss: 0.0453 - acc: 0.9864 - val_loss: 0.0720 - val_acc: 0.9783\n",
      "Epoch 25/50\n",
      " 99/100 [============================>.] - ETA: 0s - loss: 0.0445 - acc: 0.9869\n",
      "LR: 0.001000\n",
      "\n",
      "100/100 [==============================] - 12s - loss: 0.0445 - acc: 0.9869 - val_loss: 0.0718 - val_acc: 0.9779\n",
      "Epoch 26/50\n",
      " 99/100 [============================>.] - ETA: 0s - loss: 0.0445 - acc: 0.9864\n",
      "LR: 0.001000\n",
      "\n",
      "100/100 [==============================] - 12s - loss: 0.0444 - acc: 0.9865 - val_loss: 0.0693 - val_acc: 0.9794\n",
      "Epoch 27/50\n",
      " 99/100 [============================>.] - ETA: 0s - loss: 0.0426 - acc: 0.9873\n",
      "LR: 0.001000\n",
      "\n",
      "100/100 [==============================] - 12s - loss: 0.0428 - acc: 0.9872 - val_loss: 0.0706 - val_acc: 0.9783\n",
      "Epoch 28/50\n",
      " 99/100 [============================>.] - ETA: 0s - loss: 0.0419 - acc: 0.9872\n",
      "LR: 0.001000\n",
      "\n",
      "100/100 [==============================] - 12s - loss: 0.0419 - acc: 0.9872 - val_loss: 0.0715 - val_acc: 0.9778\n",
      "Epoch 29/50\n",
      " 99/100 [============================>.] - ETA: 0s - loss: 0.0412 - acc: 0.9876\n",
      "LR: 0.001000\n",
      "\n",
      "100/100 [==============================] - 12s - loss: 0.0413 - acc: 0.9876 - val_loss: 0.0721 - val_acc: 0.9789\n",
      "Epoch 30/50\n",
      " 99/100 [============================>.] - ETA: 0s - loss: 0.0407 - acc: 0.9880\n",
      "LR: 0.001000\n",
      "\n",
      "100/100 [==============================] - 12s - loss: 0.0406 - acc: 0.9879 - val_loss: 0.0697 - val_acc: 0.9797\n",
      "Epoch 31/50\n",
      " 99/100 [============================>.] - ETA: 0s - loss: 0.0405 - acc: 0.9876\n",
      "LR: 0.001000\n",
      "\n",
      "100/100 [==============================] - 12s - loss: 0.0405 - acc: 0.9876 - val_loss: 0.0715 - val_acc: 0.9789\n",
      "Epoch 32/50\n",
      " 99/100 [============================>.] - ETA: 0s - loss: 0.0395 - acc: 0.9882\n",
      "LR: 0.001000\n",
      "\n",
      "100/100 [==============================] - 12s - loss: 0.0397 - acc: 0.9882 - val_loss: 0.0711 - val_acc: 0.9798\n",
      "Epoch 33/50\n",
      " 99/100 [============================>.] - ETA: 0s - loss: 0.0388 - acc: 0.9885\n",
      "LR: 0.001000\n",
      "\n",
      "100/100 [==============================] - 12s - loss: 0.0388 - acc: 0.9885 - val_loss: 0.0694 - val_acc: 0.9795\n",
      "Epoch 34/50\n",
      " 99/100 [============================>.] - ETA: 0s - loss: 0.0386 - acc: 0.9885\n",
      "LR: 0.001000\n",
      "\n",
      "100/100 [==============================] - 12s - loss: 0.0385 - acc: 0.9885 - val_loss: 0.0704 - val_acc: 0.9786\n",
      "Epoch 35/50\n",
      " 99/100 [============================>.] - ETA: 0s - loss: 0.0375 - acc: 0.9888\n",
      "LR: 0.001000\n",
      "\n",
      "100/100 [==============================] - 12s - loss: 0.0375 - acc: 0.9888 - val_loss: 0.0707 - val_acc: 0.9794\n",
      "Epoch 36/50\n",
      " 99/100 [============================>.] - ETA: 0s - loss: 0.0359 - acc: 0.9896\n",
      "LR: 0.001000\n",
      "\n",
      "100/100 [==============================] - 12s - loss: 0.0358 - acc: 0.9896 - val_loss: 0.0705 - val_acc: 0.9800\n",
      "Epoch 37/50\n",
      " 99/100 [============================>.] - ETA: 0s - loss: 0.0350 - acc: 0.9896\n",
      "LR: 0.001000\n",
      "\n",
      "100/100 [==============================] - 12s - loss: 0.0350 - acc: 0.9896 - val_loss: 0.0712 - val_acc: 0.9798\n",
      "Epoch 38/50\n",
      " 99/100 [============================>.] - ETA: 0s - loss: 0.0354 - acc: 0.9895\n",
      "LR: 0.001000\n",
      "\n"
     ]
    },
    {
     "name": "stdout",
     "output_type": "stream",
     "text": [
      "100/100 [==============================] - 12s - loss: 0.0354 - acc: 0.9895 - val_loss: 0.0720 - val_acc: 0.9787\n",
      "Epoch 39/50\n",
      " 99/100 [============================>.] - ETA: 0s - loss: 0.0344 - acc: 0.9898\n",
      "LR: 0.001000\n",
      "\n",
      "100/100 [==============================] - 12s - loss: 0.0343 - acc: 0.9898 - val_loss: 0.0712 - val_acc: 0.9791\n",
      "Epoch 40/50\n",
      " 99/100 [============================>.] - ETA: 0s - loss: 0.0346 - acc: 0.9898\n",
      "LR: 0.001000\n",
      "\n",
      "100/100 [==============================] - 12s - loss: 0.0348 - acc: 0.9898 - val_loss: 0.0724 - val_acc: 0.9784\n",
      "Epoch 41/50\n",
      " 99/100 [============================>.] - ETA: 0s - loss: 0.0332 - acc: 0.9902\n",
      "LR: 0.001000\n",
      "\n",
      "100/100 [==============================] - 12s - loss: 0.0333 - acc: 0.9901 - val_loss: 0.0721 - val_acc: 0.9794\n",
      "Epoch 42/50\n",
      " 99/100 [============================>.] - ETA: 0s - loss: 0.0327 - acc: 0.9899\n",
      "LR: 0.001000\n",
      "\n",
      "100/100 [==============================] - 12s - loss: 0.0328 - acc: 0.9899 - val_loss: 0.0722 - val_acc: 0.9789\n",
      "Epoch 43/50\n",
      " 99/100 [============================>.] - ETA: 0s - loss: 0.0324 - acc: 0.9906\n",
      "LR: 0.001000\n",
      "\n",
      "100/100 [==============================] - 12s - loss: 0.0325 - acc: 0.9905 - val_loss: 0.0707 - val_acc: 0.9794\n",
      "Epoch 44/50\n",
      " 99/100 [============================>.] - ETA: 0s - loss: 0.0325 - acc: 0.9905\n",
      "LR: 0.001000\n",
      "\n",
      "100/100 [==============================] - 12s - loss: 0.0323 - acc: 0.9905 - val_loss: 0.0742 - val_acc: 0.9787\n",
      "Epoch 45/50\n",
      " 99/100 [============================>.] - ETA: 0s - loss: 0.0314 - acc: 0.9907\n",
      "LR: 0.001000\n",
      "\n",
      "100/100 [==============================] - 12s - loss: 0.0314 - acc: 0.9907 - val_loss: 0.0720 - val_acc: 0.9792\n",
      "Epoch 46/50\n",
      " 99/100 [============================>.] - ETA: 0s - loss: 0.0317 - acc: 0.9904\n",
      "LR: 0.001000\n",
      "\n",
      "100/100 [==============================] - 12s - loss: 0.0317 - acc: 0.9905 - val_loss: 0.0736 - val_acc: 0.9791\n",
      "Epoch 47/50\n",
      " 99/100 [============================>.] - ETA: 0s - loss: 0.0306 - acc: 0.9911\n",
      "LR: 0.001000\n",
      "\n",
      "100/100 [==============================] - 12s - loss: 0.0307 - acc: 0.9911 - val_loss: 0.0717 - val_acc: 0.9794\n",
      "Epoch 48/50\n",
      " 99/100 [============================>.] - ETA: 0s - loss: 0.0304 - acc: 0.9912\n",
      "LR: 0.001000\n",
      "\n",
      "100/100 [==============================] - 12s - loss: 0.0303 - acc: 0.9912 - val_loss: 0.0720 - val_acc: 0.9788\n",
      "Epoch 49/50\n",
      " 99/100 [============================>.] - ETA: 0s - loss: 0.0290 - acc: 0.9914\n",
      "LR: 0.001000\n",
      "\n",
      "100/100 [==============================] - 12s - loss: 0.0290 - acc: 0.9915 - val_loss: 0.0726 - val_acc: 0.9792\n",
      "Epoch 50/50\n",
      " 99/100 [============================>.] - ETA: 0s - loss: 0.0300 - acc: 0.9912\n",
      "LR: 0.001000\n",
      "\n",
      "100/100 [==============================] - 12s - loss: 0.0300 - acc: 0.9912 - val_loss: 0.0736 - val_acc: 0.9797\n"
     ]
    },
    {
     "data": {
      "text/plain": [
       "<keras.callbacks.History at 0x26a16a9b8d0>"
      ]
     },
     "execution_count": 56,
     "metadata": {},
     "output_type": "execute_result"
    }
   ],
   "source": [
    "\n",
    "batch_size = 1000\n",
    "model.fit_generator(datagen.flow(test_train, y_train, batch_size=batch_size), steps_per_epoch=2 * len(test_train)/batch_size, epochs=50,\n",
    "                    validation_data=(test_val, y_val),\n",
    "                   callbacks=[SGDLearningRateTracker()])"
   ]
  },
  {
   "cell_type": "code",
   "execution_count": 48,
   "metadata": {},
   "outputs": [
    {
     "name": "stdout",
     "output_type": "stream",
     "text": [
      "Train on 50000 samples, validate on 10000 samples\n",
      "Epoch 1/10\n",
      "50000/50000 [==============================] - 8s - loss: 0.2016 - acc: 0.9407 - val_loss: 0.1490 - val_acc: 0.9565\n",
      "Epoch 2/10\n",
      "50000/50000 [==============================] - 8s - loss: 0.1326 - acc: 0.9607 - val_loss: 0.1180 - val_acc: 0.9660\n",
      "Epoch 3/10\n",
      "50000/50000 [==============================] - 8s - loss: 0.1057 - acc: 0.9687 - val_loss: 0.1069 - val_acc: 0.9694\n",
      "Epoch 4/10\n",
      " 4160/50000 [=>............................] - ETA: 7s - loss: 0.0840 - acc: 0.9769"
     ]
    },
    {
     "ename": "KeyboardInterrupt",
     "evalue": "",
     "output_type": "error",
     "traceback": [
      "\u001b[1;31m---------------------------------------------------------------------------\u001b[0m",
      "\u001b[1;31mKeyboardInterrupt\u001b[0m                         Traceback (most recent call last)",
      "\u001b[1;32m<ipython-input-48-3c74e63e81aa>\u001b[0m in \u001b[0;36m<module>\u001b[1;34m()\u001b[0m\n\u001b[0;32m      2\u001b[0m \u001b[1;31m#          Highly customizable under the hood.\u001b[0m\u001b[1;33m\u001b[0m\u001b[1;33m\u001b[0m\u001b[0m\n\u001b[0;32m      3\u001b[0m model.fit(test_train, y_train,\n\u001b[1;32m----> 4\u001b[1;33m           validation_data=(test_val, y_val), epochs=10);\n\u001b[0m",
      "\u001b[1;32mC:\\tools\\Anaconda3\\lib\\site-packages\\keras\\models.py\u001b[0m in \u001b[0;36mfit\u001b[1;34m(self, x, y, batch_size, epochs, verbose, callbacks, validation_split, validation_data, shuffle, class_weight, sample_weight, initial_epoch, **kwargs)\u001b[0m\n\u001b[0;32m    865\u001b[0m                               \u001b[0mclass_weight\u001b[0m\u001b[1;33m=\u001b[0m\u001b[0mclass_weight\u001b[0m\u001b[1;33m,\u001b[0m\u001b[1;33m\u001b[0m\u001b[0m\n\u001b[0;32m    866\u001b[0m                               \u001b[0msample_weight\u001b[0m\u001b[1;33m=\u001b[0m\u001b[0msample_weight\u001b[0m\u001b[1;33m,\u001b[0m\u001b[1;33m\u001b[0m\u001b[0m\n\u001b[1;32m--> 867\u001b[1;33m                               initial_epoch=initial_epoch)\n\u001b[0m\u001b[0;32m    868\u001b[0m \u001b[1;33m\u001b[0m\u001b[0m\n\u001b[0;32m    869\u001b[0m     def evaluate(self, x, y, batch_size=32, verbose=1,\n",
      "\u001b[1;32mC:\\tools\\Anaconda3\\lib\\site-packages\\keras\\engine\\training.py\u001b[0m in \u001b[0;36mfit\u001b[1;34m(self, x, y, batch_size, epochs, verbose, callbacks, validation_split, validation_data, shuffle, class_weight, sample_weight, initial_epoch, steps_per_epoch, validation_steps, **kwargs)\u001b[0m\n\u001b[0;32m   1596\u001b[0m                               \u001b[0minitial_epoch\u001b[0m\u001b[1;33m=\u001b[0m\u001b[0minitial_epoch\u001b[0m\u001b[1;33m,\u001b[0m\u001b[1;33m\u001b[0m\u001b[0m\n\u001b[0;32m   1597\u001b[0m                               \u001b[0msteps_per_epoch\u001b[0m\u001b[1;33m=\u001b[0m\u001b[0msteps_per_epoch\u001b[0m\u001b[1;33m,\u001b[0m\u001b[1;33m\u001b[0m\u001b[0m\n\u001b[1;32m-> 1598\u001b[1;33m                               validation_steps=validation_steps)\n\u001b[0m\u001b[0;32m   1599\u001b[0m \u001b[1;33m\u001b[0m\u001b[0m\n\u001b[0;32m   1600\u001b[0m     def evaluate(self, x, y,\n",
      "\u001b[1;32mC:\\tools\\Anaconda3\\lib\\site-packages\\keras\\engine\\training.py\u001b[0m in \u001b[0;36m_fit_loop\u001b[1;34m(self, f, ins, out_labels, batch_size, epochs, verbose, callbacks, val_f, val_ins, shuffle, callback_metrics, initial_epoch, steps_per_epoch, validation_steps)\u001b[0m\n\u001b[0;32m   1181\u001b[0m                     \u001b[0mbatch_logs\u001b[0m\u001b[1;33m[\u001b[0m\u001b[1;34m'size'\u001b[0m\u001b[1;33m]\u001b[0m \u001b[1;33m=\u001b[0m \u001b[0mlen\u001b[0m\u001b[1;33m(\u001b[0m\u001b[0mbatch_ids\u001b[0m\u001b[1;33m)\u001b[0m\u001b[1;33m\u001b[0m\u001b[0m\n\u001b[0;32m   1182\u001b[0m                     \u001b[0mcallbacks\u001b[0m\u001b[1;33m.\u001b[0m\u001b[0mon_batch_begin\u001b[0m\u001b[1;33m(\u001b[0m\u001b[0mbatch_index\u001b[0m\u001b[1;33m,\u001b[0m \u001b[0mbatch_logs\u001b[0m\u001b[1;33m)\u001b[0m\u001b[1;33m\u001b[0m\u001b[0m\n\u001b[1;32m-> 1183\u001b[1;33m                     \u001b[0mouts\u001b[0m \u001b[1;33m=\u001b[0m \u001b[0mf\u001b[0m\u001b[1;33m(\u001b[0m\u001b[0mins_batch\u001b[0m\u001b[1;33m)\u001b[0m\u001b[1;33m\u001b[0m\u001b[0m\n\u001b[0m\u001b[0;32m   1184\u001b[0m                     \u001b[1;32mif\u001b[0m \u001b[1;32mnot\u001b[0m \u001b[0misinstance\u001b[0m\u001b[1;33m(\u001b[0m\u001b[0mouts\u001b[0m\u001b[1;33m,\u001b[0m \u001b[0mlist\u001b[0m\u001b[1;33m)\u001b[0m\u001b[1;33m:\u001b[0m\u001b[1;33m\u001b[0m\u001b[0m\n\u001b[0;32m   1185\u001b[0m                         \u001b[0mouts\u001b[0m \u001b[1;33m=\u001b[0m \u001b[1;33m[\u001b[0m\u001b[0mouts\u001b[0m\u001b[1;33m]\u001b[0m\u001b[1;33m\u001b[0m\u001b[0m\n",
      "\u001b[1;32mC:\\tools\\Anaconda3\\lib\\site-packages\\keras\\backend\\tensorflow_backend.py\u001b[0m in \u001b[0;36m__call__\u001b[1;34m(self, inputs)\u001b[0m\n\u001b[0;32m   2271\u001b[0m         updated = session.run(self.outputs + [self.updates_op],\n\u001b[0;32m   2272\u001b[0m                               \u001b[0mfeed_dict\u001b[0m\u001b[1;33m=\u001b[0m\u001b[0mfeed_dict\u001b[0m\u001b[1;33m,\u001b[0m\u001b[1;33m\u001b[0m\u001b[0m\n\u001b[1;32m-> 2273\u001b[1;33m                               **self.session_kwargs)\n\u001b[0m\u001b[0;32m   2274\u001b[0m         \u001b[1;32mreturn\u001b[0m \u001b[0mupdated\u001b[0m\u001b[1;33m[\u001b[0m\u001b[1;33m:\u001b[0m\u001b[0mlen\u001b[0m\u001b[1;33m(\u001b[0m\u001b[0mself\u001b[0m\u001b[1;33m.\u001b[0m\u001b[0moutputs\u001b[0m\u001b[1;33m)\u001b[0m\u001b[1;33m]\u001b[0m\u001b[1;33m\u001b[0m\u001b[0m\n\u001b[0;32m   2275\u001b[0m \u001b[1;33m\u001b[0m\u001b[0m\n",
      "\u001b[1;32mC:\\tools\\Anaconda3\\lib\\site-packages\\tensorflow\\python\\client\\session.py\u001b[0m in \u001b[0;36mrun\u001b[1;34m(self, fetches, feed_dict, options, run_metadata)\u001b[0m\n\u001b[0;32m    776\u001b[0m     \u001b[1;32mtry\u001b[0m\u001b[1;33m:\u001b[0m\u001b[1;33m\u001b[0m\u001b[0m\n\u001b[0;32m    777\u001b[0m       result = self._run(None, fetches, feed_dict, options_ptr,\n\u001b[1;32m--> 778\u001b[1;33m                          run_metadata_ptr)\n\u001b[0m\u001b[0;32m    779\u001b[0m       \u001b[1;32mif\u001b[0m \u001b[0mrun_metadata\u001b[0m\u001b[1;33m:\u001b[0m\u001b[1;33m\u001b[0m\u001b[0m\n\u001b[0;32m    780\u001b[0m         \u001b[0mproto_data\u001b[0m \u001b[1;33m=\u001b[0m \u001b[0mtf_session\u001b[0m\u001b[1;33m.\u001b[0m\u001b[0mTF_GetBuffer\u001b[0m\u001b[1;33m(\u001b[0m\u001b[0mrun_metadata_ptr\u001b[0m\u001b[1;33m)\u001b[0m\u001b[1;33m\u001b[0m\u001b[0m\n",
      "\u001b[1;32mC:\\tools\\Anaconda3\\lib\\site-packages\\tensorflow\\python\\client\\session.py\u001b[0m in \u001b[0;36m_run\u001b[1;34m(self, handle, fetches, feed_dict, options, run_metadata)\u001b[0m\n\u001b[0;32m    980\u001b[0m     \u001b[1;32mif\u001b[0m \u001b[0mfinal_fetches\u001b[0m \u001b[1;32mor\u001b[0m \u001b[0mfinal_targets\u001b[0m\u001b[1;33m:\u001b[0m\u001b[1;33m\u001b[0m\u001b[0m\n\u001b[0;32m    981\u001b[0m       results = self._do_run(handle, final_targets, final_fetches,\n\u001b[1;32m--> 982\u001b[1;33m                              feed_dict_string, options, run_metadata)\n\u001b[0m\u001b[0;32m    983\u001b[0m     \u001b[1;32melse\u001b[0m\u001b[1;33m:\u001b[0m\u001b[1;33m\u001b[0m\u001b[0m\n\u001b[0;32m    984\u001b[0m       \u001b[0mresults\u001b[0m \u001b[1;33m=\u001b[0m \u001b[1;33m[\u001b[0m\u001b[1;33m]\u001b[0m\u001b[1;33m\u001b[0m\u001b[0m\n",
      "\u001b[1;32mC:\\tools\\Anaconda3\\lib\\site-packages\\tensorflow\\python\\client\\session.py\u001b[0m in \u001b[0;36m_do_run\u001b[1;34m(self, handle, target_list, fetch_list, feed_dict, options, run_metadata)\u001b[0m\n\u001b[0;32m   1030\u001b[0m     \u001b[1;32mif\u001b[0m \u001b[0mhandle\u001b[0m \u001b[1;32mis\u001b[0m \u001b[1;32mNone\u001b[0m\u001b[1;33m:\u001b[0m\u001b[1;33m\u001b[0m\u001b[0m\n\u001b[0;32m   1031\u001b[0m       return self._do_call(_run_fn, self._session, feed_dict, fetch_list,\n\u001b[1;32m-> 1032\u001b[1;33m                            target_list, options, run_metadata)\n\u001b[0m\u001b[0;32m   1033\u001b[0m     \u001b[1;32melse\u001b[0m\u001b[1;33m:\u001b[0m\u001b[1;33m\u001b[0m\u001b[0m\n\u001b[0;32m   1034\u001b[0m       return self._do_call(_prun_fn, self._session, handle, feed_dict,\n",
      "\u001b[1;32mC:\\tools\\Anaconda3\\lib\\site-packages\\tensorflow\\python\\client\\session.py\u001b[0m in \u001b[0;36m_do_call\u001b[1;34m(self, fn, *args)\u001b[0m\n\u001b[0;32m   1037\u001b[0m   \u001b[1;32mdef\u001b[0m \u001b[0m_do_call\u001b[0m\u001b[1;33m(\u001b[0m\u001b[0mself\u001b[0m\u001b[1;33m,\u001b[0m \u001b[0mfn\u001b[0m\u001b[1;33m,\u001b[0m \u001b[1;33m*\u001b[0m\u001b[0margs\u001b[0m\u001b[1;33m)\u001b[0m\u001b[1;33m:\u001b[0m\u001b[1;33m\u001b[0m\u001b[0m\n\u001b[0;32m   1038\u001b[0m     \u001b[1;32mtry\u001b[0m\u001b[1;33m:\u001b[0m\u001b[1;33m\u001b[0m\u001b[0m\n\u001b[1;32m-> 1039\u001b[1;33m       \u001b[1;32mreturn\u001b[0m \u001b[0mfn\u001b[0m\u001b[1;33m(\u001b[0m\u001b[1;33m*\u001b[0m\u001b[0margs\u001b[0m\u001b[1;33m)\u001b[0m\u001b[1;33m\u001b[0m\u001b[0m\n\u001b[0m\u001b[0;32m   1040\u001b[0m     \u001b[1;32mexcept\u001b[0m \u001b[0merrors\u001b[0m\u001b[1;33m.\u001b[0m\u001b[0mOpError\u001b[0m \u001b[1;32mas\u001b[0m \u001b[0me\u001b[0m\u001b[1;33m:\u001b[0m\u001b[1;33m\u001b[0m\u001b[0m\n\u001b[0;32m   1041\u001b[0m       \u001b[0mmessage\u001b[0m \u001b[1;33m=\u001b[0m \u001b[0mcompat\u001b[0m\u001b[1;33m.\u001b[0m\u001b[0mas_text\u001b[0m\u001b[1;33m(\u001b[0m\u001b[0me\u001b[0m\u001b[1;33m.\u001b[0m\u001b[0mmessage\u001b[0m\u001b[1;33m)\u001b[0m\u001b[1;33m\u001b[0m\u001b[0m\n",
      "\u001b[1;32mC:\\tools\\Anaconda3\\lib\\site-packages\\tensorflow\\python\\client\\session.py\u001b[0m in \u001b[0;36m_run_fn\u001b[1;34m(session, feed_dict, fetch_list, target_list, options, run_metadata)\u001b[0m\n\u001b[0;32m   1019\u001b[0m         return tf_session.TF_Run(session, options,\n\u001b[0;32m   1020\u001b[0m                                  \u001b[0mfeed_dict\u001b[0m\u001b[1;33m,\u001b[0m \u001b[0mfetch_list\u001b[0m\u001b[1;33m,\u001b[0m \u001b[0mtarget_list\u001b[0m\u001b[1;33m,\u001b[0m\u001b[1;33m\u001b[0m\u001b[0m\n\u001b[1;32m-> 1021\u001b[1;33m                                  status, run_metadata)\n\u001b[0m\u001b[0;32m   1022\u001b[0m \u001b[1;33m\u001b[0m\u001b[0m\n\u001b[0;32m   1023\u001b[0m     \u001b[1;32mdef\u001b[0m \u001b[0m_prun_fn\u001b[0m\u001b[1;33m(\u001b[0m\u001b[0msession\u001b[0m\u001b[1;33m,\u001b[0m \u001b[0mhandle\u001b[0m\u001b[1;33m,\u001b[0m \u001b[0mfeed_dict\u001b[0m\u001b[1;33m,\u001b[0m \u001b[0mfetch_list\u001b[0m\u001b[1;33m)\u001b[0m\u001b[1;33m:\u001b[0m\u001b[1;33m\u001b[0m\u001b[0m\n",
      "\u001b[1;31mKeyboardInterrupt\u001b[0m: "
     ]
    }
   ],
   "source": [
    "# fit(X,y) ships with a neat automatic logging.\n",
    "#          Highly customizable under the hood.\n",
    "model.fit(test_train, y_train,\n",
    "          validation_data=(test_val, y_val), epochs=10);"
   ]
  },
  {
   "cell_type": "code",
   "execution_count": 61,
   "metadata": {},
   "outputs": [
    {
     "name": "stdout",
     "output_type": "stream",
     "text": [
      "2/2 [==============================] - 0s\n"
     ]
    },
    {
     "data": {
      "text/plain": [
       "array([[  7.30745375e-09,   1.08722061e-05,   2.61888144e-05,\n",
       "          9.99904990e-01,   5.35814837e-10,   1.82550539e-05,\n",
       "          1.06895326e-10,   1.02607885e-06,   3.80318925e-05,\n",
       "          5.67525774e-07],\n",
       "       [  1.37968343e-07,   1.26270515e-06,   2.74728990e-07,\n",
       "          2.49382083e-05,   1.95730934e-08,   3.32583804e-05,\n",
       "          9.00859220e-07,   1.25495390e-07,   9.99915361e-01,\n",
       "          2.36731375e-05]], dtype=float32)"
      ]
     },
     "execution_count": 61,
     "metadata": {},
     "output_type": "execute_result"
    }
   ],
   "source": [
    "# estimate probabilities P(y|x)\n",
    "model.predict_proba(test_val[:2])"
   ]
  },
  {
   "cell_type": "code",
   "execution_count": 62,
   "metadata": {
    "collapsed": true
   },
   "outputs": [],
   "source": [
    "# Save trained weights\n",
    "model.save(\"weights.h5\")"
   ]
  },
  {
   "cell_type": "code",
   "execution_count": 63,
   "metadata": {},
   "outputs": [
    {
     "name": "stdout",
     "output_type": "stream",
     "text": [
      " 9824/10000 [============================>.] - ETA: 0s\n",
      "Loss, Accuracy =  [0.061010356263536958, 0.98040000000000005]\n"
     ]
    }
   ],
   "source": [
    "print(\"\\nLoss, Accuracy = \", model.evaluate(test_test, y_test))"
   ]
  },
  {
   "cell_type": "markdown",
   "metadata": {},
   "source": [
    "### Whoops!\n",
    "So far our model is staggeringly inefficient. There is something wring with it. Guess, what?"
   ]
  },
  {
   "cell_type": "code",
   "execution_count": 65,
   "metadata": {},
   "outputs": [
    {
     "name": "stdout",
     "output_type": "stream",
     "text": [
      " 9568/10000 [===========================>..] - ETA: 0s\n",
      "Test accuracy: 98.04 %\n",
      "Great job!\n"
     ]
    }
   ],
   "source": [
    "# Test score...\n",
    "test_predictions = model.predict_proba(test_test).argmax(axis=-1)\n",
    "test_answers = y_test.argmax(axis=-1)\n",
    "\n",
    "test_accuracy = np.mean(test_predictions==test_answers)\n",
    "\n",
    "print(\"\\nTest accuracy: {} %\".format(test_accuracy*100))\n",
    "\n",
    "assert test_accuracy>=0.92,\"Logistic regression can do better!\"\n",
    "assert test_accuracy>=0.975,\"Your network can do better!\"\n",
    "print(\"Great job!\")"
   ]
  },
  {
   "cell_type": "code",
   "execution_count": 66,
   "metadata": {
    "collapsed": true
   },
   "outputs": [],
   "source": [
    "answer_submitter = grading.Grader(\"0ybD9ZxxEeea8A6GzH-6CA\")\n",
    "answer_submitter.set_answer(\"N56DR\", test_accuracy)"
   ]
  },
  {
   "cell_type": "code",
   "execution_count": 67,
   "metadata": {},
   "outputs": [
    {
     "ename": "SyntaxError",
     "evalue": "invalid syntax (<ipython-input-67-0639a365657e>, line 1)",
     "output_type": "error",
     "traceback": [
      "\u001b[1;36m  File \u001b[1;32m\"<ipython-input-67-0639a365657e>\"\u001b[1;36m, line \u001b[1;32m1\u001b[0m\n\u001b[1;33m    answer_submitter.submit(<your-email>, <your-assignment-token>)\u001b[0m\n\u001b[1;37m                            ^\u001b[0m\n\u001b[1;31mSyntaxError\u001b[0m\u001b[1;31m:\u001b[0m invalid syntax\n"
     ]
    }
   ],
   "source": [
    "answer_submitter.submit('wesen@ruinwesen.com', '')"
   ]
  },
  {
   "cell_type": "markdown",
   "metadata": {},
   "source": [
    "## Keras + tensorboard\n",
    "\n",
    "Remember the interactive graphs from Tensorboard one notebook ago? \n",
    "\n",
    "Thing is, Keras can use tensorboard to show you a lot of useful information about the learning progress. Just take a look!"
   ]
  },
  {
   "cell_type": "code",
   "execution_count": null,
   "metadata": {
    "collapsed": true
   },
   "outputs": [],
   "source": [
    "! rm -r /tmp/tboard/**"
   ]
  },
  {
   "cell_type": "code",
   "execution_count": null,
   "metadata": {
    "collapsed": true
   },
   "outputs": [],
   "source": [
    "from keras.callbacks import TensorBoard\n",
    "model.fit(X_train, y_train, validation_data=(X_val, y_val), \n",
    "          epochs=10,\n",
    "          callbacks=[TensorBoard(\"/tmp/tboard\")])"
   ]
  },
  {
   "cell_type": "markdown",
   "metadata": {},
   "source": [
    "# Tips & tricks\n",
    "\n",
    "Here are some tips on what you could do. Don't worry, to reach the passing threshold you don't need to try all the ideas listed here, feel free to stop once you reach the 0.975 accuracy mark.\n",
    "\n",
    " * __Network size__\n",
    "   * More neurons, \n",
    "   * More layers, ([docs](https://keras.io/))\n",
    "\n",
    "   * Nonlinearities in the hidden layers\n",
    "     * tanh, relu, leaky relu, etc\n",
    "   * Larger networks may take more epochs to train, so don't discard your net just because it could didn't beat the baseline in 5 epochs.\n",
    "\n",
    "\n",
    " * __Early Stopping__\n",
    "   * Training for 100 epochs regardless of anything is probably a bad idea.\n",
    "   * Some networks converge over 5 epochs, others - over 500.\n",
    "   * Way to go: stop when validation score is 10 iterations past maximum\n",
    "     \n",
    "\n",
    " * __Faster optimization__\n",
    "   * rmsprop, nesterov_momentum, adam, adagrad and so on.\n",
    "     * Converge faster and sometimes reach better optima\n",
    "     * It might make sense to tweak learning rate/momentum, other learning parameters, batch size and number of epochs\n",
    "\n",
    "\n",
    " * __Regularize__ to prevent overfitting\n",
    "   * Add some L2 weight norm to the loss function, theano will do the rest\n",
    "     * Can be done manually or via - https://keras.io/regularizers/\n",
    "   \n",
    "   \n",
    " * __Data augmemntation__ - getting 5x as large dataset for free is a great deal\n",
    "   * https://keras.io/preprocessing/image/\n",
    "   * Zoom-in+slice = move\n",
    "   * Rotate+zoom(to remove black stripes)\n",
    "   * any other perturbations\n",
    "   * Simple way to do that (if you have PIL/Image): \n",
    "     * ```from scipy.misc import imrotate,imresize```\n",
    "     * and a few slicing\n",
    "   * Stay realistic. There's usually no point in flipping dogs upside down as that is not the way you usually see them."
   ]
  }
 ],
 "metadata": {
  "kernelspec": {
   "display_name": "Python 3",
   "language": "python",
   "name": "python3"
  },
  "language_info": {
   "codemirror_mode": {
    "name": "ipython",
    "version": 3
   },
   "file_extension": ".py",
   "mimetype": "text/x-python",
   "name": "python",
   "nbconvert_exporter": "python",
   "pygments_lexer": "ipython3",
   "version": "3.6.3"
  },
  "toc": {
   "colors": {
    "hover_highlight": "#DAA520",
    "navigate_num": "#000000",
    "navigate_text": "#333333",
    "running_highlight": "#FF0000",
    "selected_highlight": "#FFD700",
    "sidebar_border": "#EEEEEE",
    "wrapper_background": "#FFFFFF"
   },
   "moveMenuLeft": true,
   "nav_menu": {
    "height": "120px",
    "width": "252px"
   },
   "navigate_menu": true,
   "number_sections": true,
   "sideBar": true,
   "threshold": 4,
   "toc_cell": false,
   "toc_section_display": "block",
   "toc_window_display": false,
   "widenNotebook": false
  }
 },
 "nbformat": 4,
 "nbformat_minor": 1
}
